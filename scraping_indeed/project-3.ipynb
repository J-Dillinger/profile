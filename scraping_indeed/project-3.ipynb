{
 "cells": [
  {
   "cell_type": "code",
   "execution_count": 2,
   "metadata": {},
   "outputs": [
    {
     "name": "stderr",
     "output_type": "stream",
     "text": [
      "/Users/yonilevine/anaconda/lib/python2.7/site-packages/sklearn/cross_validation.py:44: DeprecationWarning: This module was deprecated in version 0.18 in favor of the model_selection module into which all the refactored classes and functions are moved. Also note that the interface of the new CV iterators are different from that of this module. This module will be removed in 0.20.\n",
      "  \"This module will be removed in 0.20.\", DeprecationWarning)\n"
     ]
    }
   ],
   "source": [
    "import pandas as pd\n",
    "import re\n",
    "import requests\n",
    "import bs4\n",
    "from bs4 import BeautifulSoup\n",
    "import matplotlib.pyplot as plt\n",
    "import urllib\n",
    "import numpy as np\n",
    "from sklearn.model_selection import GridSearchCV\n",
    "from sklearn.model_selection import train_test_split\n",
    "import pydotplus\n",
    "from IPython.display import Image\n",
    "from sklearn.preprocessing import LabelEncoder\n",
    "from sklearn.cross_validation import cross_val_score, StratifiedKFold\n",
    "from sklearn.tree import DecisionTreeClassifier, DecisionTreeRegressor\n",
    "from sklearn.ensemble import RandomForestClassifier, ExtraTreesClassifier, BaggingClassifier\n",
    "from sklearn.linear_model import LogisticRegression\n",
    "from sklearn.linear_model import LinearRegression\n",
    "from sklearn.model_selection import cross_val_score\n",
    "from sklearn.preprocessing import StandardScaler, MinMaxScaler\n",
    "from sklearn.tree import DecisionTreeRegressor\n",
    "from sklearn.tree import DecisionTreeClassifier\n",
    "from sklearn.cross_validation import cross_val_score, StratifiedKFold\n",
    "from sklearn.preprocessing import LabelEncoder\n",
    "import graphviz\n",
    "from sklearn.model_selection import cross_val_score, StratifiedKFold\n",
    "from sklearn.tree import DecisionTreeClassifier, export_graphviz\n",
    "from sklearn.feature_extraction.text import CountVectorizer, HashingVectorizer\n",
    "import statsmodels.formula.api as sm"
   ]
  },
  {
   "cell_type": "markdown",
   "metadata": {
    "focus": false,
    "id": "69b9a648-bcc7-490d-9f9b-ea244d156bd6"
   },
   "source": [
    "# Web Scraping for Indeed.com & Predicting Salaries"
   ]
  },
  {
   "cell_type": "markdown",
   "metadata": {
    "focus": false,
    "id": "34681254-c802-462f-829d-8894d0772d08"
   },
   "source": [
    "In this project, we will practice two major skills: collecting data by scraping a website and then building a binary classifier.\n",
    "\n",
    "We are going to collect salary information on data science jobs in a variety of markets. Then using the location, title, and summary of the job we will attempt to predict the salary of the job. For job posting sites, this would be extraordinarily useful. While most listings DO NOT come with salary information (as you will see in this exercise), being to able extrapolate or predict the expected salaries from other listings can help guide negotiations.\n",
    "\n",
    "Normally, we could use regression for this task; however, we will convert this problem into classification and use a random forest classifier, as well as another classifier of your choice; either logistic regression, SVM, or KNN. \n",
    "\n",
    "- **Question**: Why would we want this to be a classification problem?\n",
    "- **Answer**: While more precision may be better, there is a fair amount of natural variance in job salaries - predicting a range be may be useful.\n",
    "\n",
    "Therefore, the first part of the assignment will be focused on scraping Indeed.com. In the second, we'll focus on using listings with salary information to build a model and predict additional salaries."
   ]
  },
  {
   "cell_type": "markdown",
   "metadata": {
    "focus": false,
    "id": "a948d79c-5527-4c0d-ab23-f5d43ce72056"
   },
   "source": [
    "### Scraping job listings from Indeed.com"
   ]
  },
  {
   "cell_type": "markdown",
   "metadata": {
    "focus": true,
    "id": "7203e0c9-e437-4802-a6ad-7dc464f94436"
   },
   "source": [
    "We will be scraping job listings from Indeed.com using BeautifulSoup. Luckily, Indeed.com is a simple text page where we can easily find relevant entries.\n",
    "\n",
    "First, look at the source of an Indeed.com page: (http://www.indeed.com/jobs?q=data+scientist+%2420%2C000&l=New+York&start=10\")\n",
    "\n",
    "Notice, each job listing is underneath a `div` tag with a class name of `result`. We can use BeautifulSoup to extract those. "
   ]
  },
  {
   "cell_type": "markdown",
   "metadata": {},
   "source": [
    "#### Set up a request (using requests) to the URL below. Use BeautifulSoup to parse the page and extract all results (HINT: Look for div tags with class name result)\n",
    "The URL here has many query parameters\n",
    "- q for the job search\n",
    "- This is followed by \"+20,000\" to return results with salaries (or expected salaries >$20,000)\n",
    "- l for a location\n",
    "- start for what result number to start on"
   ]
  },
  {
   "cell_type": "markdown",
   "metadata": {},
   "source": [
    "While this has some more verbose elements removed, we can see that there is some structure to the above:\n",
    "- The salary is available in a nobr element inside of a td element with class='snip.\n",
    "- The title of a job is in a link with class set to jobtitle and a data-tn-element=\"jobTitle.\n",
    "- The location is set in a span with class='location'.\n",
    "- The company is set in a span with class='company'."
   ]
  },
  {
   "cell_type": "markdown",
   "metadata": {},
   "source": [
    "## Write 4 functions to extract these items (one function for each): location, company, job title, and salary.¶\n",
    "Example\n",
    "```python\n",
    "def extract_location_from_result(result):\n",
    "    return result.find ...\n",
    "```\n",
    "\n",
    "##### - Make sure these functions are robust and can handle cases where the data/field may not be available.\n",
    ">- Remember to check if a field is empty or None for attempting to call methods on it\n",
    ">- Remember to use try/except if you anticipate errors.\n",
    "\n",
    "- **Test** the functions on the results above and simple examples"
   ]
  },
  {
   "cell_type": "code",
   "execution_count": 57,
   "metadata": {
    "collapsed": true
   },
   "outputs": [],
   "source": [
    "def get_location(result):\n",
    "    try:\n",
    "        return result.find('span',class_='location').text\n",
    "    except:\n",
    "        return \"NA\"\n",
    "    "
   ]
  },
  {
   "cell_type": "code",
   "execution_count": 58,
   "metadata": {
    "collapsed": true
   },
   "outputs": [],
   "source": [
    "def get_company(result):\n",
    "    try:\n",
    "        return result.find('span',class_='company').text\n",
    "    except:\n",
    "        return \"NA\""
   ]
  },
  {
   "cell_type": "code",
   "execution_count": 59,
   "metadata": {
    "collapsed": true
   },
   "outputs": [],
   "source": [
    "def get_title(result):\n",
    "    try:\n",
    "        return result.find('a',attrs={'data-tn-element':\"jobTitle\"}).text\n",
    "    except:\n",
    "        return \"NA\""
   ]
  },
  {
   "cell_type": "code",
   "execution_count": 60,
   "metadata": {
    "collapsed": true
   },
   "outputs": [],
   "source": [
    "def get_salary(result):\n",
    "    for entry in result.find_all('td', class_ ='snip'):\n",
    "        try:\n",
    "            return entry.find('span',class_='no-wrap').text\n",
    "        except:\n",
    "            return 'NA'\n",
    "            "
   ]
  },
  {
   "cell_type": "code",
   "execution_count": 62,
   "metadata": {
    "collapsed": true
   },
   "outputs": [],
   "source": [
    "indeed=pd.DataFrame(columns=[\"title\",\"company\",\"location\",\"salary\"])"
   ]
  },
  {
   "cell_type": "markdown",
   "metadata": {},
   "source": [
    "Now, to scale up our scraping, we need to accumulate more results. We can do this by examining the URL above.\n",
    "- \"http://www.indeed.com/jobs?q=data+scientist+%2420%2C000&l=New+York&start=10\"\n",
    "\n",
    "There are two query parameters here we can alter to collect more results, the l=New+York and the start=10. The first controls the location of the results (so we can try a different city). The second controls where in the results to start and gives 10 results (thus, we can keep incrementing by 10 to go further in the list).\n",
    "##### Complete the following code to collect results from multiple cities and starting points.\n",
    "- Enter your city below to add it to the search\n",
    "- Remember to convert your salary to U.S. Dollars to match the other cities if the currency is different"
   ]
  },
  {
   "cell_type": "code",
   "execution_count": 63,
   "metadata": {
    "collapsed": true
   },
   "outputs": [],
   "source": [
    "## Setting lists of cities to plug into the URL of my webscraper\n",
    "cities=['New+York', 'Chicago', 'San+Francisco', 'Austin', 'Seattle', \n",
    "    'Los+Angeles', 'Philadelphia', 'Atlanta', 'Dallas', 'Pittsburgh', \n",
    "    'Portland', 'Phoenix', 'Denver', 'Houston', 'Miami', 'Washington+DC','Denver']\n",
    "cities2=[\"San+Antonio\",\"San+Diego\",\"San+Jose\",\"Jacksonville\",\"Indianapolis\",\"Columbus\",\"Fort+Worth\",\"Charlotte\",\"Seattle\",\n",
    "\"El+Paso\",\"Detroit\",\"Memphis\",\"Boston\",\"Nashville\",\"Baltimore\",\"Oklahoma+City\",\"Portland\",\"Las+Vegas\",\"Louisville\",\n",
    "\"Milwaukee\"]\n"
   ]
  },
  {
   "cell_type": "code",
   "execution_count": 64,
   "metadata": {
    "collapsed": true
   },
   "outputs": [],
   "source": [
    "##The Webscraper\n",
    "url_template = \"http://www.indeed.com/jobs?q=data+scientist+%2420%2C000&l={}&start={}\"\n",
    "max_results_per_city = 1000  \n",
    "\n",
    "\n",
    "for city in cities2:\n",
    "    for start in range(0, max_results_per_city, 10):\n",
    "        ## Goes through ten listings on a page\n",
    "        url='https://www.indeed.com/jobs?q=data+scientist+%2420%2C000%2B&l='+ city +'&radius=25&start='+str(start)+'\\\n",
    "        &pp=AAoAAAFdZk8ggAAAAAEVBgz_AQBughWoKnTNruudrCoG9F2f1T3SqWCXvISp7IqSdA'\n",
    "        html = urllib.urlopen(url)\n",
    "        soup = BeautifulSoup(html, \"html.parser\")\n",
    "        for row in soup.find_all('div',class_='result'):\n",
    "            ##Appends it to a data frame as it goes\n",
    "            title=get_title(row)\n",
    "            company=get_company(row)\n",
    "            location=get_location(row)\n",
    "            salary=get_salary(row)\n",
    "            indeed.loc[len(indeed)]=[title, company, location, salary]\n"
   ]
  },
  {
   "cell_type": "markdown",
   "metadata": {
    "focus": false,
    "id": "20339c09-5032-4e27-91be-286e9b46cd13"
   },
   "source": []
  },
  {
   "cell_type": "markdown",
   "metadata": {
    "focus": false,
    "id": "ff98ce64-78a7-441f-a675-63464e32c834"
   },
   "source": [
    "Lastly, we need to clean up salary data. \n",
    "\n",
    "1. Only a small number of the scraped results have salary information - only these will be used for modeling.\n",
    "1. Some of the salaries are not yearly but hourly or weekly, these will not be useful to us for now\n",
    "1. Some of the entries may be duplicated\n",
    "1. The salaries are given as text and usually with ranges.\n",
    "\n",
    "#### Find the entries with annual salary entries, by filtering the entries without salaries or salaries that are not yearly (filter those that refer to hour or week). Also, remove duplicate entries"
   ]
  },
  {
   "cell_type": "markdown",
   "metadata": {
    "focus": false,
    "id": "7d4bc860-b214-4f75-9cd0-b234830b1ec2"
   },
   "source": [
    "#### Write a function that takes a salary string and converts it to a number, averaging a salary range if necessary"
   ]
  },
  {
   "cell_type": "code",
   "execution_count": 3,
   "metadata": {
    "collapsed": true,
    "focus": false,
    "id": "a0f701e0-80bd-40ba-9101-4535860c0968"
   },
   "outputs": [],
   "source": [
    "indeed1=pd.read_csv('~/Documents/indeed1.csv',)\n",
    "indeed2=pd.read_csv('~/Documents/indeed2.csv',)"
   ]
  },
  {
   "cell_type": "code",
   "execution_count": 4,
   "metadata": {
    "collapsed": true
   },
   "outputs": [],
   "source": [
    "indeed2n=indeed2[indeed2['salary'].isnull()]\n",
    "indeed1n=indeed1[indeed1['salary'].isnull()]\n",
    "#Creating a df of null salaries these are the salaries we are trying to predict"
   ]
  },
  {
   "cell_type": "code",
   "execution_count": 5,
   "metadata": {
    "collapsed": true
   },
   "outputs": [],
   "source": [
    "##Dropping duplicates\n",
    "indeed2n=indeed2n.drop_duplicates()\n",
    "indeed1n=indeed1n.drop_duplicates()\n",
    "indeedn=pd.concat([indeed1n,indeed2n])"
   ]
  },
  {
   "cell_type": "code",
   "execution_count": 6,
   "metadata": {
    "collapsed": true
   },
   "outputs": [],
   "source": [
    "##Getting rid of unwanted columns\n",
    "indeed1sal=pd.read_csv('~/Documents/indeed1sal.csv')\n",
    "indeed1sal.drop(\"Unnamed: 0\",axis=1,inplace=True)\n",
    "indeed2sal=pd.read_csv('~/Documents/indeed2sal.csv')\n",
    "indeed2sal.drop(\"Unnamed: 0\",axis=1,inplace=True)"
   ]
  },
  {
   "cell_type": "code",
   "execution_count": 8,
   "metadata": {
    "collapsed": true
   },
   "outputs": [],
   "source": [
    "##Dropping duplicates\n",
    "indeed1sal.drop_duplicates(inplace=True)\n",
    "indeed2sal.drop_duplicates(inplace=True)"
   ]
  },
  {
   "cell_type": "code",
   "execution_count": 9,
   "metadata": {
    "collapsed": true
   },
   "outputs": [],
   "source": [
    "indeedsalfull=pd.concat([indeed1sal,indeed2sal])\n",
    "indeedsalfull.drop_duplicates(inplace=True)"
   ]
  },
  {
   "cell_type": "code",
   "execution_count": 10,
   "metadata": {
    "collapsed": true,
    "scrolled": false
   },
   "outputs": [],
   "source": [
    "##Making separate data-frames for listings that contain daily, weekly, hourly, or monthly salaries.\n",
    "indeedsalday=indeedsalfull[indeedsalfull['salary'].str.contains('day')]\n",
    "indeedsalday=indeedsalday.replace({\"a year\":\"\",\"a month\":\"\",\"an hour\":\"\",\"a day\":\"\",\"\\n\":\" \",\",\":\"\",\"\\$\":\"\"},regex=True)\n",
    "indeedsalweek=indeedsalfull[indeedsalfull['salary'].str.contains('week')]\n",
    "indeedsalweek=indeedsalweek.replace({\"a year\":\"\",\"a month\":\"\",\"an hour\":\"\",\"a day\":\"\",\"\\n\":\" \",\",\":\"\",\"\\$\":\"\"},regex=True)\n",
    "indeedsalhour=indeedsalfull[indeedsalfull['salary'].str.contains('hour')]\n",
    "indeedsalhour=indeedsalhour.replace({\"a year\":\"\",\"a month\":\"\",\"an hour\":\"\",\"a day\":\"\",\"\\n\":\" \",\",\":\"\",\"\\$\":\"\"},regex=True)\n",
    "indeedsalmonth=indeedsalfull[indeedsalfull['salary'].str.contains('month')]\n",
    "indeedsalmonth=indeedsalmonth.replace({\"a year\":\"\",\"a month\":\"\",\"an hour\":\"\",\"a day\":\"\",\"\\n\":\" \",\",\":\"\",\"\\$\":\"\"},regex=True)\n",
    "indeedsalyear=indeedsalfull[indeedsalfull['salary'].str.contains('year')]\n",
    "indeedsalyear=indeedsalyear.replace({\"a year\":\"\",\"a month\":\"\",\"an hour\":\"\",\"a day\":\"\",\"\\n\":\" \",\",\":\"\",\"\\$\":\"\"},regex=True)\n"
   ]
  },
  {
   "cell_type": "code",
   "execution_count": 12,
   "metadata": {
    "collapsed": true
   },
   "outputs": [],
   "source": [
    "##Using for-loops to split the salary ranges and replace it with the average of the range.\n",
    "salaryfinal=[]\n",
    "for item in indeedsalday.salary:\n",
    "    x=item.split('-')\n",
    "    if len(x)==2:\n",
    "        salaryfinal.append(np.mean(float(x[0])+float(x[1]))/2)\n",
    "    else:\n",
    "        salaryfinal.append(x[0])\n",
    "    indeedsalday['final_salary']=salaryfinal\n"
   ]
  },
  {
   "cell_type": "code",
   "execution_count": 13,
   "metadata": {
    "collapsed": true
   },
   "outputs": [],
   "source": [
    "salaryfinal=[]\n",
    "for item in indeedsalhour.salary:\n",
    "    x=item.split('-')\n",
    "    if len(x)==2:\n",
    "        salaryfinal.append(np.mean(float(x[0])+float(x[1]))/2)\n",
    "    else:\n",
    "        salaryfinal.append(x[0])\n",
    "indeedsalhour['final_salary']=salaryfinal"
   ]
  },
  {
   "cell_type": "code",
   "execution_count": 14,
   "metadata": {
    "collapsed": true
   },
   "outputs": [],
   "source": [
    "salaryfinal=[]\n",
    "for item in indeedsalmonth.salary:\n",
    "    x=item.split('-')\n",
    "    if len(x)==2:\n",
    "        salaryfinal.append(np.mean(float(x[0])+float(x[1]))/2)\n",
    "    else:\n",
    "        salaryfinal.append(x[0])\n",
    "indeedsalmonth['final_salary']=salaryfinal"
   ]
  },
  {
   "cell_type": "code",
   "execution_count": 15,
   "metadata": {
    "collapsed": true
   },
   "outputs": [],
   "source": [
    "salaryfinal=[]\n",
    "for item in indeedsalyear.salary:\n",
    "    x=item.split('-')\n",
    "    if len(x)==2:\n",
    "        salaryfinal.append(np.mean(float(x[0])+float(x[1]))/2)\n",
    "    else:\n",
    "        salaryfinal.append(x[0])\n",
    "indeedsalyear['final_salary']=salaryfinal"
   ]
  },
  {
   "cell_type": "code",
   "execution_count": 16,
   "metadata": {
    "collapsed": true
   },
   "outputs": [],
   "source": [
    "##Changing column types\n",
    "indeedsalday.final_salary=indeedsalday.final_salary.astype(float)\n",
    "\n",
    "indeedsalhour.final_salary=indeedsalhour.final_salary.astype(float)\n",
    "\n",
    "indeedsalmonth.final_salary=indeedsalmonth.final_salary.astype(float)\n",
    "\n",
    "indeedsalyear.final_salary=indeedsalyear.final_salary.astype(float)"
   ]
  },
  {
   "cell_type": "code",
   "execution_count": 20,
   "metadata": {
    "collapsed": true
   },
   "outputs": [],
   "source": [
    "#Calculating to roughly yearly amounts assuming a 40 hour work week\n",
    "indeedsalday.final_salary=indeedsalday.final_salary*5*52\n",
    "indeedsalhour.final_salary=indeedsalhour.final_salary*40*52\n",
    "indeedsalmonth.final_salary=indeedsalmonth.final_salary*12\n"
   ]
  },
  {
   "cell_type": "code",
   "execution_count": 21,
   "metadata": {
    "collapsed": true
   },
   "outputs": [],
   "source": [
    "indeedsalfinal= pd.concat([indeedsalyear,indeedsalmonth,indeedsalhour,indeedsalday])"
   ]
  },
  {
   "cell_type": "code",
   "execution_count": 22,
   "metadata": {
    "collapsed": true
   },
   "outputs": [],
   "source": [
    "indeedn=indeedn.replace({\"a year\":\"\",\"a month\":\"\",\"an hour\":\"\",\"a day\":\"\",\"\\n\":\" \",\",\":\"\",\"\\$\":\"\"},regex=True)"
   ]
  },
  {
   "cell_type": "code",
   "execution_count": 23,
   "metadata": {
    "collapsed": true
   },
   "outputs": [],
   "source": [
    "indeedn.drop('Unnamed: 0',axis=1,inplace=True)"
   ]
  },
  {
   "cell_type": "code",
   "execution_count": null,
   "metadata": {
    "collapsed": true
   },
   "outputs": [],
   "source": [
    "##Using Regex to parse out the state abreviations from locations\n",
    "t=[re.findall('[A-Z]{2}',item) for item in indeedsalfinal['location']]\n",
    "u=[re.findall('[A-Z]{2}',item) for item in indeedn['location']]\n",
    "\n",
    "indeedsalfinal['location_a']=[str(d)[2:4] for d in t]\n",
    "indeedn['location_a']=[str(d)[2:4] for d in u]\n",
    "indeedsalfinal.to_csv(\"~/Documents/indeedsf.csv\")"
   ]
  },
  {
   "cell_type": "markdown",
   "metadata": {
    "focus": false,
    "id": "43e71edd-210e-42b1-9336-70a931f048af"
   },
   "source": [
    "### Save your results as a CSV"
   ]
  },
  {
   "cell_type": "code",
   "execution_count": 35,
   "metadata": {},
   "outputs": [
    {
     "data": {
      "text/plain": [
       "125000.0"
      ]
     },
     "execution_count": 35,
     "metadata": {},
     "output_type": "execute_result"
    }
   ],
   "source": [
    "# The median salary of users getting a yearly \n",
    "dcdf=indeedsalfinal[indeedsalfinal['location_a']==\"DC\"]\n",
    "print \"the median salary of data scientists in DC is\" + str(np.median(dcdf.final_salary))"
   ]
  },
  {
   "cell_type": "markdown",
   "metadata": {
    "focus": false,
    "id": "04563b69-f7b6-466f-9d65-fc62c9ddee6a"
   },
   "source": [
    "## Predicting salaries using Random Forests + Another Classifier"
   ]
  },
  {
   "cell_type": "code",
   "execution_count": 88,
   "metadata": {},
   "outputs": [
    {
     "data": {
      "text/plain": [
       "85177.25"
      ]
     },
     "execution_count": 88,
     "metadata": {},
     "output_type": "execute_result"
    }
   ],
   "source": [
    "print \"the median salary of data scientists is\" + str(np.median(indeedsalfinal['final_salary']))"
   ]
  },
  {
   "cell_type": "markdown",
   "metadata": {
    "focus": false,
    "id": "243e949e-2742-40af-872e-fec475fd306c"
   },
   "source": [
    "#### Load in the the data of scraped salaries"
   ]
  },
  {
   "cell_type": "code",
   "execution_count": 89,
   "metadata": {
    "focus": false,
    "id": "588f9845-6143-4bcc-bfd1-85d45b79303d"
   },
   "outputs": [
    {
     "data": {
      "text/html": [
       "<div>\n",
       "<style>\n",
       "    .dataframe thead tr:only-child th {\n",
       "        text-align: right;\n",
       "    }\n",
       "\n",
       "    .dataframe thead th {\n",
       "        text-align: left;\n",
       "    }\n",
       "\n",
       "    .dataframe tbody tr th {\n",
       "        vertical-align: top;\n",
       "    }\n",
       "</style>\n",
       "<table border=\"1\" class=\"dataframe\">\n",
       "  <thead>\n",
       "    <tr style=\"text-align: right;\">\n",
       "      <th></th>\n",
       "      <th>final_salary</th>\n",
       "    </tr>\n",
       "  </thead>\n",
       "  <tbody>\n",
       "    <tr>\n",
       "      <th>count</th>\n",
       "      <td>608.000000</td>\n",
       "    </tr>\n",
       "    <tr>\n",
       "      <th>mean</th>\n",
       "      <td>96829.879441</td>\n",
       "    </tr>\n",
       "    <tr>\n",
       "      <th>std</th>\n",
       "      <td>47335.469402</td>\n",
       "    </tr>\n",
       "    <tr>\n",
       "      <th>min</th>\n",
       "      <td>22500.000000</td>\n",
       "    </tr>\n",
       "    <tr>\n",
       "      <th>25%</th>\n",
       "      <td>64140.000000</td>\n",
       "    </tr>\n",
       "    <tr>\n",
       "      <th>50%</th>\n",
       "      <td>85177.250000</td>\n",
       "    </tr>\n",
       "    <tr>\n",
       "      <th>75%</th>\n",
       "      <td>125404.750000</td>\n",
       "    </tr>\n",
       "    <tr>\n",
       "      <th>max</th>\n",
       "      <td>300000.000000</td>\n",
       "    </tr>\n",
       "  </tbody>\n",
       "</table>\n",
       "</div>"
      ],
      "text/plain": [
       "        final_salary\n",
       "count     608.000000\n",
       "mean    96829.879441\n",
       "std     47335.469402\n",
       "min     22500.000000\n",
       "25%     64140.000000\n",
       "50%     85177.250000\n",
       "75%    125404.750000\n",
       "max    300000.000000"
      ]
     },
     "execution_count": 89,
     "metadata": {},
     "output_type": "execute_result"
    }
   ],
   "source": [
    "indeedsalfinal.describe()"
   ]
  },
  {
   "cell_type": "code",
   "execution_count": 90,
   "metadata": {},
   "outputs": [
    {
     "name": "stdout",
     "output_type": "stream",
     "text": [
      "The mean salary for jobs with a yearly wage listing is 104788.149462 dollars\n",
      "The mean salary for jobs with a monthly, daily, or hourly wage listing is 70951.5888112 dollars\n"
     ]
    }
   ],
   "source": [
    "indeedsalfinal[0:465].describe()\n",
    "print \"The mean salary for jobs with a yearly wage listing is \"+str(round(np.mean(indeedsalfinal.final_salary[0:465]),2)) + \" dollars\"\n",
    "print \"The mean salary for jobs with a monthly, daily, or hourly wage listing is \"+ str(round(np.mean(indeedsalfinal.final_salary[465:]),2))+ \" dollars\""
   ]
  },
  {
   "cell_type": "markdown",
   "metadata": {},
   "source": [
    "I'm now thinking to drop all salaries that were listed with any other wage except year as I think they are bringing down our average overall salary, plus from a visual lookover of the job listings those hourly ones often don't seem to be as data science related as the others.  "
   ]
  },
  {
   "cell_type": "code",
   "execution_count": 91,
   "metadata": {
    "collapsed": true
   },
   "outputs": [],
   "source": [
    "##Creating a dummy variable if a salary falls above the median.\n",
    "median=[]\n",
    "for row in indeedsalfinal['final_salary']:\n",
    "    if row > 85117.25:\n",
    "        median.append(1)\n",
    "    elif row <= 85117.25:\n",
    "        median.append(0)\n",
    "indeedsalfinal['above_median']=median\n"
   ]
  },
  {
   "cell_type": "code",
   "execution_count": 92,
   "metadata": {},
   "outputs": [
    {
     "data": {
      "text/html": [
       "<div>\n",
       "<style>\n",
       "    .dataframe thead tr:only-child th {\n",
       "        text-align: right;\n",
       "    }\n",
       "\n",
       "    .dataframe thead th {\n",
       "        text-align: left;\n",
       "    }\n",
       "\n",
       "    .dataframe tbody tr th {\n",
       "        vertical-align: top;\n",
       "    }\n",
       "</style>\n",
       "<table border=\"1\" class=\"dataframe\">\n",
       "  <thead>\n",
       "    <tr style=\"text-align: right;\">\n",
       "      <th></th>\n",
       "      <th>final_salary</th>\n",
       "    </tr>\n",
       "    <tr>\n",
       "      <th>above_median</th>\n",
       "      <th></th>\n",
       "    </tr>\n",
       "  </thead>\n",
       "  <tbody>\n",
       "    <tr>\n",
       "      <th>0</th>\n",
       "      <td>64140.0</td>\n",
       "    </tr>\n",
       "    <tr>\n",
       "      <th>1</th>\n",
       "      <td>125809.5</td>\n",
       "    </tr>\n",
       "  </tbody>\n",
       "</table>\n",
       "</div>"
      ],
      "text/plain": [
       "              final_salary\n",
       "above_median              \n",
       "0                  64140.0\n",
       "1                 125809.5"
      ]
     },
     "execution_count": 92,
     "metadata": {},
     "output_type": "execute_result"
    }
   ],
   "source": [
    "indeedsalfinal[indeedsalfinal['above_median']==1].describe()\n",
    "indeedsalfinal.groupby('above_median').agg({'final_salary':'median'})"
   ]
  },
  {
   "cell_type": "markdown",
   "metadata": {
    "focus": false,
    "id": "c7631f51-07f2-4c79-a093-3e9bc7849a48"
   },
   "source": [
    "#### We want to predict a binary variable - whether the salary was low or high. Compute the median salary and create a new binary variable that is true when the salary is high (above the median)\n",
    "\n",
    "We could also perform Linear Regression (or any regression) to predict the salary value here. Instead, we are going to convert this into a _binary_ classification problem, by predicting two classes, HIGH vs LOW salary.\n",
    "\n",
    "While performing regression may be better, performing classification may help remove some of the noise of the extreme salaries. We don't _have_ to choose the `median` as the splitting point - we could also split on the 75th percentile or any other reasonable breaking point.\n",
    "\n",
    "In fact, the ideal scenario may be to predict many levels of salaries, "
   ]
  },
  {
   "cell_type": "markdown",
   "metadata": {
    "focus": false,
    "id": "a7afb2c0-d41e-4779-8216-91cd8dd4473f"
   },
   "source": [
    "#### Thought experiment: What is the baseline accuracy for this model?"
   ]
  },
  {
   "cell_type": "markdown",
   "metadata": {
    "collapsed": true,
    "focus": false,
    "id": "87a17d3d-b7f4-4747-9f75-f9af1d18a174"
   },
   "source": [
    "Since we are dealing with above/below median as our binary variable our baseline accuracy will be 50%"
   ]
  },
  {
   "cell_type": "markdown",
   "metadata": {
    "focus": false,
    "id": "4fb29de2-5b98-474c-a4ad-5170b72b9aea"
   },
   "source": [
    "#### Create a Random Forest model to predict High/Low salary using Sklearn. Start by ONLY using the location as a feature. "
   ]
  },
  {
   "cell_type": "code",
   "execution_count": 93,
   "metadata": {
    "collapsed": true
   },
   "outputs": [],
   "source": [
    "##Creating dummy variables for each location\n",
    "x=pd.get_dummies(indeedsalfinal['location_a'])\n",
    "X=x\n",
    "y=indeedsalfinal['above_median']\n",
    "X_train, X_test, y_train, y_test=train_test_split(X,y, test_size=.2)"
   ]
  },
  {
   "cell_type": "code",
   "execution_count": 95,
   "metadata": {
    "collapsed": true,
    "focus": false,
    "id": "ddbc6159-6854-4ca7-857f-bfecdaf6d9c2"
   },
   "outputs": [],
   "source": [
    "xn=pd.get_dummies(indeedn['location_a'])\n",
    "xn.drop(['',\"DF\",\"NJ\",\"SC\"],axis=1,inplace=True)\n",
    "Xn=xn\n"
   ]
  },
  {
   "cell_type": "markdown",
   "metadata": {
    "focus": false,
    "id": "0ef04f32-419c-4bf2-baf7-48201f03df89"
   },
   "source": [
    "#### Create a few new variables in your dataframe to represent interesting features of a job title.\n",
    "- For example, create a feature that represents whether 'Senior' is in the title or whether 'Manager' is in the title. \n",
    "- Then build a new Random Forest with these features. Do they add any value?\n",
    "- After creating these variables, use count-vectorizer to create features based on the words in the job titles.\n",
    "- Build a new random forest model with location and these new features included."
   ]
  },
  {
   "cell_type": "code",
   "execution_count": 96,
   "metadata": {},
   "outputs": [
    {
     "name": "stdout",
     "output_type": "stream",
     "text": [
      "{'max_features': 5, 'n_estimators': 50, 'max_depth': 2}\n",
      "0.652263374486\n"
     ]
    }
   ],
   "source": [
    "param_grid={'n_estimators':[25,50,75],\n",
    "           'max_features':[1,2,3,4,5],\n",
    "           'max_depth':[2,4,6,8]\n",
    "           }\n",
    "rf=RandomForestClassifier()\n",
    "grid=GridSearchCV(estimator=rf, param_grid=param_grid, cv=5)\n",
    "grid.fit(X_train,y_train)\n",
    "print grid.best_params_\n",
    "print grid.best_score_   "
   ]
  },
  {
   "cell_type": "code",
   "execution_count": 97,
   "metadata": {
    "collapsed": true
   },
   "outputs": [],
   "source": [
    "best=grid.best_estimator_\n",
    "model=best.fit(X_train,y_train)"
   ]
  },
  {
   "cell_type": "code",
   "execution_count": 98,
   "metadata": {},
   "outputs": [
    {
     "data": {
      "text/plain": [
       "0.60655737704918034"
      ]
     },
     "execution_count": 98,
     "metadata": {},
     "output_type": "execute_result"
    }
   ],
   "source": [
    "model.score(X_test,y_test)"
   ]
  },
  {
   "cell_type": "code",
   "execution_count": 99,
   "metadata": {
    "collapsed": true
   },
   "outputs": [],
   "source": [
    "indeedn['above_median']=model.predict(Xn)"
   ]
  },
  {
   "cell_type": "code",
   "execution_count": 100,
   "metadata": {},
   "outputs": [
    {
     "data": {
      "text/html": [
       "<div>\n",
       "<style>\n",
       "    .dataframe thead tr:only-child th {\n",
       "        text-align: right;\n",
       "    }\n",
       "\n",
       "    .dataframe thead th {\n",
       "        text-align: left;\n",
       "    }\n",
       "\n",
       "    .dataframe tbody tr th {\n",
       "        vertical-align: top;\n",
       "    }\n",
       "</style>\n",
       "<table border=\"1\" class=\"dataframe\">\n",
       "  <thead>\n",
       "    <tr style=\"text-align: right;\">\n",
       "      <th></th>\n",
       "      <th>title</th>\n",
       "      <th>company</th>\n",
       "      <th>location</th>\n",
       "      <th>salary</th>\n",
       "      <th>location_a</th>\n",
       "      <th>above_median</th>\n",
       "    </tr>\n",
       "  </thead>\n",
       "  <tbody>\n",
       "    <tr>\n",
       "      <th>0</th>\n",
       "      <td>Data Scientist - Big Data &amp; Analytics</td>\n",
       "      <td>KPMG</td>\n",
       "      <td>New York NY 10154</td>\n",
       "      <td>NaN</td>\n",
       "      <td>NY</td>\n",
       "      <td>0</td>\n",
       "    </tr>\n",
       "    <tr>\n",
       "      <th>1</th>\n",
       "      <td>Senior NLP Data Scientist</td>\n",
       "      <td>Elevano</td>\n",
       "      <td>New York NY</td>\n",
       "      <td>NaN</td>\n",
       "      <td>NY</td>\n",
       "      <td>0</td>\n",
       "    </tr>\n",
       "    <tr>\n",
       "      <th>2</th>\n",
       "      <td>Data Scientist | NYC</td>\n",
       "      <td>Avanade</td>\n",
       "      <td>New York NY</td>\n",
       "      <td>NaN</td>\n",
       "      <td>NY</td>\n",
       "      <td>0</td>\n",
       "    </tr>\n",
       "    <tr>\n",
       "      <th>3</th>\n",
       "      <td>Data Scientist Forecast Analyst</td>\n",
       "      <td>NBCUniversal</td>\n",
       "      <td>New York NY</td>\n",
       "      <td>NaN</td>\n",
       "      <td>NY</td>\n",
       "      <td>0</td>\n",
       "    </tr>\n",
       "    <tr>\n",
       "      <th>5</th>\n",
       "      <td>Data Scientist</td>\n",
       "      <td>NBCUniversal</td>\n",
       "      <td>New York NY</td>\n",
       "      <td>NaN</td>\n",
       "      <td>NY</td>\n",
       "      <td>0</td>\n",
       "    </tr>\n",
       "  </tbody>\n",
       "</table>\n",
       "</div>"
      ],
      "text/plain": [
       "                                   title               company  \\\n",
       "0  Data Scientist - Big Data & Analytics                  KPMG   \n",
       "1              Senior NLP Data Scientist               Elevano   \n",
       "2                   Data Scientist | NYC               Avanade   \n",
       "3        Data Scientist Forecast Analyst         NBCUniversal    \n",
       "5                         Data Scientist         NBCUniversal    \n",
       "\n",
       "            location  salary location_a  above_median  \n",
       "0  New York NY 10154     NaN         NY             0  \n",
       "1        New York NY     NaN         NY             0  \n",
       "2        New York NY     NaN         NY             0  \n",
       "3        New York NY     NaN         NY             0  \n",
       "5        New York NY     NaN         NY             0  "
      ]
     },
     "execution_count": 100,
     "metadata": {},
     "output_type": "execute_result"
    }
   ],
   "source": [
    "indeedn.head()"
   ]
  },
  {
   "cell_type": "code",
   "execution_count": 101,
   "metadata": {},
   "outputs": [
    {
     "data": {
      "text/plain": [
       "0.65611224489795927"
      ]
     },
     "execution_count": 101,
     "metadata": {},
     "output_type": "execute_result"
    }
   ],
   "source": [
    "cross_val_score(model,X_train,y_train,cv=10).mean()"
   ]
  },
  {
   "cell_type": "code",
   "execution_count": 102,
   "metadata": {},
   "outputs": [
    {
     "data": {
      "image/png": "[encoded data removed]",
      "text/plain": [
       "<matplotlib.figure.Figure at 0x11aa012d0>"
      ]
     },
     "metadata": {},
     "output_type": "display_data"
    }
   ],
   "source": [
    "all(model.feature_importances_ == np.mean([tree.feature_importances_ for tree in model.estimators_], axis=0))\n",
    "\n",
    "importances = model.feature_importances_\n",
    "# calculate the standard deviation of feature importances by looping over the trees in the random forest\n",
    "# \n",
    "\n",
    "std = np.std([tree.feature_importances_ for tree in model.estimators_], axis=0)\n",
    "\n",
    "indices = np.argsort(importances)[::-1]\n",
    "feature_names = X_train.columns\n",
    "\n",
    "# Plot the feature importances of the forest\n",
    "plt.figure(figsize=(10,10))\n",
    "plt.title(\"Feature importances\")\n",
    "plt.bar(range(X.shape[1]), importances[indices],\n",
    "       color=\"r\", yerr=std[indices], align=\"center\")\n",
    "plt.xticks(range(X.shape[1]), feature_names[indices], rotation=90)\n",
    "plt.xlim([-1, X.shape[1]])\n",
    "plt.show()"
   ]
  },
  {
   "cell_type": "markdown",
   "metadata": {
    "focus": false,
    "id": "9367beff-72ba-4768-a0ba-a50b335de61d"
   },
   "source": [
    "#### Use cross-validation in scikit-learn to evaluate the model above. \n",
    "- Evaluate the accuracy of the model, as well as any other metrics you feel are appropriate. "
   ]
  },
  {
   "cell_type": "code",
   "execution_count": 103,
   "metadata": {
    "collapsed": true
   },
   "outputs": [],
   "source": [
    "## Going to try to incorporate NLP to see what words are indicative of high or low salaries\n",
    "cvec = CountVectorizer(min_df=25,stop_words='english')\n",
    "\n",
    "cvec.fit(indeedsalfinal['title'])\n",
    "\n",
    "cvecdata= cvec.transform(indeedsalfinal['title'])\n",
    "\n",
    "indeedwords = cvecdata.toarray()\n",
    "\n",
    "vocab = cvec.get_feature_names()\n",
    "\n",
    "indeedwords= pd.DataFrame(indeedwords,columns=cvec.get_feature_names())"
   ]
  },
  {
   "cell_type": "code",
   "execution_count": 104,
   "metadata": {
    "collapsed": true,
    "scrolled": true
   },
   "outputs": [],
   "source": [
    "indeedsalfinal.reset_index(drop=True,inplace=True)"
   ]
  },
  {
   "cell_type": "code",
   "execution_count": 105,
   "metadata": {
    "collapsed": true
   },
   "outputs": [],
   "source": [
    "indeedwords.reset_index(drop=True,inplace=True)"
   ]
  },
  {
   "cell_type": "code",
   "execution_count": 106,
   "metadata": {},
   "outputs": [
    {
     "data": {
      "text/html": [
       "<div>\n",
       "<style>\n",
       "    .dataframe thead tr:only-child th {\n",
       "        text-align: right;\n",
       "    }\n",
       "\n",
       "    .dataframe thead th {\n",
       "        text-align: left;\n",
       "    }\n",
       "\n",
       "    .dataframe tbody tr th {\n",
       "        vertical-align: top;\n",
       "    }\n",
       "</style>\n",
       "<table border=\"1\" class=\"dataframe\">\n",
       "  <thead>\n",
       "    <tr style=\"text-align: right;\">\n",
       "      <th></th>\n",
       "      <th>title</th>\n",
       "      <th>company</th>\n",
       "      <th>location</th>\n",
       "      <th>salary</th>\n",
       "      <th>final_salary</th>\n",
       "      <th>location_a</th>\n",
       "      <th>above_median</th>\n",
       "      <th>analyst</th>\n",
       "      <th>associate</th>\n",
       "      <th>data</th>\n",
       "      <th>engineer</th>\n",
       "      <th>laboratory</th>\n",
       "      <th>learning</th>\n",
       "      <th>machine</th>\n",
       "      <th>manager</th>\n",
       "      <th>research</th>\n",
       "      <th>scientist</th>\n",
       "      <th>senior</th>\n",
       "      <th>sr</th>\n",
       "    </tr>\n",
       "  </thead>\n",
       "  <tbody>\n",
       "    <tr>\n",
       "      <th>0</th>\n",
       "      <td>Data Scientist</td>\n",
       "      <td>First Derivatives</td>\n",
       "      <td>New York NY 10022 (Midtown area)</td>\n",
       "      <td>70000 - 80000</td>\n",
       "      <td>75000.0</td>\n",
       "      <td>NY</td>\n",
       "      <td>0</td>\n",
       "      <td>0</td>\n",
       "      <td>0</td>\n",
       "      <td>1</td>\n",
       "      <td>0</td>\n",
       "      <td>0</td>\n",
       "      <td>0</td>\n",
       "      <td>0</td>\n",
       "      <td>0</td>\n",
       "      <td>0</td>\n",
       "      <td>1</td>\n",
       "      <td>0</td>\n",
       "      <td>0</td>\n",
       "    </tr>\n",
       "    <tr>\n",
       "      <th>1</th>\n",
       "      <td>Data Scientist (Statistical Modeling Big Data ...</td>\n",
       "      <td>Quintrix Solutions Inc</td>\n",
       "      <td>New York NY</td>\n",
       "      <td>135000</td>\n",
       "      <td>135000.0</td>\n",
       "      <td>NY</td>\n",
       "      <td>1</td>\n",
       "      <td>0</td>\n",
       "      <td>0</td>\n",
       "      <td>2</td>\n",
       "      <td>0</td>\n",
       "      <td>0</td>\n",
       "      <td>0</td>\n",
       "      <td>0</td>\n",
       "      <td>0</td>\n",
       "      <td>0</td>\n",
       "      <td>1</td>\n",
       "      <td>0</td>\n",
       "      <td>0</td>\n",
       "    </tr>\n",
       "    <tr>\n",
       "      <th>2</th>\n",
       "      <td>Data Scientist</td>\n",
       "      <td>MetroPlus Health Plan</td>\n",
       "      <td>New York NY</td>\n",
       "      <td>90000 - 115000</td>\n",
       "      <td>102500.0</td>\n",
       "      <td>NY</td>\n",
       "      <td>1</td>\n",
       "      <td>0</td>\n",
       "      <td>0</td>\n",
       "      <td>1</td>\n",
       "      <td>0</td>\n",
       "      <td>0</td>\n",
       "      <td>0</td>\n",
       "      <td>0</td>\n",
       "      <td>0</td>\n",
       "      <td>0</td>\n",
       "      <td>1</td>\n",
       "      <td>0</td>\n",
       "      <td>0</td>\n",
       "    </tr>\n",
       "    <tr>\n",
       "      <th>3</th>\n",
       "      <td>Data Scientist</td>\n",
       "      <td>Enterprise Select</td>\n",
       "      <td>New York NY 10005 (Financial District area)</td>\n",
       "      <td>185000</td>\n",
       "      <td>185000.0</td>\n",
       "      <td>NY</td>\n",
       "      <td>1</td>\n",
       "      <td>0</td>\n",
       "      <td>0</td>\n",
       "      <td>1</td>\n",
       "      <td>0</td>\n",
       "      <td>0</td>\n",
       "      <td>0</td>\n",
       "      <td>0</td>\n",
       "      <td>0</td>\n",
       "      <td>0</td>\n",
       "      <td>1</td>\n",
       "      <td>0</td>\n",
       "      <td>0</td>\n",
       "    </tr>\n",
       "    <tr>\n",
       "      <th>4</th>\n",
       "      <td>Data Analyst</td>\n",
       "      <td>POLICE DEPARTMENT</td>\n",
       "      <td>New York NY</td>\n",
       "      <td>70286 - 88213</td>\n",
       "      <td>79249.5</td>\n",
       "      <td>NY</td>\n",
       "      <td>0</td>\n",
       "      <td>1</td>\n",
       "      <td>0</td>\n",
       "      <td>1</td>\n",
       "      <td>0</td>\n",
       "      <td>0</td>\n",
       "      <td>0</td>\n",
       "      <td>0</td>\n",
       "      <td>0</td>\n",
       "      <td>0</td>\n",
       "      <td>0</td>\n",
       "      <td>0</td>\n",
       "      <td>0</td>\n",
       "    </tr>\n",
       "  </tbody>\n",
       "</table>\n",
       "</div>"
      ],
      "text/plain": [
       "                                               title  \\\n",
       "0                                     Data Scientist   \n",
       "1  Data Scientist (Statistical Modeling Big Data ...   \n",
       "2                                     Data Scientist   \n",
       "3                                     Data Scientist   \n",
       "4                                       Data Analyst   \n",
       "\n",
       "                         company                                     location  \\\n",
       "0             First Derivatives              New York NY 10022 (Midtown area)   \n",
       "1        Quintrix Solutions Inc                                   New York NY   \n",
       "2         MetroPlus Health Plan                                   New York NY   \n",
       "3             Enterprise Select   New York NY 10005 (Financial District area)   \n",
       "4             POLICE DEPARTMENT                                   New York NY   \n",
       "\n",
       "            salary  final_salary location_a  above_median  analyst  associate  \\\n",
       "0   70000 - 80000        75000.0         NY             0        0          0   \n",
       "1          135000       135000.0         NY             1        0          0   \n",
       "2  90000 - 115000       102500.0         NY             1        0          0   \n",
       "3          185000       185000.0         NY             1        0          0   \n",
       "4   70286 - 88213        79249.5         NY             0        1          0   \n",
       "\n",
       "   data  engineer  laboratory  learning  machine  manager  research  \\\n",
       "0     1         0           0         0        0        0         0   \n",
       "1     2         0           0         0        0        0         0   \n",
       "2     1         0           0         0        0        0         0   \n",
       "3     1         0           0         0        0        0         0   \n",
       "4     1         0           0         0        0        0         0   \n",
       "\n",
       "   scientist  senior  sr  \n",
       "0          1       0   0  \n",
       "1          1       0   0  \n",
       "2          1       0   0  \n",
       "3          1       0   0  \n",
       "4          0       0   0  "
      ]
     },
     "execution_count": 106,
     "metadata": {},
     "output_type": "execute_result"
    }
   ],
   "source": [
    "df = pd.concat([indeedsalfinal,indeedwords], axis=1)\n",
    "df.head()"
   ]
  },
  {
   "cell_type": "code",
   "execution_count": 107,
   "metadata": {
    "collapsed": true,
    "scrolled": true
   },
   "outputs": [],
   "source": [
    "df2=df.copy()\n"
   ]
  },
  {
   "cell_type": "code",
   "execution_count": 108,
   "metadata": {
    "collapsed": true
   },
   "outputs": [],
   "source": [
    "df2.drop([\"title\",\"company\",\"location\",\"salary\",\"final_salary\",\"above_median\",\"location_a\"],axis=1,inplace=True)\n"
   ]
  },
  {
   "cell_type": "code",
   "execution_count": 109,
   "metadata": {
    "collapsed": true
   },
   "outputs": [],
   "source": [
    "x.reset_index(drop=True,inplace=True)\n",
    "df2.reset_index(drop=True,inplace=True)\n"
   ]
  },
  {
   "cell_type": "code",
   "execution_count": 110,
   "metadata": {
    "collapsed": true
   },
   "outputs": [],
   "source": [
    "df2=pd.concat([df2,x],axis=1)"
   ]
  },
  {
   "cell_type": "code",
   "execution_count": 111,
   "metadata": {
    "collapsed": true
   },
   "outputs": [],
   "source": [
    "Xw=df2\n",
    "yw=indeedsalfinal['above_median']\n",
    "train_Xw,test_Xw,train_yw,test_yw=train_test_split(Xw,yw,test_size=.20)"
   ]
  },
  {
   "cell_type": "code",
   "execution_count": 112,
   "metadata": {
    "collapsed": true
   },
   "outputs": [],
   "source": [
    "Xn2=pd.concat([indeedn.title,Xn],axis=1)\n"
   ]
  },
  {
   "cell_type": "markdown",
   "metadata": {},
   "source": [
    "#### Repeat the model-building process with a non-tree-based method."
   ]
  },
  {
   "cell_type": "code",
   "execution_count": 113,
   "metadata": {},
   "outputs": [
    {
     "name": "stdout",
     "output_type": "stream",
     "text": [
      "{'penalty': 'l2', 'C': 1}\n",
      "0.777777777778\n",
      "LogisticRegression(C=1, class_weight=None, dual=False, fit_intercept=True,\n",
      "          intercept_scaling=1, max_iter=100, multi_class='ovr', n_jobs=1,\n",
      "          penalty='l2', random_state=None, solver='liblinear', tol=0.0001,\n",
      "          verbose=0, warm_start=False)\n"
     ]
    }
   ],
   "source": [
    "param_grid={'penalty':['l1','l2'],\n",
    "           'C':[1,2,3,4,5,6,7,8],\n",
    "           }\n",
    "lor=LogisticRegression()\n",
    "grid2=GridSearchCV(estimator=lor, param_grid=param_grid, cv=5)\n",
    "grid2.fit(train_Xw,train_yw)\n",
    "print grid2.best_params_\n",
    "print grid2.best_score_   \n",
    "print grid2.best_estimator_\n",
    "best2=grid2.best_estimator_"
   ]
  },
  {
   "cell_type": "code",
   "execution_count": 114,
   "metadata": {},
   "outputs": [
    {
     "data": {
      "text/plain": [
       "0.71311475409836067"
      ]
     },
     "execution_count": 114,
     "metadata": {},
     "output_type": "execute_result"
    }
   ],
   "source": [
    "lor=LogisticRegression()\n",
    "modelw=best2.fit(train_Xw,train_yw)\n",
    "modelw.score(test_Xw,test_yw)"
   ]
  },
  {
   "cell_type": "code",
   "execution_count": 115,
   "metadata": {
    "collapsed": true
   },
   "outputs": [],
   "source": [
    "## train_Xw.columns"
   ]
  },
  {
   "cell_type": "code",
   "execution_count": 116,
   "metadata": {},
   "outputs": [
    {
     "name": "stdout",
     "output_type": "stream",
     "text": [
      "{'max_features': 4, 'n_estimators': 25, 'max_depth': 6}\n",
      "0.804526748971\n"
     ]
    }
   ],
   "source": [
    "param_grid={'n_estimators':[25,50,100],\n",
    "           'max_features':[1,2,3,4],\n",
    "           'max_depth':[2,4,6]\n",
    "           }\n",
    "rf=RandomForestClassifier()\n",
    "grid3=GridSearchCV(estimator=rf, param_grid=param_grid, cv=5)\n",
    "grid3.fit(train_Xw,train_yw)\n",
    "print grid3.best_params_\n",
    "print grid3.best_score_   "
   ]
  },
  {
   "cell_type": "code",
   "execution_count": 117,
   "metadata": {
    "collapsed": true
   },
   "outputs": [],
   "source": [
    "best3=grid3.best_estimator_"
   ]
  },
  {
   "cell_type": "code",
   "execution_count": 118,
   "metadata": {},
   "outputs": [
    {
     "data": {
      "text/plain": [
       "0.71311475409836067"
      ]
     },
     "execution_count": 118,
     "metadata": {},
     "output_type": "execute_result"
    }
   ],
   "source": [
    "modelw2=best3.fit(train_Xw,train_yw)\n",
    "modelw2.score(test_Xw,test_yw)\n",
    "##varies fairly widely"
   ]
  },
  {
   "cell_type": "code",
   "execution_count": 119,
   "metadata": {},
   "outputs": [
    {
     "data": {
      "text/html": [
       "<div>\n",
       "<style>\n",
       "    .dataframe thead tr:only-child th {\n",
       "        text-align: right;\n",
       "    }\n",
       "\n",
       "    .dataframe thead th {\n",
       "        text-align: left;\n",
       "    }\n",
       "\n",
       "    .dataframe tbody tr th {\n",
       "        vertical-align: top;\n",
       "    }\n",
       "</style>\n",
       "<table border=\"1\" class=\"dataframe\">\n",
       "  <thead>\n",
       "    <tr style=\"text-align: right;\">\n",
       "      <th></th>\n",
       "      <th>word</th>\n",
       "      <th>importance</th>\n",
       "    </tr>\n",
       "  </thead>\n",
       "  <tbody>\n",
       "    <tr>\n",
       "      <th>8</th>\n",
       "      <td>research</td>\n",
       "      <td>0.253574</td>\n",
       "    </tr>\n",
       "    <tr>\n",
       "      <th>2</th>\n",
       "      <td>data</td>\n",
       "      <td>0.174117</td>\n",
       "    </tr>\n",
       "    <tr>\n",
       "      <th>9</th>\n",
       "      <td>scientist</td>\n",
       "      <td>0.077301</td>\n",
       "    </tr>\n",
       "    <tr>\n",
       "      <th>6</th>\n",
       "      <td>machine</td>\n",
       "      <td>0.070232</td>\n",
       "    </tr>\n",
       "    <tr>\n",
       "      <th>0</th>\n",
       "      <td>analyst</td>\n",
       "      <td>0.069684</td>\n",
       "    </tr>\n",
       "    <tr>\n",
       "      <th>5</th>\n",
       "      <td>learning</td>\n",
       "      <td>0.065559</td>\n",
       "    </tr>\n",
       "    <tr>\n",
       "      <th>1</th>\n",
       "      <td>associate</td>\n",
       "      <td>0.064606</td>\n",
       "    </tr>\n",
       "    <tr>\n",
       "      <th>10</th>\n",
       "      <td>senior</td>\n",
       "      <td>0.030607</td>\n",
       "    </tr>\n",
       "    <tr>\n",
       "      <th>4</th>\n",
       "      <td>laboratory</td>\n",
       "      <td>0.014330</td>\n",
       "    </tr>\n",
       "    <tr>\n",
       "      <th>3</th>\n",
       "      <td>engineer</td>\n",
       "      <td>0.012800</td>\n",
       "    </tr>\n",
       "    <tr>\n",
       "      <th>11</th>\n",
       "      <td>sr</td>\n",
       "      <td>0.006124</td>\n",
       "    </tr>\n",
       "    <tr>\n",
       "      <th>7</th>\n",
       "      <td>manager</td>\n",
       "      <td>0.005190</td>\n",
       "    </tr>\n",
       "  </tbody>\n",
       "</table>\n",
       "</div>"
      ],
      "text/plain": [
       "          word  importance\n",
       "8     research    0.253574\n",
       "2         data    0.174117\n",
       "9    scientist    0.077301\n",
       "6      machine    0.070232\n",
       "0      analyst    0.069684\n",
       "5     learning    0.065559\n",
       "1    associate    0.064606\n",
       "10      senior    0.030607\n",
       "4   laboratory    0.014330\n",
       "3     engineer    0.012800\n",
       "11          sr    0.006124\n",
       "7      manager    0.005190"
      ]
     },
     "execution_count": 119,
     "metadata": {},
     "output_type": "execute_result"
    }
   ],
   "source": [
    "##Looking at feature importance\n",
    "features=[]\n",
    "for feature in zip(vocab, modelw2.feature_importances_):\n",
    "    features.append(feature)\n",
    "##Got this code from Bauer\n",
    "fi=pd.DataFrame(features,columns=('word','importance'))\n",
    "fi.sort_values('importance',ascending=False)"
   ]
  },
  {
   "cell_type": "code",
   "execution_count": 120,
   "metadata": {},
   "outputs": [
    {
     "data": {
      "text/plain": [
       "above_median2    0.668317\n",
       "dtype: float64"
      ]
     },
     "execution_count": 120,
     "metadata": {},
     "output_type": "execute_result"
    }
   ],
   "source": [
    "cvec = CountVectorizer(min_df=25,stop_words='english')\n",
    "\n",
    "cvec.fit(indeedn['title'])\n",
    "\n",
    "cvecdata= cvec.transform(indeedn['title'])\n",
    "\n",
    "indeedwords2 = cvecdata.toarray()\n",
    "\n",
    "vocab = cvec.get_feature_names()\n",
    "\n",
    "indeedwords2= pd.DataFrame(indeedwords2,columns=cvec.get_feature_names())\n",
    "\n",
    "indeedwords2.reset_index(drop=True,inplace=True)\n",
    "\n",
    "xn.reset_index(drop=True,inplace=True)\n",
    "\n",
    "indeednw=pd.concat([indeedwords2,xn],axis=1)\n",
    "\n",
    "indeednw=indeednw[['analyst','associate','data','engineer','laboratory','learning', 'machine','manager',\n",
    "         'research','scientist','senior','sr','AF',         'AZ',         'CA',         'CO',\n",
    "               'DC',         'DE',         'FL',         'GA',\n",
    "               'IL',         'IN',         'KY',         'MA',\n",
    "               'MD',         'MI',         'NC',         'NV',\n",
    "               'NY',         'OH',         'OK',         'OR',\n",
    "               'PA',         'TN',         'TX',         'VA',\n",
    "               'WA',         'WI']]\n",
    "indeedn['above_median2']=modelw2.predict(indeednw)\n",
    "indeedn[indeedn[\"location_a\"]==\"DC\"].agg({'above_median2':'sum'})/float(len(indeedn[indeedn[\"location_a\"]==\"DC\"]))\n",
    "\n"
   ]
  }
 ],
 "metadata": {
  "anaconda-cloud": {},
  "kernelspec": {
   "display_name": "Python 2",
   "language": "python",
   "name": "python2"
  },
  "language_info": {
   "codemirror_mode": {
    "name": "ipython",
    "version": 2
   },
   "file_extension": ".py",
   "mimetype": "text/x-python",
   "name": "python",
   "nbconvert_exporter": "python",
   "pygments_lexer": "ipython2",
   "version": "2.7.13"
  }
 },
 "nbformat": 4,
 "nbformat_minor": 1
}
