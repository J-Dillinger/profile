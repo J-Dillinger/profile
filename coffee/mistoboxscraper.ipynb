{
 "cells": [
  {
   "cell_type": "code",
   "execution_count": 1,
   "metadata": {},
   "outputs": [],
   "source": [
    "import pandas as pd\n",
    "from bs4 import BeautifulSoup\n",
    "from selenium import webdriver\n",
    "from selenium.webdriver.common.by import By\n",
    "from selenium.webdriver.support.ui import WebDriverWait\n",
    "from selenium.webdriver.support import expected_conditions as EC\n",
    "from selenium.common.exceptions import TimeoutException\n",
    "from time import sleep\n",
    "import time\n",
    "import re\n",
    "import pandas as pd\n",
    "import re\n",
    "import requests\n",
    "import bs4\n",
    "from bs4 import BeautifulSoup\n",
    "import matplotlib.pyplot as plt\n",
    "import urllib\n",
    "import numpy as np\n",
    "from sklearn.model_selection import GridSearchCV\n",
    "from sklearn.model_selection import train_test_split\n",
    "import pydotplus\n",
    "import selenium.webdriver as webdriver\n",
    "import selenium.webdriver.support.ui as ui\n",
    "from selenium.webdriver.common.keys import Keys\n",
    "from time import sleep \n",
    "\n"
   ]
  },
  {
   "cell_type": "code",
   "execution_count": 43,
   "metadata": {},
   "outputs": [],
   "source": [
    "from bs4 import BeautifulSoup\n",
    "import urllib\n",
    "chrome_path = r\"C:\\Users\\yonilevine\\Downloads\\chromedriver.exe\"\n",
    "driver2 = webdriver.Chrome(executable_path=\"/Users/yonilevine/Downloads/chromedriver\")\n",
    "driver2.get(\"http://www.mistobox.com/shop\") \n",
    "r = urllib.urlopen('http://www.mistobox.com/shop').read()\n",
    "soup = BeautifulSoup(r)"
   ]
  },
  {
   "cell_type": "code",
   "execution_count": 44,
   "metadata": {},
   "outputs": [],
   "source": [
    "fullhtml = driver2.page_source\n"
   ]
  },
  {
   "cell_type": "code",
   "execution_count": 45,
   "metadata": {},
   "outputs": [
    {
     "data": {
      "text/plain": [
       "<!DOCTYPE html>\\n<html lang=\"en\" xml:lang=\"en\">\\n<head>\\n<title>MistoBox: Coffee Subscriptions Personalized For You</title>\\n<meta content=\"text/html; charset=unicode-escape\" http-equiv=\"Content-Type\"/>\\n<meta content=\"width=device-width, initial-scale=1.0, maximum-scale=1.0, user-scalable=yes\" name=\"viewport\"/>\\n<meta content=\"true\" name=\"HandheldFriendly\"/>\\n<meta content=\"yes\" name=\"apple-touch-fullscreen\"/>\\n<meta content=\"\" name=\"description\"/>\\n<meta content=\"MistoBox, Coffee\" name=\"keywords\"/>\\n<meta content=\"INDEX,FOLLOW\" name=\"robots\"/>\\n<link href=\"/skin/frontend/default/sns_korion/images/mbox/icons/favicon.ico\" rel=\"icon\" type=\"image/x-icon\"/>\\n<link href=\"/skin/frontend/default/sns_korion/images/mbox/icons/favicon.ico\" rel=\"shortcut icon\" type=\"image/x-icon\"/>\\n<meta content=\"https://b1a7d3c7dbae41222b62-c94cc42c0dc2d55453795059cd32df60.ssl.cf2.rackcdn.com/mistoboxFBOG.jpg\" property=\"og:image\"/>\\n<meta content=\"MistoBox delivers coffee from the top artisan coffee roasters right to your door every month. Answer a few questions about your preferences, and they'll send you coffee you'll love every time.\" property=\"og:description\"/>\\n<link href=\"https://one.mistobox.com/skin/frontend/default/sns_korion/assets/bootstrap/css/bootstrap.css\" media=\"all\" rel=\"stylesheet\" type=\"text/css\"/>\\n<link href=\"https://one.mistobox.com/skin/frontend/default/sns_korion/assets/bootstrap/css/responsive.css\" media=\"all\" rel=\"stylesheet\" type=\"text/css\"/>\\n<link href=\"https://one.mistobox.com/skin/frontend/default/sns_korion/css/widgets.css\" media=\"all\" rel=\"stylesheet\" type=\"text/css\"/>\\n<link href=\"https://one.mistobox.com/skin/frontend/default/sns_korion/sns/ajaxcart/css/style.css\" media=\"all\" rel=\"stylesheet\" type=\"text/css\"/>\\n<link href=\"https://one.mistobox.com/skin/frontend/default/sns_korion/sns/fractionsliderbanner/css/fractionslider.css\" media=\"all\" rel=\"stylesheet\" type=\"text/css\"/>\\n<link href=\"https://one.mistobox.com/skin/frontend/default/sns_korion/sns/fractionsliderbanner/css/style.css\" media=\"all\" rel=\"stylesheet\" type=\"text/css\"/>\\n<link href=\"https://one.mistobox.com/skin/frontend/default/sns_korion/sns/megamenu/css/horizontal/megamenu.css\" media=\"all\" rel=\"stylesheet\" type=\"text/css\"/>\\n<link href=\"https://one.mistobox.com/skin/frontend/default/default/sns/productlist/css/style.css\" media=\"all\" rel=\"stylesheet\" type=\"text/css\"/>\\n<link href=\"https://one.mistobox.com/skin/frontend/default/default/sns/slider/css/slider.css\" media=\"all\" rel=\"stylesheet\" type=\"text/css\"/>\\n<link href=\"https://one.mistobox.com/skin/frontend/default/sns_korion/css/print.css\" media=\"print\" rel=\"stylesheet\" type=\"text/css\"/>\\n<script src=\"https://one.mistobox.com/js/lib/ccard.js\" type=\"text/javascript\"></script>\\n<script src=\"https://one.mistobox.com/js/prototype/validation.js\" type=\"text/javascript\"></script>\\n<script src=\"https://one.mistobox.com/js/scriptaculous/builder.js\" type=\"text/javascript\"></script>\\n<script src=\"https://one.mistobox.com/js/scriptaculous/effects.js\" type=\"text/javascript\"></script>\\n<script src=\"https://one.mistobox.com/js/scriptaculous/dragdrop.js\" type=\"text/javascript\"></script>\\n<script src=\"https://one.mistobox.com/js/scriptaculous/controls.js\" type=\"text/javascript\"></script>\\n<script src=\"https://one.mistobox.com/js/scriptaculous/slider.js\" type=\"text/javascript\"></script>\\n<script src=\"https://one.mistobox.com/js/varien/js.js\" type=\"text/javascript\"></script>\\n<script src=\"https://one.mistobox.com/js/varien/form.js\" type=\"text/javascript\"></script>\\n<script src=\"https://one.mistobox.com/js/varien/menu.js\" type=\"text/javascript\"></script>\\n<script src=\"https://one.mistobox.com/js/mage/translate.js\" type=\"text/javascript\"></script>\\n<script src=\"https://one.mistobox.com/js/mage/cookies.js\" type=\"text/javascript\"></script>\\n<script src=\"https://one.mistobox.com/js/varien/product.js\" type=\"text/javascript\"></script>\\n<script src=\"https://one.mistobox.com/js/calendar/calendar.js\" type=\"text/javascript\"></script>\\n<script src=\"https://one.mistobox.com/js/calendar/calendar-setup.js\" type=\"text/javascript\"></script>\\n<script src=\"https://one.mistobox.com/skin/frontend/base/default/js/bundle.js\" type=\"text/javascript\"></script>\\n<script src=\"https://one.mistobox.com/skin/frontend/default/default/sns/ajaxfilter/js/jquery-1.7.2.min.js\" type=\"text/javascript\"></script>\\n<script src=\"https://one.mistobox.com/skin/frontend/default/default/sns/ajaxfilter/js/sns.noconflict.js\" type=\"text/javascript\"></script>\\n<script src=\"https://one.mistobox.com/skin/frontend/default/default/sns/ajaxcart/js/sns-ajaxcart.js\" type=\"text/javascript\"></script>\\n<script src=\"https://one.mistobox.com/skin/frontend/default/sns_korion/sns/fractionsliderbanner/js/jquery.fractionslider.js\" type=\"text/javascript\"></script>\\n<script src=\"https://one.mistobox.com/skin/frontend/default/sns_korion/sns/megamenu/js/mega-menu.js\" type=\"text/javascript\"></script>\\n<script src=\"https://one.mistobox.com/skin/frontend/default/default/sns/slider/js/jquery.carouFredSel-6.2.1-packed.js\" type=\"text/javascript\"></script>\\n<script src=\"https://one.mistobox.com/skin/frontend/default/default/sns/slider/js/jquery.mousewheel.min.js\" type=\"text/javascript\"></script>\\n<script src=\"https://one.mistobox.com/skin/frontend/default/default/sns/slider/js/jquery.touchSwipe.min.js\" type=\"text/javascript\"></script>\\n<script src=\"https://one.mistobox.com/skin/frontend/default/default/sns/slider/js/jquery.transit.min.js\" type=\"text/javascript\"></script>\\n<script src=\"https://one.mistobox.com/skin/frontend/base/default/js/mistobox/underscore.min.js\" type=\"text/javascript\"></script>\\n<script jquery.form.min.js=\"\" src=\"https://one.mistobox.com/js/jquery.form.min.js\" type=\"text/javascript\"></script>\\n<script mistobox_util.js=\"\" src=\"https://one.mistobox.com/js/mistobox/util.js?v=6431f9a32\" type=\"text/javascript\"></script>\\n<script mistobox_mobile_topbar.js=\"\" src=\"https://one.mistobox.com/js/mistobox/mobile_topbar.js\" type=\"text/javascript\"></script>\\n<link href=\"/skin/frontend/default/sns_korion/css/theme-light-blue.css?v=6431f9a32\" rel=\"stylesheet\" type=\"text/css\"/>\\n<!--[if lte IE 8]>\\n<link rel=\"stylesheet\" type=\"text/css\" href=\"https://one.mistobox.com/skin/frontend/default/sns_korion/css/browsers/ie8.css\" media=\"all\" />\\n<![endif]-->\\n<link href=\"https://one.mistobox.com/skin/frontend/default/sns_korion/assets/fonts/awesome/css/font-awesome.min.css\" rel=\"stylesheet\" type=\"text/css\"/>\\n<link href=\"https://one.mistobox.com/skin/frontend/default/sns_korion/css/cloud-zoom.css\" rel=\"stylesheet\" type=\"text/css\"/>\\n<link href=\"https://one.mistobox.com/skin/frontend/default/sns_korion/assets/prettyPhoto/css/prettyPhoto.css\" rel=\"stylesheet\" type=\"text/css\"/>\\n<link href=\"https://one.mistobox.com/skin/frontend/default/sns_korion/css/sns-cpanel.css\" rel=\"stylesheet\" type=\"text/css\"/>\\n<link href=\"https://one.mistobox.com/skin/frontend/default/sns_korion/assets/minicolors/jquery.miniColors.css\" rel=\"stylesheet\" type=\"text/css\"/>\\n<link href=\"https://one.mistobox.com/skin/frontend/default/sns_korion/assets/plg_jqtransform/css/jqtransform.css\" rel=\"stylesheet\" type=\"text/css\"/>\\n<link href=\"https://one.mistobox.com/skin/frontend/default/sns_korion/css/sns-responsive.css\" rel=\"stylesheet\" type=\"text/css\"/>\\n<!-- Style get config -->\\n<script src=\"//use.typekit.net/xug3evf.js\" type=\"text/javascript\"></script>\\n<script type=\"text/javascript\">try{Typekit.load();}catch(e){}</script>\\n<link href=\"///fonts.googleapis.com/css?family=Open+Sans:400,300,600,700,800\" rel=\"stylesheet\" type=\"text/css\"/>\\n<style type=\"text/css\">\\r\\n\\r\\n\\t\\r\\n\\t.page-title, .page-head, ul.mainnav > li > a span, .megamenu-col.have-spetitle > .mega-title, .block .block-title, .block-shoppolicy .item label, input[type=\"button\"], .button, button, #bottom-cfbox .btn, .price-box .price, .products-grid .item-title a, .item-box-hover ul.add-to-links li a, .item-box-hover .btn-cart, .toolbar label, .toolbar .pages > strong, .sns-slider .title-slider, .product-name, addto-emailto-link, .sns-product-detail h1.product-name, .sns-tab-navi li, #product-shop .email-friend a, .add-to-links li a, .add-to-cart label, .postWrapper .postTitle.cmt-heading, #postComment h4.legend{\\r\\n\\t\\tfont-family: \"brandon-grotesque\",sans-serif;\\r\\n\\t}\\r\\n\\t\\t.sns-products-container .products-grid .item .item-info{\\r\\n\\t\\theight: 70px;\\r\\n\\t}\\r\\n</style>\\n<script type=\"text/javascript\">\\n//<![CDATA[\\nMage.Cookies.path     = '/';\\nMage.Cookies.domain   = '.one.mistobox.com';\\n//]]>\\n</script>\\n<!-- start Mixpanel --><script type=\"text/javascript\">(function(f,b){if(!b.__SV){var a,e,i,g;window.mixpanel=b;b._i=[];b.init=function(a,e,d){function f(b,h){var a=h.split(\".\");2==a.length&&(b=b[a[0]],h=a[1]);b[h]=function(){b.push([h].concat(Array.prototype.slice.call(arguments,0)))}}var c=b;\"undefined\"!==typeof d?c=b[d]=[]:d=\"mixpanel\";c.people=c.people||[];c.toString=function(b){var a=\"mixpanel\";\"mixpanel\"!==d&&(a+=\".\"+d);b||(a+=\" (stub)\");return a};c.people.toString=function(){return c.toString(1)+\".people (stub)\"};i=\"disable track track_pageview track_links track_forms register register_once alias unregister identify name_tag set_config people.set people.set_once people.increment people.append people.track_charge people.clear_charges people.delete_user\".split(\" \");\\nfor(g=0;g<i.length;g++)f(c,i[g]);b._i.push([a,e,d])};b.__SV=1.2;a=f.createElement(\"script\");a.type=\"text/javascript\";a.async=!0;a.src=\"//cdn.mxpnl.com/libs/mixpanel-2.2.min.js\";e=f.getElementsByTagName(\"script\")[0];e.parentNode.insertBefore(a,e)}})(document,window.mixpanel||[]);\\nmixpanel.init(\"564815ab3c47e0e8fef79e834ae38fac\");</script><!-- end Mixpanel --> <!-- BEGIN GOOGLE ANALYTICS CODE -->\\n<script type=\"text/javascript\">\\n        /* <![CDATA[ */\\n        (function () {\\n            var ga = document.createElement('script');\\n            ga.type = 'text/javascript';\\n            ga.async = true;\\n            ga.src = 'https://ssl.google-analytics.com/ga.js';\\n            var s = document.getElementsByTagName('script')[0];\\n            s.parentNode.insertBefore(ga, s);\\n        })();\\n        var _gaq = _gaq || [];\\n        _gaq.push(['_setAccount', 'UA-31668918-3'], ['_trackPageview','/shop']);\\n            _gaq.push(['t2._setAccount', 'UA-49927109-1'], ['t2._trackPageview','/shop']);        \\n\\n            if(typeof Ajax !== \"undefined\" && Ajax.Responders){\\n                Ajax.Responders.register({\\n                  onComplete: function(transport){\\n                    if(!transport.url.include('progress') && !transport.url.include('getAdditional')){\\n                        goto_section = false;\\n                        if (transport && transport.transport.responseText){\\n                            try{\\n                                response = eval('(' + transport.transport.responseText + ')');\\n                                if(response && response.goto_section){\\n                                    goto_section = '/opc-' + encodeURIComponent(response.goto_section);\\n                                }\\n                            }\\n                            catch (e) {\\n                                goto_section = false;\\n                            }\\n                        }\\n                        if(transport.url.include('saveOrder')){\\n                            _gaq.push(['_trackPageview', '/shop'\\n                                + '/opc-review-placeOrderClicked']);\\n                            _gaq.push(['t2._trackPageview', '/shop'\\n                                + '/opc-review-placeOrderClicked']);\\n                        }else if(goto_section){\\n                            _gaq.push(['_trackPageview', '/shop'\\n                                + goto_section + '']);\\n                            _gaq.push(['t2._trackPageview', '/shop'\\n                                + goto_section + '']);\\n                        }else if(accordion && accordion.currentSection){\\n                            _gaq.push(['_trackPageview', '/shop/'\\n                                + accordion.currentSection + '']);\\n                            _gaq.push(['t2._trackPageview', '/shop/'\\n                                + accordion.currentSection + '']);\\n                        }\\n                    }\\n                  }\\n                });\\n            }\\n        \\n                /* ]]> */\\n    </script>\\n<!-- END GOOGLE ANALYTICS CODE -->\\n<!-- Google Analytics -->\\n<script>\\n        (function(i,s,o,g,r,a,m){i['GoogleAnalyticsObject']=r;i[r]=i[r]||function(){\\n            (i[r].q=i[r].q||[]).push(arguments)},i[r].l=1*new Date();a=s.createElement(o),\\n            m=s.getElementsByTagName(o)[0];a.async=1;a.src=g;m.parentNode.insertBefore(a,m)\\n        })(window,document,'script','//www.google-analytics.com/analytics.js','ga');\\n\\n        ga('create', 'UA-31668918-3','auto');\\n                        ga('send', 'pageview', '/shop');\\n\\n    </script>\\n<!-- End Google Analytics -->\\n<script type=\"text/javascript\">\\n  (function() {\\n    if (typeof _llq === 'undefined') {\\n      _llq = [];\\n    }\\n    var ll = document.createElement('script'); ll.type = 'text/javascript'; ll.async = true;\\n    var lv = document.createElement('script'); lv.type = 'text/javascript'; lv.async = true;\\n    var o = 'https://s3.amazonaws.com/llq/';\\n    ll.src = o + 'll.js'; lv.src = o + 'll.555b6eacb62958be13c5a5eb.js';\\n    var ls = document.getElementsByTagName('script')[0];\\n    ls.parentNode.insertBefore(ll, ls); ls.parentNode.insertBefore(lv, ls);\\n  })();\\n</script>\\n<script type=\"text/javascript\">\\r\\n//<![CDATA[\\r\\n\\tvar isCOPage=0;\\r\\n\\tvar isWLPage=0;\\r\\n\\tvar isCPPage=0;\\r\\n\\tvar isLoggedIn=\"0\";\\r\\n\\tvar skiplink ='';\\r\\n\\tvar ajax_for_compare = 1;\\r\\n\\tvar ajax_for_wishlist = 1;\\r\\n\\tvar ajax_for_update = 1;\\r\\n\\tvar show_confirm = 1;\\r\\n\\tvar time_cd = 10;\\r\\n\\tvar show_product_in_confirm = 1;\\r\\n\\tvar loader='<img alt=\"Loading...\" src=\"https://one.mistobox.com/skin/frontend/default/sns_korion/sns/ajaxcart/images/ajax-loader.gif\"/><div>Please wait...</div>';\\r\\n\\tvar usingImgFly = 1;\\r\\n\\tvar scrollToCart = 1;\\r\\n\\t\\r\\n\\tfunction getConfirm(result){\\r\\n\\t\\tif(!show_confirm){ return false; }\\r\\n\\t\\t$(\"ajax_overlay\").onclick = function(e){\\r\\n\\t\\t\\t$(\"confirmbox\").innerHTML='';\\r\\n\\t\\t\\t$(\"ajax_content\").setStyle({display:\"none\"});\\r\\n\\t\\t\\t$(\"sns_ajaxwrap\").setStyle({display:\"none\"});\\r\\n\\t\\t\\t$(\"ajax_overlay\").setStyle({display:\"none\"});\\r\\n\\t\\t};\\r\\n\\t\\tcfaction = \"\";\\r\\n\\t\\tcfaction_text = \"\";\\r\\n\\t\\tcfaddedto_text = (closeCFirm==1 || deletePCompare==1)?\"Item deleted from \":\" added to \";\\r\\n\\r\\n\\t\\tif(result.addtype=='0'){\\r\\n\\t\\t\\t\\tac_text=(isCOPage==1)?\"Proceed to Checkout\":\"Go to Cart\";\\r\\n\\t\\t\\t\\tac_href=(isCOPage==1)?\"https://one.mistobox.com/checkout/onepage/\":\"https://one.mistobox.com/checkout/cart/\";\\r\\n\\t\\t\\t\\tcfaction='<li><a id=\"btn_cfaction\" title=\"Checkout\" class=\"btn view-cart\" onclick=\"$(\\\\'confirmbox\\\\').innerHTML=\\\\'\\\\';$(\\\\'ajax_content\\\\').setStyle({display:\\\\'none\\\\'});$(\\\\'sns_ajaxwrap\\\\').setStyle({display:\\\\'none\\\\'});window.location=\\\\''+ac_href+'\\\\';\"  href=\"'+ac_href+'\">\\t<span>'+ac_text+'</span></a></li>';\\r\\n\\t\\t\\t\\tcfaction_text=\"your shopping cart.\";\\r\\n\\t\\t}else if(result.addtype=='1'){\\r\\n\\t\\t\\t\\tcfaction='<li><a id=\"btn_cfaction\" title=\"View Wish List\" class=\"btn view-wishlist\" onclick=\"$(\\\\'confirmbox\\\\').innerHTML=\\\\'\\\\';$(\\\\'ajax_content\\\\').setStyle({display:\\\\'none\\\\'});$(\\\\'sns_ajaxwrap\\\\').setStyle({display:\\\\'none\\\\'});window.location=\\\\'https://one.mistobox.com/wishlist/index/\\\\';\"  href=\"https://one.mistobox.com/wishlist/index/\">\\t<span>My Wishlist</span></a></li>';\\r\\n\\t\\t\\t\\tcfaction_text=\"your wishlist.\";\\r\\n\\t\\t}else if(result.addtype=='2'){\\r\\n\\t\\t\\t\\tstrPop=result.co_sb;\\r\\n\\t\\t\\t\\tac_href=strPop.substring(strPop.indexOf(\"popWin('\"),strPop.indexOf(\")\",strPop.indexOf(\"popWin('\"))+1);\\r\\n\\t\\t\\t\\tif(trim(ac_href)!=''){\\r\\n\\t\\t\\t\\t\\tcfaction = '<li><a id=\"btn_cfaction\" title=\"View Comparision\" class=\"btn view-compare\" href=\"javascript:void(\\\\'0\\\\')\" onclick=\"$(\\\\'confirmbox\\\\').innerHTML=\\\\'\\\\';$(\\\\'ajax_content\\\\').setStyle({display:\\\\'none\\\\'});$(\\\\'sns_ajaxwrap\\\\').setStyle({display:\\\\'none\\\\'});'+ac_href+'\">\\t<span>Compare</span></a></li>';\\r\\n\\t\\t\\t\\t}else{\\r\\n\\t\\t\\t\\t\\tcfaction = '';\\r\\n\\t\\t\\t\\t}\\r\\n\\t\\t\\t\\tcfaction_text=\"comparison list.\";\\r\\n\\t\\t}\\r\\n\\r\\n\\t\\tcfhead = '<span id=\"cout_down\">'+ time_cd +'s</span><p class=\"head-cfbox '+((result.addtype=='1' || result.addtype=='2')?'show':'')+'\"><span class=\"product-title\">'+result.pdname+'</span>'+cfaddedto_text+cfaction_text+'</p>';\\r\\n\\t\\tpdinfo= (typeof result.pdinfo !=\"undefined\")?result.pdinfo:\"\";\\r\\n\\t\\tconfirmcontent =\\tcfhead + ((typeof pdinfo.item !=\"undefined\" && pdinfo.item!=\"\" && show_product_in_confirm)?(pdinfo.item):\"\") + ((typeof pdinfo.other !=\"undefined\" && pdinfo.other!=\"\")?pdinfo.other:\"\") + '<div id=\"bottom-cfbox\"><ul>'+cfaction+'</ul></div>';\\r\\n\\r\\n\\t\\t$(\"confirmbox\").innerHTML=confirmcontent;\\r\\n\\t\\tsetTimeout(\"getCDown(time_cd)\",1000);\\r\\n\\t\\t$(\"ajax_content\").setStyle({display:\"block\"});\\r\\n\\t\\t$(\"sns_ajaxwrap\").setStyle({display:\"block\"});\\r\\n\\t\\tfixPosWrap();\\r\\n\\t\\tif(time_cd==0)\\r\\n\\t\\t\\tisCPPage=0;\\r\\n\\t}\\r\\n//]]>\\r\\n</script>\\n<script src=\"https://one.mistobox.com/skin/frontend/default/sns_korion/js/cloud-zoom.1.0.2.min.js\" type=\"text/javascript\"></script>\\n<script src=\"https://one.mistobox.com/skin/frontend/default/sns_korion/assets/prettyPhoto/js/jquery.prettyPhoto.js\" type=\"text/javascript\"></script>\\n<script src=\"https://one.mistobox.com/skin/frontend/default/sns_korion/js/sns-script.js\" type=\"text/javascript\"></script>\\n<script src=\"https://one.mistobox.com/skin/frontend/default/sns_korion/js/jquery.cookie.min.js\" type=\"text/javascript\"></script>\\n<script src=\"https://one.mistobox.com/skin/frontend/default/sns_korion/js/jquery.accordion_snyderplace.js\" type=\"text/javascript\"></script>\\n<script src=\"https://one.mistobox.com/skin/frontend/default/sns_korion/assets/plg_jqtransform/js/jquery.jqtransform.js\" type=\"text/javascript\"></script>\\n<script src=\"https://one.mistobox.com/skin/frontend/default/sns_korion/js/sns-cpanel.js\" type=\"text/javascript\"></script>\\n<script src=\"https://one.mistobox.com/skin/frontend/default/sns_korion/assets/minicolors/jquery.miniColors.min.js\" type=\"text/javascript\"></script>\\n<script src=\"https://one.mistobox.com/skin/frontend/default/sns_korion/assets/bootstrap/js/bootstrap.min.js\" type=\"text/javascript\"></script>\\n<script src=\"https://one.mistobox.com/skin/frontend/default/sns_korion/js/sns-extend.js\" type=\"text/javascript\"></script>\\n<script type=\"text/javascript\">\\r\\n//<![CDATA[\\r\\n\\tfunction isHandheldDevices() {\\r\\n\\t\\tvar check = false;\\r\\n\\t\\t(function(a){if(/(android|ipad|playbook|silk|bb\\\\d+|meego).+mobile|avantgo|bada\\\\/|blackberry|blazer|compal|elaine|fennec|hiptop|iemobile|ip(hone|od)|iris|kindle|lge |maemo|midp|mmp|netfront|opera m(ob|in)i|palm( os)?|phone|p(ixi|re)\\\\/|plucker|pocket|psp|series(4|6)0|symbian|treo|up\\\\.(browser|link)|vodafone|wap|windows (ce|phone)|xda|xiino/i.test(a)||/1207|6310|6590|3gso|4thp|50[1-6]i|770s|802s|a wa|abac|ac(er|oo|s\\\\-)|ai(ko|rn)|al(av|ca|co)|amoi|an(ex|ny|yw)|aptu|ar(ch|go)|as(te|us)|attw|au(di|\\\\-m|r |s )|avan|be(ck|ll|nq)|bi(lb|rd)|bl(ac|az)|br(e|v)w|bumb|bw\\\\-(n|u)|c55\\\\/|capi|ccwa|cdm\\\\-|cell|chtm|cldc|cmd\\\\-|co(mp|nd)|craw|da(it|ll|ng)|dbte|dc\\\\-s|devi|dica|dmob|do(c|p)o|ds(12|\\\\-d)|el(49|ai)|em(l2|ul)|er(ic|k0)|esl8|ez([4-7]0|os|wa|ze)|fetc|fly(\\\\-|_)|g1 u|g560|gene|gf\\\\-5|g\\\\-mo|go(\\\\.w|od)|gr(ad|un)|haie|hcit|hd\\\\-(m|p|t)|hei\\\\-|hi(pt|ta)|hp( i|ip)|hs\\\\-c|ht(c(\\\\-| |_|a|g|p|s|t)|tp)|hu(aw|tc)|i\\\\-(20|go|ma)|i230|iac( |\\\\-|\\\\/)|ibro|idea|ig01|ikom|im1k|inno|ipaq|iris|ja(t|v)a|jbro|jemu|jigs|kddi|keji|kgt( |\\\\/)|klon|kpt |kwc\\\\-|kyo(c|k)|le(no|xi)|lg( g|\\\\/(k|l|u)|50|54|\\\\-[a-w])|libw|lynx|m1\\\\-w|m3ga|m50\\\\/|ma(te|ui|xo)|mc(01|21|ca)|m\\\\-cr|me(rc|ri)|mi(o8|oa|ts)|mmef|mo(01|02|bi|de|do|t(\\\\-| |o|v)|zz)|mt(50|p1|v )|mwbp|mywa|n10[0-2]|n20[2-3]|n30(0|2)|n50(0|2|5)|n7(0(0|1)|10)|ne((c|m)\\\\-|on|tf|wf|wg|wt)|nok(6|i)|nzph|o2im|op(ti|wv)|oran|owg1|p800|pan(a|d|t)|pdxg|pg(13|\\\\-([1-8]|c))|phil|pire|pl(ay|uc)|pn\\\\-2|po(ck|rt|se)|prox|psio|pt\\\\-g|qa\\\\-a|qc(07|12|21|32|60|\\\\-[2-7]|i\\\\-)|qtek|r380|r600|raks|rim9|ro(ve|zo)|s55\\\\/|sa(ge|ma|mm|ms|ny|va)|sc(01|h\\\\-|oo|p\\\\-)|sdk\\\\/|se(c(\\\\-|0|1)|47|mc|nd|ri)|sgh\\\\-|shar|sie(\\\\-|m)|sk\\\\-0|sl(45|id)|sm(al|ar|b3|it|t5)|so(ft|ny)|sp(01|h\\\\-|v\\\\-|v )|sy(01|mb)|t2(18|50)|t6(00|10|18)|ta(gt|lk)|tcl\\\\-|tdg\\\\-|tel(i|m)|tim\\\\-|t\\\\-mo|to(pl|sh)|ts(70|m\\\\-|m3|m5)|tx\\\\-9|up(\\\\.b|g1|si)|utst|v400|v750|veri|vi(rg|te)|vk(40|5[0-3]|\\\\-v)|vm40|voda|vulc|vx(52|53|60|61|70|80|81|83|85|98)|w3c(\\\\-| )|webc|whit|wi(g |nc|nw)|wmlb|wonu|x700|yas\\\\-|your|zeto|zte\\\\-/i.test(a.substr(0,4)))check = true})(navigator.userAgent||navigator.vendor||window.opera);\\r\\n\\t\\treturn check;\\r\\n\\t}\\r\\n\\tvar SKIN_URL = 'https://one.mistobox.com/skin/frontend/default/sns_korion';\\r\\n\\tvar TMPL_NAME = 'sns_korion';\\r\\n\\tvar TMPL_COOKIE = [\"fontSize\",\"fontFamily\",\"themeColor\",\"useSnowFall\",\"menuStyles\",\"keepMenu\",\"bodyBgColor\",\"bodyTextColor\"];\\r\\n\\tvar KEEP_MENU = 0;\\r\\n\\tvar IS_HANDHELD = isHandheldDevices();\\r\\n//]]>\\r\\n</script>\\n<script async=\"\" src=\"//my.hellobar.com/39e75ea2f7e540d925a80a34f3aff030726a5c0a.js\" type=\"text/javascript\"></script>\\n<script src=\"https://cdn.optimizely.com/js/87351589.js\"></script>\\n<script>(function(w,d,t,r,u){var f,n,i;w[u]=w[u]||[],f=function(){var o={ti:\"5613027\"};o.q=w[u],w[u]=new UET(o),w[u].push(\"pageLoad\")},n=d.createElement(t),n.src=r,n.async=1,n.onload=n.onreadystatechange=function(){var s=this.readyState;s&&s!==\"loaded\"&&s!==\"complete\"||(f(),n.onload=n.onreadystatechange=null)},i=d.getElementsByTagName(t)[0],i.parentNode.insertBefore(n,i)})(window,document,\"script\",\"//bat.bing.com/bat.js\",\"uetq\");</script><noscript><img height=\"0\" src=\"//bat.bing.com/action/0?ti=5613027&amp;Ver=2\" style=\"display:none; visibility: hidden;\" width=\"0\"/></noscript>\\n<script>(function() {\\r\\n  var _fbq = window._fbq || (window._fbq = []);\\r\\n  if (!_fbq.loaded) {\\r\\n    var fbds = document.createElement('script');\\r\\n    fbds.async = true;\\r\\n    fbds.src = '//connect.facebook.net/en_US/fbds.js';\\r\\n    var s = document.getElementsByTagName('script')[0];\\r\\n    s.parentNode.insertBefore(fbds, s);\\r\\n    _fbq.loaded = true;\\r\\n  }\\r\\n  _fbq.push(['addPixelId', '533138313456097']);\\r\\n})();\\r\\nwindow._fbq = window._fbq || [];\\r\\nwindow._fbq.push(['track', 'PixelInitialized', {}]);\\r\\n</script>\\n<noscript><img alt=\"\" height=\"1\" src=\"https://www.facebook.com/tr?id=533138313456097&amp;ev=PixelInitialized\" style=\"display:none\" width=\"1\"/></noscript>\\n</head>\\n<body class=\"sns_one_column sns_korion shop-index-index no-breadcrumbs use-bgoverlay\" id=\"bd\">\\n<div class=\"sticky_footer_wrapper\">\\n<section id=\"sns_wrapper\">\\n<!-- <div class=\"black_friday_deal_header\" id=\"sharktank\" style=\" color: #FFF; letter-spacing: .04em; font-size:13px; font-weight: normal; font-family: 'museo-sans'\">\\r\\n\\t \\t<div class=\"deal_header_text\">\\r\\n\\t\\t\\t<div class=\"sharktank_link\">\\r\\n\\t\\t\\t\\t<div class=\"span12\" style=\"position: relative; top: 2px; color: #8e6b54; display: inline-block;\"> \\r\\n\\r\\n\\t\\t\\t\\t\\t<div class=\"span3\" style=\"margin-left: 0;\">\\r\\n\\t\\t\\t\\t\\t\\t<div class=\"promotion_name\">Black Friday Offers</div>\\r\\n\\t\\t\\t\\t\\t</div>\\r\\n\\t\\t\\t\\t\\t\\r\\n\\t\\t\\t\\t\\t<div class=\"span6\">\\r\\n\\t\\t\\t\\t\\t\\t<div class=\"promotion_option\">\\r\\n\\t\\t\\t\\t\\t\\t\\t<div class=\"discount\">$3 off</div>\\r\\n\\t\\t\\t\\t\\t\\t\\t<div class=\"condition\">3 month gifts</div>\\r\\n\\t\\t\\t\\t\\t\\t</div>\\r\\n\\t\\t\\t\\t\\t\\t<div class=\"promotion_option\">\\r\\n\\t\\t\\t\\t\\t\\t\\t<div class=\"discount\">$6 off</div>\\r\\n\\t\\t\\t\\t\\t\\t\\t<div class=\"condition\">6 month gifts</div>\\r\\n\\t\\t\\t\\t\\t\\t</div>\\r\\n\\t\\t\\t\\t\\t\\t<div class=\"promotion_option\">\\r\\n\\t\\t\\t\\t\\t\\t\\t<div class=\"discount\">$12 off</div>\\r\\n\\t\\t\\t\\t\\t\\t\\t<div class=\"condition\">12 month gifts</div>\\r\\n\\t\\t\\t\\t\\t\\t</div>\\r\\n\\t\\t\\t\\t\\t</div>\\r\\n\\r\\n\\t\\t\\t\\t\\t<div class=\"span3 actions\">\\r\\n\\t\\t\\t\\t\\t\\t<a href=\"/gift\"> <div class=\"white-button quiz_button\">Give A Gift</div></a>\\r\\n\\t\\t\\t\\t\\t\\t<div class=\"code small_sreen_hide\">code: BLACKCOFFEE</div>\\r\\n\\t\\t\\t\\t\\t</div>\\r\\n\\r\\n\\t\\t\\t\\t</div>\\r\\n\\t\\t\\t</div>\\r\\n\\t </div>\\r\\n</div>\\r\\n<div class=\"black_friday_deal_spacer\"></div> -->\\n<!-- <div class=\"black_friday_deal_header\" id=\"sharktank\" style=\"background: #84403a; min-height: 50px; color: #FFF; letter-spacing: .04em; font-size:13px; font-weight: normal; font-family: 'museo-sans'\">\\r\\n\\t \\t<div class=\"deal_header_text\" style=\"color: #fff\">\\r\\n\\t\\t\\t<div class=\"sharktank_link row-fluid\"  style=\"color: #fff\">\\r\\n\\t\\t\\t\\r\\n\\t\\t\\t\\t<span style=\"color: #FFF; margin-top: 3px; display: inline-block;\"> It's not too late! Schedule holiday delivery with email and print options. </span> <a href=\"/gift\"> <div class=\"white-button quiz_button\" style=\"border: 1px solid #ffffff; color: #84403a; background: #ffffff;  border-radius: 1px; font-size: 10px; text-transform: uppercase; font-weight: normal;  letter-spacing: .05em;  line-height: 24px;\">Give A Gift</div></a> -->\\n<!-- <div class=\"white-button quiz_button subscription_hide\" style=\"border: 1px solid #5f828d; color: #fff; background: #5f828d;  border-radius: 1px; font-size: 10px; text-transform: uppercase; font-weight: normal; letter-spacing: .05em; margin: 0 10px;  line-height: 24px;\">Subscribe</div></a> -->\\n<!-- <span style=\"color: #5f828d; margin-left: 5px;\" class=\"gift_code\" >Code: BLACKCOFFEE</span> \\t<a href=\"/gift\">\\r\\n\\t\\t\\t\\t<div class=\"white-button gift_button subscription_hide small_screen_hide\" style=\"border: 1px solid #5f828d; color: #fff; background: #5f828d;  border-radius: 1px; font-size: 10px; text-transform: uppercase; font-weight: normal; margin: 0 10px; letter-spacing: .05em;  line-height: 24px;\">Give a gift</div></a> -->\\n<!-- <a class=\"underline_link\" href=\"/gift\">Get Started</a>  -->\\n<!-- <a href=\"/quiz\"> <div class=\"white-button quiz_button subscription_hide\" style=\"border: 1px solid #8e6b54; color: #fff; background: #8e6b54;  border-radius: 1px; font-size: 10px; text-transform: uppercase; font-weight: normal;  letter-spacing: .05em;  line-height: 24px;\">Get Started</div></a> -->\\n<!-- <a href=\"/gift\"> <div class=\"white-button quiz_button\" style=\"border: 1px solid #ffffff; color: #5f828d; background: #ffffff;  border-radius: 1px; font-size: 10px; text-transform: uppercase; font-weight: normal;  letter-spacing: .05em;  line-height: 24px;\">Give A Gift</div></a>\\r\\n\\t\\t\\t\\r\\n\\t\\t\\t\\r\\n\\r\\n\\t\\t\\t\\t<a href=\"/gear-merch\"> <div class=\"white-button gift_button\" style=\"border: 1px solid #FFF; color: #FFF; border-radius: 50px; font-size: 9px; font-weight: normal; letter-spacing: .15em;  line-height: 22px;\">  Brew Gear </div> </a>\\r\\n\\r\\n\\t\\t\\t\\t\\t<a href=\"/gear-merch\"> <div class=\"white-button gift_button\" style=\"border: 1px solid #f9e6dd; color: #983b33; background: #f9e6dd;  border-radius: 1px; font-size: 10px; text-transform: uppercase; font-weight: normal; letter-spacing: .05em;  line-height: 24px;\">  Brew Gear </div> </a>  -->\\n<!-- \\r\\n\\t\\t\\t</div>\\r\\n\\t </div>\\r\\n</div>\\r\\n<div class=\"black_friday_deal_spacer\"></div> -->\\n<div class=\"expired_gift_header\" id=\"expired-gift-header\">\\n</div>\\n<div class=\"gift_card_header_spacer gift_card_show\"></div>\\n<div class=\"wrap small_screen_hide\" id=\"sns_topheader\">\\n<div class=\"container span12\">\\n<div class=\"row-fluid span12\">\\n<div class=\"topheader-left span3\">\\n<!-- BEGIN: Logo -->\\n<div class=\"span12\" id=\"logo\">\\n<a href=\"https://one.mistobox.com/\" title=\"MistoBox\">\\n<img alt=\"MistoBox\" src=\"https://one.mistobox.com/skin/frontend/default/sns_korion/images/logo.gif\"/>\\n</a>\\n</div>\\n<div class=\"one_logo\">\\n<img src=\"/skin/frontend/default/sns_korion/images/mbox/logos/mistobox_one_long.png\"/>\\n</div>\\n<!-- END: Logo -->\\n<div class=\"sns-switch\">\\n<div class=\"switch-inner\">\\n</div>\\n</div>\\n</div>\\n<div class=\"topheader-right span9\">\\n<div class=\"topheader-right-inner\">\\n<div class=\"sns-quickaccess\">\\n<div class=\"quickaccess-inner\">\\n<ul class=\"links\">\\n<div class=\"clearfix small_screen_show\"><li class=\"mobile_menu subscribe\"><a href=\"/quiz\">Subscribe</a></li><li class=\"mobile_menu shop\"><a href=\"/shop\">Shop</a></li><li class=\"mobile_menu gift\"><a href=\"/gift\">Give a Gift</a></li><li class=\"mobile_menu redeem\"><a href=\"/claim\">Redeem Gift</a></li></div>\\n<li class=\"first\"><a href=\"https://one.mistobox.com/quiz/\" title=\"quiz\">Coffee Subscriptions</a></li>\\n<li class=\"gift_link\"><a href=\"https://one.mistobox.com/gift/\" title=\"Gift\"> Coffee Gifts</a></li>\\n<li class=\"shop_menu\">\\n<div class=\"dropdown\">\\n<a class=\"dropdown-toggle\" data-toggle=\"dropdown\" href=\"javascript:void(0);\" id=\"dropdownMenu1\">\\n      Shop\\n      <span class=\"caret\"></span>\\n</a>\\n<ul aria-labelledby=\"dropdownMenu1\" class=\"dropdown-menu\" role=\"menu\">\\n<li style=\"display:block;\"><a href=\"/shopp\" role=\"menuitem\" tabindex=\"-1\">Coffee</a></li>\\n<li style=\"display:block;\"><a href=\"/gear-merch\" role=\"menuitem\" tabindex=\"-1\">Brew Gear &amp; Merch</a></li>\\n<li style=\"display:block;\"><a href=\"/roasters\" role=\"menuitem\" tabindex=\"-1\">Coffee Roasters</a></li>\\n</ul>\\n</div>\\n</li>\\n<li class=\"shop_menu\">\\n<div class=\"dropdown\">\\n<a class=\"dropdown-toggle\" data-toggle=\"dropdown\" href=\"javascript:void(0);\" id=\"dropdownMenu1\">\\n      Learn\\n      <span class=\"caret\"></span>\\n</a>\\n<ul aria-labelledby=\"dropdownMenu1\" class=\"dropdown-menu\" role=\"menu\">\\n<li style=\"display:block;\"><a href=\"/brew-guides\" role=\"menuitem\" tabindex=\"-1\">Brew Guides</a></li>\\n<li style=\"display:block;\"><a href=\"http://blog.mistobox.com\" role=\"menuitem\" tabindex=\"-1\" target=\"_blank\">Blog</a></li>\\n</ul>\\n</div>\\n</li>\\n<li class=\"how_link\"><a href=\"https://one.mistobox.com/howitworks/\" title=\"how it works\">How It Works</a></li>\\n<li class=\"corp_gifts\"><a href=\"https://mistobox.typeform.com/to/O8ZJYQ\" target=\"_blank\" title=\"corporate\">Corporate Gifts</a></li>\\n<li class=\"redeem_link\"><a href=\"https://one.mistobox.com/gift/claim/\" title=\"redeem\">Redeem A Gift</a></li>\\n<li class=\" last\"><a href=\"https://one.mistobox.com/customer/account/login/\" title=\"Sign In\">Sign In</a></li>\\n<div class=\"small_screen_show logged_in\">\\n</div>\\n<!--     <li style=\"display:block;\"><a role=\"menuitem\" tabindex=\"-1\" href=\"/dashboard\">In Your Cup</a></li>\\r\\n      <li style=\"display:block;\"><a role=\"menuitem\" tabindex=\"-1\" href=\"/dashboard/history\">Coffee History</a></li>\\r\\n      <li style=\"display:block;\"><a role=\"menuitem\" tabindex=\"-1\" href=\"/dashboard/profile\">Profile</a></li>\\r\\n      <li style=\"display:block;\"><a role=\"menuitem\" tabindex=\"-1\" href=\"/dashboard/gift\">Gift History</a></li>\\r\\n      <li style=\"display:block;\"><a role=\"menuitem\" tabindex=\"-1\" href=\"/dashboard/subscription\">Subscriptions</a></li>\\r\\n      <li style=\"display:block;\"><a role=\"menuitem\" tabindex=\"-1\" href=\"https://mistobox.zendesk.com/hc/en-us\" target=\"_blank\">Support</a></li> -->\\n</ul>\\n<div class=\"modal fade\" id=\"modal_login\" style=\"display:none\">\\n<div class=\"modal-dialog\">\\n<div class=\"modal-content\">\\n<div class=\"modal-header block\">\\n<button aria-hidden=\"true\" class=\"close\" data-dismiss=\"modal\" type=\"button\">\\xd7</button>\\n<div class=\"block-title modal-title\">\\r\\n\\t\\t\\t\\t\\t\\t\\t\\t\\t\\t\\t\\t\\tSign In\\t\\t\\t\\t\\t\\t\\t\\t\\t\\t\\t\\t</div>\\n</div>\\n<div class=\"modal-body\">\\n<form action=\"/mcust/index/ajaxLogin\" id=\"topLinkLoginForm\" method=\"post\">\\n<input name=\"form_key\" type=\"hidden\" value=\"0jOXPQyXoZ0MZKX2\"/>\\n<div class=\"block-content row-fluid\">\\n<div id=\"login-container\">\\n<div class=\"span12\">\\n<label for=\"mini-login\">Email</label><input class=\"input-text\" id=\"mini-login\" name=\"login[username]\" type=\"text\"/>\\n<label for=\"mini-password\">Password</label><input class=\"input-text\" id=\"mini-password\" name=\"login[password]\" type=\"password\"/>\\n</div>\\n<span class=\"error\"></span>\\n<div class=\"login-links span12\">\\n<div class=\"actions\">\\n<button class=\"button\" type=\"submit\"><span><span>Sign In</span></span></button>\\n</div>\\n<ul>\\n<li><a href=\"https://one.mistobox.com/customer/account/forgotpassword/\" target=\"_forgotpassword\">Forgot Your Password?</a></li>\\n<!--   <li>\\r\\n              <a aria-hidden=\"true\" data-dismiss=\"modal\" data-toggle=\"modal\" href=\"#modal_regis\" title=\"Register\">Create an account.</a>\\r\\n            </li> -->\\n</ul>\\n</div>\\n<!--         <div class=\"h2-break span12\">\\r\\n          <hr>\\r\\n          <span> OR </span>\\r\\n        </div> -->\\n</div>\\n</div>\\n<!--     <div class=\"facebook-connect\">\\r\\n      Connect With Facebook\\r\\n    </div> -->\\n<script type=\"text/javascript\">\\r\\n      $sns_jq(function() {\\r\\n        // bind 'myForm' and provide a simple callback function\\r\\n        var errorSpan = $sns_jq('#topLinkLoginForm span.error');\\r\\n        $sns_jq('#topLinkLoginForm').ajaxForm(function(result) {\\r\\n          if (!result) {\\r\\n            errorSpan.text('Login Error');\\r\\n          } else {\\r\\n            if (result.success) {\\r\\n              $sns_jq('.sns-quickaccess li.login').html(result.data.replaceHtml);\\r\\n\\r\\n              if (window.location.pathname === '/' ||\\r\\n                  window.location.pathname === '/index.php/') {\\r\\n                window.location.reload();\\r\\n              } else {\\r\\n                if (window._MB && window._MB.setIsLoggedIn) {\\r\\n                  window._MB.setIsLoggedIn();\\r\\n                }\\r\\n                $sns_jq('#modal_login').modal('hide');\\r\\n              }\\r\\n            } else {\\r\\n              if (result.error === 'bad request') {\\r\\n                window.location.reload();\\r\\n              }\\r\\n              errorSpan.text(result.error);\\r\\n            }\\r\\n          }\\r\\n        });\\r\\n      });\\r\\n\\r\\n    </script>\\n</form>\\n</div>\\n</div>\\n<!-- /.modal-content -->\\n</div>\\n<!-- /.modal-dialog -->\\n</div>\\n<!-- /.modal -->\\n<div class=\"modal fade\" id=\"modal_regis\" style=\"display:none\">\\n<div class=\"modal-dialog\">\\n<div class=\"modal-content\">\\n<div class=\"modal-header block\">\\n<button aria-hidden=\"true\" class=\"close\" data-dismiss=\"modal\" type=\"button\">\\xd7</button>\\n<div class=\"block-title modal-title\">\\r\\n\\t\\t\\t\\t\\t\\t\\t\\t\\t\\t\\t\\t\\tRegister\\t\\t\\t\\t\\t\\t\\t\\t\\t\\t\\t\\t</div>\\n</div>\\n<div class=\"modal-body\">\\n<div class=\"account-create row-fluid\">\\n<!-- -->\\n<form action=\"https://one.mistobox.com/customer/account/createpost/\" id=\"form-validate\" method=\"post\">\\n<div class=\"span12\">\\n<div class=\"fieldset\">\\n<input name=\"success_url\" type=\"hidden\" value=\"\"/>\\n<input name=\"error_url\" type=\"hidden\" value=\"\"/>\\n<!--      <h5 class=\"legend\">Register</h5> -->\\n<ul class=\"form-list\">\\n<li class=\"fields\">\\n<div class=\"customer-name row-fluid\">\\n<div class=\"name-firstname span6\">\\n<label class=\"required\" for=\"firstname\">First Name</label>\\n<div class=\"input-box\">\\n<input class=\"input-text required-entry\" id=\"firstname\" maxlength=\"255\" name=\"firstname\" title=\"First Name\" type=\"text\" value=\"\"/>\\n</div>\\n</div>\\n<div class=\"name-lastname span6\">\\n<label class=\"required\" for=\"lastname\">Last Name</label>\\n<div class=\"input-box\">\\n<input class=\"input-text required-entry\" id=\"lastname\" maxlength=\"255\" name=\"lastname\" title=\"Last Name\" type=\"text\" value=\"\"/>\\n</div>\\n</div>\\n</div>\\n<!--   <div class=\"customer-name\">\\n    <div class=\"span6 name-firstname\">\\n      \\n        <div class=\"input-box\">\\n            <input type=\"text\" placeholder=\"First Name\" id=\"firstname\" name=\"firstname\" value=\"\" title=\"First Name\" maxlength=\"255\" class=\"input-text required-entry\"  />\\n        </div>\\n    </div>\\n    <div class=\"span6 name-lastname\">\\n    \\n        <div class=\"input-box\">\\n            <input type=\"text\" placeholder=\"Last Name\" id=\"lastname\" name=\"lastname\" value=\"\" title=\"Last Name\" maxlength=\"255\" class=\"input-text required-entry\"  />\\n        </div>\\n    </div>\\n</div>\\n -->\\n</li>\\n<li>\\n<label class=\"required\" for=\"email_address\">Email Address</label>\\n<div class=\"input-box span12\">\\n<input class=\"input-text validate-email required-entry span12\" id=\"email_address\" name=\"email\" title=\"Email Address\" type=\"text\" value=\"\"/>\\n</div>\\n</li>\\n<!--                                 <li class=\"control\">\\r\\n                    <div class=\"input-box\">\\r\\n                        <input type=\"checkbox\" name=\"is_subscribed\" title=\"Sign Up for Newsletter\" value=\"1\" id=\"is_subscribed\" class=\"checkbox\" />\\r\\n                    </div>\\r\\n                    <label for=\"is_subscribed\">Sign Up for Newsletter</label>\\r\\n                                                        </li>\\r\\n                 -->\\n<!-- -->\\n</ul>\\n</div>\\n</div>\\n<div class=\"span12\">\\n<div class=\"fieldset\">\\n<ul class=\"form-list\">\\n<li class=\"fields\">\\n<div class=\"row-fluid\">\\n<div class=\" span6\">\\n<label class=\"required\" for=\"password\">Password</label>\\n<div class=\"input-box\">\\n<input class=\"input-text required-entry validate-password\" id=\"password\" name=\"password\" title=\"Password\" type=\"password\"/>\\n</div>\\n</div>\\n<div class=\" span6\">\\n<label class=\"required\" for=\"confirmation\">Confirm Password</label>\\n<div class=\"input-box\">\\n<input class=\"input-text required-entry validate-cpassword\" id=\"confirmation\" name=\"confirmation\" title=\"Confirm Password\" type=\"password\"/>\\n</div>\\n</div>\\n</div>\\n</li>\\n<!-- -->\\n</ul>\\n</div>\\n</div>\\n<input name=\"utm_medium\" type=\"hidden\" value=\"\"/>\\n<input name=\"utm_source\" type=\"hidden\" value=\"\"/>\\n<input name=\"utm_campaign\" type=\"hidden\" value=\"\"/>\\n<div class=\"row-fluid\">\\n<div class=\"buttons-set span12\">\\n<!--           <p class=\"required\">* Required Fields</p> -->\\n<a aria-hidden=\"true\" class=\" align_left\" data-dismiss=\"modal\" data-toggle=\"modal\" href=\"#modal_login\">Back to sign-in</a>\\n<button class=\" align_right button register\" title=\"Register\" type=\"submit\"><span><span>Register</span></span></button>\\n</div>\\n</div>\\n</form>\\n<script type=\"text/javascript\">\\r\\n    //<![CDATA[\\r\\n        var dataForm = new VarienForm('form-validate', true);\\r\\n                $sns_jq(function() {\\r\\n          if (typeof mixpanel !== 'undefined') {\\r\\n            var checkInterval = setInterval(function() {\\r\\n              if (mixpanel.__loaded) {\\r\\n                clearInterval(checkInterval);\\r\\n                var mp_props = ((mixpanel.cookie || {}).props || {});\\r\\n                $sns_jq('input[name=utm_medium]').val(mp_props.utm_medium);\\r\\n                $sns_jq('input[name=utm_source]').val(mp_props.utm_source);\\r\\n                $sns_jq('input[name=utm_campaign]').val(mp_props.utm_campaign);\\r\\n              }\\r\\n            }, 200);\\r\\n\\r\\n          }\\r\\n        });\\r\\n    //]]>\\r\\n    </script>\\n</div>\\n</div>\\n</div>\\n<!-- /.modal-content -->\\n</div>\\n<!-- /.modal-dialog -->\\n</div>\\n<!-- /.modal -->\\n<script type=\"text/javascript\">\\r\\n\\t\\t\\t\\t\\t\\t\\t\\t\\t$sns_jq(document).ready(function ($) {\\r\\n\\t\\t\\t\\t\\t\\t\\t\\t\\t\\t$('.topheader-right ul.links li').each(function () {\\r\\n\\t\\t\\t\\t\\t\\t\\t\\t\\t\\t\\thref = String($(this).find('a').attr('href'));\\r\\n\\t\\t\\t\\t\\t\\t\\t\\t\\t\\t\\tif (href.search('customer/account/login') != -1) {\\r\\n\\t\\t\\t\\t\\t\\t\\t\\t\\t\\t\\t\\t$(this).addClass('login'); $(this).removeClass('last');\\r\\n\\t\\t\\t\\t\\t\\t\\t\\t\\t\\t\\t\\t$(this).find('a').attr('data-toggle', 'modal');\\r\\n\\t\\t\\t\\t\\t\\t\\t\\t\\t\\t\\t\\t$(this).find('a').attr('href', '#modal_login');\\r\\n\\t\\t\\t\\t\\t\\t\\t\\t\\t\\t\\t}\\r\\n\\t\\t\\t\\t\\t\\t\\t\\t\\t\\t});\\r\\n\\t\\t\\t\\t\\t\\t\\t\\t\\t});\\r\\n\\t\\t\\t\\t\\t\\t\\t\\t</script>\\n</div>\\n</div>\\n<script type=\"text/javascript\">\\n//<![CDATA[\\n \\tminicart = new miniCartForm('minicart-form_uq5a71278c90f5d', '', 'https://one.mistobox.com/checkout/cart/updatePost/');\\n//]]>\\n</script>\\n<div class=\"block mini-cart sns-ajaxcart\">\\n<div class=\"block-title\">\\n<div class=\"cart-status\">\\n<span class=\"label\">Cart:</span>\\n</div>\\n</div>\\n</div>\\n<script type=\"text/javascript\">\\n//<![CDATA[\\nif(!IS_HANDHELD){\\n\\n}else{\\n\\t$sns_jq('.mini-cart').addClass('handheld');\\n}\\n//]]>\\n</script>\\n</div>\\n</div>\\n</div>\\n</div>\\n</div>\\n<div class=\"small_screen_show mobile_header_spacer\"></div>\\n<div class=\"wrap small_screen_show mobile_header mistobox_mobile_header\" id=\"sns_topheader\">\\n<div class=\"container span12\">\\n<div class=\"row-fluid span12\">\\n<div class=\"left\">\\n<div class=\"section one\">\\n<!-- Filters Nav\\t -->\\n<div class=\"nav_filter filters\" style=\"display:none;\">\\n<!-- Opens filters side nav -->\\n<div class=\"filter\">\\n<img class=\"filter\" src=\"/skin/frontend/default/sns_korion/images/mbox/icons/nav_filter.png\"/>\\n<span class=\"filter_subtotal\">0</span>\\n<div class=\"nav_label\">\\n<div class=\"center\">\\r\\n\\t\\t\\t\\t\\t\\t\\t\\t\\t\\tFilters\\r\\n\\t\\t\\t\\t\\t\\t\\t\\t\\t</div>\\n</div>\\n</div>\\n<!-- Closes filters side nav -->\\n<div class=\"exit\" style=\"display:none;\">\\n<img class=\"exit\" src=\"/skin/frontend/default/sns_korion/images/mbox/icons/close_icon.png\"/>\\n<div class=\"nav_label\">\\n<div class=\"center\">\\r\\n\\t\\t\\t\\t\\t\\t\\t\\t\\t\\tFilters\\r\\n\\t\\t\\t\\t\\t\\t\\t\\t\\t</div>\\n</div>\\n</div>\\n<!-- Applies filters and closes side nav -->\\n<div class=\"go\" style=\"display:none;\">\\n<img class=\"go\" src=\"/skin/frontend/default/sns_korion/images/mbox/icons/nav_go.png\"/>\\n<div class=\"nav_label\">\\n<div class=\"center\">\\r\\n\\t\\t\\t\\t\\t\\t\\t\\t\\t\\tApply\\r\\n\\t\\t\\t\\t\\t\\t\\t\\t\\t</div>\\n</div>\\n</div>\\n</div>\\n<!-- Subscribe Nav  -->\\n<a class=\"subscribe_one\" href=\"/quiz\" style=\"display:none;\">\\n<div class=\"nav_filter\">\\n<img class=\"subscribe\" src=\"/skin/frontend/default/sns_korion/images/mbox/icons/nav_subscribe.png\"/>\\n<div class=\"nav_label\">\\n<div class=\"center\">\\r\\n\\t\\t\\t\\t\\t\\t\\t\\t\\t\\tSubscribe\\r\\n\\t\\t\\t\\t\\t\\t\\t\\t\\t</div>\\n</div>\\n</div>\\n</a>\\n<!-- Dashboard Nav  -->\\n<a class=\"dashboard_one\" href=\"/dashboard\" style=\"display:none;\">\\n<div class=\"nav_filter\">\\n<img class=\"dashboard\" src=\"/skin/frontend/default/sns_korion/images/mbox/icons/nav_dashboard.png\"/>\\n<div class=\"nav_label\">\\n<div class=\"center\">\\r\\n\\t\\t\\t\\t\\t\\t\\t\\t\\t\\tHome\\r\\n\\t\\t\\t\\t\\t\\t\\t\\t\\t</div>\\n</div>\\n</div>\\n</a>\\n<!-- Browse Nav -->\\n<a class=\"browse\" href=\"/shop\" style=\"display: none;\">\\n<div class=\"nav_filter\">\\n<img class=\"browse\" src=\"/skin/frontend/default/sns_korion/images/mbox/icons/nav_browse.png\"/>\\n<div class=\"nav_label\">\\n<div class=\"center\">\\r\\n\\t\\t\\t\\t\\t\\t\\t\\t\\t\\tBrowse\\r\\n\\t\\t\\t\\t\\t\\t\\t\\t\\t</div>\\n</div>\\n</div>\\n</a>\\n</div>\\n<div class=\"section two\">\\n<!-- Next Nav  -->\\n<div class=\"nav_next\" style=\"display:none;\">\\n<img class=\"next\" src=\"/skin/frontend/default/sns_korion/images/mbox/icons/nav_next.png\"/>\\n<span class=\"next_subtotal\">0</span>\\n<div class=\"nav_label\">\\n<div class=\"center\">\\r\\n\\t\\t\\t\\t\\t\\t\\t\\t\\tNext\\r\\n\\t\\t\\t\\t\\t\\t\\t\\t</div>\\n</div>\\n</div>\\n<!-- Dashboard Nav  -->\\n<a class=\"dashboard_two\" href=\"/dashboard\" style=\"display:none;\">\\n<div class=\"nav_filter\">\\n<img class=\"dashboard\" src=\"/skin/frontend/default/sns_korion/images/mbox/icons/nav_dashboard.png\"/>\\n<div class=\"nav_label\">\\n<div class=\"center\">\\r\\n\\t\\t\\t\\t\\t\\t\\t\\t\\t\\tDashboard\\r\\n\\t\\t\\t\\t\\t\\t\\t\\t\\t</div>\\n</div>\\n</div>\\n</a>\\n<!-- Subscribe Two Nav  -->\\n<a class=\"subscribe_two\" href=\"/quiz\" style=\"display:none;\">\\n<div class=\"nav_filter\">\\n<img class=\"subscribe\" src=\"/skin/frontend/default/sns_korion/images/mbox/icons/nav_subscribe.png\"/>\\n<div class=\"nav_label\">\\n<div class=\"center\">\\r\\n\\t\\t\\t\\t\\t\\t\\t\\t\\t\\tSubscribe\\r\\n\\t\\t\\t\\t\\t\\t\\t\\t\\t</div>\\n</div>\\n</div>\\n</a>\\n<!-- Sign in/dashboard 2 Nav  -->\\n<a class=\"sign_in\" href=\"/dashboard\" style=\"display:none;\">\\n<div class=\"nav_filter\">\\n<img class=\"dashboard\" src=\"/skin/frontend/default/sns_korion/images/mbox/icons/dashboard_summary.png\"/>\\n<div class=\"nav_label\">\\n<div class=\"center\">\\r\\n\\t\\t\\t\\t\\t\\t\\t\\t\\t\\tSign In\\r\\n\\t\\t\\t\\t\\t\\t\\t\\t\\t</div>\\n</div>\\n</div>\\n</a>\\n<!-- Shop/browse Two Nav  -->\\n<a class=\"shop\" href=\"/shop\" style=\"display: none;\">\\n<div class=\"nav_filter\">\\n<img class=\"browse\" src=\"/skin/frontend/default/sns_korion/images/mbox/icons/nav_bean.png\"/>\\n<div class=\"nav_label\">\\n<div class=\"center\">\\r\\n\\t\\t\\t\\t\\t\\t\\t\\t\\t\\tShop\\r\\n\\t\\t\\t\\t\\t\\t\\t\\t\\t</div>\\n</div>\\n</div>\\n</a>\\n</div>\\n</div>\\n<!-- left -->\\n<div class=\"center logo\">\\n<div class=\"span12\" id=\"logo\">\\n<a href=\"https://one.mistobox.com/\" title=\"MistoBox\">\\n<img alt=\"MistoBox\" src=\"https://one.mistobox.com/skin/frontend/default/sns_korion/images/logo.gif\"/>\\n</a>\\n</div>\\n</div>\\n<div class=\"right clearfix\">\\n<div class=\"section three\">\\n<script type=\"text/javascript\">\\n//<![CDATA[\\n \\tminicart = new miniCartForm('minicart-form_uq5a71278c90f5d', '', 'https://one.mistobox.com/checkout/cart/updatePost/');\\n//]]>\\n</script>\\n<div class=\"block mini-cart sns-ajaxcart\">\\n<div class=\"block-title\">\\n<div class=\"cart-status\">\\n<span class=\"label\">Cart:</span>\\n</div>\\n</div>\\n</div>\\n<script type=\"text/javascript\">\\n//<![CDATA[\\nif(!IS_HANDHELD){\\n\\n}else{\\n\\t$sns_jq('.mini-cart').addClass('handheld');\\n}\\n//]]>\\n</script>\\n<div class=\"nav_label\">\\n<div class=\"center\">\\r\\n\\t\\t\\t\\t\\t\\t\\t\\tCart\\r\\n\\t\\t\\t\\t\\t\\t\\t</div>\\n</div>\\n</div>\\n<div class=\"section four\">\\n<img class=\"exit\" src=\"/skin/frontend/default/sns_korion/images/mbox/icons/close_icon.png\" style=\"display: none;\"/>\\n<div class=\"menu\">\\n<div class=\"topheader-right\">\\n<div class=\"topheader-right-inner\">\\n<div class=\"sns-quickaccess menu\">\\n<div class=\"quickaccess-inner\">\\n<ul class=\"links\">\\n<div class=\"clearfix small_screen_show\"><li class=\"mobile_menu subscribe\"><a href=\"/quiz\">Subscribe</a></li><li class=\"mobile_menu shop\"><a href=\"/shop\">Shop</a></li><li class=\"mobile_menu gift\"><a href=\"/gift\">Give a Gift</a></li><li class=\"mobile_menu redeem\"><a href=\"/claim\">Redeem Gift</a></li></div>\\n<li class=\"first\"><a href=\"https://one.mistobox.com/quiz/\" title=\"quiz\">Coffee Subscriptions</a></li>\\n<li class=\"gift_link\"><a href=\"https://one.mistobox.com/gift/\" title=\"Gift\"> Coffee Gifts</a></li>\\n<li class=\"shop_menu\">\\n<div class=\"dropdown\">\\n<a class=\"dropdown-toggle\" data-toggle=\"dropdown\" href=\"javascript:void(0);\" id=\"dropdownMenu1\">\\n      Shop\\n      <span class=\"caret\"></span>\\n</a>\\n<ul aria-labelledby=\"dropdownMenu1\" class=\"dropdown-menu\" role=\"menu\">\\n<li style=\"display:block;\"><a href=\"/shopp\" role=\"menuitem\" tabindex=\"-1\">Coffee</a></li>\\n<li style=\"display:block;\"><a href=\"/gear-merch\" role=\"menuitem\" tabindex=\"-1\">Brew Gear &amp; Merch</a></li>\\n<li style=\"display:block;\"><a href=\"/roasters\" role=\"menuitem\" tabindex=\"-1\">Coffee Roasters</a></li>\\n</ul>\\n</div>\\n</li>\\n<li class=\"shop_menu\">\\n<div class=\"dropdown\">\\n<a class=\"dropdown-toggle\" data-toggle=\"dropdown\" href=\"javascript:void(0);\" id=\"dropdownMenu1\">\\n      Learn\\n      <span class=\"caret\"></span>\\n</a>\\n<ul aria-labelledby=\"dropdownMenu1\" class=\"dropdown-menu\" role=\"menu\">\\n<li style=\"display:block;\"><a href=\"/brew-guides\" role=\"menuitem\" tabindex=\"-1\">Brew Guides</a></li>\\n<li style=\"display:block;\"><a href=\"http://blog.mistobox.com\" role=\"menuitem\" tabindex=\"-1\" target=\"_blank\">Blog</a></li>\\n</ul>\\n</div>\\n</li>\\n<li class=\"how_link\"><a href=\"https://one.mistobox.com/howitworks/\" title=\"how it works\">How It Works</a></li>\\n<li class=\"corp_gifts\"><a href=\"https://mistobox.typeform.com/to/O8ZJYQ\" target=\"_blank\" title=\"corporate\">Corporate Gifts</a></li>\\n<li class=\"redeem_link\"><a href=\"https://one.mistobox.com/gift/claim/\" title=\"redeem\">Redeem A Gift</a></li>\\n<li class=\" last\"><a href=\"https://one.mistobox.com/customer/account/login/\" title=\"Sign In\">Sign In</a></li>\\n<div class=\"small_screen_show logged_in\">\\n</div>\\n<!--     <li style=\"display:block;\"><a role=\"menuitem\" tabindex=\"-1\" href=\"/dashboard\">In Your Cup</a></li>\\r\\n      <li style=\"display:block;\"><a role=\"menuitem\" tabindex=\"-1\" href=\"/dashboard/history\">Coffee History</a></li>\\r\\n      <li style=\"display:block;\"><a role=\"menuitem\" tabindex=\"-1\" href=\"/dashboard/profile\">Profile</a></li>\\r\\n      <li style=\"display:block;\"><a role=\"menuitem\" tabindex=\"-1\" href=\"/dashboard/gift\">Gift History</a></li>\\r\\n      <li style=\"display:block;\"><a role=\"menuitem\" tabindex=\"-1\" href=\"/dashboard/subscription\">Subscriptions</a></li>\\r\\n      <li style=\"display:block;\"><a role=\"menuitem\" tabindex=\"-1\" href=\"https://mistobox.zendesk.com/hc/en-us\" target=\"_blank\">Support</a></li> -->\\n</ul>\\n</div>\\n</div>\\n</div>\\n</div>\\n<div class=\"nav_label\">\\n<div class=\"center\">\\r\\n\\t\\t\\t\\t\\t\\t\\t\\t\\tMenu\\r\\n\\t\\t\\t\\t\\t\\t\\t\\t</div>\\n</div>\\n</div>\\n</div>\\n</div>\\n</div>\\n</div>\\n</div>\\n<!-- BEGIN: Header -->\\n<div class=\"wrap\" id=\"sns_header\">\\n<div class=\"container\">\\n<div class=\"row-fluid\">\\n</div>\\n</div>\\n</div>\\n<!-- END: Header -->\\n<!-- BEGIN: Menu -->\\n<div class=\"wrap\" id=\"sns_menu\">\\n<div class=\"container\">\\n<div class=\"row-fluid\">\\n<!-- BEGIN: Main Navigation -->\\n<div class=\"span12\" id=\"sns_mainnav\">\\n<div class=\"container sns-megamenu-wrap horizontal-menu using-effect\" id=\"sns_megamenu_menu5a71278c91b62\">\\n<ul class=\"mainnav mega-nav\">\\n<li class=\"level0 parent\">\\n<a class=\"\" href=\"javascript:void(0)\" id=\"sns_megamenu_37\">\\n<span class=\"menu-title\">\\r\\n\\t\\t\\t\\t\\tCoffee\\t\\t\\t\\t</span>\\n</a>\\n<div class=\"megamenu-col megamenu-8col mega-content-wrap have-spetitle level0 \"><div class=\"megamenu-col megamenu-4col have-spetitle level1 \"><div class=\"mega-title\"><span>Coffee Type</span></div><div class=\"megamenu-col megamenu-12col have-spetitle level2 \"><div class=\"megamenu-col megamenu-12col level3 \"><div class=\"mega-title\"><a class=\"\" href=\"https://one.mistobox.com/coffee-type/single-origin\"><span>Single origin</span></a></div></div><div class=\"megamenu-col megamenu-12col level3 \"><div class=\"mega-title\"><a class=\"\" href=\"https://one.mistobox.com/coffee-type/decaf\"><span>Decaf</span></a></div></div><div class=\"megamenu-col megamenu-12col level3 \"><div class=\"mega-title\"><a class=\"\" href=\"https://one.mistobox.com/coffee-type/espresso\"><span>Espresso</span></a></div></div><div class=\"megamenu-col megamenu-12col level3 \"><div class=\"mega-title\"><a class=\"\" href=\"https://one.mistobox.com/coffee-type/blends\"><span>Blends</span></a></div></div></div></div><div class=\"megamenu-col megamenu-4col have-spetitle level1 \"><div class=\"mega-title\"><span>Flavor Profile</span></div><div class=\"megamenu-col megamenu-12col have-spetitle level2 \"><div class=\"megamenu-col megamenu-12col level3 \"><div class=\"mega-title\"><a class=\"\" href=\"https://one.mistobox.com/secondary-profile/citrus\"><span>Citrus and Light</span></a></div></div><div class=\"megamenu-col megamenu-12col level3 \"><div class=\"mega-title\"><a class=\"\" href=\"https://one.mistobox.com/primary-profile/earthy\"><span>Earthy and Bold</span></a></div></div><div class=\"megamenu-col megamenu-12col level3 \"><div class=\"mega-title\"><a class=\"\" href=\"https://one.mistobox.com/primary-profile/chocolatey\"><span>Chocolatey and Nutty</span></a></div></div><div class=\"megamenu-col megamenu-12col level3 \"><div class=\"mega-title\"><a class=\"\" href=\"https://one.mistobox.com/primary-profile/fruity\"><span>Fruity and Sweet</span></a></div></div></div></div><div class=\"megamenu-col megamenu-4col have-spetitle level1 \"><div class=\"mega-title\"><span>Roast Level</span></div><div class=\"megamenu-col megamenu-12col have-spetitle level2 \"><div class=\"megamenu-col megamenu-12col level3 \"><div class=\"mega-title\"><a class=\"\" href=\"https://one.mistobox.com/roast-level/light\"><span>Light</span></a></div></div><div class=\"megamenu-col megamenu-12col level3 \"><div class=\"mega-title\"><a class=\"\" href=\"https://one.mistobox.com/roast-level/medium\"><span>Medium</span></a></div></div><div class=\"megamenu-col megamenu-12col level3 \"><div class=\"mega-title\"><a class=\"\" href=\"https://one.mistobox.com/roast-level/dark\"><span>Dark</span></a></div></div></div></div></div> </li>\\n<li class=\"level0\">\\n<a class=\"\" href=\"https://one.mistobox.com/gear-merch\" id=\"sns_megamenu_63\">\\n<span class=\"menu-title\">\\r\\n\\t\\t\\t\\t\\tBrew Gear &amp; Merch\\t\\t\\t\\t</span>\\n</a>\\n</li><li class=\"level0 last\">\\n<a class=\"\" href=\"http://one.mistobox.com/roasters\" id=\"sns_megamenu_62\">\\n<span class=\"menu-title\">\\r\\n\\t\\t\\t\\t\\tCoffee Roasters\\t\\t\\t\\t</span>\\n</a>\\n</li></ul>\\n</div>\\n<div class=\"sns-resmenu menu-sidebar\" id=\"sns_resmenu\">\\n<button class=\"btn btn-navbar sns-resmenu-sidebar\" type=\"button\"><i class=\" icon-reorder\"></i>\\n</button>\\n<ul class=\"nav resmenu\" style=\"display:none\">\\n<li class=\"nav-home level0\">\\n<a class=\"nav-home level0\" href=\"https://one.mistobox.com/\" title=\"Home\"><span>Home</span></a>\\n</li>\\n<li class=\"level0 nav-1 parent\" onmouseout=\"toggleMenu(this,0)\" onmouseover=\"toggleMenu(this,1)\">\\n<a href=\"https://one.mistobox.com/coffee-type\">\\n<span>Coffee Type</span>\\n</a>\\n<ul class=\"level0\">\\n<li class=\"level1 nav-1-1 first\">\\n<a href=\"https://one.mistobox.com/coffee-type/single-origin\">\\n<span>Single Origin</span>\\n</a>\\n</li><li class=\"level1 nav-1-2\">\\n<a href=\"https://one.mistobox.com/coffee-type/espresso\">\\n<span>Espresso</span>\\n</a>\\n</li><li class=\"level1 nav-1-3\">\\n<a href=\"https://one.mistobox.com/coffee-type/blends\">\\n<span>Blends</span>\\n</a>\\n</li><li class=\"level1 nav-1-4 last\">\\n<a href=\"https://one.mistobox.com/coffee-type/decaf\">\\n<span>Decaf</span>\\n</a>\\n</li>\\n</ul>\\n</li> <li class=\"level0 nav-2 parent\" onmouseout=\"toggleMenu(this,0)\" onmouseover=\"toggleMenu(this,1)\">\\n<a href=\"https://one.mistobox.com/roast-level\">\\n<span>Roast Level</span>\\n</a>\\n<ul class=\"level0\">\\n<li class=\"level1 nav-2-1 first\">\\n<a href=\"https://one.mistobox.com/roast-level/light\">\\n<span>Light</span>\\n</a>\\n</li><li class=\"level1 nav-2-2\">\\n<a href=\"https://one.mistobox.com/roast-level/medium\">\\n<span>Medium</span>\\n</a>\\n</li><li class=\"level1 nav-2-3 last\">\\n<a href=\"https://one.mistobox.com/roast-level/dark\">\\n<span>Dark</span>\\n</a>\\n</li>\\n</ul>\\n</li> <li class=\"level0 nav-3\">\\n<a href=\"https://one.mistobox.com/trade-certifications\">\\n<span>Trade &amp; Certifications</span>\\n</a>\\n</li> <li class=\"level0 nav-4 parent\" onmouseout=\"toggleMenu(this,0)\" onmouseover=\"toggleMenu(this,1)\">\\n<a href=\"https://one.mistobox.com/brew-gear-category\">\\n<span>Brew gear Category</span>\\n</a>\\n<ul class=\"level0\">\\n<li class=\"level1 nav-4-1 first last\">\\n<a href=\"https://one.mistobox.com/brew-gear-category/grinders\">\\n<span>Grinders</span>\\n</a>\\n</li>\\n</ul>\\n</li> <li class=\"level0 nav-5\">\\n<a href=\"https://one.mistobox.com/gear-merch\">\\n<span>Gear &amp; Merch</span>\\n</a>\\n</li> </ul>\\n<script type=\"text/javascript\">\\r\\n        $sns_jq(document).ready(function($){\\r\\n            $('body#bd').addClass('resmenu-sb');\\r\\n            $('body#bd #sns_wrapper').append('<nav id=\"sns_off_screennav\" class=\"wrap\"><ul></ul></nav>');\\r\\n            $('body#bd #sns_wrapper').append('<div id=\"sns_off_screennav_overlay\"></div>');\\r\\n            //$('#sns_off_screennav').css('height', $(window).outerHeight());\\r\\n            //$('body#bd').css({'height': $(window).outerHeight(), 'overflow':'hidden'});\\r\\n            $('#sns_off_screennav ul').html($('#sns_mainnav ul.resmenu').html());\\r\\n            $('#sns_mainnav ul.resmenu').html('');\\r\\n\\r\\n            $('.btn.sns-resmenu-sidebar').click(function(){\\r\\n                if($('body#bd').hasClass('on-sidebar')){\\r\\n                    $('body#bd').removeClass('on-sidebar');\\r\\n                }else{\\r\\n                    $('body#bd').addClass('on-sidebar');\\r\\n                }\\r\\n            });\\r\\n            eventType = (IS_HANDHELD)?'touchstart' : 'click';\\r\\n            $('#sns_off_screennav_overlay').bind(eventType, function(){\\r\\n                $('body#bd').removeClass('on-sidebar');\\r\\n            });\\r\\n        });\\r\\n    </script>\\n</div> <form action=\"https://one.mistobox.com/catalogsearch/result/\" id=\"search_mini_form\" method=\"get\">\\n<div class=\"form-search\">\\n<input class=\"input-text\" id=\"search\" name=\"q\" type=\"text\" value=\"\"/>\\n<button class=\"button\" title=\"Search\" type=\"submit\"></button>\\n<div class=\"search-autocomplete\" id=\"search_autocomplete\"></div>\\n<script type=\"text/javascript\">\\n        //<![CDATA[\\n            var searchForm = new Varien.searchForm('search_mini_form', 'search', 'Search');\\n            searchForm.initAutocomplete('https://one.mistobox.com/catalogsearch/ajax/suggest/', 'search_autocomplete');\\n        //]]>\\n        </script>\\n</div>\\n</form>\\n</div>\\n<!-- END: Main Navigation -->\\n</div>\\n</div>\\n</div>\\n<!-- END: Menu -->\\n<script type=\"text/javascript\">\\r\\n\\t\\t// jQuery(document).ready(function() {\\r\\n\\t\\t// \\tif ( jQuery( \".deal_header\" ).is( \":hidden\" ) ) {\\r\\n\\t\\t//   jQuery(\".deal_header\").slideDown( 600 );\\r\\n\\t\\t//   jQuery(\".deal_header_spacer\").slideDown( 600 );\\r\\n\\t\\t// }\\r\\n\\t\\t// });\\r\\n\\r\\n\\t\\t// set up mobile header event bus\\r\\n\\t\\tvar _MB = window._MB || {};\\r\\n\\t\\t_MB.isLoggedIn = false;\\r\\n\\t\\t\\t</script> <!-- BEGIN: SlideShow -->\\n<!-- END: SlideShow -->\\n<!-- BEGIN: Top Spotlight -->\\n<!-- END: Top Spotlight -->\\n<!-- BEGIN: Main Content -->\\n<div class=\"wrap\" id=\"sns_content\">\\n<div class=\"container\">\\n<div class=\"row-fluid\">\\n<div class=\"span12 col-main\" id=\"sns_main\">\\n<!-- global messages -->\\n<!-- // global messages -->\\n<div class=\"span12 clearfix\" id=\"sns_mainmidle\">\\n<!-- primary content -->\\n<div id=\"mistobox-shop\">\\n</div>\\n<script type=\"text/javascript\">\\n  window._MBData = {\\n    forgotPasswordUrl: 'https://one.mistobox.com/customer/account/forgotpassword/',\\n    isLoggedIn: '' === '1',\\n    csie: 'MIIBCgKCAQEAqwMQwio/BxEAjKpoeW2MLmOBytB0L6K9nvsx3s6SrFF2VTjdf45rO1VOYDRVG82dn2hGeM+F9RkCk/sYORoP1Ozfy+62JBla2ArjtgmyPZrZoo8vFdrTzXSJUglBJJZFnvAkr0YRd2+5CyI8S/EP1xFCB8dP0ZIwPGH/DoxdY6Cvyzh04l7fsE7E3nH9+8W7+tJ2jFk2Rg6g8NCzaOIej/C1EnRXrvdJmgg1TAVbQH44pEn0gWQVnZKBbibFj8TUrAy/ptgaV8rYcbMztNtcLAJrcL8AougyE6bQDyZjdjn6ilNeZx3iKZk3isuQ9NLYj8KorELVE68PM3s9tZCuZwIDAQAB',\\n    env: 'prod',\\n    formKey: '0jOXPQyXoZ0MZKX2',\\n    vv: 'mistobox-shop'\\n  };\\n  window._MBData.customerJson = {\"curator\":null,\"email\":null,\"makeReviewsPrivate\":false,\"credit\":0,\"firstName\":null,\"lastName\":null,\"formKey\":\"0jOXPQyXoZ0MZKX2\",\"elevioHash\":\"fdc17261aecc94b03b464cd4573142739f261cbde776d850b53414d77ff4f300\"};\\n</script>\\n<script src=\"/js/mistobox/vendor.js?v=6431f9a32\"></script>\\n<script type=\"text/javascript\">\\n  window.getDTS = function() { \\n    return false;\\n  };\\n</script>\\n<script src=\"/js/mistobox/mistobox.min.js?v=6431f9a32\"></script>\\n<!-- // primary content -->\\n</div>\\n</div>\\n</div>\\n</div>\\n</div>\\n<!-- END: Main Content -->\\n<!-- BEGIN: productswrap -->\\n<!-- END: productswrap -->\\n<!-- BEGIN: botsl -->\\n<!-- END: botsl -->\\n<div class=\"push\"></div>\\n</section></div>\\n<!-- BEGIN: Footer -->\\n<div class=\"wrap\" id=\"sns_footer\">\\n<div class=\"container\">\\n<div class=\"row-fluid footer-top\">\\n<div class=\"span3\">\\n</div>\\n<div class=\"span9\">\\n</div>\\n</div>\\n<div class=\"row-fluid footer-bootom\">\\n<div class=\"span12\">\\n<div class=\"sns-info clearfix\">\\n<script>\\r\\n      var _elev = window._elev || {};(function() {var i,e;i=document.createElement(\"script\"),i.type='text/javascript';i.async=1,i.src=\"https://static.elev.io/js/v3.js\",e=document.getElementsByTagName(\"script\")[0],e.parentNode.insertBefore(i,e);})();\\r\\n      _elev.account_id = '56a8bb04e158c';\\r\\n    </script>\\n<div class=\"span6 left_footer\" style=\"margin-left: 0;\">\\n<a href=\"https://facebook.com/mistoboxmonthly\" target=\"_blank\"><img class=\"facebook\" src=\"/skin/frontend/default/sns_korion/images/mbox/icons/facebook_new.png\"/></a>\\n<a href=\"https://www.youtube.com/user/MistoBox\" target=\"_blank\"><img src=\"/skin/frontend/default/sns_korion/images/mbox/icons/youtube_icon_thin.png\"/></a>\\n<a href=\"https://twitter.com/mistoboxcoffee\" target=\"_blank\"><img src=\"/skin/frontend/default/sns_korion/images/mbox/icons/twitter_new.png\"/></a>\\n<a href=\"http://instagram.com/mistoboxcoffee\" target=\"_blank\"><img src=\"/skin/frontend/default/sns_korion/images/mbox/icons/instagram_new.png\"/></a>\\n</div>\\n<div class=\"span6 right_footer\">\\n<ul>\\n<li><a href=\"/about-mistobox\"> About Us </a></li>\\n<li><a href=\"https://mistobox.zendesk.com/hc/en-us\" target=\"_blank\"> FAQ </a></li>\\n<li><a href=\"/privacy-policy\"> Privacy Policy </a></li>\\n</ul>\\n</div>\\n</div>\\n<div class=\"sub_footer span12\">\\n<div class=\"copyright span12\">\\n<div class=\"sns-copyright\">\\r\\n\\t\\t\\t\\t\\xa9 2017 MistoBox. All Rights Reserved.\\t\\t\\t</div>\\n</div>\\n</div>\\n<script type=\"text/javascript\">\\r\\n    $sns_jq(function($){\\r\\n      if ($('#login-form')[0] && window.location.hash) {\\r\\n        $('#login-form')[0].action = $('#login-form')[0].action + window.location.hash;\\r\\n      }\\r\\n    })\\r\\n  </script>\\n</div>\\n<div id=\"sns_tools\">\\n<div id=\"sns_cpanel\" style=\"direction:ltr\">\\n<div class=\"cpanel-head\">CPanel</div>\\n<!---<div class=\"cpanel-themecolor\">\\r\\n        <span class=\"themecolor-heading\">Select color skins</span>\\r\\n        <div class=\"inner clearfix\">\\r\\n                        <span title=\"Cyan\" class=\"themeColor cyan\">Cyan</span>\\r\\n            <span title=\"Blue\" class=\"themeColor blue\">Blue</span>\\r\\n            <span title=\"Green\" class=\"themeColor green\">Green</span>\\r\\n            <span title=\"Orange\" class=\"themeColor orange\">Orange</span>\\r\\n            <span title=\"Red\" class=\"themeColor red\">Red</span>\\r\\n        </div>\\r\\n    </div>-->\\n<div class=\"cpanel-set\">\\n<!-- Multi store -->\\n<!--Body-->\\n<div class=\"accordion-group\">\\n<div class=\"accordion-heading\">\\n<a href=\"#sns_citem_1\">Body</a>\\n</div>\\n<div id=\"sns_citem_1\">\\n<div class=\"accordion-inner clearfix\">\\n<!-- Body font-size -->\\n<div class=\"cp-item\">\\n<span>Font-size</span>\\n<div class=\"inner\">\\n<select class=\"cp_select\" name=\"sns_ccofig_fontSize\" onchange=\"javascript: cPApply();\">\\n<option value=\"10px\">10px</option>\\n<option value=\"11px\">11px</option>\\n<option selected=\"selected\" value=\"12px\">12px</option>\\n<option value=\"13px\">13px</option>\\n<option value=\"14px\">14px</option>\\n<option value=\"15px\">15px</option>\\n<option value=\"16px\">16px</option>\\n<option value=\"17px\">17px</option>\\n<option value=\"18px\">18px</option>\\n</select>\\n</div>\\n</div>\\n<!-- Body font-family -->\\n<div class=\"cp-item body-fontfamily\">\\n<span>Font-family</span>\\n<div class=\"inner\">\\n<select class=\"cp_select\" name=\"sns_ccofig_fontFamily\" onchange=\"javascript: cPApply();\">\\n<option selected=\"selected\" value=\"arial\">Arial</option>\\n<option value=\"arial-black\">Arial Black</option>\\n<option value=\"courier\">Courier New</option>\\n<option value=\"georgia\">Georgia</option>\\n<option value=\"impact\">Impact</option>\\n<option value=\"lucida-console\">Lucida Console</option>\\n<option value=\"lucida-grande\">Lucida Grande</option>\\n<option value=\"palatino\">Palatino</option>\\n<option value=\"tahoma\">Tahoma</option>\\n<option value=\"times\">Times New Roman</option>\\n<option value=\"trebuchet\">Trebuchet</option>\\n<option value=\"verdana\">Verdana</option>\\n<option value=\"segoe ui\">Segoe UI</option>\\n</select>\\n</div>\\n</div>\\n<!-- Body Background color -->\\n<div class=\"cp-item bodyBgColor\">\\n<span>Background color</span>\\n<div class=\"inner\">\\n<input autocomplete=\"off\" class=\"color-picker miniColors\" maxlength=\"7\" name=\"sns_ccofig_bodyBgColor\" size=\"7\" type=\"text\" value=\"#FFFFFF\"/>\\n</div>\\n</div>\\n</div>\\n</div>\\n</div>\\n<!-- Menu -->\\n<div class=\"accordion-group\">\\n<div class=\"accordion-heading\">\\n<a href=\"#sns_citem_2\">\\r\\n                Menu\\r\\n                </a>\\n</div>\\n<div id=\"sns_citem_2\">\\n<div class=\"accordion-inner clearfix\">\\n<!-- Styles -->\\n<div class=\"cp-item\">\\n<span>Menu styles</span>\\n<div class=\"inner\">\\n<select class=\"cp_select\" name=\"sns_ccofig_menuStyles\" onchange=\"javascript: cPApply();\">\\n<option value=\"base\">Base</option>\\n<option selected=\"selected\" value=\"mega\">Mega</option>\\n</select>\\n</div>\\n</div>\\n<div class=\"cp-item\">\\n<span>Keep menu on top</span>\\n<div class=\"inner\">\\n<select class=\"cp_select\" name=\"sns_ccofig_keepMenu\" onchange=\"javascript: cPApply();\">\\n<option value=\"1\">Yes</option>\\n<option selected=\"selected\" value=\"0\">No</option>\\n</select>\\n</div>\\n</div>\\n</div>\\n</div>\\n</div>\\n</div>\\n<div class=\"cpanel-reset\">\\n<a class=\"btn reset\" href=\"#\" onclick=\"javascript: cPReset(TMPL_COOKIE);\">Reset</a>\\n</div>\\n<div id=\"sns_magic_btn\">\\n<i class=\"icon-magic\"></i>\\n</div>\\n</div>\\n<script type=\"text/javascript\">\\r\\n    // <![CDATA[\\r\\n\\r\\n    $sns_jq(document).ready(function($){\\r\\n        /* Begin: Enabling miniColors */\\r\\n        $('.bodyBgColor .color-picker').miniColors({\\r\\n            change: function(hex, rgb) {\\r\\n                $('body#bd').css('background-color', hex);\\r\\n                createCookie(TMPL_NAME+'_'+($(this).attr('name').match(/^sns_ccofig_(.*)$/))[1], hex, 365);\\r\\n            }\\r\\n        });\\r\\n        /* End: Enabling miniColors */\\r\\n        /* Begin: Set click pattern */\\r\\n        function patternClick(el, paramCookie, assign){\\r\\n            $(el).click(function(){\\r\\n                oldvalue = $(this).parent().find('.active').html();\\r\\n                $(el).removeClass('active');\\r\\n                $(this).addClass('active');\\r\\n                value = $(this).html();\\r\\n                if(assign.length > 0){\\r\\n                    for($i=0; $i < assign.length; $i++){\\r\\n                        $(assign[$i]).removeClass(oldvalue);\\r\\n                        $(assign[$i]).addClass(value);\\r\\n                    }\\r\\n                }\\r\\n                if(paramCookie){\\r\\n                    $('input[name$=\"sns_ccofig_'+paramCookie+'\"]').attr('value', value);\\r\\n                    createCookie(TMPL_NAME+'_'+paramCookie, value, 365);\\r\\n                }\\r\\n            });\\r\\n\\r\\n        }\\r\\n        patternClick('.body-background-image .pattern',   'body-bgimage',   Array('#bd', ''));\\r\\n        /* End: Set click pattern */\\r\\n        function templateSetting(array){\\r\\n            if(array['0']){\\r\\n                $('.bodyBgColor input.miniColors').attr('value', array['0']);\\r\\n                $('.bodyBgColor a.miniColors-trigger').css('background-color', array['0']);\\r\\n                $('input.sns_ccofig_bodyBgColor').attr('value', array['0']);\\r\\n            }\\r\\n        }\\r\\n        var array             = Array('bodyBgColor');\\r\\n        var array_blue       = Array('#FFFFFF');\\r\\n        var array_cyan        = Array('#FFFFFF');\\r\\n        var array_orange      = Array('#FFFFFF');\\r\\n        var array_green       = Array('#FFFFFF');\\r\\n        var array_red         = Array('#FFFFFF');\\r\\n\\r\\n        $('.themeColor.blue').click(function(){\\r\\n            $($(this).parent().find('.active')).removeClass('active'); $(this).addClass('active');\\r\\n            createCookie(TMPL_NAME+'_'+'themeColor', $(this).html().toLowerCase(), 365);\\r\\n            templateSetting(array_blue);\\r\\n            cPApply();\\r\\n        });\\r\\n        $('.themeColor.cyan').click(function(){\\r\\n            $($(this).parent().find('.active')).removeClass('active'); $(this).addClass('active');\\r\\n            createCookie(TMPL_NAME+'_'+'themeColor', $(this).html().toLowerCase(), 365);\\r\\n            templateSetting(array_cyan);\\r\\n            cPApply();\\r\\n        });\\r\\n        $('.themeColor.orange').click(function(){\\r\\n            $($(this).parent().find('.active')).removeClass('active'); $(this).addClass('active');\\r\\n            createCookie(TMPL_NAME+'_'+'themeColor', $(this).html().toLowerCase(), 365);\\r\\n            templateSetting(array_orange);\\r\\n            cPApply();\\r\\n        });\\r\\n        $('.themeColor.green').click(function(){\\r\\n            $($(this).parent().find('.active')).removeClass('active'); $(this).addClass('active');\\r\\n            createCookie(TMPL_NAME+'_'+'themeColor', $(this).html().toLowerCase(), 365);\\r\\n            templateSetting(array_green);\\r\\n            cPApply();\\r\\n        });\\r\\n        $('.themeColor.red').click(function(){\\r\\n            $($(this).parent().find('.active')).removeClass('active'); $(this).addClass('active');\\r\\n            createCookie(TMPL_NAME+'_'+'themeColor', $(this).html().toLowerCase(), 365);\\r\\n            templateSetting(array_red);\\r\\n            cPApply();\\r\\n        });\\r\\n    });\\r\\n    // ]]>\\r\\n    </script>\\n<script type=\"text/javascript\">\\r\\n    $sns_jq(document).ready(function($) {\\r\\n        //accordion\\r\\n        $('#sns_cpanel .accordion-heading').accordion_snyderplace({\\r\\n            defaultOpen: '#sns_cpanelaccordionfirst',\\r\\n            cookieName: 'cpanel_accordion',\\r\\n            speed: 'fast',\\r\\n            animateOpen: function (elem, opts) { //replace the standard slideUp with custom function\\r\\n                elem.next().slideFadeToggle(opts.speed);\\r\\n            },\\r\\n            animateClose: function (elem, opts) { //replace the standard slideDown with custom function\\r\\n                elem.next().slideFadeToggle(opts.speed);\\r\\n            }\\r\\n        });\\r\\n        //custom animation for open/close\\r\\n        $.fn.slideFadeToggle = function(speed, easing, callback) {\\r\\n            return this.animate({opacity: 'toggle', height: 'toggle'}, speed, easing, callback);\\r\\n        };\\r\\n    });\\r\\n</script><a href=\"#\" id=\"sns-totop\"><i class=\"icon-angle-up\"></i></a>\\n<script type=\"text/javascript\">\\r\\n\\t$sns_jq(function($){\\r\\n\\t\\t// back to top\\r\\n\\t\\t$(\"#sns-totop\").hide();\\r\\n\\t\\t$(function () {\\r\\n\\t\\t\\tvar wh = $(window).height();\\r\\n\\t\\t\\tvar whtml =  $(document).height();\\r\\n\\t\\t\\t$(window).scroll(function () {\\r\\n\\t\\t\\t\\tif ($(this).scrollTop() > whtml/10) {\\r\\n\\t\\t\\t\\t\\t$('#sns-totop').fadeIn();\\r\\n\\t\\t\\t\\t} else {\\r\\n\\t\\t\\t\\t\\t$('#sns-totop').fadeOut();\\r\\n\\t\\t\\t\\t}\\r\\n\\t\\t\\t});\\r\\n\\t\\t\\t$('#sns-totop').click(function () {\\r\\n\\t\\t\\t\\t$('body,html').animate({\\r\\n\\t\\t\\t\\t\\tscrollTop: 0\\r\\n\\t\\t\\t\\t}, 800);\\r\\n\\t\\t\\t\\treturn false;\\r\\n\\t\\t\\t});\\r\\n\\t\\t});\\r\\n\\t\\t// end back to top\\r\\n\\t});\\r\\n</script></div>\\n</div>\\n</div>\\n</div>\\n<!-- start your Mixpanel custom code -->\\n<script type=\"text/javascript\">\\n</script>\\n<!-- end Mixpanel BRANDiD code -->\\n<script type=\"text/javascript\">\\r\\n//<![CDATA[\\r\\n\\twindow.removeItem=function(args){\\r\\n\\t\\tif (ajax_for_compare && (args.search('catalog/product_compare/remove') != -1) ){\\r\\n\\t\\t\\topener.deletePCompare=1;\\r\\n\\t\\t\\tif(winFocus){\\r\\n\\t\\t\\t\\topener.isCPPage=1;\\r\\n\\t\\t\\t\\topener.deletePCompare=1;\\r\\n\\t\\t\\t\\topener.focus();\\r\\n\\t\\t\\t\\topener.callAjax(args,'url');\\r\\n\\t\\t\\t\\texit;\\r\\n\\t\\t\\t}\\r\\n\\t\\t\\telse\\r\\n\\t\\t\\t\\tcallAjax(args,'url');\\r\\n\\t\\t}\\r\\n        else{\\r\\n            window.location.href = args;\\r\\n        }\\r\\n\\t};\\r\\n//]]>\\r\\n</script>\\n<script type=\"text/javascript\">\\r\\nadroll_adv_id = \"PPZKO4XYEZGJXKX2ZOHGFO\";\\r\\nadroll_pix_id = \"HSTEDVZY3ZGXLGABQWHBHS\";\\r\\n(function () {\\r\\nvar oldonload = window.onload;\\r\\nwindow.onload = function(){\\r\\n   __adroll_loaded=true;\\r\\n   var scr = document.createElement(\"script\");\\r\\n   var host = ((\"https:\" == document.location.protocol) ? \"https://s.adroll.com\" : \"http://a.adroll.com\");\\r\\n   scr.setAttribute('async', 'true');\\r\\n   scr.type = \"text/javascript\";\\r\\n   scr.src = host + \"/j/roundtrip.js\";\\r\\n   ((document.getElementsByTagName('head') || [null])[0] ||\\r\\n    document.getElementsByTagName('script')[0].parentNode).appendChild(scr);\\r\\n   if(oldonload){oldonload()}};\\r\\n}());\\r\\n</script>\\n<!-- begin olark code -->\\n<script data-cfasync=\"false\" type=\"text/javascript\">/*<![CDATA[*/window.olark||(function(c){var f=window,d=document,l=f.location.protocol==\"https:\"?\"https:\":\"http:\",z=c.name,r=\"load\";var nt=function(){\\r\\nf[z]=function(){\\r\\n(a.s=a.s||[]).push(arguments)};var a=f[z]._={\\r\\n},q=c.methods.length;while(q--){(function(n){f[z][n]=function(){\\r\\nf[z](\"call\",n,arguments)}})(c.methods[q])}a.l=c.loader;a.i=nt;a.p={\\r\\n0:+new Date};a.P=function(u){\\r\\na.p[u]=new Date-a.p[0]};function s(){\\r\\na.P(r);f[z](r)}f.addEventListener?f.addEventListener(r,s,false):f.attachEvent(\"on\"+r,s);var ld=function(){function p(hd){\\r\\nhd=\"head\";return[\"<\",hd,\"></\",hd,\"><\",i,' onl' + 'oad=\"var d=',g,\";d.getElementsByTagName('head')[0].\",j,\"(d.\",h,\"('script')).\",k,\"='\",l,\"//\",a.l,\"'\",'\"',\"></\",i,\">\"].join(\"\")}var i=\"body\",m=d[i];if(!m){\\r\\nreturn setTimeout(ld,100)}a.P(1);var j=\"appendChild\",h=\"createElement\",k=\"src\",n=d[h](\"div\"),v=n[j](d[h](z)),b=d[h](\"iframe\"),g=\"document\",e=\"domain\",o;n.style.display=\"none\";m.insertBefore(n,m.firstChild).id=z;b.frameBorder=\"0\";b.id=z+\"-loader\";if(/MSIE[ ]+6/.test(navigator.userAgent)){\\r\\nb.src=\"javascript:false\"}b.allowTransparency=\"true\";v[j](b);try{\\r\\nb.contentWindow[g].open()}catch(w){\\r\\nc[e]=d[e];o=\"javascript:var d=\"+g+\".open();d.domain='\"+d.domain+\"';\";b[k]=o+\"void(0);\"}try{\\r\\nvar t=b.contentWindow[g];t.write(p());t.close()}catch(x){\\r\\nb[k]=o+'d.write(\"'+p().replace(/\"/g,String.fromCharCode(92)+'\"')+'\");d.close();'}a.P(2)};ld()};nt()})({\\r\\nloader: \"static.olark.com/jsclient/loader0.js\",name:\"olark\",methods:[\"configure\",\"extend\",\"declare\",\"identify\"]});\\r\\n/* custom configuration goes here (www.olark.com/documentation) */\\r\\nolark.identify('1278-822-10-6723');/*]]>*/</script><noscript><a href=\"https://www.olark.com/site/1278-822-10-6723/contact\" target=\"_blank\" title=\"Contact us\">Questions? Feedback?</a> powered by <a href=\"http://www.olark.com?welcome\" title=\"Olark live chat software\">Olark live chat software</a></noscript>\\n<!-- end olark code -->\\n</body>\\n</html>\\n"
      ]
     },
     "execution_count": 45,
     "metadata": {},
     "output_type": "execute_result"
    }
   ],
   "source": [
    "soup\n"
   ]
  },
  {
   "cell_type": "code",
   "execution_count": 46,
   "metadata": {},
   "outputs": [],
   "source": [
    "from bs4 import BeautifulSoup\n",
    "\n",
    "def _remove_attrs(soup):\n",
    "    for tag in soup.findAll(True): \n",
    "        tag.attrs = None\n",
    "    return soup"
   ]
  },
  {
   "cell_type": "code",
   "execution_count": 47,
   "metadata": {},
   "outputs": [
    {
     "data": {
      "text/plain": [
       "<!DOCTYPE html>\\n<html>\\n<head>\\n<title>MistoBox: Coffee Subscriptions Personalized For You</title>\\n<meta/>\\n<meta/>\\n<meta/>\\n<meta/>\\n<meta/>\\n<meta/>\\n<meta/>\\n<link/>\\n<link/>\\n<meta/>\\n<meta/>\\n<link/>\\n<link/>\\n<link/>\\n<link/>\\n<link/>\\n<link/>\\n<link/>\\n<link/>\\n<link/>\\n<link/>\\n<script></script>\\n<script></script>\\n<script></script>\\n<script></script>\\n<script></script>\\n<script></script>\\n<script></script>\\n<script></script>\\n<script></script>\\n<script></script>\\n<script></script>\\n<script></script>\\n<script></script>\\n<script></script>\\n<script></script>\\n<script></script>\\n<script></script>\\n<script></script>\\n<script></script>\\n<script></script>\\n<script></script>\\n<script></script>\\n<script></script>\\n<script></script>\\n<script></script>\\n<script></script>\\n<script></script>\\n<script></script>\\n<script></script>\\n<link/>\\n<!--[if lte IE 8]>\\n<link rel=\"stylesheet\" type=\"text/css\" href=\"https://one.mistobox.com/skin/frontend/default/sns_korion/css/browsers/ie8.css\" media=\"all\" />\\n<![endif]-->\\n<link/>\\n<link/>\\n<link/>\\n<link/>\\n<link/>\\n<link/>\\n<link/>\\n<!-- Style get config -->\\n<script></script>\\n<script>try{Typekit.load();}catch(e){}</script>\\n<link/>\\n<style>\\r\\n\\r\\n\\t\\r\\n\\t.page-title, .page-head, ul.mainnav > li > a span, .megamenu-col.have-spetitle > .mega-title, .block .block-title, .block-shoppolicy .item label, input[type=\"button\"], .button, button, #bottom-cfbox .btn, .price-box .price, .products-grid .item-title a, .item-box-hover ul.add-to-links li a, .item-box-hover .btn-cart, .toolbar label, .toolbar .pages > strong, .sns-slider .title-slider, .product-name, addto-emailto-link, .sns-product-detail h1.product-name, .sns-tab-navi li, #product-shop .email-friend a, .add-to-links li a, .add-to-cart label, .postWrapper .postTitle.cmt-heading, #postComment h4.legend{\\r\\n\\t\\tfont-family: \"brandon-grotesque\",sans-serif;\\r\\n\\t}\\r\\n\\t\\t.sns-products-container .products-grid .item .item-info{\\r\\n\\t\\theight: 70px;\\r\\n\\t}\\r\\n</style>\\n<script>\\n//<![CDATA[\\nMage.Cookies.path     = '/';\\nMage.Cookies.domain   = '.one.mistobox.com';\\n//]]>\\n</script>\\n<!-- start Mixpanel --><script>(function(f,b){if(!b.__SV){var a,e,i,g;window.mixpanel=b;b._i=[];b.init=function(a,e,d){function f(b,h){var a=h.split(\".\");2==a.length&&(b=b[a[0]],h=a[1]);b[h]=function(){b.push([h].concat(Array.prototype.slice.call(arguments,0)))}}var c=b;\"undefined\"!==typeof d?c=b[d]=[]:d=\"mixpanel\";c.people=c.people||[];c.toString=function(b){var a=\"mixpanel\";\"mixpanel\"!==d&&(a+=\".\"+d);b||(a+=\" (stub)\");return a};c.people.toString=function(){return c.toString(1)+\".people (stub)\"};i=\"disable track track_pageview track_links track_forms register register_once alias unregister identify name_tag set_config people.set people.set_once people.increment people.append people.track_charge people.clear_charges people.delete_user\".split(\" \");\\nfor(g=0;g<i.length;g++)f(c,i[g]);b._i.push([a,e,d])};b.__SV=1.2;a=f.createElement(\"script\");a.type=\"text/javascript\";a.async=!0;a.src=\"//cdn.mxpnl.com/libs/mixpanel-2.2.min.js\";e=f.getElementsByTagName(\"script\")[0];e.parentNode.insertBefore(a,e)}})(document,window.mixpanel||[]);\\nmixpanel.init(\"564815ab3c47e0e8fef79e834ae38fac\");</script><!-- end Mixpanel --> <!-- BEGIN GOOGLE ANALYTICS CODE -->\\n<script>\\n        /* <![CDATA[ */\\n        (function () {\\n            var ga = document.createElement('script');\\n            ga.type = 'text/javascript';\\n            ga.async = true;\\n            ga.src = 'https://ssl.google-analytics.com/ga.js';\\n            var s = document.getElementsByTagName('script')[0];\\n            s.parentNode.insertBefore(ga, s);\\n        })();\\n        var _gaq = _gaq || [];\\n        _gaq.push(['_setAccount', 'UA-31668918-3'], ['_trackPageview','/shop']);\\n            _gaq.push(['t2._setAccount', 'UA-49927109-1'], ['t2._trackPageview','/shop']);        \\n\\n            if(typeof Ajax !== \"undefined\" && Ajax.Responders){\\n                Ajax.Responders.register({\\n                  onComplete: function(transport){\\n                    if(!transport.url.include('progress') && !transport.url.include('getAdditional')){\\n                        goto_section = false;\\n                        if (transport && transport.transport.responseText){\\n                            try{\\n                                response = eval('(' + transport.transport.responseText + ')');\\n                                if(response && response.goto_section){\\n                                    goto_section = '/opc-' + encodeURIComponent(response.goto_section);\\n                                }\\n                            }\\n                            catch (e) {\\n                                goto_section = false;\\n                            }\\n                        }\\n                        if(transport.url.include('saveOrder')){\\n                            _gaq.push(['_trackPageview', '/shop'\\n                                + '/opc-review-placeOrderClicked']);\\n                            _gaq.push(['t2._trackPageview', '/shop'\\n                                + '/opc-review-placeOrderClicked']);\\n                        }else if(goto_section){\\n                            _gaq.push(['_trackPageview', '/shop'\\n                                + goto_section + '']);\\n                            _gaq.push(['t2._trackPageview', '/shop'\\n                                + goto_section + '']);\\n                        }else if(accordion && accordion.currentSection){\\n                            _gaq.push(['_trackPageview', '/shop/'\\n                                + accordion.currentSection + '']);\\n                            _gaq.push(['t2._trackPageview', '/shop/'\\n                                + accordion.currentSection + '']);\\n                        }\\n                    }\\n                  }\\n                });\\n            }\\n        \\n                /* ]]> */\\n    </script>\\n<!-- END GOOGLE ANALYTICS CODE -->\\n<!-- Google Analytics -->\\n<script>\\n        (function(i,s,o,g,r,a,m){i['GoogleAnalyticsObject']=r;i[r]=i[r]||function(){\\n            (i[r].q=i[r].q||[]).push(arguments)},i[r].l=1*new Date();a=s.createElement(o),\\n            m=s.getElementsByTagName(o)[0];a.async=1;a.src=g;m.parentNode.insertBefore(a,m)\\n        })(window,document,'script','//www.google-analytics.com/analytics.js','ga');\\n\\n        ga('create', 'UA-31668918-3','auto');\\n                        ga('send', 'pageview', '/shop');\\n\\n    </script>\\n<!-- End Google Analytics -->\\n<script>\\n  (function() {\\n    if (typeof _llq === 'undefined') {\\n      _llq = [];\\n    }\\n    var ll = document.createElement('script'); ll.type = 'text/javascript'; ll.async = true;\\n    var lv = document.createElement('script'); lv.type = 'text/javascript'; lv.async = true;\\n    var o = 'https://s3.amazonaws.com/llq/';\\n    ll.src = o + 'll.js'; lv.src = o + 'll.555b6eacb62958be13c5a5eb.js';\\n    var ls = document.getElementsByTagName('script')[0];\\n    ls.parentNode.insertBefore(ll, ls); ls.parentNode.insertBefore(lv, ls);\\n  })();\\n</script>\\n<script>\\r\\n//<![CDATA[\\r\\n\\tvar isCOPage=0;\\r\\n\\tvar isWLPage=0;\\r\\n\\tvar isCPPage=0;\\r\\n\\tvar isLoggedIn=\"0\";\\r\\n\\tvar skiplink ='';\\r\\n\\tvar ajax_for_compare = 1;\\r\\n\\tvar ajax_for_wishlist = 1;\\r\\n\\tvar ajax_for_update = 1;\\r\\n\\tvar show_confirm = 1;\\r\\n\\tvar time_cd = 10;\\r\\n\\tvar show_product_in_confirm = 1;\\r\\n\\tvar loader='<img alt=\"Loading...\" src=\"https://one.mistobox.com/skin/frontend/default/sns_korion/sns/ajaxcart/images/ajax-loader.gif\"/><div>Please wait...</div>';\\r\\n\\tvar usingImgFly = 1;\\r\\n\\tvar scrollToCart = 1;\\r\\n\\t\\r\\n\\tfunction getConfirm(result){\\r\\n\\t\\tif(!show_confirm){ return false; }\\r\\n\\t\\t$(\"ajax_overlay\").onclick = function(e){\\r\\n\\t\\t\\t$(\"confirmbox\").innerHTML='';\\r\\n\\t\\t\\t$(\"ajax_content\").setStyle({display:\"none\"});\\r\\n\\t\\t\\t$(\"sns_ajaxwrap\").setStyle({display:\"none\"});\\r\\n\\t\\t\\t$(\"ajax_overlay\").setStyle({display:\"none\"});\\r\\n\\t\\t};\\r\\n\\t\\tcfaction = \"\";\\r\\n\\t\\tcfaction_text = \"\";\\r\\n\\t\\tcfaddedto_text = (closeCFirm==1 || deletePCompare==1)?\"Item deleted from \":\" added to \";\\r\\n\\r\\n\\t\\tif(result.addtype=='0'){\\r\\n\\t\\t\\t\\tac_text=(isCOPage==1)?\"Proceed to Checkout\":\"Go to Cart\";\\r\\n\\t\\t\\t\\tac_href=(isCOPage==1)?\"https://one.mistobox.com/checkout/onepage/\":\"https://one.mistobox.com/checkout/cart/\";\\r\\n\\t\\t\\t\\tcfaction='<li><a id=\"btn_cfaction\" title=\"Checkout\" class=\"btn view-cart\" onclick=\"$(\\\\'confirmbox\\\\').innerHTML=\\\\'\\\\';$(\\\\'ajax_content\\\\').setStyle({display:\\\\'none\\\\'});$(\\\\'sns_ajaxwrap\\\\').setStyle({display:\\\\'none\\\\'});window.location=\\\\''+ac_href+'\\\\';\"  href=\"'+ac_href+'\">\\t<span>'+ac_text+'</span></a></li>';\\r\\n\\t\\t\\t\\tcfaction_text=\"your shopping cart.\";\\r\\n\\t\\t}else if(result.addtype=='1'){\\r\\n\\t\\t\\t\\tcfaction='<li><a id=\"btn_cfaction\" title=\"View Wish List\" class=\"btn view-wishlist\" onclick=\"$(\\\\'confirmbox\\\\').innerHTML=\\\\'\\\\';$(\\\\'ajax_content\\\\').setStyle({display:\\\\'none\\\\'});$(\\\\'sns_ajaxwrap\\\\').setStyle({display:\\\\'none\\\\'});window.location=\\\\'https://one.mistobox.com/wishlist/index/\\\\';\"  href=\"https://one.mistobox.com/wishlist/index/\">\\t<span>My Wishlist</span></a></li>';\\r\\n\\t\\t\\t\\tcfaction_text=\"your wishlist.\";\\r\\n\\t\\t}else if(result.addtype=='2'){\\r\\n\\t\\t\\t\\tstrPop=result.co_sb;\\r\\n\\t\\t\\t\\tac_href=strPop.substring(strPop.indexOf(\"popWin('\"),strPop.indexOf(\")\",strPop.indexOf(\"popWin('\"))+1);\\r\\n\\t\\t\\t\\tif(trim(ac_href)!=''){\\r\\n\\t\\t\\t\\t\\tcfaction = '<li><a id=\"btn_cfaction\" title=\"View Comparision\" class=\"btn view-compare\" href=\"javascript:void(\\\\'0\\\\')\" onclick=\"$(\\\\'confirmbox\\\\').innerHTML=\\\\'\\\\';$(\\\\'ajax_content\\\\').setStyle({display:\\\\'none\\\\'});$(\\\\'sns_ajaxwrap\\\\').setStyle({display:\\\\'none\\\\'});'+ac_href+'\">\\t<span>Compare</span></a></li>';\\r\\n\\t\\t\\t\\t}else{\\r\\n\\t\\t\\t\\t\\tcfaction = '';\\r\\n\\t\\t\\t\\t}\\r\\n\\t\\t\\t\\tcfaction_text=\"comparison list.\";\\r\\n\\t\\t}\\r\\n\\r\\n\\t\\tcfhead = '<span id=\"cout_down\">'+ time_cd +'s</span><p class=\"head-cfbox '+((result.addtype=='1' || result.addtype=='2')?'show':'')+'\"><span class=\"product-title\">'+result.pdname+'</span>'+cfaddedto_text+cfaction_text+'</p>';\\r\\n\\t\\tpdinfo= (typeof result.pdinfo !=\"undefined\")?result.pdinfo:\"\";\\r\\n\\t\\tconfirmcontent =\\tcfhead + ((typeof pdinfo.item !=\"undefined\" && pdinfo.item!=\"\" && show_product_in_confirm)?(pdinfo.item):\"\") + ((typeof pdinfo.other !=\"undefined\" && pdinfo.other!=\"\")?pdinfo.other:\"\") + '<div id=\"bottom-cfbox\"><ul>'+cfaction+'</ul></div>';\\r\\n\\r\\n\\t\\t$(\"confirmbox\").innerHTML=confirmcontent;\\r\\n\\t\\tsetTimeout(\"getCDown(time_cd)\",1000);\\r\\n\\t\\t$(\"ajax_content\").setStyle({display:\"block\"});\\r\\n\\t\\t$(\"sns_ajaxwrap\").setStyle({display:\"block\"});\\r\\n\\t\\tfixPosWrap();\\r\\n\\t\\tif(time_cd==0)\\r\\n\\t\\t\\tisCPPage=0;\\r\\n\\t}\\r\\n//]]>\\r\\n</script>\\n<script></script>\\n<script></script>\\n<script></script>\\n<script></script>\\n<script></script>\\n<script></script>\\n<script></script>\\n<script></script>\\n<script></script>\\n<script></script>\\n<script>\\r\\n//<![CDATA[\\r\\n\\tfunction isHandheldDevices() {\\r\\n\\t\\tvar check = false;\\r\\n\\t\\t(function(a){if(/(android|ipad|playbook|silk|bb\\\\d+|meego).+mobile|avantgo|bada\\\\/|blackberry|blazer|compal|elaine|fennec|hiptop|iemobile|ip(hone|od)|iris|kindle|lge |maemo|midp|mmp|netfront|opera m(ob|in)i|palm( os)?|phone|p(ixi|re)\\\\/|plucker|pocket|psp|series(4|6)0|symbian|treo|up\\\\.(browser|link)|vodafone|wap|windows (ce|phone)|xda|xiino/i.test(a)||/1207|6310|6590|3gso|4thp|50[1-6]i|770s|802s|a wa|abac|ac(er|oo|s\\\\-)|ai(ko|rn)|al(av|ca|co)|amoi|an(ex|ny|yw)|aptu|ar(ch|go)|as(te|us)|attw|au(di|\\\\-m|r |s )|avan|be(ck|ll|nq)|bi(lb|rd)|bl(ac|az)|br(e|v)w|bumb|bw\\\\-(n|u)|c55\\\\/|capi|ccwa|cdm\\\\-|cell|chtm|cldc|cmd\\\\-|co(mp|nd)|craw|da(it|ll|ng)|dbte|dc\\\\-s|devi|dica|dmob|do(c|p)o|ds(12|\\\\-d)|el(49|ai)|em(l2|ul)|er(ic|k0)|esl8|ez([4-7]0|os|wa|ze)|fetc|fly(\\\\-|_)|g1 u|g560|gene|gf\\\\-5|g\\\\-mo|go(\\\\.w|od)|gr(ad|un)|haie|hcit|hd\\\\-(m|p|t)|hei\\\\-|hi(pt|ta)|hp( i|ip)|hs\\\\-c|ht(c(\\\\-| |_|a|g|p|s|t)|tp)|hu(aw|tc)|i\\\\-(20|go|ma)|i230|iac( |\\\\-|\\\\/)|ibro|idea|ig01|ikom|im1k|inno|ipaq|iris|ja(t|v)a|jbro|jemu|jigs|kddi|keji|kgt( |\\\\/)|klon|kpt |kwc\\\\-|kyo(c|k)|le(no|xi)|lg( g|\\\\/(k|l|u)|50|54|\\\\-[a-w])|libw|lynx|m1\\\\-w|m3ga|m50\\\\/|ma(te|ui|xo)|mc(01|21|ca)|m\\\\-cr|me(rc|ri)|mi(o8|oa|ts)|mmef|mo(01|02|bi|de|do|t(\\\\-| |o|v)|zz)|mt(50|p1|v )|mwbp|mywa|n10[0-2]|n20[2-3]|n30(0|2)|n50(0|2|5)|n7(0(0|1)|10)|ne((c|m)\\\\-|on|tf|wf|wg|wt)|nok(6|i)|nzph|o2im|op(ti|wv)|oran|owg1|p800|pan(a|d|t)|pdxg|pg(13|\\\\-([1-8]|c))|phil|pire|pl(ay|uc)|pn\\\\-2|po(ck|rt|se)|prox|psio|pt\\\\-g|qa\\\\-a|qc(07|12|21|32|60|\\\\-[2-7]|i\\\\-)|qtek|r380|r600|raks|rim9|ro(ve|zo)|s55\\\\/|sa(ge|ma|mm|ms|ny|va)|sc(01|h\\\\-|oo|p\\\\-)|sdk\\\\/|se(c(\\\\-|0|1)|47|mc|nd|ri)|sgh\\\\-|shar|sie(\\\\-|m)|sk\\\\-0|sl(45|id)|sm(al|ar|b3|it|t5)|so(ft|ny)|sp(01|h\\\\-|v\\\\-|v )|sy(01|mb)|t2(18|50)|t6(00|10|18)|ta(gt|lk)|tcl\\\\-|tdg\\\\-|tel(i|m)|tim\\\\-|t\\\\-mo|to(pl|sh)|ts(70|m\\\\-|m3|m5)|tx\\\\-9|up(\\\\.b|g1|si)|utst|v400|v750|veri|vi(rg|te)|vk(40|5[0-3]|\\\\-v)|vm40|voda|vulc|vx(52|53|60|61|70|80|81|83|85|98)|w3c(\\\\-| )|webc|whit|wi(g |nc|nw)|wmlb|wonu|x700|yas\\\\-|your|zeto|zte\\\\-/i.test(a.substr(0,4)))check = true})(navigator.userAgent||navigator.vendor||window.opera);\\r\\n\\t\\treturn check;\\r\\n\\t}\\r\\n\\tvar SKIN_URL = 'https://one.mistobox.com/skin/frontend/default/sns_korion';\\r\\n\\tvar TMPL_NAME = 'sns_korion';\\r\\n\\tvar TMPL_COOKIE = [\"fontSize\",\"fontFamily\",\"themeColor\",\"useSnowFall\",\"menuStyles\",\"keepMenu\",\"bodyBgColor\",\"bodyTextColor\"];\\r\\n\\tvar KEEP_MENU = 0;\\r\\n\\tvar IS_HANDHELD = isHandheldDevices();\\r\\n//]]>\\r\\n</script>\\n<script></script>\\n<script></script>\\n<script>(function(w,d,t,r,u){var f,n,i;w[u]=w[u]||[],f=function(){var o={ti:\"5613027\"};o.q=w[u],w[u]=new UET(o),w[u].push(\"pageLoad\")},n=d.createElement(t),n.src=r,n.async=1,n.onload=n.onreadystatechange=function(){var s=this.readyState;s&&s!==\"loaded\"&&s!==\"complete\"||(f(),n.onload=n.onreadystatechange=null)},i=d.getElementsByTagName(t)[0],i.parentNode.insertBefore(n,i)})(window,document,\"script\",\"//bat.bing.com/bat.js\",\"uetq\");</script><noscript><img/></noscript>\\n<script>(function() {\\r\\n  var _fbq = window._fbq || (window._fbq = []);\\r\\n  if (!_fbq.loaded) {\\r\\n    var fbds = document.createElement('script');\\r\\n    fbds.async = true;\\r\\n    fbds.src = '//connect.facebook.net/en_US/fbds.js';\\r\\n    var s = document.getElementsByTagName('script')[0];\\r\\n    s.parentNode.insertBefore(fbds, s);\\r\\n    _fbq.loaded = true;\\r\\n  }\\r\\n  _fbq.push(['addPixelId', '533138313456097']);\\r\\n})();\\r\\nwindow._fbq = window._fbq || [];\\r\\nwindow._fbq.push(['track', 'PixelInitialized', {}]);\\r\\n</script>\\n<noscript><img/></noscript>\\n</head>\\n<body>\\n<div>\\n<section>\\n<!-- <div class=\"black_friday_deal_header\" id=\"sharktank\" style=\" color: #FFF; letter-spacing: .04em; font-size:13px; font-weight: normal; font-family: 'museo-sans'\">\\r\\n\\t \\t<div class=\"deal_header_text\">\\r\\n\\t\\t\\t<div class=\"sharktank_link\">\\r\\n\\t\\t\\t\\t<div class=\"span12\" style=\"position: relative; top: 2px; color: #8e6b54; display: inline-block;\"> \\r\\n\\r\\n\\t\\t\\t\\t\\t<div class=\"span3\" style=\"margin-left: 0;\">\\r\\n\\t\\t\\t\\t\\t\\t<div class=\"promotion_name\">Black Friday Offers</div>\\r\\n\\t\\t\\t\\t\\t</div>\\r\\n\\t\\t\\t\\t\\t\\r\\n\\t\\t\\t\\t\\t<div class=\"span6\">\\r\\n\\t\\t\\t\\t\\t\\t<div class=\"promotion_option\">\\r\\n\\t\\t\\t\\t\\t\\t\\t<div class=\"discount\">$3 off</div>\\r\\n\\t\\t\\t\\t\\t\\t\\t<div class=\"condition\">3 month gifts</div>\\r\\n\\t\\t\\t\\t\\t\\t</div>\\r\\n\\t\\t\\t\\t\\t\\t<div class=\"promotion_option\">\\r\\n\\t\\t\\t\\t\\t\\t\\t<div class=\"discount\">$6 off</div>\\r\\n\\t\\t\\t\\t\\t\\t\\t<div class=\"condition\">6 month gifts</div>\\r\\n\\t\\t\\t\\t\\t\\t</div>\\r\\n\\t\\t\\t\\t\\t\\t<div class=\"promotion_option\">\\r\\n\\t\\t\\t\\t\\t\\t\\t<div class=\"discount\">$12 off</div>\\r\\n\\t\\t\\t\\t\\t\\t\\t<div class=\"condition\">12 month gifts</div>\\r\\n\\t\\t\\t\\t\\t\\t</div>\\r\\n\\t\\t\\t\\t\\t</div>\\r\\n\\r\\n\\t\\t\\t\\t\\t<div class=\"span3 actions\">\\r\\n\\t\\t\\t\\t\\t\\t<a href=\"/gift\"> <div class=\"white-button quiz_button\">Give A Gift</div></a>\\r\\n\\t\\t\\t\\t\\t\\t<div class=\"code small_sreen_hide\">code: BLACKCOFFEE</div>\\r\\n\\t\\t\\t\\t\\t</div>\\r\\n\\r\\n\\t\\t\\t\\t</div>\\r\\n\\t\\t\\t</div>\\r\\n\\t </div>\\r\\n</div>\\r\\n<div class=\"black_friday_deal_spacer\"></div> -->\\n<!-- <div class=\"black_friday_deal_header\" id=\"sharktank\" style=\"background: #84403a; min-height: 50px; color: #FFF; letter-spacing: .04em; font-size:13px; font-weight: normal; font-family: 'museo-sans'\">\\r\\n\\t \\t<div class=\"deal_header_text\" style=\"color: #fff\">\\r\\n\\t\\t\\t<div class=\"sharktank_link row-fluid\"  style=\"color: #fff\">\\r\\n\\t\\t\\t\\r\\n\\t\\t\\t\\t<span style=\"color: #FFF; margin-top: 3px; display: inline-block;\"> It's not too late! Schedule holiday delivery with email and print options. </span> <a href=\"/gift\"> <div class=\"white-button quiz_button\" style=\"border: 1px solid #ffffff; color: #84403a; background: #ffffff;  border-radius: 1px; font-size: 10px; text-transform: uppercase; font-weight: normal;  letter-spacing: .05em;  line-height: 24px;\">Give A Gift</div></a> -->\\n<!-- <div class=\"white-button quiz_button subscription_hide\" style=\"border: 1px solid #5f828d; color: #fff; background: #5f828d;  border-radius: 1px; font-size: 10px; text-transform: uppercase; font-weight: normal; letter-spacing: .05em; margin: 0 10px;  line-height: 24px;\">Subscribe</div></a> -->\\n<!-- <span style=\"color: #5f828d; margin-left: 5px;\" class=\"gift_code\" >Code: BLACKCOFFEE</span> \\t<a href=\"/gift\">\\r\\n\\t\\t\\t\\t<div class=\"white-button gift_button subscription_hide small_screen_hide\" style=\"border: 1px solid #5f828d; color: #fff; background: #5f828d;  border-radius: 1px; font-size: 10px; text-transform: uppercase; font-weight: normal; margin: 0 10px; letter-spacing: .05em;  line-height: 24px;\">Give a gift</div></a> -->\\n<!-- <a class=\"underline_link\" href=\"/gift\">Get Started</a>  -->\\n<!-- <a href=\"/quiz\"> <div class=\"white-button quiz_button subscription_hide\" style=\"border: 1px solid #8e6b54; color: #fff; background: #8e6b54;  border-radius: 1px; font-size: 10px; text-transform: uppercase; font-weight: normal;  letter-spacing: .05em;  line-height: 24px;\">Get Started</div></a> -->\\n<!-- <a href=\"/gift\"> <div class=\"white-button quiz_button\" style=\"border: 1px solid #ffffff; color: #5f828d; background: #ffffff;  border-radius: 1px; font-size: 10px; text-transform: uppercase; font-weight: normal;  letter-spacing: .05em;  line-height: 24px;\">Give A Gift</div></a>\\r\\n\\t\\t\\t\\r\\n\\t\\t\\t\\r\\n\\r\\n\\t\\t\\t\\t<a href=\"/gear-merch\"> <div class=\"white-button gift_button\" style=\"border: 1px solid #FFF; color: #FFF; border-radius: 50px; font-size: 9px; font-weight: normal; letter-spacing: .15em;  line-height: 22px;\">  Brew Gear </div> </a>\\r\\n\\r\\n\\t\\t\\t\\t\\t<a href=\"/gear-merch\"> <div class=\"white-button gift_button\" style=\"border: 1px solid #f9e6dd; color: #983b33; background: #f9e6dd;  border-radius: 1px; font-size: 10px; text-transform: uppercase; font-weight: normal; letter-spacing: .05em;  line-height: 24px;\">  Brew Gear </div> </a>  -->\\n<!-- \\r\\n\\t\\t\\t</div>\\r\\n\\t </div>\\r\\n</div>\\r\\n<div class=\"black_friday_deal_spacer\"></div> -->\\n<div>\\n</div>\\n<div></div>\\n<div>\\n<div>\\n<div>\\n<div>\\n<!-- BEGIN: Logo -->\\n<div>\\n<a>\\n<img/>\\n</a>\\n</div>\\n<div>\\n<img/>\\n</div>\\n<!-- END: Logo -->\\n<div>\\n<div>\\n</div>\\n</div>\\n</div>\\n<div>\\n<div>\\n<div>\\n<div>\\n<ul>\\n<div><li><a>Subscribe</a></li><li><a>Shop</a></li><li><a>Give a Gift</a></li><li><a>Redeem Gift</a></li></div>\\n<li><a>Coffee Subscriptions</a></li>\\n<li><a> Coffee Gifts</a></li>\\n<li>\\n<div>\\n<a>\\n      Shop\\n      <span></span>\\n</a>\\n<ul>\\n<li><a>Coffee</a></li>\\n<li><a>Brew Gear &amp; Merch</a></li>\\n<li><a>Coffee Roasters</a></li>\\n</ul>\\n</div>\\n</li>\\n<li>\\n<div>\\n<a>\\n      Learn\\n      <span></span>\\n</a>\\n<ul>\\n<li><a>Brew Guides</a></li>\\n<li><a>Blog</a></li>\\n</ul>\\n</div>\\n</li>\\n<li><a>How It Works</a></li>\\n<li><a>Corporate Gifts</a></li>\\n<li><a>Redeem A Gift</a></li>\\n<li><a>Sign In</a></li>\\n<div>\\n</div>\\n<!--     <li style=\"display:block;\"><a role=\"menuitem\" tabindex=\"-1\" href=\"/dashboard\">In Your Cup</a></li>\\r\\n      <li style=\"display:block;\"><a role=\"menuitem\" tabindex=\"-1\" href=\"/dashboard/history\">Coffee History</a></li>\\r\\n      <li style=\"display:block;\"><a role=\"menuitem\" tabindex=\"-1\" href=\"/dashboard/profile\">Profile</a></li>\\r\\n      <li style=\"display:block;\"><a role=\"menuitem\" tabindex=\"-1\" href=\"/dashboard/gift\">Gift History</a></li>\\r\\n      <li style=\"display:block;\"><a role=\"menuitem\" tabindex=\"-1\" href=\"/dashboard/subscription\">Subscriptions</a></li>\\r\\n      <li style=\"display:block;\"><a role=\"menuitem\" tabindex=\"-1\" href=\"https://mistobox.zendesk.com/hc/en-us\" target=\"_blank\">Support</a></li> -->\\n</ul>\\n<div>\\n<div>\\n<div>\\n<div>\\n<button>\\xd7</button>\\n<div>\\r\\n\\t\\t\\t\\t\\t\\t\\t\\t\\t\\t\\t\\t\\tSign In\\t\\t\\t\\t\\t\\t\\t\\t\\t\\t\\t\\t</div>\\n</div>\\n<div>\\n<form>\\n<input/>\\n<div>\\n<div>\\n<div>\\n<label>Email</label><input/>\\n<label>Password</label><input/>\\n</div>\\n<span></span>\\n<div>\\n<div>\\n<button><span><span>Sign In</span></span></button>\\n</div>\\n<ul>\\n<li><a>Forgot Your Password?</a></li>\\n<!--   <li>\\r\\n              <a aria-hidden=\"true\" data-dismiss=\"modal\" data-toggle=\"modal\" href=\"#modal_regis\" title=\"Register\">Create an account.</a>\\r\\n            </li> -->\\n</ul>\\n</div>\\n<!--         <div class=\"h2-break span12\">\\r\\n          <hr>\\r\\n          <span> OR </span>\\r\\n        </div> -->\\n</div>\\n</div>\\n<!--     <div class=\"facebook-connect\">\\r\\n      Connect With Facebook\\r\\n    </div> -->\\n<script>\\r\\n      $sns_jq(function() {\\r\\n        // bind 'myForm' and provide a simple callback function\\r\\n        var errorSpan = $sns_jq('#topLinkLoginForm span.error');\\r\\n        $sns_jq('#topLinkLoginForm').ajaxForm(function(result) {\\r\\n          if (!result) {\\r\\n            errorSpan.text('Login Error');\\r\\n          } else {\\r\\n            if (result.success) {\\r\\n              $sns_jq('.sns-quickaccess li.login').html(result.data.replaceHtml);\\r\\n\\r\\n              if (window.location.pathname === '/' ||\\r\\n                  window.location.pathname === '/index.php/') {\\r\\n                window.location.reload();\\r\\n              } else {\\r\\n                if (window._MB && window._MB.setIsLoggedIn) {\\r\\n                  window._MB.setIsLoggedIn();\\r\\n                }\\r\\n                $sns_jq('#modal_login').modal('hide');\\r\\n              }\\r\\n            } else {\\r\\n              if (result.error === 'bad request') {\\r\\n                window.location.reload();\\r\\n              }\\r\\n              errorSpan.text(result.error);\\r\\n            }\\r\\n          }\\r\\n        });\\r\\n      });\\r\\n\\r\\n    </script>\\n</form>\\n</div>\\n</div>\\n<!-- /.modal-content -->\\n</div>\\n<!-- /.modal-dialog -->\\n</div>\\n<!-- /.modal -->\\n<div>\\n<div>\\n<div>\\n<div>\\n<button>\\xd7</button>\\n<div>\\r\\n\\t\\t\\t\\t\\t\\t\\t\\t\\t\\t\\t\\t\\tRegister\\t\\t\\t\\t\\t\\t\\t\\t\\t\\t\\t\\t</div>\\n</div>\\n<div>\\n<div>\\n<!-- -->\\n<form>\\n<div>\\n<div>\\n<input/>\\n<input/>\\n<!--      <h5 class=\"legend\">Register</h5> -->\\n<ul>\\n<li>\\n<div>\\n<div>\\n<label>First Name</label>\\n<div>\\n<input/>\\n</div>\\n</div>\\n<div>\\n<label>Last Name</label>\\n<div>\\n<input/>\\n</div>\\n</div>\\n</div>\\n<!--   <div class=\"customer-name\">\\n    <div class=\"span6 name-firstname\">\\n      \\n        <div class=\"input-box\">\\n            <input type=\"text\" placeholder=\"First Name\" id=\"firstname\" name=\"firstname\" value=\"\" title=\"First Name\" maxlength=\"255\" class=\"input-text required-entry\"  />\\n        </div>\\n    </div>\\n    <div class=\"span6 name-lastname\">\\n    \\n        <div class=\"input-box\">\\n            <input type=\"text\" placeholder=\"Last Name\" id=\"lastname\" name=\"lastname\" value=\"\" title=\"Last Name\" maxlength=\"255\" class=\"input-text required-entry\"  />\\n        </div>\\n    </div>\\n</div>\\n -->\\n</li>\\n<li>\\n<label>Email Address</label>\\n<div>\\n<input/>\\n</div>\\n</li>\\n<!--                                 <li class=\"control\">\\r\\n                    <div class=\"input-box\">\\r\\n                        <input type=\"checkbox\" name=\"is_subscribed\" title=\"Sign Up for Newsletter\" value=\"1\" id=\"is_subscribed\" class=\"checkbox\" />\\r\\n                    </div>\\r\\n                    <label for=\"is_subscribed\">Sign Up for Newsletter</label>\\r\\n                                                        </li>\\r\\n                 -->\\n<!-- -->\\n</ul>\\n</div>\\n</div>\\n<div>\\n<div>\\n<ul>\\n<li>\\n<div>\\n<div>\\n<label>Password</label>\\n<div>\\n<input/>\\n</div>\\n</div>\\n<div>\\n<label>Confirm Password</label>\\n<div>\\n<input/>\\n</div>\\n</div>\\n</div>\\n</li>\\n<!-- -->\\n</ul>\\n</div>\\n</div>\\n<input/>\\n<input/>\\n<input/>\\n<div>\\n<div>\\n<!--           <p class=\"required\">* Required Fields</p> -->\\n<a>Back to sign-in</a>\\n<button><span><span>Register</span></span></button>\\n</div>\\n</div>\\n</form>\\n<script>\\r\\n    //<![CDATA[\\r\\n        var dataForm = new VarienForm('form-validate', true);\\r\\n                $sns_jq(function() {\\r\\n          if (typeof mixpanel !== 'undefined') {\\r\\n            var checkInterval = setInterval(function() {\\r\\n              if (mixpanel.__loaded) {\\r\\n                clearInterval(checkInterval);\\r\\n                var mp_props = ((mixpanel.cookie || {}).props || {});\\r\\n                $sns_jq('input[name=utm_medium]').val(mp_props.utm_medium);\\r\\n                $sns_jq('input[name=utm_source]').val(mp_props.utm_source);\\r\\n                $sns_jq('input[name=utm_campaign]').val(mp_props.utm_campaign);\\r\\n              }\\r\\n            }, 200);\\r\\n\\r\\n          }\\r\\n        });\\r\\n    //]]>\\r\\n    </script>\\n</div>\\n</div>\\n</div>\\n<!-- /.modal-content -->\\n</div>\\n<!-- /.modal-dialog -->\\n</div>\\n<!-- /.modal -->\\n<script>\\r\\n\\t\\t\\t\\t\\t\\t\\t\\t\\t$sns_jq(document).ready(function ($) {\\r\\n\\t\\t\\t\\t\\t\\t\\t\\t\\t\\t$('.topheader-right ul.links li').each(function () {\\r\\n\\t\\t\\t\\t\\t\\t\\t\\t\\t\\t\\thref = String($(this).find('a').attr('href'));\\r\\n\\t\\t\\t\\t\\t\\t\\t\\t\\t\\t\\tif (href.search('customer/account/login') != -1) {\\r\\n\\t\\t\\t\\t\\t\\t\\t\\t\\t\\t\\t\\t$(this).addClass('login'); $(this).removeClass('last');\\r\\n\\t\\t\\t\\t\\t\\t\\t\\t\\t\\t\\t\\t$(this).find('a').attr('data-toggle', 'modal');\\r\\n\\t\\t\\t\\t\\t\\t\\t\\t\\t\\t\\t\\t$(this).find('a').attr('href', '#modal_login');\\r\\n\\t\\t\\t\\t\\t\\t\\t\\t\\t\\t\\t}\\r\\n\\t\\t\\t\\t\\t\\t\\t\\t\\t\\t});\\r\\n\\t\\t\\t\\t\\t\\t\\t\\t\\t});\\r\\n\\t\\t\\t\\t\\t\\t\\t\\t</script>\\n</div>\\n</div>\\n<script>\\n//<![CDATA[\\n \\tminicart = new miniCartForm('minicart-form_uq5a71278c90f5d', '', 'https://one.mistobox.com/checkout/cart/updatePost/');\\n//]]>\\n</script>\\n<div>\\n<div>\\n<div>\\n<span>Cart:</span>\\n</div>\\n</div>\\n</div>\\n<script>\\n//<![CDATA[\\nif(!IS_HANDHELD){\\n\\n}else{\\n\\t$sns_jq('.mini-cart').addClass('handheld');\\n}\\n//]]>\\n</script>\\n</div>\\n</div>\\n</div>\\n</div>\\n</div>\\n<div></div>\\n<div>\\n<div>\\n<div>\\n<div>\\n<div>\\n<!-- Filters Nav\\t -->\\n<div>\\n<!-- Opens filters side nav -->\\n<div>\\n<img/>\\n<span>0</span>\\n<div>\\n<div>\\r\\n\\t\\t\\t\\t\\t\\t\\t\\t\\t\\tFilters\\r\\n\\t\\t\\t\\t\\t\\t\\t\\t\\t</div>\\n</div>\\n</div>\\n<!-- Closes filters side nav -->\\n<div>\\n<img/>\\n<div>\\n<div>\\r\\n\\t\\t\\t\\t\\t\\t\\t\\t\\t\\tFilters\\r\\n\\t\\t\\t\\t\\t\\t\\t\\t\\t</div>\\n</div>\\n</div>\\n<!-- Applies filters and closes side nav -->\\n<div>\\n<img/>\\n<div>\\n<div>\\r\\n\\t\\t\\t\\t\\t\\t\\t\\t\\t\\tApply\\r\\n\\t\\t\\t\\t\\t\\t\\t\\t\\t</div>\\n</div>\\n</div>\\n</div>\\n<!-- Subscribe Nav  -->\\n<a>\\n<div>\\n<img/>\\n<div>\\n<div>\\r\\n\\t\\t\\t\\t\\t\\t\\t\\t\\t\\tSubscribe\\r\\n\\t\\t\\t\\t\\t\\t\\t\\t\\t</div>\\n</div>\\n</div>\\n</a>\\n<!-- Dashboard Nav  -->\\n<a>\\n<div>\\n<img/>\\n<div>\\n<div>\\r\\n\\t\\t\\t\\t\\t\\t\\t\\t\\t\\tHome\\r\\n\\t\\t\\t\\t\\t\\t\\t\\t\\t</div>\\n</div>\\n</div>\\n</a>\\n<!-- Browse Nav -->\\n<a>\\n<div>\\n<img/>\\n<div>\\n<div>\\r\\n\\t\\t\\t\\t\\t\\t\\t\\t\\t\\tBrowse\\r\\n\\t\\t\\t\\t\\t\\t\\t\\t\\t</div>\\n</div>\\n</div>\\n</a>\\n</div>\\n<div>\\n<!-- Next Nav  -->\\n<div>\\n<img/>\\n<span>0</span>\\n<div>\\n<div>\\r\\n\\t\\t\\t\\t\\t\\t\\t\\t\\tNext\\r\\n\\t\\t\\t\\t\\t\\t\\t\\t</div>\\n</div>\\n</div>\\n<!-- Dashboard Nav  -->\\n<a>\\n<div>\\n<img/>\\n<div>\\n<div>\\r\\n\\t\\t\\t\\t\\t\\t\\t\\t\\t\\tDashboard\\r\\n\\t\\t\\t\\t\\t\\t\\t\\t\\t</div>\\n</div>\\n</div>\\n</a>\\n<!-- Subscribe Two Nav  -->\\n<a>\\n<div>\\n<img/>\\n<div>\\n<div>\\r\\n\\t\\t\\t\\t\\t\\t\\t\\t\\t\\tSubscribe\\r\\n\\t\\t\\t\\t\\t\\t\\t\\t\\t</div>\\n</div>\\n</div>\\n</a>\\n<!-- Sign in/dashboard 2 Nav  -->\\n<a>\\n<div>\\n<img/>\\n<div>\\n<div>\\r\\n\\t\\t\\t\\t\\t\\t\\t\\t\\t\\tSign In\\r\\n\\t\\t\\t\\t\\t\\t\\t\\t\\t</div>\\n</div>\\n</div>\\n</a>\\n<!-- Shop/browse Two Nav  -->\\n<a>\\n<div>\\n<img/>\\n<div>\\n<div>\\r\\n\\t\\t\\t\\t\\t\\t\\t\\t\\t\\tShop\\r\\n\\t\\t\\t\\t\\t\\t\\t\\t\\t</div>\\n</div>\\n</div>\\n</a>\\n</div>\\n</div>\\n<!-- left -->\\n<div>\\n<div>\\n<a>\\n<img/>\\n</a>\\n</div>\\n</div>\\n<div>\\n<div>\\n<script>\\n//<![CDATA[\\n \\tminicart = new miniCartForm('minicart-form_uq5a71278c90f5d', '', 'https://one.mistobox.com/checkout/cart/updatePost/');\\n//]]>\\n</script>\\n<div>\\n<div>\\n<div>\\n<span>Cart:</span>\\n</div>\\n</div>\\n</div>\\n<script>\\n//<![CDATA[\\nif(!IS_HANDHELD){\\n\\n}else{\\n\\t$sns_jq('.mini-cart').addClass('handheld');\\n}\\n//]]>\\n</script>\\n<div>\\n<div>\\r\\n\\t\\t\\t\\t\\t\\t\\t\\tCart\\r\\n\\t\\t\\t\\t\\t\\t\\t</div>\\n</div>\\n</div>\\n<div>\\n<img/>\\n<div>\\n<div>\\n<div>\\n<div>\\n<div>\\n<ul>\\n<div><li><a>Subscribe</a></li><li><a>Shop</a></li><li><a>Give a Gift</a></li><li><a>Redeem Gift</a></li></div>\\n<li><a>Coffee Subscriptions</a></li>\\n<li><a> Coffee Gifts</a></li>\\n<li>\\n<div>\\n<a>\\n      Shop\\n      <span></span>\\n</a>\\n<ul>\\n<li><a>Coffee</a></li>\\n<li><a>Brew Gear &amp; Merch</a></li>\\n<li><a>Coffee Roasters</a></li>\\n</ul>\\n</div>\\n</li>\\n<li>\\n<div>\\n<a>\\n      Learn\\n      <span></span>\\n</a>\\n<ul>\\n<li><a>Brew Guides</a></li>\\n<li><a>Blog</a></li>\\n</ul>\\n</div>\\n</li>\\n<li><a>How It Works</a></li>\\n<li><a>Corporate Gifts</a></li>\\n<li><a>Redeem A Gift</a></li>\\n<li><a>Sign In</a></li>\\n<div>\\n</div>\\n<!--     <li style=\"display:block;\"><a role=\"menuitem\" tabindex=\"-1\" href=\"/dashboard\">In Your Cup</a></li>\\r\\n      <li style=\"display:block;\"><a role=\"menuitem\" tabindex=\"-1\" href=\"/dashboard/history\">Coffee History</a></li>\\r\\n      <li style=\"display:block;\"><a role=\"menuitem\" tabindex=\"-1\" href=\"/dashboard/profile\">Profile</a></li>\\r\\n      <li style=\"display:block;\"><a role=\"menuitem\" tabindex=\"-1\" href=\"/dashboard/gift\">Gift History</a></li>\\r\\n      <li style=\"display:block;\"><a role=\"menuitem\" tabindex=\"-1\" href=\"/dashboard/subscription\">Subscriptions</a></li>\\r\\n      <li style=\"display:block;\"><a role=\"menuitem\" tabindex=\"-1\" href=\"https://mistobox.zendesk.com/hc/en-us\" target=\"_blank\">Support</a></li> -->\\n</ul>\\n</div>\\n</div>\\n</div>\\n</div>\\n<div>\\n<div>\\r\\n\\t\\t\\t\\t\\t\\t\\t\\t\\tMenu\\r\\n\\t\\t\\t\\t\\t\\t\\t\\t</div>\\n</div>\\n</div>\\n</div>\\n</div>\\n</div>\\n</div>\\n</div>\\n<!-- BEGIN: Header -->\\n<div>\\n<div>\\n<div>\\n</div>\\n</div>\\n</div>\\n<!-- END: Header -->\\n<!-- BEGIN: Menu -->\\n<div>\\n<div>\\n<div>\\n<!-- BEGIN: Main Navigation -->\\n<div>\\n<div>\\n<ul>\\n<li>\\n<a>\\n<span>\\r\\n\\t\\t\\t\\t\\tCoffee\\t\\t\\t\\t</span>\\n</a>\\n<div><div><div><span>Coffee Type</span></div><div><div><div><a><span>Single origin</span></a></div></div><div><div><a><span>Decaf</span></a></div></div><div><div><a><span>Espresso</span></a></div></div><div><div><a><span>Blends</span></a></div></div></div></div><div><div><span>Flavor Profile</span></div><div><div><div><a><span>Citrus and Light</span></a></div></div><div><div><a><span>Earthy and Bold</span></a></div></div><div><div><a><span>Chocolatey and Nutty</span></a></div></div><div><div><a><span>Fruity and Sweet</span></a></div></div></div></div><div><div><span>Roast Level</span></div><div><div><div><a><span>Light</span></a></div></div><div><div><a><span>Medium</span></a></div></div><div><div><a><span>Dark</span></a></div></div></div></div></div> </li>\\n<li>\\n<a>\\n<span>\\r\\n\\t\\t\\t\\t\\tBrew Gear &amp; Merch\\t\\t\\t\\t</span>\\n</a>\\n</li><li>\\n<a>\\n<span>\\r\\n\\t\\t\\t\\t\\tCoffee Roasters\\t\\t\\t\\t</span>\\n</a>\\n</li></ul>\\n</div>\\n<div>\\n<button><i></i>\\n</button>\\n<ul>\\n<li>\\n<a><span>Home</span></a>\\n</li>\\n<li>\\n<a>\\n<span>Coffee Type</span>\\n</a>\\n<ul>\\n<li>\\n<a>\\n<span>Single Origin</span>\\n</a>\\n</li><li>\\n<a>\\n<span>Espresso</span>\\n</a>\\n</li><li>\\n<a>\\n<span>Blends</span>\\n</a>\\n</li><li>\\n<a>\\n<span>Decaf</span>\\n</a>\\n</li>\\n</ul>\\n</li> <li>\\n<a>\\n<span>Roast Level</span>\\n</a>\\n<ul>\\n<li>\\n<a>\\n<span>Light</span>\\n</a>\\n</li><li>\\n<a>\\n<span>Medium</span>\\n</a>\\n</li><li>\\n<a>\\n<span>Dark</span>\\n</a>\\n</li>\\n</ul>\\n</li> <li>\\n<a>\\n<span>Trade &amp; Certifications</span>\\n</a>\\n</li> <li>\\n<a>\\n<span>Brew gear Category</span>\\n</a>\\n<ul>\\n<li>\\n<a>\\n<span>Grinders</span>\\n</a>\\n</li>\\n</ul>\\n</li> <li>\\n<a>\\n<span>Gear &amp; Merch</span>\\n</a>\\n</li> </ul>\\n<script>\\r\\n        $sns_jq(document).ready(function($){\\r\\n            $('body#bd').addClass('resmenu-sb');\\r\\n            $('body#bd #sns_wrapper').append('<nav id=\"sns_off_screennav\" class=\"wrap\"><ul></ul></nav>');\\r\\n            $('body#bd #sns_wrapper').append('<div id=\"sns_off_screennav_overlay\"></div>');\\r\\n            //$('#sns_off_screennav').css('height', $(window).outerHeight());\\r\\n            //$('body#bd').css({'height': $(window).outerHeight(), 'overflow':'hidden'});\\r\\n            $('#sns_off_screennav ul').html($('#sns_mainnav ul.resmenu').html());\\r\\n            $('#sns_mainnav ul.resmenu').html('');\\r\\n\\r\\n            $('.btn.sns-resmenu-sidebar').click(function(){\\r\\n                if($('body#bd').hasClass('on-sidebar')){\\r\\n                    $('body#bd').removeClass('on-sidebar');\\r\\n                }else{\\r\\n                    $('body#bd').addClass('on-sidebar');\\r\\n                }\\r\\n            });\\r\\n            eventType = (IS_HANDHELD)?'touchstart' : 'click';\\r\\n            $('#sns_off_screennav_overlay').bind(eventType, function(){\\r\\n                $('body#bd').removeClass('on-sidebar');\\r\\n            });\\r\\n        });\\r\\n    </script>\\n</div> <form>\\n<div>\\n<input/>\\n<button></button>\\n<div></div>\\n<script>\\n        //<![CDATA[\\n            var searchForm = new Varien.searchForm('search_mini_form', 'search', 'Search');\\n            searchForm.initAutocomplete('https://one.mistobox.com/catalogsearch/ajax/suggest/', 'search_autocomplete');\\n        //]]>\\n        </script>\\n</div>\\n</form>\\n</div>\\n<!-- END: Main Navigation -->\\n</div>\\n</div>\\n</div>\\n<!-- END: Menu -->\\n<script>\\r\\n\\t\\t// jQuery(document).ready(function() {\\r\\n\\t\\t// \\tif ( jQuery( \".deal_header\" ).is( \":hidden\" ) ) {\\r\\n\\t\\t//   jQuery(\".deal_header\").slideDown( 600 );\\r\\n\\t\\t//   jQuery(\".deal_header_spacer\").slideDown( 600 );\\r\\n\\t\\t// }\\r\\n\\t\\t// });\\r\\n\\r\\n\\t\\t// set up mobile header event bus\\r\\n\\t\\tvar _MB = window._MB || {};\\r\\n\\t\\t_MB.isLoggedIn = false;\\r\\n\\t\\t\\t</script> <!-- BEGIN: SlideShow -->\\n<!-- END: SlideShow -->\\n<!-- BEGIN: Top Spotlight -->\\n<!-- END: Top Spotlight -->\\n<!-- BEGIN: Main Content -->\\n<div>\\n<div>\\n<div>\\n<div>\\n<!-- global messages -->\\n<!-- // global messages -->\\n<div>\\n<!-- primary content -->\\n<div>\\n</div>\\n<script>\\n  window._MBData = {\\n    forgotPasswordUrl: 'https://one.mistobox.com/customer/account/forgotpassword/',\\n    isLoggedIn: '' === '1',\\n    csie: 'MIIBCgKCAQEAqwMQwio/BxEAjKpoeW2MLmOBytB0L6K9nvsx3s6SrFF2VTjdf45rO1VOYDRVG82dn2hGeM+F9RkCk/sYORoP1Ozfy+62JBla2ArjtgmyPZrZoo8vFdrTzXSJUglBJJZFnvAkr0YRd2+5CyI8S/EP1xFCB8dP0ZIwPGH/DoxdY6Cvyzh04l7fsE7E3nH9+8W7+tJ2jFk2Rg6g8NCzaOIej/C1EnRXrvdJmgg1TAVbQH44pEn0gWQVnZKBbibFj8TUrAy/ptgaV8rYcbMztNtcLAJrcL8AougyE6bQDyZjdjn6ilNeZx3iKZk3isuQ9NLYj8KorELVE68PM3s9tZCuZwIDAQAB',\\n    env: 'prod',\\n    formKey: '0jOXPQyXoZ0MZKX2',\\n    vv: 'mistobox-shop'\\n  };\\n  window._MBData.customerJson = {\"curator\":null,\"email\":null,\"makeReviewsPrivate\":false,\"credit\":0,\"firstName\":null,\"lastName\":null,\"formKey\":\"0jOXPQyXoZ0MZKX2\",\"elevioHash\":\"fdc17261aecc94b03b464cd4573142739f261cbde776d850b53414d77ff4f300\"};\\n</script>\\n<script></script>\\n<script>\\n  window.getDTS = function() { \\n    return false;\\n  };\\n</script>\\n<script></script>\\n<!-- // primary content -->\\n</div>\\n</div>\\n</div>\\n</div>\\n</div>\\n<!-- END: Main Content -->\\n<!-- BEGIN: productswrap -->\\n<!-- END: productswrap -->\\n<!-- BEGIN: botsl -->\\n<!-- END: botsl -->\\n<div></div>\\n</section></div>\\n<!-- BEGIN: Footer -->\\n<div>\\n<div>\\n<div>\\n<div>\\n</div>\\n<div>\\n</div>\\n</div>\\n<div>\\n<div>\\n<div>\\n<script>\\r\\n      var _elev = window._elev || {};(function() {var i,e;i=document.createElement(\"script\"),i.type='text/javascript';i.async=1,i.src=\"https://static.elev.io/js/v3.js\",e=document.getElementsByTagName(\"script\")[0],e.parentNode.insertBefore(i,e);})();\\r\\n      _elev.account_id = '56a8bb04e158c';\\r\\n    </script>\\n<div>\\n<a><img/></a>\\n<a><img/></a>\\n<a><img/></a>\\n<a><img/></a>\\n</div>\\n<div>\\n<ul>\\n<li><a> About Us </a></li>\\n<li><a> FAQ </a></li>\\n<li><a> Privacy Policy </a></li>\\n</ul>\\n</div>\\n</div>\\n<div>\\n<div>\\n<div>\\r\\n\\t\\t\\t\\t\\xa9 2017 MistoBox. All Rights Reserved.\\t\\t\\t</div>\\n</div>\\n</div>\\n<script>\\r\\n    $sns_jq(function($){\\r\\n      if ($('#login-form')[0] && window.location.hash) {\\r\\n        $('#login-form')[0].action = $('#login-form')[0].action + window.location.hash;\\r\\n      }\\r\\n    })\\r\\n  </script>\\n</div>\\n<div>\\n<div>\\n<div>CPanel</div>\\n<!---<div class=\"cpanel-themecolor\">\\r\\n        <span class=\"themecolor-heading\">Select color skins</span>\\r\\n        <div class=\"inner clearfix\">\\r\\n                        <span title=\"Cyan\" class=\"themeColor cyan\">Cyan</span>\\r\\n            <span title=\"Blue\" class=\"themeColor blue\">Blue</span>\\r\\n            <span title=\"Green\" class=\"themeColor green\">Green</span>\\r\\n            <span title=\"Orange\" class=\"themeColor orange\">Orange</span>\\r\\n            <span title=\"Red\" class=\"themeColor red\">Red</span>\\r\\n        </div>\\r\\n    </div>-->\\n<div>\\n<!-- Multi store -->\\n<!--Body-->\\n<div>\\n<div>\\n<a>Body</a>\\n</div>\\n<div>\\n<div>\\n<!-- Body font-size -->\\n<div>\\n<span>Font-size</span>\\n<div>\\n<select>\\n<option>10px</option>\\n<option>11px</option>\\n<option>12px</option>\\n<option>13px</option>\\n<option>14px</option>\\n<option>15px</option>\\n<option>16px</option>\\n<option>17px</option>\\n<option>18px</option>\\n</select>\\n</div>\\n</div>\\n<!-- Body font-family -->\\n<div>\\n<span>Font-family</span>\\n<div>\\n<select>\\n<option>Arial</option>\\n<option>Arial Black</option>\\n<option>Courier New</option>\\n<option>Georgia</option>\\n<option>Impact</option>\\n<option>Lucida Console</option>\\n<option>Lucida Grande</option>\\n<option>Palatino</option>\\n<option>Tahoma</option>\\n<option>Times New Roman</option>\\n<option>Trebuchet</option>\\n<option>Verdana</option>\\n<option>Segoe UI</option>\\n</select>\\n</div>\\n</div>\\n<!-- Body Background color -->\\n<div>\\n<span>Background color</span>\\n<div>\\n<input/>\\n</div>\\n</div>\\n</div>\\n</div>\\n</div>\\n<!-- Menu -->\\n<div>\\n<div>\\n<a>\\r\\n                Menu\\r\\n                </a>\\n</div>\\n<div>\\n<div>\\n<!-- Styles -->\\n<div>\\n<span>Menu styles</span>\\n<div>\\n<select>\\n<option>Base</option>\\n<option>Mega</option>\\n</select>\\n</div>\\n</div>\\n<div>\\n<span>Keep menu on top</span>\\n<div>\\n<select>\\n<option>Yes</option>\\n<option>No</option>\\n</select>\\n</div>\\n</div>\\n</div>\\n</div>\\n</div>\\n</div>\\n<div>\\n<a>Reset</a>\\n</div>\\n<div>\\n<i></i>\\n</div>\\n</div>\\n<script>\\r\\n    // <![CDATA[\\r\\n\\r\\n    $sns_jq(document).ready(function($){\\r\\n        /* Begin: Enabling miniColors */\\r\\n        $('.bodyBgColor .color-picker').miniColors({\\r\\n            change: function(hex, rgb) {\\r\\n                $('body#bd').css('background-color', hex);\\r\\n                createCookie(TMPL_NAME+'_'+($(this).attr('name').match(/^sns_ccofig_(.*)$/))[1], hex, 365);\\r\\n            }\\r\\n        });\\r\\n        /* End: Enabling miniColors */\\r\\n        /* Begin: Set click pattern */\\r\\n        function patternClick(el, paramCookie, assign){\\r\\n            $(el).click(function(){\\r\\n                oldvalue = $(this).parent().find('.active').html();\\r\\n                $(el).removeClass('active');\\r\\n                $(this).addClass('active');\\r\\n                value = $(this).html();\\r\\n                if(assign.length > 0){\\r\\n                    for($i=0; $i < assign.length; $i++){\\r\\n                        $(assign[$i]).removeClass(oldvalue);\\r\\n                        $(assign[$i]).addClass(value);\\r\\n                    }\\r\\n                }\\r\\n                if(paramCookie){\\r\\n                    $('input[name$=\"sns_ccofig_'+paramCookie+'\"]').attr('value', value);\\r\\n                    createCookie(TMPL_NAME+'_'+paramCookie, value, 365);\\r\\n                }\\r\\n            });\\r\\n\\r\\n        }\\r\\n        patternClick('.body-background-image .pattern',   'body-bgimage',   Array('#bd', ''));\\r\\n        /* End: Set click pattern */\\r\\n        function templateSetting(array){\\r\\n            if(array['0']){\\r\\n                $('.bodyBgColor input.miniColors').attr('value', array['0']);\\r\\n                $('.bodyBgColor a.miniColors-trigger').css('background-color', array['0']);\\r\\n                $('input.sns_ccofig_bodyBgColor').attr('value', array['0']);\\r\\n            }\\r\\n        }\\r\\n        var array             = Array('bodyBgColor');\\r\\n        var array_blue       = Array('#FFFFFF');\\r\\n        var array_cyan        = Array('#FFFFFF');\\r\\n        var array_orange      = Array('#FFFFFF');\\r\\n        var array_green       = Array('#FFFFFF');\\r\\n        var array_red         = Array('#FFFFFF');\\r\\n\\r\\n        $('.themeColor.blue').click(function(){\\r\\n            $($(this).parent().find('.active')).removeClass('active'); $(this).addClass('active');\\r\\n            createCookie(TMPL_NAME+'_'+'themeColor', $(this).html().toLowerCase(), 365);\\r\\n            templateSetting(array_blue);\\r\\n            cPApply();\\r\\n        });\\r\\n        $('.themeColor.cyan').click(function(){\\r\\n            $($(this).parent().find('.active')).removeClass('active'); $(this).addClass('active');\\r\\n            createCookie(TMPL_NAME+'_'+'themeColor', $(this).html().toLowerCase(), 365);\\r\\n            templateSetting(array_cyan);\\r\\n            cPApply();\\r\\n        });\\r\\n        $('.themeColor.orange').click(function(){\\r\\n            $($(this).parent().find('.active')).removeClass('active'); $(this).addClass('active');\\r\\n            createCookie(TMPL_NAME+'_'+'themeColor', $(this).html().toLowerCase(), 365);\\r\\n            templateSetting(array_orange);\\r\\n            cPApply();\\r\\n        });\\r\\n        $('.themeColor.green').click(function(){\\r\\n            $($(this).parent().find('.active')).removeClass('active'); $(this).addClass('active');\\r\\n            createCookie(TMPL_NAME+'_'+'themeColor', $(this).html().toLowerCase(), 365);\\r\\n            templateSetting(array_green);\\r\\n            cPApply();\\r\\n        });\\r\\n        $('.themeColor.red').click(function(){\\r\\n            $($(this).parent().find('.active')).removeClass('active'); $(this).addClass('active');\\r\\n            createCookie(TMPL_NAME+'_'+'themeColor', $(this).html().toLowerCase(), 365);\\r\\n            templateSetting(array_red);\\r\\n            cPApply();\\r\\n        });\\r\\n    });\\r\\n    // ]]>\\r\\n    </script>\\n<script>\\r\\n    $sns_jq(document).ready(function($) {\\r\\n        //accordion\\r\\n        $('#sns_cpanel .accordion-heading').accordion_snyderplace({\\r\\n            defaultOpen: '#sns_cpanelaccordionfirst',\\r\\n            cookieName: 'cpanel_accordion',\\r\\n            speed: 'fast',\\r\\n            animateOpen: function (elem, opts) { //replace the standard slideUp with custom function\\r\\n                elem.next().slideFadeToggle(opts.speed);\\r\\n            },\\r\\n            animateClose: function (elem, opts) { //replace the standard slideDown with custom function\\r\\n                elem.next().slideFadeToggle(opts.speed);\\r\\n            }\\r\\n        });\\r\\n        //custom animation for open/close\\r\\n        $.fn.slideFadeToggle = function(speed, easing, callback) {\\r\\n            return this.animate({opacity: 'toggle', height: 'toggle'}, speed, easing, callback);\\r\\n        };\\r\\n    });\\r\\n</script><a><i></i></a>\\n<script>\\r\\n\\t$sns_jq(function($){\\r\\n\\t\\t// back to top\\r\\n\\t\\t$(\"#sns-totop\").hide();\\r\\n\\t\\t$(function () {\\r\\n\\t\\t\\tvar wh = $(window).height();\\r\\n\\t\\t\\tvar whtml =  $(document).height();\\r\\n\\t\\t\\t$(window).scroll(function () {\\r\\n\\t\\t\\t\\tif ($(this).scrollTop() > whtml/10) {\\r\\n\\t\\t\\t\\t\\t$('#sns-totop').fadeIn();\\r\\n\\t\\t\\t\\t} else {\\r\\n\\t\\t\\t\\t\\t$('#sns-totop').fadeOut();\\r\\n\\t\\t\\t\\t}\\r\\n\\t\\t\\t});\\r\\n\\t\\t\\t$('#sns-totop').click(function () {\\r\\n\\t\\t\\t\\t$('body,html').animate({\\r\\n\\t\\t\\t\\t\\tscrollTop: 0\\r\\n\\t\\t\\t\\t}, 800);\\r\\n\\t\\t\\t\\treturn false;\\r\\n\\t\\t\\t});\\r\\n\\t\\t});\\r\\n\\t\\t// end back to top\\r\\n\\t});\\r\\n</script></div>\\n</div>\\n</div>\\n</div>\\n<!-- start your Mixpanel custom code -->\\n<script>\\n</script>\\n<!-- end Mixpanel BRANDiD code -->\\n<script>\\r\\n//<![CDATA[\\r\\n\\twindow.removeItem=function(args){\\r\\n\\t\\tif (ajax_for_compare && (args.search('catalog/product_compare/remove') != -1) ){\\r\\n\\t\\t\\topener.deletePCompare=1;\\r\\n\\t\\t\\tif(winFocus){\\r\\n\\t\\t\\t\\topener.isCPPage=1;\\r\\n\\t\\t\\t\\topener.deletePCompare=1;\\r\\n\\t\\t\\t\\topener.focus();\\r\\n\\t\\t\\t\\topener.callAjax(args,'url');\\r\\n\\t\\t\\t\\texit;\\r\\n\\t\\t\\t}\\r\\n\\t\\t\\telse\\r\\n\\t\\t\\t\\tcallAjax(args,'url');\\r\\n\\t\\t}\\r\\n        else{\\r\\n            window.location.href = args;\\r\\n        }\\r\\n\\t};\\r\\n//]]>\\r\\n</script>\\n<script>\\r\\nadroll_adv_id = \"PPZKO4XYEZGJXKX2ZOHGFO\";\\r\\nadroll_pix_id = \"HSTEDVZY3ZGXLGABQWHBHS\";\\r\\n(function () {\\r\\nvar oldonload = window.onload;\\r\\nwindow.onload = function(){\\r\\n   __adroll_loaded=true;\\r\\n   var scr = document.createElement(\"script\");\\r\\n   var host = ((\"https:\" == document.location.protocol) ? \"https://s.adroll.com\" : \"http://a.adroll.com\");\\r\\n   scr.setAttribute('async', 'true');\\r\\n   scr.type = \"text/javascript\";\\r\\n   scr.src = host + \"/j/roundtrip.js\";\\r\\n   ((document.getElementsByTagName('head') || [null])[0] ||\\r\\n    document.getElementsByTagName('script')[0].parentNode).appendChild(scr);\\r\\n   if(oldonload){oldonload()}};\\r\\n}());\\r\\n</script>\\n<!-- begin olark code -->\\n<script>/*<![CDATA[*/window.olark||(function(c){var f=window,d=document,l=f.location.protocol==\"https:\"?\"https:\":\"http:\",z=c.name,r=\"load\";var nt=function(){\\r\\nf[z]=function(){\\r\\n(a.s=a.s||[]).push(arguments)};var a=f[z]._={\\r\\n},q=c.methods.length;while(q--){(function(n){f[z][n]=function(){\\r\\nf[z](\"call\",n,arguments)}})(c.methods[q])}a.l=c.loader;a.i=nt;a.p={\\r\\n0:+new Date};a.P=function(u){\\r\\na.p[u]=new Date-a.p[0]};function s(){\\r\\na.P(r);f[z](r)}f.addEventListener?f.addEventListener(r,s,false):f.attachEvent(\"on\"+r,s);var ld=function(){function p(hd){\\r\\nhd=\"head\";return[\"<\",hd,\"></\",hd,\"><\",i,' onl' + 'oad=\"var d=',g,\";d.getElementsByTagName('head')[0].\",j,\"(d.\",h,\"('script')).\",k,\"='\",l,\"//\",a.l,\"'\",'\"',\"></\",i,\">\"].join(\"\")}var i=\"body\",m=d[i];if(!m){\\r\\nreturn setTimeout(ld,100)}a.P(1);var j=\"appendChild\",h=\"createElement\",k=\"src\",n=d[h](\"div\"),v=n[j](d[h](z)),b=d[h](\"iframe\"),g=\"document\",e=\"domain\",o;n.style.display=\"none\";m.insertBefore(n,m.firstChild).id=z;b.frameBorder=\"0\";b.id=z+\"-loader\";if(/MSIE[ ]+6/.test(navigator.userAgent)){\\r\\nb.src=\"javascript:false\"}b.allowTransparency=\"true\";v[j](b);try{\\r\\nb.contentWindow[g].open()}catch(w){\\r\\nc[e]=d[e];o=\"javascript:var d=\"+g+\".open();d.domain='\"+d.domain+\"';\";b[k]=o+\"void(0);\"}try{\\r\\nvar t=b.contentWindow[g];t.write(p());t.close()}catch(x){\\r\\nb[k]=o+'d.write(\"'+p().replace(/\"/g,String.fromCharCode(92)+'\"')+'\");d.close();'}a.P(2)};ld()};nt()})({\\r\\nloader: \"static.olark.com/jsclient/loader0.js\",name:\"olark\",methods:[\"configure\",\"extend\",\"declare\",\"identify\"]});\\r\\n/* custom configuration goes here (www.olark.com/documentation) */\\r\\nolark.identify('1278-822-10-6723');/*]]>*/</script><noscript><a>Questions? Feedback?</a> powered by <a>Olark live chat software</a></noscript>\\n<!-- end olark code -->\\n</body>\\n</html>\\n"
      ]
     },
     "execution_count": 47,
     "metadata": {},
     "output_type": "execute_result"
    }
   ],
   "source": [
    "_remove_attrs(soup)"
   ]
  },
  {
   "cell_type": "code",
   "execution_count": null,
   "metadata": {},
   "outputs": [],
   "source": []
  },
  {
   "cell_type": "code",
   "execution_count": 49,
   "metadata": {},
   "outputs": [
    {
     "data": {
      "text/plain": [
       "638"
      ]
     },
     "execution_count": 49,
     "metadata": {},
     "output_type": "execute_result"
    }
   ],
   "source": [
    "import re\n",
    "urls = re.findall(r'href=[\\'\"]?([^\\'\" >]+)', fullhtml)\n",
    "len(urls)"
   ]
  },
  {
   "cell_type": "code",
   "execution_count": 188,
   "metadata": {},
   "outputs": [],
   "source": [
    "url=pd.DataFrame(fullurls)\n"
   ]
  },
  {
   "cell_type": "code",
   "execution_count": null,
   "metadata": {},
   "outputs": [],
   "source": [
    "url.drop()"
   ]
  },
  {
   "cell_type": "code",
   "execution_count": 190,
   "metadata": {},
   "outputs": [
    {
     "data": {
      "text/plain": [
       "[u'/subscriptions/index/buy?sku=AN-032',\n",
       " u'/subscriptions/index/buy?sku=COC-021',\n",
       " u'/subscriptions/index/buy?sku=SOC-019',\n",
       " u'/subscriptions/index/buy?sku=AKA-018',\n",
       " u'/subscriptions/index/buy?sku=HGT-007',\n",
       " u'/subscriptions/index/buy?sku=PHC-012',\n",
       " u'/subscriptions/index/buy?sku=BDWN-016',\n",
       " u'/subscriptions/index/buy?sku=STF-026',\n",
       " u'/subscriptions/index/buy?sku=AN-018',\n",
       " u'/subscriptions/index/buy?sku=TNY-011',\n",
       " u'/subscriptions/index/buy?sku=TNY-003',\n",
       " u'/subscriptions/index/buy?sku=CRC-014',\n",
       " u'/subscriptions/index/buy?sku=OCL-022',\n",
       " u'/subscriptions/index/buy?sku=AG-031',\n",
       " u'/subscriptions/index/buy?sku=ZOKA-012',\n",
       " u'/subscriptions/index/buy?sku=HGT-003',\n",
       " u'/subscriptions/index/buy?sku=OCL-017',\n",
       " u'/subscriptions/index/buy?sku=NOB-007',\n",
       " u'/subscriptions/index/buy?sku=INT-005',\n",
       " u'/subscriptions/index/buy?sku=CFVT-005',\n",
       " u'/subscriptions/index/buy?sku=KCR-05',\n",
       " u'/subscriptions/index/buy?sku=MTC-109',\n",
       " u'/subscriptions/index/buy?sku=BDWN-023',\n",
       " u'/subscriptions/index/buy?sku=HGT-002',\n",
       " u'/subscriptions/index/buy?sku=KCR-048',\n",
       " u'/subscriptions/index/buy?sku=OCL-015',\n",
       " u'/subscriptions/index/buy?sku=CFVT-000',\n",
       " u'/subscriptions/index/buy?sku=TCR-022',\n",
       " u'/subscriptions/index/buy?sku=SPY-04',\n",
       " u'/subscriptions/index/buy?sku=RUB-027',\n",
       " u'/subscriptions/index/buy?sku=TOP-017',\n",
       " u'/subscriptions/index/buy?sku=OLY-008',\n",
       " u'/subscriptions/index/buy?sku=OCL-004',\n",
       " u'/subscriptions/index/buy?sku=PCL-000',\n",
       " u'/subscriptions/index/buy?sku=OCL-0230',\n",
       " u'/subscriptions/index/buy?sku=COL-004',\n",
       " u'/subscriptions/index/buy?sku=PAN-11',\n",
       " u'/subscriptions/index/buy?sku=ZOKA-01',\n",
       " u'/subscriptions/index/buy?sku=TOP-119',\n",
       " u'/subscriptions/index/buy?sku=HW-124',\n",
       " u'/subscriptions/index/buy?sku=DCR-23',\n",
       " u'/subscriptions/index/buy?sku=AN-021',\n",
       " u'/subscriptions/index/buy?sku=MELA-003',\n",
       " u'/subscriptions/index/buy?sku=OLY-028',\n",
       " u'/subscriptions/index/buy?sku=EQT-001',\n",
       " u'/subscriptions/index/buy?sku=TNY-002',\n",
       " u'/subscriptions/index/buy?sku=HKB-108',\n",
       " u'/subscriptions/index/buy?sku=KLCH-014',\n",
       " u'/subscriptions/index/buy?sku=BDWN-017',\n",
       " u'/subscriptions/index/buy?sku=BDWN-002',\n",
       " u'/subscriptions/index/buy?sku=PHC-011',\n",
       " u'/subscriptions/index/buy?sku=COC-03',\n",
       " u'/subscriptions/index/buy?sku=TNY-015',\n",
       " u'/subscriptions/index/buy?sku=AN-020',\n",
       " u'/subscriptions/index/buy?sku=CASE-002',\n",
       " u'/subscriptions/index/buy?sku=HKB-109',\n",
       " u'/subscriptions/index/buy?sku=MELA-005',\n",
       " u'/subscriptions/index/buy?sku=EVB-024',\n",
       " u'/subscriptions/index/buy?sku=INT-003',\n",
       " u'/subscriptions/index/buy?sku=KCR-026',\n",
       " u'/subscriptions/index/buy?sku=CFVT-009',\n",
       " u'/subscriptions/index/buy?sku=DCR-3',\n",
       " u'/subscriptions/index/buy?sku=PCR-006',\n",
       " u'/subscriptions/index/buy?sku=BDWN-018',\n",
       " u'/subscriptions/index/buy?sku=COL-252',\n",
       " u'/subscriptions/index/buy?sku=ZOKA-004',\n",
       " u'/subscriptions/index/buy?sku=COL-000',\n",
       " u'/subscriptions/index/buy?sku=NOB-006',\n",
       " u'/subscriptions/index/buy?sku=NOB-07',\n",
       " u'/subscriptions/index/buy?sku=TOP-15',\n",
       " u'/subscriptions/index/buy?sku=ZOKA-002',\n",
       " u'/subscriptions/index/buy?sku=GFC-008',\n",
       " u'/subscriptions/index/buy?sku=GFC-001',\n",
       " u'/subscriptions/index/buy?sku=DCR-24',\n",
       " u'/subscriptions/index/buy?sku=BFC-121',\n",
       " u'/subscriptions/index/buy?sku=AN-015',\n",
       " u'/subscriptions/index/buy?sku=EQT-03',\n",
       " u'/subscriptions/index/buy?sku=SPY-07',\n",
       " u'/subscriptions/index/buy?sku=COL-005',\n",
       " u'/subscriptions/index/buy?sku=POP-019',\n",
       " u'/subscriptions/index/buy?sku=BFC-125',\n",
       " u'/subscriptions/index/buy?sku=AG-025',\n",
       " u'/subscriptions/index/buy?sku=EVB-000',\n",
       " u'/subscriptions/index/buy?sku=VER-5',\n",
       " u'/subscriptions/index/buy?sku=AN-029',\n",
       " u'/subscriptions/index/buy?sku=VER-055',\n",
       " u'/subscriptions/index/buy?sku=VER-054',\n",
       " u'/subscriptions/index/buy?sku=OCL-031',\n",
       " u'/subscriptions/index/buy?sku=AKA-019',\n",
       " u'/subscriptions/index/buy?sku=STF-028',\n",
       " u'/subscriptions/index/buy?sku=KCR-055',\n",
       " u'/subscriptions/index/buy?sku=OCL-0290',\n",
       " u'/subscriptions/index/buy?sku=THOU-010',\n",
       " u'/subscriptions/index/buy?sku=HGT-013',\n",
       " u'/subscriptions/index/buy?sku=MELA-008',\n",
       " u'/subscriptions/index/buy?sku=STF-027',\n",
       " u'/subscriptions/index/buy?sku=VER-043',\n",
       " u'/subscriptions/index/buy?sku=TOP-016',\n",
       " u'/subscriptions/index/buy?sku=STF-02',\n",
       " u'/subscriptions/index/buy?sku=INT-004',\n",
       " u'/subscriptions/index/buy?sku=KLCH-015',\n",
       " u'/subscriptions/index/buy?sku=NOB-005',\n",
       " u'/subscriptions/index/buy?sku=QLS-015',\n",
       " u'/subscriptions/index/buy?sku=CFVT-012',\n",
       " u'/subscriptions/index/buy?sku=CFVT-008',\n",
       " u'/subscriptions/index/buy?sku=KCR-029',\n",
       " u'/subscriptions/index/buy?sku=ZOKA-008',\n",
       " u'/subscriptions/index/buy?sku=AKA-008',\n",
       " u'/subscriptions/index/buy?sku=EVB-009',\n",
       " u'/subscriptions/index/buy?sku=EVB-003',\n",
       " u'/subscriptions/index/buy?sku=AKA-002',\n",
       " u'/subscriptions/index/buy?sku=THOU-003',\n",
       " u'/subscriptions/index/buy?sku=KUMA-105',\n",
       " u'/subscriptions/index/buy?sku=CLA-02',\n",
       " u'/subscriptions/index/buy?sku=HKB-107',\n",
       " u'/subscriptions/index/buy?sku=VER-2',\n",
       " u'/subscriptions/index/buy?sku=THOU-001',\n",
       " u'/subscriptions/index/buy?sku=TCR-226',\n",
       " u'/subscriptions/index/buy?sku=PCL-08',\n",
       " u'/subscriptions/index/buy?sku=BFC-12',\n",
       " u'/subscriptions/index/buy?sku=VER-3',\n",
       " u'/subscriptions/index/buy?sku=EQT-19',\n",
       " u'/subscriptions/index/buy?sku=EQT-11',\n",
       " u'/subscriptions/index/buy?sku=MELA-004',\n",
       " u'/subscriptions/index/buy?sku=DCR-18',\n",
       " u'/subscriptions/index/buy?sku=PHC-02',\n",
       " u'/subscriptions/index/buy?sku=EQT-14',\n",
       " u'/subscriptions/index/buy?sku=VER-124',\n",
       " u'/subscriptions/index/buy?sku=THOU-004',\n",
       " u'/subscriptions/index/buy?sku=DCR-1',\n",
       " u'/subscriptions/index/buy?sku=OCL-1',\n",
       " u'/subscriptions/index/buy?sku=PAN-01',\n",
       " u'/subscriptions/index/buy?sku=DCR-21',\n",
       " u'/subscriptions/index/buy?sku=DCR-17',\n",
       " u'/subscriptions/index/buy?sku=THOU-009',\n",
       " u'/subscriptions/index/buy?sku=STF-209',\n",
       " u'/subscriptions/index/buy?sku=PHC-008',\n",
       " u'/subscriptions/index/buy?sku=DCR-29',\n",
       " u'/subscriptions/index/buy?sku=POP-029',\n",
       " u'/subscriptions/index/buy?sku=QLS-02',\n",
       " u'/subscriptions/index/buy?sku=MELA-002',\n",
       " u'/subscriptions/index/buy?sku=TCR-329',\n",
       " u'/subscriptions/index/buy?sku=CLA-03',\n",
       " u'/subscriptions/index/buy?sku=HW-08',\n",
       " u'/subscriptions/index/buy?sku=KLD-310',\n",
       " u'/subscriptions/index/buy?sku=DCR-16',\n",
       " u'/subscriptions/index/buy?sku=TOP-06',\n",
       " u'/subscriptions/index/buy?sku=RUB-02',\n",
       " u'/subscriptions/index/buy?sku=KLCH-018',\n",
       " u'/subscriptions/index/buy?sku=TNY-001',\n",
       " u'/subscriptions/index/buy?sku=GFC-002',\n",
       " u'/subscriptions/index/buy?sku=MTC-111',\n",
       " u'/subscriptions/index/buy?sku=NOB-06',\n",
       " u'/subscriptions/index/buy?sku=EQT-12',\n",
       " u'/subscriptions/index/buy?sku=ZOKA-016',\n",
       " u'/subscriptions/index/buy?sku=DCR-25',\n",
       " u'/subscriptions/index/buy?sku=AN-07',\n",
       " u'/subscriptions/index/buy?sku=SOC-143',\n",
       " u'/subscriptions/index/buy?sku=KLD-03',\n",
       " u'/subscriptions/index/buy?sku=EVB-02',\n",
       " u'/subscriptions/index/buy?sku=COL-318',\n",
       " u'/subscriptions/index/buy?sku=TOP-03',\n",
       " u'/subscriptions/index/buy?sku=KLCH-008',\n",
       " u'/subscriptions/index/buy?sku=CASE-06',\n",
       " u'/subscriptions/index/buy?sku=TFC-007',\n",
       " u'/subscriptions/index/buy?sku=MTC-107',\n",
       " u'/subscriptions/index/buy?sku=VER-7',\n",
       " u'/subscriptions/index/buy?sku=PCL-10',\n",
       " u'/subscriptions/index/buy?sku=DCR-11',\n",
       " u'/subscriptions/index/buy?sku=DCR-15',\n",
       " u'/subscriptions/index/buy?sku=BFC-01',\n",
       " u'/subscriptions/index/buy?sku=KLCH-009',\n",
       " u'/subscriptions/index/buy?sku=NOB-10',\n",
       " u'/subscriptions/index/buy?sku=ZOKA-024',\n",
       " u'/subscriptions/index/buy?sku=DCR-13',\n",
       " u'/subscriptions/index/buy?sku=CLA-04',\n",
       " u'/subscriptions/index/buy?sku=COL-001',\n",
       " u'/subscriptions/index/buy?sku=INT-012',\n",
       " u'/subscriptions/index/buy?sku=AG-030',\n",
       " u'/subscriptions/index/buy?sku=TNY-016',\n",
       " u'/subscriptions/index/buy?sku=KUMA-106',\n",
       " u'/subscriptions/index/buy?sku=TFC-09',\n",
       " u'/subscriptions/index/buy?sku=COL-002',\n",
       " u'/subscriptions/index/buy?sku=PCR-19',\n",
       " u'/subscriptions/index/buy?sku=KLD-06',\n",
       " u'/subscriptions/index/buy?sku=POP-09',\n",
       " u'/subscriptions/index/buy?sku=KLD-01',\n",
       " u'/subscriptions/index/buy?sku=RUB-028',\n",
       " u'/subscriptions/index/buy?sku=PAN-007',\n",
       " u'/subscriptions/index/buy?sku=CERE-115',\n",
       " u'/subscriptions/index/buy?sku=EQT-10',\n",
       " u'/subscriptions/index/buy?sku=NOB-08',\n",
       " u'/subscriptions/index/buy?sku=TNY-019',\n",
       " u'/subscriptions/index/buy?sku=EVB-008',\n",
       " u'/subscriptions/index/buy?sku=KLCH-031',\n",
       " u'/subscriptions/index/buy?sku=MTC-105',\n",
       " u'/subscriptions/index/buy?sku=AN-02',\n",
       " u'/subscriptions/index/buy?sku=GFC-000',\n",
       " u'/subscriptions/index/buy?sku=MTC-108',\n",
       " u'/subscriptions/index/buy?sku=QLS-03',\n",
       " u'/subscriptions/index/buy?sku=EVB-001',\n",
       " u'/subscriptions/index/buy?sku=CASE-11',\n",
       " u'/subscriptions/index/buy?sku=HW-018',\n",
       " u'/subscriptions/index/buy?sku=TNY-004',\n",
       " u'/subscriptions/index/buy?sku=EVB-004',\n",
       " u'/subscriptions/index/buy?sku=TFC-03',\n",
       " u'/subscriptions/index/buy?sku=AN-05',\n",
       " u'/subscriptions/index/buy?sku=COL-468',\n",
       " u'/subscriptions/index/buy?sku=VER-6',\n",
       " u'/subscriptions/index/buy?sku=DCR-20',\n",
       " u'/subscriptions/index/buy?sku=KCR-027',\n",
       " u'/subscriptions/index/buy?sku=EVB-002',\n",
       " u'/subscriptions/index/buy?sku=PCL-09',\n",
       " u'/subscriptions/index/buy?sku=DCR-9',\n",
       " u'/subscriptions/index/buy?sku=PCR-001',\n",
       " u'/subscriptions/index/buy?sku=MTC-106',\n",
       " u'/subscriptions/index/buy?sku=CLA-01',\n",
       " u'/subscriptions/index/buy?sku=BFC-123',\n",
       " u'/subscriptions/index/buy?sku=OCL-030',\n",
       " u'/subscriptions/index/buy?sku=HGT-009',\n",
       " u'/subscriptions/index/buy?sku=TOP-018',\n",
       " u'/subscriptions/index/buy?sku=INT-000',\n",
       " u'/subscriptions/index/buy?sku=KCR-024',\n",
       " u'/subscriptions/index/buy?sku=ZOKA-005',\n",
       " u'/subscriptions/index/buy?sku=POP-004',\n",
       " u'/subscriptions/index/buy?sku=STF-312',\n",
       " u'/subscriptions/index/buy?sku=KLD-02',\n",
       " u'/subscriptions/index/buy?sku=TFC-08',\n",
       " u'/subscriptions/index/buy?sku=KCR-025',\n",
       " u'/subscriptions/index/buy?sku=THOU-002',\n",
       " u'/subscriptions/index/buy?sku=MTC-113',\n",
       " u'/subscriptions/index/buy?sku=DCR-2',\n",
       " u'/subscriptions/index/buy?sku=KLD-04',\n",
       " u'/subscriptions/index/buy?sku=PCR-007',\n",
       " u'/subscriptions/index/buy?sku=TOP-019',\n",
       " u'/subscriptions/index/buy?sku=CFVT-007',\n",
       " u'/subscriptions/index/buy?sku=PCR-16',\n",
       " u'/subscriptions/index/buy?sku=BFC-009',\n",
       " u'/subscriptions/index/buy?sku=DCR-38',\n",
       " u'/subscriptions/index/buy?sku=EQT-07',\n",
       " u'/subscriptions/index/buy?sku=KLCH-011',\n",
       " u'/subscriptions/index/buy?sku=HGT-000',\n",
       " u'/subscriptions/index/buy?sku=QLS-019',\n",
       " u'/subscriptions/index/buy?sku=TFC-10',\n",
       " u'/subscriptions/index/buy?sku=TNY-017',\n",
       " u'/subscriptions/index/buy?sku=CERE-8',\n",
       " u'/subscriptions/index/buy?sku=EQT-005',\n",
       " u'/subscriptions/index/buy?sku=EQT-04',\n",
       " u'/subscriptions/index/buy?sku=ZOKA-001',\n",
       " u'/subscriptions/index/buy?sku=KLD-010',\n",
       " u'/subscriptions/index/buy?sku=OLY-000',\n",
       " u'/subscriptions/index/buy?sku=CASE-07',\n",
       " u'/subscriptions/index/buy?sku=PAN-004',\n",
       " u'/subscriptions/index/buy?sku=TOP-04',\n",
       " u'/subscriptions/index/buy?sku=CFVT-004',\n",
       " u'/subscriptions/index/buy?sku=TCR-05',\n",
       " u'/subscriptions/index/buy?sku=AN-005',\n",
       " u'/subscriptions/index/buy?sku=COL-254',\n",
       " u'/subscriptions/index/buy?sku=SOC-10',\n",
       " u'/subscriptions/index/buy?sku=COL-493',\n",
       " u'/subscriptions/index/buy?sku=NOB-09',\n",
       " u'/subscriptions/index/buy?sku=EQT-26',\n",
       " u'/subscriptions/index/buy?sku=PCR-20',\n",
       " u'/subscriptions/index/buy?sku=PHC-09',\n",
       " u'/subscriptions/index/buy?sku=EQT-06',\n",
       " u'/subscriptions/index/buy?sku=KLCH-001',\n",
       " u'/subscriptions/index/buy?sku=ZOKA-006',\n",
       " u'/subscriptions/index/buy?sku=CERE-11',\n",
       " u'/subscriptions/index/buy?sku=PCR-24',\n",
       " u'/subscriptions/index/buy?sku=GWC-260',\n",
       " u'/subscriptions/index/buy?sku=MELA-007',\n",
       " u'/subscriptions/index/buy?sku=TNY-014',\n",
       " u'/subscriptions/index/buy?sku=PHC-04',\n",
       " u'/subscriptions/index/buy?sku=PCR-17',\n",
       " u'/subscriptions/index/buy?sku=KCR-028',\n",
       " u'/subscriptions/index/buy?sku=QLS-01',\n",
       " u'/subscriptions/index/buy?sku=THOU-000',\n",
       " u'/subscriptions/index/buy?sku=TOP-05',\n",
       " u'/subscriptions/index/buy?sku=DCR-22',\n",
       " u'/subscriptions/index/buy?sku=TOP-021',\n",
       " u'/subscriptions/index/buy?sku=AG-026',\n",
       " u'/subscriptions/index/buy?sku=ZOKA-000',\n",
       " u'/subscriptions/index/buy?sku=PHC-002',\n",
       " u'/subscriptions/index/buy?sku=EVB-01',\n",
       " u'/subscriptions/index/buy?sku=PHC-005',\n",
       " u'/subscriptions/index/buy?sku=PCR-14',\n",
       " u'/subscriptions/index/buy?sku=PCR-6',\n",
       " u'/subscriptions/index/buy?sku=PAN-02',\n",
       " u'/subscriptions/index/buy?sku=HGT-001',\n",
       " u'/subscriptions/index/buy?sku=KLCH-000',\n",
       " u'/subscriptions/index/buy?sku=COL-230',\n",
       " u'/subscriptions/index/buy?sku=TOP-07',\n",
       " u'/subscriptions/index/buy?sku=AN-04',\n",
       " u'/subscriptions/index/buy?sku=MELA-006',\n",
       " u'/subscriptions/index/buy?sku=BFC-012',\n",
       " u'/subscriptions/index/buy?sku=MELA-009',\n",
       " u'/subscriptions/index/buy?sku=AN-11',\n",
       " u'/subscriptions/index/buy?sku=EQT-003',\n",
       " u'/subscriptions/index/buy?sku=POP-033',\n",
       " u'/subscriptions/index/buy?sku=HGT-004',\n",
       " u'/subscriptions/index/buy?sku=EQT-006',\n",
       " u'/subscriptions/index/buy?sku=KLCH-029',\n",
       " u'/subscriptions/index/buy?sku=KLCH-022',\n",
       " u'/subscriptions/index/buy?sku=PCR-15',\n",
       " u'/subscriptions/index/buy?sku=COL-463',\n",
       " u'/subscriptions/index/buy?sku=EQT-01',\n",
       " u'/subscriptions/index/buy?sku=CFVT-002',\n",
       " u'/subscriptions/index/buy?sku=AN-03',\n",
       " u'/subscriptions/index/buy?sku=DCR-12',\n",
       " u'/subscriptions/index/buy?sku=STF-180',\n",
       " u'/subscriptions/index/buy?sku=DCR-45',\n",
       " u'/subscriptions/index/buy?sku=AN-144',\n",
       " u'/subscriptions/index/buy?sku=DCR-19',\n",
       " u'/subscriptions/index/buy?sku=DCR-28',\n",
       " u'/subscriptions/index/buy?sku=PCR-18',\n",
       " u'/subscriptions/index/buy?sku=AN-06',\n",
       " u'/subscriptions/index/buy?sku=HGT-005',\n",
       " u'/subscriptions/index/buy?sku=AN-08',\n",
       " u'/subscriptions/index/buy?sku=INT-001',\n",
       " u'/subscriptions/index/buy?sku=ZOKA-003',\n",
       " u'/subscriptions/index/buy?sku=DCR-137',\n",
       " u'/subscriptions/index/buy?sku=TOP-02',\n",
       " u'/subscriptions/index/buy?sku=MELA-010',\n",
       " u'/subscriptions/index/buy?sku=HKB-022',\n",
       " u'/subscriptions/index/buy?sku=KLCH-025',\n",
       " u'/subscriptions/index/buy?sku=PCR-13',\n",
       " u'/subscriptions/index/buy?sku=KLCH-006',\n",
       " u'/subscriptions/index/buy?sku=CERE-10',\n",
       " u'/subscriptions/index/buy?sku=TNY-007',\n",
       " u'/subscriptions/index/buy?sku=PCR-11',\n",
       " u'/subscriptions/index/buy?sku=DCR-10',\n",
       " u'/subscriptions/index/buy?sku=COL-006',\n",
       " u'/subscriptions/index/buy?sku=DCR-36',\n",
       " u'/subscriptions/index/buy?sku=PCR-008',\n",
       " u'/subscriptions/index/buy?sku=TNY-01',\n",
       " u'/subscriptions/index/buy?sku=TNY-006',\n",
       " u'/subscriptions/index/buy?sku=DCR-33',\n",
       " u'/subscriptions/index/buy?sku=CASE-023',\n",
       " u'/subscriptions/index/buy?sku=TOP-262',\n",
       " u'/subscriptions/index/buy?sku=DCR-37',\n",
       " u'/subscriptions/index/buy?sku=BFC-006',\n",
       " u'/subscriptions/index/buy?sku=TCR-024',\n",
       " u'/subscriptions/index/buy?sku=INT-002',\n",
       " u'/subscriptions/index/buy?sku=KLCH-02',\n",
       " u'/subscriptions/index/buy?sku=KLCH-016',\n",
       " u'/subscriptions/index/buy?sku=KLCH-002',\n",
       " u'/subscriptions/index/buy?sku=MTC-015',\n",
       " u'/subscriptions/index/buy?sku=CFVT-001',\n",
       " u'/subscriptions/index/buy?sku=ZOKA-009',\n",
       " u'/subscriptions/index/buy?sku=BFC-014',\n",
       " u'/subscriptions/index/buy?sku=TFC-11',\n",
       " u'/subscriptions/index/buy?sku=AN-004',\n",
       " u'/subscriptions/index/buy?sku=CLA-05',\n",
       " u'/subscriptions/index/buy?sku=CLA-013',\n",
       " u'/subscriptions/index/buy?sku=TNY-008',\n",
       " u'/subscriptions/index/buy?sku=BFC-008',\n",
       " u'/subscriptions/index/buy?sku=OLY-023',\n",
       " u'/subscriptions/index/buy?sku=QLS-033',\n",
       " u'/subscriptions/index/buy?sku=HKB-026',\n",
       " u'/subscriptions/index/buy?sku=HKB-025',\n",
       " u'/subscriptions/index/buy?sku=HKB-024',\n",
       " u'/subscriptions/index/buy?sku=GFC-026',\n",
       " u'/subscriptions/index/buy?sku=INT-021',\n",
       " u'/subscriptions/index/buy?sku=RUB-033',\n",
       " u'/subscriptions/index/buy?sku=RUB-032',\n",
       " u'/subscriptions/index/buy?sku=RUB-031',\n",
       " u'/subscriptions/index/buy?sku=RUB-030',\n",
       " u'/subscriptions/index/buy?sku=BFC-016',\n",
       " u'/subscriptions/index/buy?sku=KUMA-058',\n",
       " u'/subscriptions/index/buy?sku=KUMA-057',\n",
       " u'/subscriptions/index/buy?sku=AG-034',\n",
       " u'/subscriptions/index/buy?sku=CFVT-018',\n",
       " u'/subscriptions/index/buy?sku=OCL-035',\n",
       " u'/subscriptions/index/buy?sku=KCR-058',\n",
       " u'/subscriptions/index/buy?sku=KCR-057',\n",
       " u'/subscriptions/index/buy?sku=KCR-056',\n",
       " u'/subscriptions/index/buy?sku=OLY-035',\n",
       " u'/subscriptions/index/buy?sku=AG-033',\n",
       " u'/subscriptions/index/buy?sku=INT-020',\n",
       " u'/subscriptions/index/buy?sku=VER-058',\n",
       " u'/subscriptions/index/buy?sku=VER-057',\n",
       " u'/subscriptions/index/buy?sku=NOB-010',\n",
       " u'/subscriptions/index/buy?sku=GFC-025',\n",
       " u'/subscriptions/index/buy?sku=GFC-024',\n",
       " u'/subscriptions/index/buy?sku=OCL-033',\n",
       " u'/subscriptions/index/buy?sku=OCL-034',\n",
       " u'/subscriptions/index/buy?sku=TCR-025',\n",
       " u'/subscriptions/index/buy?sku=AN-033',\n",
       " u'/subscriptions/index/buy?sku=AN-030',\n",
       " u'/subscriptions/index/buy?sku=AN-031',\n",
       " u'/subscriptions/index/buy?sku=SOC-023',\n",
       " u'/subscriptions/index/buy?sku=SOC-022',\n",
       " u'/subscriptions/index/buy?sku=CRC-033',\n",
       " u'/subscriptions/index/buy?sku=CRC-032',\n",
       " u'/subscriptions/index/buy?sku=CRC-031',\n",
       " u'/subscriptions/index/buy?sku=MTC-020',\n",
       " u'/subscriptions/index/buy?sku=INT-018',\n",
       " u'/subscriptions/index/buy?sku=INT-019',\n",
       " u'/subscriptions/index/buy?sku=INT-017',\n",
       " u'/subscriptions/index/buy?sku=CLA-014',\n",
       " u'/subscriptions/index/buy?sku=COC-022',\n",
       " u'/subscriptions/index/buy?sku=OLY-034',\n",
       " u'/subscriptions/index/buy?sku=NOB-009',\n",
       " u'/subscriptions/index/buy?sku=AKA-020',\n",
       " u'/subscriptions/index/buy?sku=VER-056',\n",
       " u'/subscriptions/index/buy?sku=QLS-032',\n",
       " u'/subscriptions/index/buy?sku=HW-019',\n",
       " u'/subscriptions/index/buy?sku=KLD-009',\n",
       " u'/subscriptions/index/buy?sku=KUMA-056',\n",
       " u'/subscriptions/index/buy?sku=TFC-012',\n",
       " u'/subscriptions/index/buy?sku=TFC-013',\n",
       " u'/subscriptions/index/buy?sku=OLY-033',\n",
       " u'/subscriptions/index/buy?sku=OLY-032',\n",
       " u'/subscriptions/index/buy?sku=AN-028',\n",
       " u'/subscriptions/index/buy?sku=OCL-032',\n",
       " u'/subscriptions/index/buy?sku=CERE-032',\n",
       " u'/subscriptions/index/buy?sku=CERE-031',\n",
       " u'/subscriptions/index/buy?sku=CERE-029',\n",
       " u'/subscriptions/index/buy?sku=BDWN-022',\n",
       " u'/subscriptions/index/buy?sku=BDWN-021',\n",
       " u'/subscriptions/index/buy?sku=BDWN-020',\n",
       " u'/subscriptions/index/buy?sku=BDWN-019',\n",
       " u'/subscriptions/index/buy?sku=POP-032',\n",
       " u'/subscriptions/index/buy?sku=TNY-021',\n",
       " u'/subscriptions/index/buy?sku=SOC-020',\n",
       " u'/subscriptions/index/buy?sku=GFC-023',\n",
       " u'/subscriptions/index/buy?sku=GWC-017',\n",
       " u'/subscriptions/index/buy?sku=GWC-016',\n",
       " u'/subscriptions/index/buy?sku=GWC-015',\n",
       " u'/subscriptions/index/buy?sku=KCR-052',\n",
       " u'/subscriptions/index/buy?sku=CASE-022',\n",
       " u'/subscriptions/index/buy?sku=TOP-020',\n",
       " u'/subscriptions/index/buy?sku=QLS-029',\n",
       " u'/subscriptions/index/buy?sku=INT-015',\n",
       " u'/subscriptions/index/buy?sku=SPY-017',\n",
       " u'/subscriptions/index/buy?sku=AG-032',\n",
       " u'/subscriptions/index/buy?sku=AG-029',\n",
       " u'/subscriptions/index/buy?sku=CASE-021',\n",
       " u'/subscriptions/index/buy?sku=KUMA-05',\n",
       " u'/subscriptions/index/buy?sku=POP-031',\n",
       " u'/subscriptions/index/buy?sku=QLS-028',\n",
       " u'/subscriptions/index/buy?sku=PCR-009',\n",
       " u'/subscriptions/index/buy?sku=BFC-013',\n",
       " u'/subscriptions/index/buy?sku=COC-019',\n",
       " u'/subscriptions/index/buy?sku=GWC-013',\n",
       " u'/subscriptions/index/buy?sku=AG-028',\n",
       " u'/subscriptions/index/buy?sku=KCR-051',\n",
       " u'/subscriptions/index/buy?sku=AN-024',\n",
       " u'/subscriptions/index/buy?sku=AN-023',\n",
       " u'/subscriptions/index/buy?sku=PCL-010',\n",
       " u'/subscriptions/index/buy?sku=PCL-011',\n",
       " u'/subscriptions/index/buy?sku=HGT-012',\n",
       " u'/subscriptions/index/buy?sku=HGT-011',\n",
       " u'/subscriptions/index/buy?sku=HGT-010',\n",
       " u'/subscriptions/index/buy?sku=CLA-010',\n",
       " u'/subscriptions/index/buy?sku=HGT-008',\n",
       " u'/subscriptions/index/buy?sku=HGT-006',\n",
       " u'/subscriptions/index/buy?sku=MELA-001',\n",
       " u'/subscriptions/index/buy?sku=EQT-004',\n",
       " u'/subscriptions/index/buy?sku=BDWN-015',\n",
       " u'/subscriptions/index/buy?sku=BDWN-010',\n",
       " u'/subscriptions/index/buy?sku=BDWN-008',\n",
       " u'/subscriptions/index/buy?sku=BDWN-001',\n",
       " u'/subscriptions/index/buy?sku=NOB-008',\n",
       " u'/subscriptions/index/buy?sku=BFC-010',\n",
       " u'/subscriptions/index/buy?sku=CRC-025',\n",
       " u'/subscriptions/index/buy?sku=STF-025',\n",
       " u'/subscriptions/index/buy?sku=QLS-026',\n",
       " u'/subscriptions/index/buy?sku=COL-007',\n",
       " u'/subscriptions/index/buy?sku=COL-003',\n",
       " u'/subscriptions/index/buy?sku=COC-014',\n",
       " u'/subscriptions/index/buy?sku=INT-01',\n",
       " u'/subscriptions/index/buy?sku=INT-009',\n",
       " u'/subscriptions/index/buy?sku=KLCH-027',\n",
       " u'/subscriptions/index/buy?sku=KLCH-026',\n",
       " u'/subscriptions/index/buy?sku=KLCH-021',\n",
       " u'/subscriptions/index/buy?sku=KLCH-019',\n",
       " u'/subscriptions/index/buy?sku=KLCH-013',\n",
       " u'/subscriptions/index/buy?sku=KLCH-01',\n",
       " u'/subscriptions/index/buy?sku=KLCH-007',\n",
       " u'/subscriptions/index/buy?sku=HKB-018',\n",
       " u'/subscriptions/index/buy?sku=SOC-012',\n",
       " u'/subscriptions/index/buy?sku=SOC-011',\n",
       " u'/subscriptions/index/buy?sku=SOC-010',\n",
       " u'/subscriptions/index/buy?sku=EVB-027',\n",
       " u'/subscriptions/index/buy?sku=GWC-008',\n",
       " u'/subscriptions/index/buy?sku=TNY-009',\n",
       " u'/subscriptions/index/buy?sku=TNY-005',\n",
       " u'/subscriptions/index/buy?sku=CASE-016',\n",
       " u'/subscriptions/index/buy?sku=OCL-013',\n",
       " u'/subscriptions/index/buy?sku=CFVT-011',\n",
       " u'/subscriptions/index/buy?sku=CFVT-01',\n",
       " u'/subscriptions/index/buy?sku=PCL-005',\n",
       " u'/subscriptions/index/buy?sku=POP-02',\n",
       " u'/subscriptions/index/buy?sku=RUB-011',\n",
       " u'/subscriptions/index/buy?sku=KCR-03',\n",
       " u'/subscriptions/index/buy?sku=ZOKA-013',\n",
       " u'/subscriptions/index/buy?sku=ZOKA-011',\n",
       " u'/subscriptions/index/buy?sku=ZOKA-007',\n",
       " u'/subscriptions/index/buy?sku=CRC-005']"
      ]
     },
     "execution_count": 190,
     "metadata": {},
     "output_type": "execute_result"
    }
   ],
   "source": []
  },
  {
   "cell_type": "code",
   "execution_count": 50,
   "metadata": {},
   "outputs": [
    {
     "data": {
      "text/plain": [
       "500"
      ]
     },
     "execution_count": 50,
     "metadata": {},
     "output_type": "execute_result"
    }
   ],
   "source": [
    "urls = urls[109:609]\n",
    "fullurls = [\"https://one.mistobox.com\"+url for url in urls]\n",
    "len(fullurls)"
   ]
  },
  {
   "cell_type": "code",
   "execution_count": 2,
   "metadata": {},
   "outputs": [
    {
     "ename": "NameError",
     "evalue": "name 'url' is not defined",
     "output_type": "error",
     "traceback": [
      "\u001b[0;31m---------------------------------------------------------------------------\u001b[0m",
      "\u001b[0;31mNameError\u001b[0m                                 Traceback (most recent call last)",
      "\u001b[0;32m<ipython-input-2-a178ee559267>\u001b[0m in \u001b[0;36m<module>\u001b[0;34m()\u001b[0m\n\u001b[0;32m----> 1\u001b[0;31m \u001b[0murl\u001b[0m\u001b[0;34m.\u001b[0m\u001b[0mto_csv\u001b[0m\u001b[0;34m(\u001b[0m\u001b[0;34m'/Users/yonilevine/Desktop/url.csv'\u001b[0m\u001b[0;34m)\u001b[0m\u001b[0;34m\u001b[0m\u001b[0m\n\u001b[0m",
      "\u001b[0;31mNameError\u001b[0m: name 'url' is not defined"
     ]
    }
   ],
   "source": [
    "url.to_csv('/Users/yonilevine/Desktop/url.csv')"
   ]
  },
  {
   "cell_type": "code",
   "execution_count": 176,
   "metadata": {},
   "outputs": [
    {
     "data": {
      "text/plain": [
       "0"
      ]
     },
     "execution_count": 176,
     "metadata": {},
     "output_type": "execute_result"
    }
   ],
   "source": [
    "coffee = pd.DataFrame(columns=\"url title roaster roastlevel blend price description parse\".split())\n",
    "len(coffee)"
   ]
  },
  {
   "cell_type": "code",
   "execution_count": 2,
   "metadata": {},
   "outputs": [
    {
     "data": {
      "text/html": [
       "<div>\n",
       "<style>\n",
       "    .dataframe thead tr:only-child th {\n",
       "        text-align: right;\n",
       "    }\n",
       "\n",
       "    .dataframe thead th {\n",
       "        text-align: left;\n",
       "    }\n",
       "\n",
       "    .dataframe tbody tr th {\n",
       "        vertical-align: top;\n",
       "    }\n",
       "</style>\n",
       "<table border=\"1\" class=\"dataframe\">\n",
       "  <thead>\n",
       "    <tr style=\"text-align: right;\">\n",
       "      <th></th>\n",
       "      <th>Unnamed: 0</th>\n",
       "      <th>0</th>\n",
       "    </tr>\n",
       "  </thead>\n",
       "  <tbody>\n",
       "    <tr>\n",
       "      <th>0</th>\n",
       "      <td>0</td>\n",
       "      <td>https://one.mistobox.com/subscriptions/index/b...</td>\n",
       "    </tr>\n",
       "    <tr>\n",
       "      <th>1</th>\n",
       "      <td>1</td>\n",
       "      <td>https://one.mistobox.com/subscriptions/index/b...</td>\n",
       "    </tr>\n",
       "    <tr>\n",
       "      <th>2</th>\n",
       "      <td>2</td>\n",
       "      <td>https://one.mistobox.com/subscriptions/index/b...</td>\n",
       "    </tr>\n",
       "    <tr>\n",
       "      <th>3</th>\n",
       "      <td>3</td>\n",
       "      <td>https://one.mistobox.com/subscriptions/index/b...</td>\n",
       "    </tr>\n",
       "    <tr>\n",
       "      <th>4</th>\n",
       "      <td>4</td>\n",
       "      <td>https://one.mistobox.com/subscriptions/index/b...</td>\n",
       "    </tr>\n",
       "    <tr>\n",
       "      <th>5</th>\n",
       "      <td>5</td>\n",
       "      <td>https://one.mistobox.com/subscriptions/index/b...</td>\n",
       "    </tr>\n",
       "    <tr>\n",
       "      <th>6</th>\n",
       "      <td>6</td>\n",
       "      <td>https://one.mistobox.com/subscriptions/index/b...</td>\n",
       "    </tr>\n",
       "    <tr>\n",
       "      <th>7</th>\n",
       "      <td>7</td>\n",
       "      <td>https://one.mistobox.com/subscriptions/index/b...</td>\n",
       "    </tr>\n",
       "    <tr>\n",
       "      <th>8</th>\n",
       "      <td>8</td>\n",
       "      <td>https://one.mistobox.com/subscriptions/index/b...</td>\n",
       "    </tr>\n",
       "    <tr>\n",
       "      <th>9</th>\n",
       "      <td>9</td>\n",
       "      <td>https://one.mistobox.com/subscriptions/index/b...</td>\n",
       "    </tr>\n",
       "    <tr>\n",
       "      <th>10</th>\n",
       "      <td>10</td>\n",
       "      <td>https://one.mistobox.com/subscriptions/index/b...</td>\n",
       "    </tr>\n",
       "    <tr>\n",
       "      <th>11</th>\n",
       "      <td>11</td>\n",
       "      <td>https://one.mistobox.com/subscriptions/index/b...</td>\n",
       "    </tr>\n",
       "    <tr>\n",
       "      <th>12</th>\n",
       "      <td>12</td>\n",
       "      <td>https://one.mistobox.com/subscriptions/index/b...</td>\n",
       "    </tr>\n",
       "    <tr>\n",
       "      <th>13</th>\n",
       "      <td>13</td>\n",
       "      <td>https://one.mistobox.com/subscriptions/index/b...</td>\n",
       "    </tr>\n",
       "    <tr>\n",
       "      <th>14</th>\n",
       "      <td>14</td>\n",
       "      <td>https://one.mistobox.com/subscriptions/index/b...</td>\n",
       "    </tr>\n",
       "    <tr>\n",
       "      <th>15</th>\n",
       "      <td>15</td>\n",
       "      <td>https://one.mistobox.com/subscriptions/index/b...</td>\n",
       "    </tr>\n",
       "    <tr>\n",
       "      <th>16</th>\n",
       "      <td>16</td>\n",
       "      <td>https://one.mistobox.com/subscriptions/index/b...</td>\n",
       "    </tr>\n",
       "    <tr>\n",
       "      <th>17</th>\n",
       "      <td>17</td>\n",
       "      <td>https://one.mistobox.com/subscriptions/index/b...</td>\n",
       "    </tr>\n",
       "    <tr>\n",
       "      <th>18</th>\n",
       "      <td>18</td>\n",
       "      <td>https://one.mistobox.com/subscriptions/index/b...</td>\n",
       "    </tr>\n",
       "    <tr>\n",
       "      <th>19</th>\n",
       "      <td>19</td>\n",
       "      <td>https://one.mistobox.com/subscriptions/index/b...</td>\n",
       "    </tr>\n",
       "    <tr>\n",
       "      <th>20</th>\n",
       "      <td>20</td>\n",
       "      <td>https://one.mistobox.com/subscriptions/index/b...</td>\n",
       "    </tr>\n",
       "    <tr>\n",
       "      <th>21</th>\n",
       "      <td>21</td>\n",
       "      <td>https://one.mistobox.com/subscriptions/index/b...</td>\n",
       "    </tr>\n",
       "    <tr>\n",
       "      <th>22</th>\n",
       "      <td>22</td>\n",
       "      <td>https://one.mistobox.com/subscriptions/index/b...</td>\n",
       "    </tr>\n",
       "    <tr>\n",
       "      <th>23</th>\n",
       "      <td>23</td>\n",
       "      <td>https://one.mistobox.com/subscriptions/index/b...</td>\n",
       "    </tr>\n",
       "    <tr>\n",
       "      <th>24</th>\n",
       "      <td>24</td>\n",
       "      <td>https://one.mistobox.com/subscriptions/index/b...</td>\n",
       "    </tr>\n",
       "    <tr>\n",
       "      <th>25</th>\n",
       "      <td>25</td>\n",
       "      <td>https://one.mistobox.com/subscriptions/index/b...</td>\n",
       "    </tr>\n",
       "    <tr>\n",
       "      <th>26</th>\n",
       "      <td>26</td>\n",
       "      <td>https://one.mistobox.com/subscriptions/index/b...</td>\n",
       "    </tr>\n",
       "    <tr>\n",
       "      <th>27</th>\n",
       "      <td>27</td>\n",
       "      <td>https://one.mistobox.com/subscriptions/index/b...</td>\n",
       "    </tr>\n",
       "    <tr>\n",
       "      <th>28</th>\n",
       "      <td>28</td>\n",
       "      <td>https://one.mistobox.com/subscriptions/index/b...</td>\n",
       "    </tr>\n",
       "    <tr>\n",
       "      <th>29</th>\n",
       "      <td>29</td>\n",
       "      <td>https://one.mistobox.com/subscriptions/index/b...</td>\n",
       "    </tr>\n",
       "    <tr>\n",
       "      <th>...</th>\n",
       "      <td>...</td>\n",
       "      <td>...</td>\n",
       "    </tr>\n",
       "    <tr>\n",
       "      <th>470</th>\n",
       "      <td>470</td>\n",
       "      <td>https://one.mistobox.com/subscriptions/index/b...</td>\n",
       "    </tr>\n",
       "    <tr>\n",
       "      <th>471</th>\n",
       "      <td>471</td>\n",
       "      <td>https://one.mistobox.com/subscriptions/index/b...</td>\n",
       "    </tr>\n",
       "    <tr>\n",
       "      <th>472</th>\n",
       "      <td>472</td>\n",
       "      <td>https://one.mistobox.com/subscriptions/index/b...</td>\n",
       "    </tr>\n",
       "    <tr>\n",
       "      <th>473</th>\n",
       "      <td>473</td>\n",
       "      <td>https://one.mistobox.com/subscriptions/index/b...</td>\n",
       "    </tr>\n",
       "    <tr>\n",
       "      <th>474</th>\n",
       "      <td>474</td>\n",
       "      <td>https://one.mistobox.com/subscriptions/index/b...</td>\n",
       "    </tr>\n",
       "    <tr>\n",
       "      <th>475</th>\n",
       "      <td>475</td>\n",
       "      <td>https://one.mistobox.com/subscriptions/index/b...</td>\n",
       "    </tr>\n",
       "    <tr>\n",
       "      <th>476</th>\n",
       "      <td>476</td>\n",
       "      <td>https://one.mistobox.com/subscriptions/index/b...</td>\n",
       "    </tr>\n",
       "    <tr>\n",
       "      <th>477</th>\n",
       "      <td>477</td>\n",
       "      <td>https://one.mistobox.com/subscriptions/index/b...</td>\n",
       "    </tr>\n",
       "    <tr>\n",
       "      <th>478</th>\n",
       "      <td>478</td>\n",
       "      <td>https://one.mistobox.com/subscriptions/index/b...</td>\n",
       "    </tr>\n",
       "    <tr>\n",
       "      <th>479</th>\n",
       "      <td>479</td>\n",
       "      <td>https://one.mistobox.com/subscriptions/index/b...</td>\n",
       "    </tr>\n",
       "    <tr>\n",
       "      <th>480</th>\n",
       "      <td>480</td>\n",
       "      <td>https://one.mistobox.com/subscriptions/index/b...</td>\n",
       "    </tr>\n",
       "    <tr>\n",
       "      <th>481</th>\n",
       "      <td>481</td>\n",
       "      <td>https://one.mistobox.com/subscriptions/index/b...</td>\n",
       "    </tr>\n",
       "    <tr>\n",
       "      <th>482</th>\n",
       "      <td>482</td>\n",
       "      <td>https://one.mistobox.com/subscriptions/index/b...</td>\n",
       "    </tr>\n",
       "    <tr>\n",
       "      <th>483</th>\n",
       "      <td>483</td>\n",
       "      <td>https://one.mistobox.com/subscriptions/index/b...</td>\n",
       "    </tr>\n",
       "    <tr>\n",
       "      <th>484</th>\n",
       "      <td>484</td>\n",
       "      <td>https://one.mistobox.com/subscriptions/index/b...</td>\n",
       "    </tr>\n",
       "    <tr>\n",
       "      <th>485</th>\n",
       "      <td>485</td>\n",
       "      <td>https://one.mistobox.com/subscriptions/index/b...</td>\n",
       "    </tr>\n",
       "    <tr>\n",
       "      <th>486</th>\n",
       "      <td>486</td>\n",
       "      <td>https://one.mistobox.com/subscriptions/index/b...</td>\n",
       "    </tr>\n",
       "    <tr>\n",
       "      <th>487</th>\n",
       "      <td>487</td>\n",
       "      <td>https://one.mistobox.com/subscriptions/index/b...</td>\n",
       "    </tr>\n",
       "    <tr>\n",
       "      <th>488</th>\n",
       "      <td>488</td>\n",
       "      <td>https://one.mistobox.com/subscriptions/index/b...</td>\n",
       "    </tr>\n",
       "    <tr>\n",
       "      <th>489</th>\n",
       "      <td>489</td>\n",
       "      <td>https://one.mistobox.com/subscriptions/index/b...</td>\n",
       "    </tr>\n",
       "    <tr>\n",
       "      <th>490</th>\n",
       "      <td>490</td>\n",
       "      <td>https://one.mistobox.com/subscriptions/index/b...</td>\n",
       "    </tr>\n",
       "    <tr>\n",
       "      <th>491</th>\n",
       "      <td>491</td>\n",
       "      <td>https://one.mistobox.com/subscriptions/index/b...</td>\n",
       "    </tr>\n",
       "    <tr>\n",
       "      <th>492</th>\n",
       "      <td>492</td>\n",
       "      <td>https://one.mistobox.com/subscriptions/index/b...</td>\n",
       "    </tr>\n",
       "    <tr>\n",
       "      <th>493</th>\n",
       "      <td>493</td>\n",
       "      <td>https://one.mistobox.com/subscriptions/index/b...</td>\n",
       "    </tr>\n",
       "    <tr>\n",
       "      <th>494</th>\n",
       "      <td>494</td>\n",
       "      <td>https://one.mistobox.com/subscriptions/index/b...</td>\n",
       "    </tr>\n",
       "    <tr>\n",
       "      <th>495</th>\n",
       "      <td>495</td>\n",
       "      <td>https://one.mistobox.com/subscriptions/index/b...</td>\n",
       "    </tr>\n",
       "    <tr>\n",
       "      <th>496</th>\n",
       "      <td>496</td>\n",
       "      <td>https://one.mistobox.com/subscriptions/index/b...</td>\n",
       "    </tr>\n",
       "    <tr>\n",
       "      <th>497</th>\n",
       "      <td>497</td>\n",
       "      <td>https://one.mistobox.com/subscriptions/index/b...</td>\n",
       "    </tr>\n",
       "    <tr>\n",
       "      <th>498</th>\n",
       "      <td>498</td>\n",
       "      <td>https://one.mistobox.com/subscriptions/index/b...</td>\n",
       "    </tr>\n",
       "    <tr>\n",
       "      <th>499</th>\n",
       "      <td>499</td>\n",
       "      <td>https://one.mistobox.com/subscriptions/index/b...</td>\n",
       "    </tr>\n",
       "  </tbody>\n",
       "</table>\n",
       "<p>500 rows × 2 columns</p>\n",
       "</div>"
      ],
      "text/plain": [
       "     Unnamed: 0                                                  0\n",
       "0             0  https://one.mistobox.com/subscriptions/index/b...\n",
       "1             1  https://one.mistobox.com/subscriptions/index/b...\n",
       "2             2  https://one.mistobox.com/subscriptions/index/b...\n",
       "3             3  https://one.mistobox.com/subscriptions/index/b...\n",
       "4             4  https://one.mistobox.com/subscriptions/index/b...\n",
       "5             5  https://one.mistobox.com/subscriptions/index/b...\n",
       "6             6  https://one.mistobox.com/subscriptions/index/b...\n",
       "7             7  https://one.mistobox.com/subscriptions/index/b...\n",
       "8             8  https://one.mistobox.com/subscriptions/index/b...\n",
       "9             9  https://one.mistobox.com/subscriptions/index/b...\n",
       "10           10  https://one.mistobox.com/subscriptions/index/b...\n",
       "11           11  https://one.mistobox.com/subscriptions/index/b...\n",
       "12           12  https://one.mistobox.com/subscriptions/index/b...\n",
       "13           13  https://one.mistobox.com/subscriptions/index/b...\n",
       "14           14  https://one.mistobox.com/subscriptions/index/b...\n",
       "15           15  https://one.mistobox.com/subscriptions/index/b...\n",
       "16           16  https://one.mistobox.com/subscriptions/index/b...\n",
       "17           17  https://one.mistobox.com/subscriptions/index/b...\n",
       "18           18  https://one.mistobox.com/subscriptions/index/b...\n",
       "19           19  https://one.mistobox.com/subscriptions/index/b...\n",
       "20           20  https://one.mistobox.com/subscriptions/index/b...\n",
       "21           21  https://one.mistobox.com/subscriptions/index/b...\n",
       "22           22  https://one.mistobox.com/subscriptions/index/b...\n",
       "23           23  https://one.mistobox.com/subscriptions/index/b...\n",
       "24           24  https://one.mistobox.com/subscriptions/index/b...\n",
       "25           25  https://one.mistobox.com/subscriptions/index/b...\n",
       "26           26  https://one.mistobox.com/subscriptions/index/b...\n",
       "27           27  https://one.mistobox.com/subscriptions/index/b...\n",
       "28           28  https://one.mistobox.com/subscriptions/index/b...\n",
       "29           29  https://one.mistobox.com/subscriptions/index/b...\n",
       "..          ...                                                ...\n",
       "470         470  https://one.mistobox.com/subscriptions/index/b...\n",
       "471         471  https://one.mistobox.com/subscriptions/index/b...\n",
       "472         472  https://one.mistobox.com/subscriptions/index/b...\n",
       "473         473  https://one.mistobox.com/subscriptions/index/b...\n",
       "474         474  https://one.mistobox.com/subscriptions/index/b...\n",
       "475         475  https://one.mistobox.com/subscriptions/index/b...\n",
       "476         476  https://one.mistobox.com/subscriptions/index/b...\n",
       "477         477  https://one.mistobox.com/subscriptions/index/b...\n",
       "478         478  https://one.mistobox.com/subscriptions/index/b...\n",
       "479         479  https://one.mistobox.com/subscriptions/index/b...\n",
       "480         480  https://one.mistobox.com/subscriptions/index/b...\n",
       "481         481  https://one.mistobox.com/subscriptions/index/b...\n",
       "482         482  https://one.mistobox.com/subscriptions/index/b...\n",
       "483         483  https://one.mistobox.com/subscriptions/index/b...\n",
       "484         484  https://one.mistobox.com/subscriptions/index/b...\n",
       "485         485  https://one.mistobox.com/subscriptions/index/b...\n",
       "486         486  https://one.mistobox.com/subscriptions/index/b...\n",
       "487         487  https://one.mistobox.com/subscriptions/index/b...\n",
       "488         488  https://one.mistobox.com/subscriptions/index/b...\n",
       "489         489  https://one.mistobox.com/subscriptions/index/b...\n",
       "490         490  https://one.mistobox.com/subscriptions/index/b...\n",
       "491         491  https://one.mistobox.com/subscriptions/index/b...\n",
       "492         492  https://one.mistobox.com/subscriptions/index/b...\n",
       "493         493  https://one.mistobox.com/subscriptions/index/b...\n",
       "494         494  https://one.mistobox.com/subscriptions/index/b...\n",
       "495         495  https://one.mistobox.com/subscriptions/index/b...\n",
       "496         496  https://one.mistobox.com/subscriptions/index/b...\n",
       "497         497  https://one.mistobox.com/subscriptions/index/b...\n",
       "498         498  https://one.mistobox.com/subscriptions/index/b...\n",
       "499         499  https://one.mistobox.com/subscriptions/index/b...\n",
       "\n",
       "[500 rows x 2 columns]"
      ]
     },
     "execution_count": 2,
     "metadata": {},
     "output_type": "execute_result"
    }
   ],
   "source": [
    "urldf=pd.read_csv('/Users/yonilevine/Desktop/url.csv')\n",
    "urldf"
   ]
  },
  {
   "cell_type": "code",
   "execution_count": 3,
   "metadata": {},
   "outputs": [],
   "source": [
    "urldf.drop('Unnamed: 0',axis=1, inplace=True)"
   ]
  },
  {
   "cell_type": "code",
   "execution_count": 4,
   "metadata": {},
   "outputs": [
    {
     "data": {
      "text/html": [
       "<div>\n",
       "<style>\n",
       "    .dataframe thead tr:only-child th {\n",
       "        text-align: right;\n",
       "    }\n",
       "\n",
       "    .dataframe thead th {\n",
       "        text-align: left;\n",
       "    }\n",
       "\n",
       "    .dataframe tbody tr th {\n",
       "        vertical-align: top;\n",
       "    }\n",
       "</style>\n",
       "<table border=\"1\" class=\"dataframe\">\n",
       "  <thead>\n",
       "    <tr style=\"text-align: right;\">\n",
       "      <th></th>\n",
       "      <th>links</th>\n",
       "    </tr>\n",
       "  </thead>\n",
       "  <tbody>\n",
       "    <tr>\n",
       "      <th>0</th>\n",
       "      <td>https://one.mistobox.com/subscriptions/index/b...</td>\n",
       "    </tr>\n",
       "    <tr>\n",
       "      <th>1</th>\n",
       "      <td>https://one.mistobox.com/subscriptions/index/b...</td>\n",
       "    </tr>\n",
       "    <tr>\n",
       "      <th>2</th>\n",
       "      <td>https://one.mistobox.com/subscriptions/index/b...</td>\n",
       "    </tr>\n",
       "    <tr>\n",
       "      <th>3</th>\n",
       "      <td>https://one.mistobox.com/subscriptions/index/b...</td>\n",
       "    </tr>\n",
       "    <tr>\n",
       "      <th>4</th>\n",
       "      <td>https://one.mistobox.com/subscriptions/index/b...</td>\n",
       "    </tr>\n",
       "    <tr>\n",
       "      <th>5</th>\n",
       "      <td>https://one.mistobox.com/subscriptions/index/b...</td>\n",
       "    </tr>\n",
       "    <tr>\n",
       "      <th>6</th>\n",
       "      <td>https://one.mistobox.com/subscriptions/index/b...</td>\n",
       "    </tr>\n",
       "    <tr>\n",
       "      <th>7</th>\n",
       "      <td>https://one.mistobox.com/subscriptions/index/b...</td>\n",
       "    </tr>\n",
       "    <tr>\n",
       "      <th>8</th>\n",
       "      <td>https://one.mistobox.com/subscriptions/index/b...</td>\n",
       "    </tr>\n",
       "    <tr>\n",
       "      <th>9</th>\n",
       "      <td>https://one.mistobox.com/subscriptions/index/b...</td>\n",
       "    </tr>\n",
       "    <tr>\n",
       "      <th>10</th>\n",
       "      <td>https://one.mistobox.com/subscriptions/index/b...</td>\n",
       "    </tr>\n",
       "    <tr>\n",
       "      <th>11</th>\n",
       "      <td>https://one.mistobox.com/subscriptions/index/b...</td>\n",
       "    </tr>\n",
       "    <tr>\n",
       "      <th>12</th>\n",
       "      <td>https://one.mistobox.com/subscriptions/index/b...</td>\n",
       "    </tr>\n",
       "    <tr>\n",
       "      <th>13</th>\n",
       "      <td>https://one.mistobox.com/subscriptions/index/b...</td>\n",
       "    </tr>\n",
       "    <tr>\n",
       "      <th>14</th>\n",
       "      <td>https://one.mistobox.com/subscriptions/index/b...</td>\n",
       "    </tr>\n",
       "    <tr>\n",
       "      <th>15</th>\n",
       "      <td>https://one.mistobox.com/subscriptions/index/b...</td>\n",
       "    </tr>\n",
       "    <tr>\n",
       "      <th>16</th>\n",
       "      <td>https://one.mistobox.com/subscriptions/index/b...</td>\n",
       "    </tr>\n",
       "    <tr>\n",
       "      <th>17</th>\n",
       "      <td>https://one.mistobox.com/subscriptions/index/b...</td>\n",
       "    </tr>\n",
       "    <tr>\n",
       "      <th>18</th>\n",
       "      <td>https://one.mistobox.com/subscriptions/index/b...</td>\n",
       "    </tr>\n",
       "    <tr>\n",
       "      <th>19</th>\n",
       "      <td>https://one.mistobox.com/subscriptions/index/b...</td>\n",
       "    </tr>\n",
       "    <tr>\n",
       "      <th>20</th>\n",
       "      <td>https://one.mistobox.com/subscriptions/index/b...</td>\n",
       "    </tr>\n",
       "    <tr>\n",
       "      <th>21</th>\n",
       "      <td>https://one.mistobox.com/subscriptions/index/b...</td>\n",
       "    </tr>\n",
       "    <tr>\n",
       "      <th>22</th>\n",
       "      <td>https://one.mistobox.com/subscriptions/index/b...</td>\n",
       "    </tr>\n",
       "    <tr>\n",
       "      <th>23</th>\n",
       "      <td>https://one.mistobox.com/subscriptions/index/b...</td>\n",
       "    </tr>\n",
       "    <tr>\n",
       "      <th>24</th>\n",
       "      <td>https://one.mistobox.com/subscriptions/index/b...</td>\n",
       "    </tr>\n",
       "    <tr>\n",
       "      <th>25</th>\n",
       "      <td>https://one.mistobox.com/subscriptions/index/b...</td>\n",
       "    </tr>\n",
       "    <tr>\n",
       "      <th>26</th>\n",
       "      <td>https://one.mistobox.com/subscriptions/index/b...</td>\n",
       "    </tr>\n",
       "    <tr>\n",
       "      <th>27</th>\n",
       "      <td>https://one.mistobox.com/subscriptions/index/b...</td>\n",
       "    </tr>\n",
       "    <tr>\n",
       "      <th>28</th>\n",
       "      <td>https://one.mistobox.com/subscriptions/index/b...</td>\n",
       "    </tr>\n",
       "    <tr>\n",
       "      <th>29</th>\n",
       "      <td>https://one.mistobox.com/subscriptions/index/b...</td>\n",
       "    </tr>\n",
       "    <tr>\n",
       "      <th>...</th>\n",
       "      <td>...</td>\n",
       "    </tr>\n",
       "    <tr>\n",
       "      <th>470</th>\n",
       "      <td>https://one.mistobox.com/subscriptions/index/b...</td>\n",
       "    </tr>\n",
       "    <tr>\n",
       "      <th>471</th>\n",
       "      <td>https://one.mistobox.com/subscriptions/index/b...</td>\n",
       "    </tr>\n",
       "    <tr>\n",
       "      <th>472</th>\n",
       "      <td>https://one.mistobox.com/subscriptions/index/b...</td>\n",
       "    </tr>\n",
       "    <tr>\n",
       "      <th>473</th>\n",
       "      <td>https://one.mistobox.com/subscriptions/index/b...</td>\n",
       "    </tr>\n",
       "    <tr>\n",
       "      <th>474</th>\n",
       "      <td>https://one.mistobox.com/subscriptions/index/b...</td>\n",
       "    </tr>\n",
       "    <tr>\n",
       "      <th>475</th>\n",
       "      <td>https://one.mistobox.com/subscriptions/index/b...</td>\n",
       "    </tr>\n",
       "    <tr>\n",
       "      <th>476</th>\n",
       "      <td>https://one.mistobox.com/subscriptions/index/b...</td>\n",
       "    </tr>\n",
       "    <tr>\n",
       "      <th>477</th>\n",
       "      <td>https://one.mistobox.com/subscriptions/index/b...</td>\n",
       "    </tr>\n",
       "    <tr>\n",
       "      <th>478</th>\n",
       "      <td>https://one.mistobox.com/subscriptions/index/b...</td>\n",
       "    </tr>\n",
       "    <tr>\n",
       "      <th>479</th>\n",
       "      <td>https://one.mistobox.com/subscriptions/index/b...</td>\n",
       "    </tr>\n",
       "    <tr>\n",
       "      <th>480</th>\n",
       "      <td>https://one.mistobox.com/subscriptions/index/b...</td>\n",
       "    </tr>\n",
       "    <tr>\n",
       "      <th>481</th>\n",
       "      <td>https://one.mistobox.com/subscriptions/index/b...</td>\n",
       "    </tr>\n",
       "    <tr>\n",
       "      <th>482</th>\n",
       "      <td>https://one.mistobox.com/subscriptions/index/b...</td>\n",
       "    </tr>\n",
       "    <tr>\n",
       "      <th>483</th>\n",
       "      <td>https://one.mistobox.com/subscriptions/index/b...</td>\n",
       "    </tr>\n",
       "    <tr>\n",
       "      <th>484</th>\n",
       "      <td>https://one.mistobox.com/subscriptions/index/b...</td>\n",
       "    </tr>\n",
       "    <tr>\n",
       "      <th>485</th>\n",
       "      <td>https://one.mistobox.com/subscriptions/index/b...</td>\n",
       "    </tr>\n",
       "    <tr>\n",
       "      <th>486</th>\n",
       "      <td>https://one.mistobox.com/subscriptions/index/b...</td>\n",
       "    </tr>\n",
       "    <tr>\n",
       "      <th>487</th>\n",
       "      <td>https://one.mistobox.com/subscriptions/index/b...</td>\n",
       "    </tr>\n",
       "    <tr>\n",
       "      <th>488</th>\n",
       "      <td>https://one.mistobox.com/subscriptions/index/b...</td>\n",
       "    </tr>\n",
       "    <tr>\n",
       "      <th>489</th>\n",
       "      <td>https://one.mistobox.com/subscriptions/index/b...</td>\n",
       "    </tr>\n",
       "    <tr>\n",
       "      <th>490</th>\n",
       "      <td>https://one.mistobox.com/subscriptions/index/b...</td>\n",
       "    </tr>\n",
       "    <tr>\n",
       "      <th>491</th>\n",
       "      <td>https://one.mistobox.com/subscriptions/index/b...</td>\n",
       "    </tr>\n",
       "    <tr>\n",
       "      <th>492</th>\n",
       "      <td>https://one.mistobox.com/subscriptions/index/b...</td>\n",
       "    </tr>\n",
       "    <tr>\n",
       "      <th>493</th>\n",
       "      <td>https://one.mistobox.com/subscriptions/index/b...</td>\n",
       "    </tr>\n",
       "    <tr>\n",
       "      <th>494</th>\n",
       "      <td>https://one.mistobox.com/subscriptions/index/b...</td>\n",
       "    </tr>\n",
       "    <tr>\n",
       "      <th>495</th>\n",
       "      <td>https://one.mistobox.com/subscriptions/index/b...</td>\n",
       "    </tr>\n",
       "    <tr>\n",
       "      <th>496</th>\n",
       "      <td>https://one.mistobox.com/subscriptions/index/b...</td>\n",
       "    </tr>\n",
       "    <tr>\n",
       "      <th>497</th>\n",
       "      <td>https://one.mistobox.com/subscriptions/index/b...</td>\n",
       "    </tr>\n",
       "    <tr>\n",
       "      <th>498</th>\n",
       "      <td>https://one.mistobox.com/subscriptions/index/b...</td>\n",
       "    </tr>\n",
       "    <tr>\n",
       "      <th>499</th>\n",
       "      <td>https://one.mistobox.com/subscriptions/index/b...</td>\n",
       "    </tr>\n",
       "  </tbody>\n",
       "</table>\n",
       "<p>500 rows × 1 columns</p>\n",
       "</div>"
      ],
      "text/plain": [
       "                                                 links\n",
       "0    https://one.mistobox.com/subscriptions/index/b...\n",
       "1    https://one.mistobox.com/subscriptions/index/b...\n",
       "2    https://one.mistobox.com/subscriptions/index/b...\n",
       "3    https://one.mistobox.com/subscriptions/index/b...\n",
       "4    https://one.mistobox.com/subscriptions/index/b...\n",
       "5    https://one.mistobox.com/subscriptions/index/b...\n",
       "6    https://one.mistobox.com/subscriptions/index/b...\n",
       "7    https://one.mistobox.com/subscriptions/index/b...\n",
       "8    https://one.mistobox.com/subscriptions/index/b...\n",
       "9    https://one.mistobox.com/subscriptions/index/b...\n",
       "10   https://one.mistobox.com/subscriptions/index/b...\n",
       "11   https://one.mistobox.com/subscriptions/index/b...\n",
       "12   https://one.mistobox.com/subscriptions/index/b...\n",
       "13   https://one.mistobox.com/subscriptions/index/b...\n",
       "14   https://one.mistobox.com/subscriptions/index/b...\n",
       "15   https://one.mistobox.com/subscriptions/index/b...\n",
       "16   https://one.mistobox.com/subscriptions/index/b...\n",
       "17   https://one.mistobox.com/subscriptions/index/b...\n",
       "18   https://one.mistobox.com/subscriptions/index/b...\n",
       "19   https://one.mistobox.com/subscriptions/index/b...\n",
       "20   https://one.mistobox.com/subscriptions/index/b...\n",
       "21   https://one.mistobox.com/subscriptions/index/b...\n",
       "22   https://one.mistobox.com/subscriptions/index/b...\n",
       "23   https://one.mistobox.com/subscriptions/index/b...\n",
       "24   https://one.mistobox.com/subscriptions/index/b...\n",
       "25   https://one.mistobox.com/subscriptions/index/b...\n",
       "26   https://one.mistobox.com/subscriptions/index/b...\n",
       "27   https://one.mistobox.com/subscriptions/index/b...\n",
       "28   https://one.mistobox.com/subscriptions/index/b...\n",
       "29   https://one.mistobox.com/subscriptions/index/b...\n",
       "..                                                 ...\n",
       "470  https://one.mistobox.com/subscriptions/index/b...\n",
       "471  https://one.mistobox.com/subscriptions/index/b...\n",
       "472  https://one.mistobox.com/subscriptions/index/b...\n",
       "473  https://one.mistobox.com/subscriptions/index/b...\n",
       "474  https://one.mistobox.com/subscriptions/index/b...\n",
       "475  https://one.mistobox.com/subscriptions/index/b...\n",
       "476  https://one.mistobox.com/subscriptions/index/b...\n",
       "477  https://one.mistobox.com/subscriptions/index/b...\n",
       "478  https://one.mistobox.com/subscriptions/index/b...\n",
       "479  https://one.mistobox.com/subscriptions/index/b...\n",
       "480  https://one.mistobox.com/subscriptions/index/b...\n",
       "481  https://one.mistobox.com/subscriptions/index/b...\n",
       "482  https://one.mistobox.com/subscriptions/index/b...\n",
       "483  https://one.mistobox.com/subscriptions/index/b...\n",
       "484  https://one.mistobox.com/subscriptions/index/b...\n",
       "485  https://one.mistobox.com/subscriptions/index/b...\n",
       "486  https://one.mistobox.com/subscriptions/index/b...\n",
       "487  https://one.mistobox.com/subscriptions/index/b...\n",
       "488  https://one.mistobox.com/subscriptions/index/b...\n",
       "489  https://one.mistobox.com/subscriptions/index/b...\n",
       "490  https://one.mistobox.com/subscriptions/index/b...\n",
       "491  https://one.mistobox.com/subscriptions/index/b...\n",
       "492  https://one.mistobox.com/subscriptions/index/b...\n",
       "493  https://one.mistobox.com/subscriptions/index/b...\n",
       "494  https://one.mistobox.com/subscriptions/index/b...\n",
       "495  https://one.mistobox.com/subscriptions/index/b...\n",
       "496  https://one.mistobox.com/subscriptions/index/b...\n",
       "497  https://one.mistobox.com/subscriptions/index/b...\n",
       "498  https://one.mistobox.com/subscriptions/index/b...\n",
       "499  https://one.mistobox.com/subscriptions/index/b...\n",
       "\n",
       "[500 rows x 1 columns]"
      ]
     },
     "execution_count": 4,
     "metadata": {},
     "output_type": "execute_result"
    }
   ],
   "source": [
    "urldf.columns=['links']\n",
    "urldf"
   ]
  },
  {
   "cell_type": "code",
   "execution_count": 5,
   "metadata": {},
   "outputs": [
    {
     "name": "stderr",
     "output_type": "stream",
     "text": [
      "/Users/yonilevine/anaconda/lib/python2.7/site-packages/bs4/__init__.py:181: UserWarning: No parser was explicitly specified, so I'm using the best available HTML parser for this system (\"lxml\"). This usually isn't a problem, but if you run this code on another system, or in a different virtual environment, it may use a different parser and behave differently.\n",
      "\n",
      "The code that caused this warning is on line 174 of the file /Users/yonilevine/anaconda/lib/python2.7/runpy.py. To get rid of this warning, change code that looks like this:\n",
      "\n",
      " BeautifulSoup(YOUR_MARKUP})\n",
      "\n",
      "to this:\n",
      "\n",
      " BeautifulSoup(YOUR_MARKUP, \"lxml\")\n",
      "\n",
      "  markup_type=markup_type))\n"
     ]
    },
    {
     "ename": "NameError",
     "evalue": "name 'url' is not defined",
     "output_type": "error",
     "traceback": [
      "\u001b[0;31m---------------------------------------------------------------------------\u001b[0m",
      "\u001b[0;31mNameError\u001b[0m                                 Traceback (most recent call last)",
      "\u001b[0;32m<ipython-input-5-10d9634b8b0d>\u001b[0m in \u001b[0;36m<module>\u001b[0;34m()\u001b[0m\n\u001b[0;32m----> 1\u001b[0;31m \u001b[0mget_ipython\u001b[0m\u001b[0;34m(\u001b[0m\u001b[0;34m)\u001b[0m\u001b[0;34m.\u001b[0m\u001b[0mrun_cell_magic\u001b[0m\u001b[0;34m(\u001b[0m\u001b[0;34mu'time'\u001b[0m\u001b[0;34m,\u001b[0m \u001b[0;34mu''\u001b[0m\u001b[0;34m,\u001b[0m \u001b[0;34mu'\\nfrom bs4 import BeautifulSoup\\nimport urllib\\nchrome_path = r\"C:\\\\Users\\\\yonilevine\\\\Downloads\\\\chromedriver.exe\"\\ndriver2 = webdriver.Chrome(executable_path=\"/Users/yonilevine/Downloads/chromedriver\")\\ndriver2.get(\"http://www.mistobox.com/shop\") \\nr = urllib.urlopen(\\'http://www.mistobox.com/shop\\').read()\\nsoup = BeautifulSoup(r)\\n\\nfor page in url[\\'links\\']:\\n    driver2.get(\"http://www.mistobox.com/shop\") \\n    sleep(.1)\\n    soup = BeautifulSoup(html)\\n    url = page\\n    title = soup.find_all(\\'span\\', attrs={\\'class\\':\\'name\\'})\\n    roaster = soup.find_all(\\'div\\', attrs={\\'class\\':\\'roaster-description\\'})\\n    roastlevel = soup.find_all(\\'div\\', attrs={\\'class\\':\\'scale_circle\\'})\\n    blend = soup.find_all(\\'div\\', attrs={\\'class\\':\\'active\\'})\\n    price = soup.find(\\'span\\', attrs={\\'class\\':\\'price\\'}).text\\n    description = soup.find_all(\\'div\\', attrs={\\'class\\':\\'std\\'})\\n    parse = str(soup.find_all(\\'div\\', attrs={\\'class\\':\\'mbox-description-content\\'}))\\n    print(len(coffee))\\n    coffee.loc[len(coffee)]=[url, title, roaster, roastlevel, blend, price, description, parse]'\u001b[0m\u001b[0;34m)\u001b[0m\u001b[0;34m\u001b[0m\u001b[0m\n\u001b[0m",
      "\u001b[0;32m/Users/yonilevine/anaconda/lib/python2.7/site-packages/IPython/core/interactiveshell.pyc\u001b[0m in \u001b[0;36mrun_cell_magic\u001b[0;34m(self, magic_name, line, cell)\u001b[0m\n\u001b[1;32m   2113\u001b[0m             \u001b[0mmagic_arg_s\u001b[0m \u001b[0;34m=\u001b[0m \u001b[0mself\u001b[0m\u001b[0;34m.\u001b[0m\u001b[0mvar_expand\u001b[0m\u001b[0;34m(\u001b[0m\u001b[0mline\u001b[0m\u001b[0;34m,\u001b[0m \u001b[0mstack_depth\u001b[0m\u001b[0;34m)\u001b[0m\u001b[0;34m\u001b[0m\u001b[0m\n\u001b[1;32m   2114\u001b[0m             \u001b[0;32mwith\u001b[0m \u001b[0mself\u001b[0m\u001b[0;34m.\u001b[0m\u001b[0mbuiltin_trap\u001b[0m\u001b[0;34m:\u001b[0m\u001b[0;34m\u001b[0m\u001b[0m\n\u001b[0;32m-> 2115\u001b[0;31m                 \u001b[0mresult\u001b[0m \u001b[0;34m=\u001b[0m \u001b[0mfn\u001b[0m\u001b[0;34m(\u001b[0m\u001b[0mmagic_arg_s\u001b[0m\u001b[0;34m,\u001b[0m \u001b[0mcell\u001b[0m\u001b[0;34m)\u001b[0m\u001b[0;34m\u001b[0m\u001b[0m\n\u001b[0m\u001b[1;32m   2116\u001b[0m             \u001b[0;32mreturn\u001b[0m \u001b[0mresult\u001b[0m\u001b[0;34m\u001b[0m\u001b[0m\n\u001b[1;32m   2117\u001b[0m \u001b[0;34m\u001b[0m\u001b[0m\n",
      "\u001b[0;32m<decorator-gen-59>\u001b[0m in \u001b[0;36mtime\u001b[0;34m(self, line, cell, local_ns)\u001b[0m\n",
      "\u001b[0;32m/Users/yonilevine/anaconda/lib/python2.7/site-packages/IPython/core/magic.pyc\u001b[0m in \u001b[0;36m<lambda>\u001b[0;34m(f, *a, **k)\u001b[0m\n\u001b[1;32m    186\u001b[0m     \u001b[0;31m# but it's overkill for just that one bit of state.\u001b[0m\u001b[0;34m\u001b[0m\u001b[0;34m\u001b[0m\u001b[0m\n\u001b[1;32m    187\u001b[0m     \u001b[0;32mdef\u001b[0m \u001b[0mmagic_deco\u001b[0m\u001b[0;34m(\u001b[0m\u001b[0marg\u001b[0m\u001b[0;34m)\u001b[0m\u001b[0;34m:\u001b[0m\u001b[0;34m\u001b[0m\u001b[0m\n\u001b[0;32m--> 188\u001b[0;31m         \u001b[0mcall\u001b[0m \u001b[0;34m=\u001b[0m \u001b[0;32mlambda\u001b[0m \u001b[0mf\u001b[0m\u001b[0;34m,\u001b[0m \u001b[0;34m*\u001b[0m\u001b[0ma\u001b[0m\u001b[0;34m,\u001b[0m \u001b[0;34m**\u001b[0m\u001b[0mk\u001b[0m\u001b[0;34m:\u001b[0m \u001b[0mf\u001b[0m\u001b[0;34m(\u001b[0m\u001b[0;34m*\u001b[0m\u001b[0ma\u001b[0m\u001b[0;34m,\u001b[0m \u001b[0;34m**\u001b[0m\u001b[0mk\u001b[0m\u001b[0;34m)\u001b[0m\u001b[0;34m\u001b[0m\u001b[0m\n\u001b[0m\u001b[1;32m    189\u001b[0m \u001b[0;34m\u001b[0m\u001b[0m\n\u001b[1;32m    190\u001b[0m         \u001b[0;32mif\u001b[0m \u001b[0mcallable\u001b[0m\u001b[0;34m(\u001b[0m\u001b[0marg\u001b[0m\u001b[0;34m)\u001b[0m\u001b[0;34m:\u001b[0m\u001b[0;34m\u001b[0m\u001b[0m\n",
      "\u001b[0;32m/Users/yonilevine/anaconda/lib/python2.7/site-packages/IPython/core/magics/execution.pyc\u001b[0m in \u001b[0;36mtime\u001b[0;34m(self, line, cell, local_ns)\u001b[0m\n\u001b[1;32m   1183\u001b[0m         \u001b[0;32melse\u001b[0m\u001b[0;34m:\u001b[0m\u001b[0;34m\u001b[0m\u001b[0m\n\u001b[1;32m   1184\u001b[0m             \u001b[0mst\u001b[0m \u001b[0;34m=\u001b[0m \u001b[0mclock2\u001b[0m\u001b[0;34m(\u001b[0m\u001b[0;34m)\u001b[0m\u001b[0;34m\u001b[0m\u001b[0m\n\u001b[0;32m-> 1185\u001b[0;31m             \u001b[0;32mexec\u001b[0m\u001b[0;34m(\u001b[0m\u001b[0mcode\u001b[0m\u001b[0;34m,\u001b[0m \u001b[0mglob\u001b[0m\u001b[0;34m,\u001b[0m \u001b[0mlocal_ns\u001b[0m\u001b[0;34m)\u001b[0m\u001b[0;34m\u001b[0m\u001b[0m\n\u001b[0m\u001b[1;32m   1186\u001b[0m             \u001b[0mend\u001b[0m \u001b[0;34m=\u001b[0m \u001b[0mclock2\u001b[0m\u001b[0;34m(\u001b[0m\u001b[0;34m)\u001b[0m\u001b[0;34m\u001b[0m\u001b[0m\n\u001b[1;32m   1187\u001b[0m             \u001b[0mout\u001b[0m \u001b[0;34m=\u001b[0m \u001b[0mNone\u001b[0m\u001b[0;34m\u001b[0m\u001b[0m\n",
      "\u001b[0;32m<timed exec>\u001b[0m in \u001b[0;36m<module>\u001b[0;34m()\u001b[0m\n",
      "\u001b[0;31mNameError\u001b[0m: name 'url' is not defined"
     ]
    }
   ],
   "source": [
    "%%time\n",
    "\n",
    "from bs4 import BeautifulSoup\n",
    "import urllib\n",
    "chrome_path = r\"C:\\Users\\yonilevine\\Downloads\\chromedriver.exe\"\n",
    "driver2 = webdriver.Chrome(executable_path=\"/Users/yonilevine/Downloads/chromedriver\")\n",
    "driver2.get(\"http://www.mistobox.com/shop\") \n",
    "r = urllib.urlopen('http://www.mistobox.com/shop').read()\n",
    "soup = BeautifulSoup(r)\n",
    "\n",
    "for page in url['links']:\n",
    "    driver2.get(\"http://www.mistobox.com/shop\") \n",
    "    sleep(.1)\n",
    "    soup = BeautifulSoup(html)\n",
    "    url = page\n",
    "    title = soup.find_all('span', attrs={'class':'name'})\n",
    "    roaster = soup.find_all('div', attrs={'class':'roaster-description'})\n",
    "    roastlevel = soup.find_all('div', attrs={'class':'scale_circle'})\n",
    "    blend = soup.find_all('div', attrs={'class':'active'})\n",
    "    price = soup.find('span', attrs={'class':'price'}).text\n",
    "    description = soup.find_all('div', attrs={'class':'std'})\n",
    "    parse = str(soup.find_all('div', attrs={'class':'mbox-description-content'}))\n",
    "    print(len(coffee))\n",
    "    coffee.loc[len(coffee)]=[url, title, roaster, roastlevel, blend, price, description, parse]\n"
   ]
  },
  {
   "cell_type": "code",
   "execution_count": null,
   "metadata": {},
   "outputs": [],
   "source": []
  },
  {
   "cell_type": "code",
   "execution_count": null,
   "metadata": {},
   "outputs": [],
   "source": []
  },
  {
   "cell_type": "code",
   "execution_count": 78,
   "metadata": {},
   "outputs": [],
   "source": [
    "coffee.to_csv('~/Desktop/coffee500.csv')"
   ]
  },
  {
   "cell_type": "code",
   "execution_count": 81,
   "metadata": {},
   "outputs": [],
   "source": [
    "mask = (coffee['parse'].str.len() <5)\n",
    "coffee2 = coffee.loc[mask]"
   ]
  },
  {
   "cell_type": "code",
   "execution_count": 83,
   "metadata": {},
   "outputs": [
    {
     "data": {
      "text/html": [
       "<div>\n",
       "<style>\n",
       "    .dataframe thead tr:only-child th {\n",
       "        text-align: right;\n",
       "    }\n",
       "\n",
       "    .dataframe thead th {\n",
       "        text-align: left;\n",
       "    }\n",
       "\n",
       "    .dataframe tbody tr th {\n",
       "        vertical-align: top;\n",
       "    }\n",
       "</style>\n",
       "<table border=\"1\" class=\"dataframe\">\n",
       "  <thead>\n",
       "    <tr style=\"text-align: right;\">\n",
       "      <th></th>\n",
       "      <th>url</th>\n",
       "      <th>title</th>\n",
       "      <th>roaster</th>\n",
       "      <th>roastlevel</th>\n",
       "      <th>blend</th>\n",
       "      <th>price</th>\n",
       "      <th>description</th>\n",
       "      <th>parse</th>\n",
       "    </tr>\n",
       "  </thead>\n",
       "  <tbody>\n",
       "    <tr>\n",
       "      <th>0</th>\n",
       "      <td>https://one.mistobox.com/subscriptions/index/b...</td>\n",
       "      <td>[&lt;span class=\"name\"&gt;Ethiopia Shara&lt;/span&gt;]</td>\n",
       "      <td>[&lt;div class=\"roaster-description\"&gt;\n",
       "&lt;!--&lt;h2&gt;Qui...</td>\n",
       "      <td>[&lt;div class=\"scale_circle light\"&gt;&lt;/div&gt;]</td>\n",
       "      <td>[&lt;div class=\"detail light active\"&gt;Light&lt;/div&gt;,...</td>\n",
       "      <td>$20.00</td>\n",
       "      <td>[&lt;div class=\"std\"&gt;Anodyne Coffee Roasting Co&lt;/...</td>\n",
       "      <td>[&lt;div class=\"mbox-description-content\"&gt;\\n&lt;!--&lt;...</td>\n",
       "    </tr>\n",
       "    <tr>\n",
       "      <th>1</th>\n",
       "      <td>https://one.mistobox.com/subscriptions/index/b...</td>\n",
       "      <td>[&lt;span class=\"name\"&gt;Honduras David Mancia&lt;/span&gt;]</td>\n",
       "      <td>[&lt;div class=\"roaster-description\"&gt;\n",
       "&lt;!--&lt;h2&gt;Qui...</td>\n",
       "      <td>[&lt;div class=\"scale_circle medium_light\"&gt;&lt;/div&gt;]</td>\n",
       "      <td>[&lt;div class=\"detail medium_light sub_roast act...</td>\n",
       "      <td>$23.00</td>\n",
       "      <td>[&lt;div class=\"std\"&gt;Coava Coffee Roasters&lt;/div&gt;,...</td>\n",
       "      <td>[&lt;div class=\"mbox-description-content\"&gt;\\n&lt;!--&lt;...</td>\n",
       "    </tr>\n",
       "    <tr>\n",
       "      <th>2</th>\n",
       "      <td>https://one.mistobox.com/subscriptions/index/b...</td>\n",
       "      <td>[&lt;span class=\"name\"&gt;Brazil Pedra Branca&lt;/span&gt;]</td>\n",
       "      <td>[&lt;div class=\"roaster-description\"&gt;\n",
       "&lt;!--&lt;h2&gt;Qui...</td>\n",
       "      <td>[&lt;div class=\"scale_circle light\"&gt;&lt;/div&gt;]</td>\n",
       "      <td>[&lt;div class=\"detail light active\"&gt;Light&lt;/div&gt;,...</td>\n",
       "      <td>$23.00</td>\n",
       "      <td>[&lt;div class=\"std\"&gt;Square One Coffee&lt;/div&gt;, &lt;di...</td>\n",
       "      <td>[&lt;div class=\"mbox-description-content\"&gt;\\n&lt;!--&lt;...</td>\n",
       "    </tr>\n",
       "    <tr>\n",
       "      <th>3</th>\n",
       "      <td>https://one.mistobox.com/subscriptions/index/b...</td>\n",
       "      <td>[&lt;span class=\"name\"&gt;Kenya Ndaro-ini Peaberry&lt;/...</td>\n",
       "      <td>[&lt;div class=\"roaster-description\"&gt;\n",
       "&lt;!--&lt;h2&gt;Qui...</td>\n",
       "      <td>[&lt;div class=\"scale_circle medium_light\"&gt;&lt;/div&gt;]</td>\n",
       "      <td>[&lt;div class=\"detail medium_light sub_roast act...</td>\n",
       "      <td>$23.00</td>\n",
       "      <td>[&lt;div class=\"std\"&gt;AKA Coffee&lt;/div&gt;, &lt;div class...</td>\n",
       "      <td>[&lt;div class=\"mbox-description-content\"&gt;\\n&lt;!--&lt;...</td>\n",
       "    </tr>\n",
       "    <tr>\n",
       "      <th>4</th>\n",
       "      <td>https://one.mistobox.com/subscriptions/index/b...</td>\n",
       "      <td>[&lt;span class=\"name\"&gt;Sumatra Permata Gayo&lt;/span&gt;]</td>\n",
       "      <td>[&lt;div class=\"roaster-description\"&gt;\n",
       "&lt;!--&lt;h2&gt;Qui...</td>\n",
       "      <td>[&lt;div class=\"scale_circle medium_dark\"&gt;&lt;/div&gt;]</td>\n",
       "      <td>[&lt;div class=\"detail medium_dark sub_roast acti...</td>\n",
       "      <td>$20.00</td>\n",
       "      <td>[&lt;div class=\"std\"&gt;Higher Grounds Coffee&lt;/div&gt;,...</td>\n",
       "      <td>[&lt;div class=\"mbox-description-content\"&gt;\\n&lt;!--&lt;...</td>\n",
       "    </tr>\n",
       "    <tr>\n",
       "      <th>5</th>\n",
       "      <td>https://one.mistobox.com/subscriptions/index/b...</td>\n",
       "      <td>[&lt;span class=\"name\"&gt;Colombia El Zorro Rojo&lt;/sp...</td>\n",
       "      <td>[&lt;div class=\"roaster-description\"&gt;\n",
       "&lt;!--&lt;h2&gt;Qui...</td>\n",
       "      <td>[&lt;div class=\"scale_circle light\"&gt;&lt;/div&gt;]</td>\n",
       "      <td>[&lt;div class=\"detail light active\"&gt;Light&lt;/div&gt;,...</td>\n",
       "      <td>$23.00</td>\n",
       "      <td>[&lt;div class=\"std\"&gt;Passion House Coffee Roaster...</td>\n",
       "      <td>[&lt;div class=\"mbox-description-content\"&gt;\\n&lt;!--&lt;...</td>\n",
       "    </tr>\n",
       "    <tr>\n",
       "      <th>6</th>\n",
       "      <td>https://one.mistobox.com/subscriptions/index/b...</td>\n",
       "      <td>[&lt;span class=\"name\"&gt;Smith Bridge Road Blend&lt;/s...</td>\n",
       "      <td>[&lt;div class=\"roaster-description\"&gt;\n",
       "&lt;!--&lt;h2&gt;Qui...</td>\n",
       "      <td>[&lt;div class=\"scale_circle medium_light\"&gt;&lt;/div&gt;]</td>\n",
       "      <td>[&lt;div class=\"detail medium_light sub_roast act...</td>\n",
       "      <td>$20.00</td>\n",
       "      <td>[&lt;div class=\"std\"&gt;Brandywine Coffee Roasters&lt;/...</td>\n",
       "      <td>[&lt;div class=\"mbox-description-content\"&gt;\\n&lt;!--&lt;...</td>\n",
       "    </tr>\n",
       "    <tr>\n",
       "      <th>7</th>\n",
       "      <td>https://one.mistobox.com/subscriptions/index/b...</td>\n",
       "      <td>[&lt;span class=\"name\"&gt;Brazil Fazenda Furnas&lt;/span&gt;]</td>\n",
       "      <td>[&lt;div class=\"roaster-description\"&gt;\n",
       "&lt;!--&lt;h2&gt;Qui...</td>\n",
       "      <td>[&lt;div class=\"scale_circle medium_light\"&gt;&lt;/div&gt;]</td>\n",
       "      <td>[&lt;div class=\"detail medium_light sub_roast act...</td>\n",
       "      <td>$23.00</td>\n",
       "      <td>[&lt;div class=\"std\"&gt;Steadfast Coffee&lt;/div&gt;, &lt;div...</td>\n",
       "      <td>[&lt;div class=\"mbox-description-content\"&gt;\\n&lt;!--&lt;...</td>\n",
       "    </tr>\n",
       "    <tr>\n",
       "      <th>8</th>\n",
       "      <td>https://one.mistobox.com/subscriptions/index/b...</td>\n",
       "      <td>[&lt;span class=\"name\"&gt;Dark Roast Colombia La Pra...</td>\n",
       "      <td>[&lt;div class=\"roaster-description\"&gt;\n",
       "&lt;!--&lt;h2&gt;Qui...</td>\n",
       "      <td>[&lt;div class=\"scale_circle medium_dark\"&gt;&lt;/div&gt;]</td>\n",
       "      <td>[&lt;div class=\"detail medium_dark sub_roast acti...</td>\n",
       "      <td>$23.00</td>\n",
       "      <td>[&lt;div class=\"std\"&gt;Anodyne Coffee Roasting Co.&lt;...</td>\n",
       "      <td>[&lt;div class=\"mbox-description-content\"&gt;\\n&lt;!--&lt;...</td>\n",
       "    </tr>\n",
       "    <tr>\n",
       "      <th>9</th>\n",
       "      <td>https://one.mistobox.com/subscriptions/index/b...</td>\n",
       "      <td>[&lt;span class=\"name\"&gt;Café Carmelita Decaf Fair ...</td>\n",
       "      <td>[&lt;div class=\"roaster-description\"&gt;\n",
       "&lt;!--&lt;h2&gt;Qui...</td>\n",
       "      <td>[&lt;div class=\"scale_circle medium_dark\"&gt;&lt;/div&gt;]</td>\n",
       "      <td>[&lt;div class=\"detail medium_dark sub_roast acti...</td>\n",
       "      <td>$17.00</td>\n",
       "      <td>[&lt;div class=\"std\"&gt;Tony's Coffee&lt;/div&gt;, &lt;div cl...</td>\n",
       "      <td>[&lt;div class=\"mbox-description-content\"&gt;\\n&lt;!--&lt;...</td>\n",
       "    </tr>\n",
       "    <tr>\n",
       "      <th>10</th>\n",
       "      <td>https://one.mistobox.com/subscriptions/index/b...</td>\n",
       "      <td>[&lt;span class=\"name\"&gt;Espresso Noir Fair Trade &amp;...</td>\n",
       "      <td>[&lt;div class=\"roaster-description\"&gt;\n",
       "&lt;!--&lt;h2&gt;Qui...</td>\n",
       "      <td>[&lt;div class=\"scale_circle medium_dark\"&gt;&lt;/div&gt;]</td>\n",
       "      <td>[&lt;div class=\"detail medium_dark sub_roast acti...</td>\n",
       "      <td>$17.00</td>\n",
       "      <td>[&lt;div class=\"std\"&gt;Tony's Coffee&lt;/div&gt;, &lt;div cl...</td>\n",
       "      <td>[&lt;div class=\"mbox-description-content\"&gt;\\n&lt;!--&lt;...</td>\n",
       "    </tr>\n",
       "    <tr>\n",
       "      <th>11</th>\n",
       "      <td>https://one.mistobox.com/subscriptions/index/b...</td>\n",
       "      <td>[&lt;span class=\"name\"&gt;Tres Banderas Espresso Ble...</td>\n",
       "      <td>[&lt;div class=\"roaster-description\"&gt;\n",
       "&lt;!--&lt;h2&gt;Qui...</td>\n",
       "      <td>[&lt;div class=\"scale_circle medium_light\"&gt;&lt;/div&gt;]</td>\n",
       "      <td>[&lt;div class=\"detail medium_light sub_roast act...</td>\n",
       "      <td>$23.00</td>\n",
       "      <td>[&lt;div class=\"std\"&gt;CREMA&lt;/div&gt;, &lt;div class=\"std...</td>\n",
       "      <td>[&lt;div class=\"mbox-description-content\"&gt;\\n&lt;!--&lt;...</td>\n",
       "    </tr>\n",
       "    <tr>\n",
       "      <th>12</th>\n",
       "      <td>https://one.mistobox.com/subscriptions/index/b...</td>\n",
       "      <td>[&lt;span class=\"name\"&gt;Ethiopia Buku Natural&lt;/span&gt;]</td>\n",
       "      <td>[&lt;div class=\"roaster-description\"&gt;\n",
       "&lt;!--&lt;h2&gt;Qui...</td>\n",
       "      <td>[&lt;div class=\"scale_circle light\"&gt;&lt;/div&gt;]</td>\n",
       "      <td>[&lt;div class=\"detail light active\"&gt;Light&lt;/div&gt;,...</td>\n",
       "      <td>$23.00</td>\n",
       "      <td>[&lt;div class=\"std\"&gt;Onyx Coffee Lab&lt;/div&gt;, &lt;div ...</td>\n",
       "      <td>[&lt;div class=\"mbox-description-content\"&gt;\\n&lt;!--&lt;...</td>\n",
       "    </tr>\n",
       "    <tr>\n",
       "      <th>13</th>\n",
       "      <td>https://one.mistobox.com/subscriptions/index/b...</td>\n",
       "      <td>[&lt;span class=\"name\"&gt;Ethiopia Koke&lt;/span&gt;]</td>\n",
       "      <td>[&lt;div class=\"roaster-description\"&gt;\n",
       "&lt;!--&lt;h2&gt;Qui...</td>\n",
       "      <td>[&lt;div class=\"scale_circle medium_light\"&gt;&lt;/div&gt;]</td>\n",
       "      <td>[&lt;div class=\"detail medium_light sub_roast act...</td>\n",
       "      <td>$20.00</td>\n",
       "      <td>[&lt;div class=\"std\"&gt;Augies Coffee Roasters&lt;/div&gt;...</td>\n",
       "      <td>[&lt;div class=\"mbox-description-content\"&gt;\\n&lt;!--&lt;...</td>\n",
       "    </tr>\n",
       "    <tr>\n",
       "      <th>14</th>\n",
       "      <td>https://one.mistobox.com/subscriptions/index/b...</td>\n",
       "      <td>[&lt;span class=\"name\"&gt;Decaf Tangletown &lt;/span&gt;]</td>\n",
       "      <td>[&lt;div class=\"roaster-description\"&gt;\n",
       "&lt;!--&lt;h2&gt;Qui...</td>\n",
       "      <td>[&lt;div class=\"scale_circle medium\"&gt;&lt;/div&gt;]</td>\n",
       "      <td>[&lt;div class=\"detail medium active\"&gt;Medium&lt;/div&gt;]</td>\n",
       "      <td>$23.00</td>\n",
       "      <td>[&lt;div class=\"std\"&gt;Zoka Coffee Roasting Co&lt;/div...</td>\n",
       "      <td>[&lt;div class=\"mbox-description-content\"&gt;\\n&lt;!--&lt;...</td>\n",
       "    </tr>\n",
       "    <tr>\n",
       "      <th>15</th>\n",
       "      <td>https://one.mistobox.com/subscriptions/index/b...</td>\n",
       "      <td>[&lt;span class=\"name\"&gt;Mexico Maya Vinic&lt;/span&gt;]</td>\n",
       "      <td>[&lt;div class=\"roaster-description\"&gt;\n",
       "&lt;!--&lt;h2&gt;Qui...</td>\n",
       "      <td>[&lt;div class=\"scale_circle medium_light\"&gt;&lt;/div&gt;]</td>\n",
       "      <td>[&lt;div class=\"detail medium_light sub_roast act...</td>\n",
       "      <td>$20.00</td>\n",
       "      <td>[&lt;div class=\"std\"&gt;Higher Grounds Coffee&lt;/div&gt;,...</td>\n",
       "      <td>[&lt;div class=\"mbox-description-content\"&gt;\\n&lt;!--&lt;...</td>\n",
       "    </tr>\n",
       "    <tr>\n",
       "      <th>16</th>\n",
       "      <td>https://one.mistobox.com/subscriptions/index/b...</td>\n",
       "      <td>[&lt;span class=\"name\"&gt;Kenya Gachatha OT-19&lt;/span&gt;]</td>\n",
       "      <td>[&lt;div class=\"roaster-description\"&gt;\n",
       "&lt;!--&lt;h2&gt;Qui...</td>\n",
       "      <td>[&lt;div class=\"scale_circle light\"&gt;&lt;/div&gt;]</td>\n",
       "      <td>[&lt;div class=\"detail light active\"&gt;Light&lt;/div&gt;,...</td>\n",
       "      <td>$23.00</td>\n",
       "      <td>[&lt;div class=\"std\"&gt;Onyx Coffee Lab&lt;/div&gt;, &lt;div ...</td>\n",
       "      <td>[&lt;div class=\"mbox-description-content\"&gt;\\n&lt;!--&lt;...</td>\n",
       "    </tr>\n",
       "    <tr>\n",
       "      <th>17</th>\n",
       "      <td>https://one.mistobox.com/subscriptions/index/b...</td>\n",
       "      <td>[&lt;span class=\"name\"&gt;Ethiopia Bishan Fugu Organ...</td>\n",
       "      <td>[&lt;div class=\"roaster-description\"&gt;\n",
       "&lt;!--&lt;h2&gt;Qui...</td>\n",
       "      <td>[&lt;div class=\"scale_circle light\"&gt;&lt;/div&gt;]</td>\n",
       "      <td>[&lt;div class=\"detail light active\"&gt;Light&lt;/div&gt;,...</td>\n",
       "      <td>$23.00</td>\n",
       "      <td>[&lt;div class=\"std\"&gt;Noble Coffee Roasting&lt;/div&gt;,...</td>\n",
       "      <td>[&lt;div class=\"mbox-description-content\"&gt;\\n&lt;!--&lt;...</td>\n",
       "    </tr>\n",
       "    <tr>\n",
       "      <th>18</th>\n",
       "      <td>https://one.mistobox.com/subscriptions/index/b...</td>\n",
       "      <td>[&lt;span class=\"name\"&gt;Black Cat Analog Espresso&lt;...</td>\n",
       "      <td>[&lt;div class=\"roaster-description\"&gt;\n",
       "&lt;!--&lt;h2&gt;Qui...</td>\n",
       "      <td>[&lt;div class=\"scale_circle light\"&gt;&lt;/div&gt;]</td>\n",
       "      <td>[&lt;div class=\"detail light active\"&gt;Light&lt;/div&gt;,...</td>\n",
       "      <td>$20.00</td>\n",
       "      <td>[&lt;div class=\"std\"&gt;Intelligentsia Coffee&lt;/div&gt;,...</td>\n",
       "      <td>[&lt;div class=\"mbox-description-content\"&gt;\\n&lt;!--&lt;...</td>\n",
       "    </tr>\n",
       "    <tr>\n",
       "      <th>19</th>\n",
       "      <td>https://one.mistobox.com/subscriptions/index/b...</td>\n",
       "      <td>[&lt;span class=\"name\"&gt;Organic French Roast&lt;/span&gt;]</td>\n",
       "      <td>[&lt;div class=\"roaster-description\"&gt;\n",
       "&lt;!--&lt;h2&gt;Qui...</td>\n",
       "      <td>[&lt;div class=\"scale_circle dark\"&gt;&lt;/div&gt;]</td>\n",
       "      <td>[&lt;div class=\"detail dark active\"&gt;&lt;span class=\"...</td>\n",
       "      <td>$20.00</td>\n",
       "      <td>[&lt;div class=\"std\"&gt;Caffe Vita Coffee Roasting C...</td>\n",
       "      <td>[&lt;div class=\"mbox-description-content\"&gt;\\n&lt;!--&lt;...</td>\n",
       "    </tr>\n",
       "    <tr>\n",
       "      <th>20</th>\n",
       "      <td>https://one.mistobox.com/subscriptions/index/b...</td>\n",
       "      <td>[&lt;span class=\"name\"&gt;Organic Ethiopia Charbanta...</td>\n",
       "      <td>[&lt;div class=\"roaster-description\"&gt;\n",
       "&lt;!--&lt;h2&gt;Qui...</td>\n",
       "      <td>[&lt;div class=\"scale_circle light\"&gt;&lt;/div&gt;]</td>\n",
       "      <td>[&lt;div class=\"detail light active\"&gt;Light&lt;/div&gt;,...</td>\n",
       "      <td>$23.00</td>\n",
       "      <td>[&lt;div class=\"std\"&gt;Kickapoo Coffee Roasters&lt;/di...</td>\n",
       "      <td>[&lt;div class=\"mbox-description-content\"&gt;\\n&lt;!--&lt;...</td>\n",
       "    </tr>\n",
       "    <tr>\n",
       "      <th>21</th>\n",
       "      <td>https://one.mistobox.com/subscriptions/index/b...</td>\n",
       "      <td>[&lt;span class=\"name\"&gt;Decaf Colombia Swiss Water...</td>\n",
       "      <td>[&lt;div class=\"roaster-description\"&gt;\n",
       "&lt;!--&lt;h2&gt;Qui...</td>\n",
       "      <td>[&lt;div class=\"scale_circle medium_light\"&gt;&lt;/div&gt;]</td>\n",
       "      <td>[&lt;div class=\"detail medium_light sub_roast act...</td>\n",
       "      <td>$20.00</td>\n",
       "      <td>[&lt;div class=\"std\"&gt;Metric Coffee Co.&lt;/div&gt;, &lt;di...</td>\n",
       "      <td>[&lt;div class=\"mbox-description-content\"&gt;\\n&lt;!--&lt;...</td>\n",
       "    </tr>\n",
       "    <tr>\n",
       "      <th>22</th>\n",
       "      <td>https://one.mistobox.com/subscriptions/index/b...</td>\n",
       "      <td>[&lt;span class=\"name\"&gt;Doe Run Holiday Blend&lt;/span&gt;]</td>\n",
       "      <td>[&lt;div class=\"roaster-description\"&gt;\n",
       "&lt;!--&lt;h2&gt;Qui...</td>\n",
       "      <td>[&lt;div class=\"scale_circle light\"&gt;&lt;/div&gt;]</td>\n",
       "      <td>[&lt;div class=\"detail light active\"&gt;Light&lt;/div&gt;,...</td>\n",
       "      <td>$20.00</td>\n",
       "      <td>[&lt;div class=\"std\"&gt;Brandywine Coffee Roasters&lt;/...</td>\n",
       "      <td>[&lt;div class=\"mbox-description-content\"&gt;\\n&lt;!--&lt;...</td>\n",
       "    </tr>\n",
       "    <tr>\n",
       "      <th>23</th>\n",
       "      <td>https://one.mistobox.com/subscriptions/index/b...</td>\n",
       "      <td>[&lt;span class=\"name\"&gt;Democratic Republic of the...</td>\n",
       "      <td>[&lt;div class=\"roaster-description\"&gt;\n",
       "&lt;!--&lt;h2&gt;Qui...</td>\n",
       "      <td>[&lt;div class=\"scale_circle medium_light\"&gt;&lt;/div&gt;]</td>\n",
       "      <td>[&lt;div class=\"detail medium_light sub_roast act...</td>\n",
       "      <td>$20.00</td>\n",
       "      <td>[&lt;div class=\"std\"&gt;Higher Grounds Coffee&lt;/div&gt;,...</td>\n",
       "      <td>[&lt;div class=\"mbox-description-content\"&gt;\\n&lt;!--&lt;...</td>\n",
       "    </tr>\n",
       "    <tr>\n",
       "      <th>24</th>\n",
       "      <td>https://one.mistobox.com/subscriptions/index/b...</td>\n",
       "      <td>[&lt;span class=\"name\"&gt;Organic Colombia Fondo Pae...</td>\n",
       "      <td>[&lt;div class=\"roaster-description\"&gt;\n",
       "&lt;!--&lt;h2&gt;Qui...</td>\n",
       "      <td>[&lt;div class=\"scale_circle light\"&gt;&lt;/div&gt;]</td>\n",
       "      <td>[&lt;div class=\"detail light active\"&gt;Light&lt;/div&gt;,...</td>\n",
       "      <td>$23.00</td>\n",
       "      <td>[&lt;div class=\"std\"&gt;Kickapoo Coffee Roasters&lt;/di...</td>\n",
       "      <td>[&lt;div class=\"mbox-description-content\"&gt;\\n&lt;!--&lt;...</td>\n",
       "    </tr>\n",
       "    <tr>\n",
       "      <th>25</th>\n",
       "      <td>https://one.mistobox.com/subscriptions/index/b...</td>\n",
       "      <td>[&lt;span class=\"name\"&gt;Kenya Kiamutuira OT-15&lt;/sp...</td>\n",
       "      <td>[&lt;div class=\"roaster-description\"&gt;\n",
       "&lt;!--&lt;h2&gt;Qui...</td>\n",
       "      <td>[&lt;div class=\"scale_circle medium_light\"&gt;&lt;/div&gt;]</td>\n",
       "      <td>[&lt;div class=\"detail medium_light sub_roast act...</td>\n",
       "      <td>$23.00</td>\n",
       "      <td>[&lt;div class=\"std\"&gt;Onyx Coffee Lab&lt;/div&gt;, &lt;div ...</td>\n",
       "      <td>[&lt;div class=\"mbox-description-content\"&gt;\\n&lt;!--&lt;...</td>\n",
       "    </tr>\n",
       "    <tr>\n",
       "      <th>26</th>\n",
       "      <td>https://one.mistobox.com/subscriptions/index/b...</td>\n",
       "      <td>[&lt;span class=\"name\"&gt;Caffe Del Sol&lt;/span&gt;]</td>\n",
       "      <td>[&lt;div class=\"roaster-description\"&gt;\n",
       "&lt;!--&lt;h2&gt;Qui...</td>\n",
       "      <td>[&lt;div class=\"scale_circle medium\"&gt;&lt;/div&gt;]</td>\n",
       "      <td>[&lt;div class=\"detail medium active\"&gt;Medium&lt;/div...</td>\n",
       "      <td>$20.00</td>\n",
       "      <td>[&lt;div class=\"std\"&gt;Caffe Vita Coffee Roasting C...</td>\n",
       "      <td>[&lt;div class=\"mbox-description-content\"&gt;\\n&lt;!--&lt;...</td>\n",
       "    </tr>\n",
       "    <tr>\n",
       "      <th>27</th>\n",
       "      <td>https://one.mistobox.com/subscriptions/index/b...</td>\n",
       "      <td>[&lt;span class=\"name\"&gt;Ethiopia Burtukaana&lt;/span&gt;]</td>\n",
       "      <td>[&lt;div class=\"roaster-description\"&gt;\n",
       "&lt;!--&lt;h2&gt;Qui...</td>\n",
       "      <td>[&lt;div class=\"scale_circle light\"&gt;&lt;/div&gt;]</td>\n",
       "      <td>[&lt;div class=\"detail light active\"&gt;Light&lt;/div&gt;,...</td>\n",
       "      <td>$23.00</td>\n",
       "      <td>[&lt;div class=\"std\"&gt;Tandem Coffee Roasters&lt;/div&gt;...</td>\n",
       "      <td>[&lt;div class=\"mbox-description-content\"&gt;\\n&lt;!--&lt;...</td>\n",
       "    </tr>\n",
       "    <tr>\n",
       "      <th>28</th>\n",
       "      <td>https://one.mistobox.com/subscriptions/index/b...</td>\n",
       "      <td>[&lt;span class=\"name\"&gt;Orion Espresso&lt;/span&gt;]</td>\n",
       "      <td>[&lt;div class=\"roaster-description\"&gt;\n",
       "&lt;!--&lt;h2&gt;Qui...</td>\n",
       "      <td>[&lt;div class=\"scale_circle medium\"&gt;&lt;/div&gt;]</td>\n",
       "      <td>[&lt;div class=\"detail medium active\"&gt;Medium&lt;/div...</td>\n",
       "      <td>$23.00</td>\n",
       "      <td>[&lt;div class=\"std\"&gt;Spyhouse Coffee Roasting Co&lt;...</td>\n",
       "      <td>[&lt;div class=\"mbox-description-content\"&gt;\\n&lt;!--&lt;...</td>\n",
       "    </tr>\n",
       "    <tr>\n",
       "      <th>29</th>\n",
       "      <td>https://one.mistobox.com/subscriptions/index/b...</td>\n",
       "      <td>[&lt;span class=\"name\"&gt;Ethiopia Guji Uraga&lt;/span&gt;]</td>\n",
       "      <td>[&lt;div class=\"roaster-description\"&gt;\n",
       "&lt;!--&lt;h2&gt;Qui...</td>\n",
       "      <td>[&lt;div class=\"scale_circle medium_light\"&gt;&lt;/div&gt;]</td>\n",
       "      <td>[&lt;div class=\"detail medium_light sub_roast act...</td>\n",
       "      <td>$23.00</td>\n",
       "      <td>[&lt;div class=\"std\"&gt;Ruby Coffee Roasters&lt;/div&gt;, ...</td>\n",
       "      <td>[&lt;div class=\"mbox-description-content\"&gt;\\n&lt;!--&lt;...</td>\n",
       "    </tr>\n",
       "    <tr>\n",
       "      <th>...</th>\n",
       "      <td>...</td>\n",
       "      <td>...</td>\n",
       "      <td>...</td>\n",
       "      <td>...</td>\n",
       "      <td>...</td>\n",
       "      <td>...</td>\n",
       "      <td>...</td>\n",
       "      <td>...</td>\n",
       "    </tr>\n",
       "    <tr>\n",
       "      <th>470</th>\n",
       "      <td>https://one.mistobox.com/subscriptions/index/b...</td>\n",
       "      <td>[&lt;span class=\"name\"&gt;Kenya Mr. David Mburu&lt;/span&gt;]</td>\n",
       "      <td>[&lt;div class=\"roaster-description\"&gt;\n",
       "&lt;!--&lt;h2&gt;Qui...</td>\n",
       "      <td>[&lt;div class=\"scale_circle medium_light\"&gt;&lt;/div&gt;]</td>\n",
       "      <td>[&lt;div class=\"detail medium_light sub_roast act...</td>\n",
       "      <td>$23.00</td>\n",
       "      <td>[&lt;div class=\"std\"&gt;Coava Coffee Roasters&lt;/div&gt;,...</td>\n",
       "      <td>[&lt;div class=\"mbox-description-content\"&gt;\\n&lt;!--&lt;...</td>\n",
       "    </tr>\n",
       "    <tr>\n",
       "      <th>471</th>\n",
       "      <td>https://one.mistobox.com/subscriptions/index/b...</td>\n",
       "      <td>[&lt;span class=\"name\"&gt;Decaf Mexico Organic El Ma...</td>\n",
       "      <td>[&lt;div class=\"roaster-description\"&gt;\n",
       "&lt;!--&lt;h2&gt;Qui...</td>\n",
       "      <td>[&lt;div class=\"scale_circle medium\"&gt;&lt;/div&gt;]</td>\n",
       "      <td>[&lt;div class=\"detail medium active\"&gt;Medium&lt;/div&gt;]</td>\n",
       "      <td>$23.00</td>\n",
       "      <td>[&lt;div class=\"std\"&gt;Intelligentsia Coffee&lt;/div&gt;,...</td>\n",
       "      <td>[&lt;div class=\"mbox-description-content\"&gt;\\n&lt;!--&lt;...</td>\n",
       "    </tr>\n",
       "    <tr>\n",
       "      <th>472</th>\n",
       "      <td>https://one.mistobox.com/subscriptions/index/b...</td>\n",
       "      <td>[&lt;span class=\"name\"&gt;Black Cat Decaf Espresso&lt;/...</td>\n",
       "      <td>[&lt;div class=\"roaster-description\"&gt;\n",
       "&lt;!--&lt;h2&gt;Qui...</td>\n",
       "      <td>[&lt;div class=\"scale_circle medium\"&gt;&lt;/div&gt;]</td>\n",
       "      <td>[&lt;div class=\"detail medium active\"&gt;Medium&lt;/div&gt;]</td>\n",
       "      <td>$23.00</td>\n",
       "      <td>[&lt;div class=\"std\"&gt;Intelligentsia Coffee&lt;/div&gt;,...</td>\n",
       "      <td>[&lt;div class=\"mbox-description-content\"&gt;\\n&lt;!--&lt;...</td>\n",
       "    </tr>\n",
       "    <tr>\n",
       "      <th>473</th>\n",
       "      <td>https://one.mistobox.com/subscriptions/index/b...</td>\n",
       "      <td>[&lt;span class=\"name\"&gt;Decaf House Blend&lt;/span&gt;]</td>\n",
       "      <td>[&lt;div class=\"roaster-description\"&gt;\n",
       "&lt;!--&lt;h2&gt;Qui...</td>\n",
       "      <td>[&lt;div class=\"scale_circle medium_dark\"&gt;&lt;/div&gt;]</td>\n",
       "      <td>[&lt;div class=\"detail medium_dark sub_roast acti...</td>\n",
       "      <td>$20.00</td>\n",
       "      <td>[&lt;div class=\"std\"&gt;Klatch Coffee&lt;/div&gt;, &lt;div cl...</td>\n",
       "      <td>[&lt;div class=\"mbox-description-content\"&gt;\\n&lt;!--&lt;...</td>\n",
       "    </tr>\n",
       "    <tr>\n",
       "      <th>474</th>\n",
       "      <td>https://one.mistobox.com/subscriptions/index/b...</td>\n",
       "      <td>[&lt;span class=\"name\"&gt;Decaf Espresso Fair Trade ...</td>\n",
       "      <td>[&lt;div class=\"roaster-description\"&gt;\n",
       "&lt;!--&lt;h2&gt;Qui...</td>\n",
       "      <td>[&lt;div class=\"scale_circle dark\"&gt;&lt;/div&gt;]</td>\n",
       "      <td>[&lt;div class=\"detail dark active\"&gt;&lt;span class=\"...</td>\n",
       "      <td>$20.00</td>\n",
       "      <td>[&lt;div class=\"std\"&gt;Klatch Coffee&lt;/div&gt;, &lt;div cl...</td>\n",
       "      <td>[&lt;div class=\"mbox-description-content\"&gt;\\n&lt;!--&lt;...</td>\n",
       "    </tr>\n",
       "    <tr>\n",
       "      <th>475</th>\n",
       "      <td>https://one.mistobox.com/subscriptions/index/b...</td>\n",
       "      <td>[&lt;span class=\"name\"&gt;Sumatra Mutu Batak&lt;/span&gt;]</td>\n",
       "      <td>[&lt;div class=\"roaster-description\"&gt;\n",
       "&lt;!--&lt;h2&gt;Qui...</td>\n",
       "      <td>[&lt;div class=\"scale_circle medium\"&gt;&lt;/div&gt;]</td>\n",
       "      <td>[&lt;div class=\"detail medium active\"&gt;Medium&lt;/div...</td>\n",
       "      <td>$20.00</td>\n",
       "      <td>[&lt;div class=\"std\"&gt;Klatch Coffee&lt;/div&gt;, &lt;div cl...</td>\n",
       "      <td>[&lt;div class=\"mbox-description-content\"&gt;\\n&lt;!--&lt;...</td>\n",
       "    </tr>\n",
       "    <tr>\n",
       "      <th>476</th>\n",
       "      <td>https://one.mistobox.com/subscriptions/index/b...</td>\n",
       "      <td>[&lt;span class=\"name\"&gt;Mocha Java&lt;/span&gt;]</td>\n",
       "      <td>[&lt;div class=\"roaster-description\"&gt;\n",
       "&lt;!--&lt;h2&gt;Qui...</td>\n",
       "      <td>[&lt;div class=\"scale_circle medium\"&gt;&lt;/div&gt;]</td>\n",
       "      <td>[&lt;div class=\"detail medium active\"&gt;Medium&lt;/div...</td>\n",
       "      <td>$20.00</td>\n",
       "      <td>[&lt;div class=\"std\"&gt;Klatch Coffee&lt;/div&gt;, &lt;div cl...</td>\n",
       "      <td>[&lt;div class=\"mbox-description-content\"&gt;\\n&lt;!--&lt;...</td>\n",
       "    </tr>\n",
       "    <tr>\n",
       "      <th>477</th>\n",
       "      <td>https://one.mistobox.com/subscriptions/index/b...</td>\n",
       "      <td>[&lt;span class=\"name\"&gt;Italian Roast&lt;/span&gt;]</td>\n",
       "      <td>[&lt;div class=\"roaster-description\"&gt;\n",
       "&lt;!--&lt;h2&gt;Qui...</td>\n",
       "      <td>[&lt;div class=\"scale_circle medium\"&gt;&lt;/div&gt;]</td>\n",
       "      <td>[&lt;div class=\"detail medium active\"&gt;Medium&lt;/div...</td>\n",
       "      <td>$20.00</td>\n",
       "      <td>[&lt;div class=\"std\"&gt;Klatch Coffee&lt;/div&gt;, &lt;div cl...</td>\n",
       "      <td>[&lt;div class=\"mbox-description-content\"&gt;\\n&lt;!--&lt;...</td>\n",
       "    </tr>\n",
       "    <tr>\n",
       "      <th>478</th>\n",
       "      <td>https://one.mistobox.com/subscriptions/index/b...</td>\n",
       "      <td>[&lt;span class=\"name\"&gt;Decaf Espresso&lt;/span&gt;]</td>\n",
       "      <td>[&lt;div class=\"roaster-description\"&gt;\n",
       "&lt;!--&lt;h2&gt;Qui...</td>\n",
       "      <td>[&lt;div class=\"scale_circle dark\"&gt;&lt;/div&gt;]</td>\n",
       "      <td>[&lt;div class=\"detail dark active\"&gt;&lt;span class=\"...</td>\n",
       "      <td>$20.00</td>\n",
       "      <td>[&lt;div class=\"std\"&gt;Klatch Coffee&lt;/div&gt;, &lt;div cl...</td>\n",
       "      <td>[&lt;div class=\"mbox-description-content\"&gt;\\n&lt;!--&lt;...</td>\n",
       "    </tr>\n",
       "    <tr>\n",
       "      <th>479</th>\n",
       "      <td>https://one.mistobox.com/subscriptions/index/b...</td>\n",
       "      <td>[&lt;span class=\"name\"&gt;Guatemala Los Santos&lt;/span&gt;]</td>\n",
       "      <td>[&lt;div class=\"roaster-description\"&gt;\n",
       "&lt;!--&lt;h2&gt;Qui...</td>\n",
       "      <td>[&lt;div class=\"scale_circle medium_light\"&gt;&lt;/div&gt;]</td>\n",
       "      <td>[&lt;div class=\"detail medium_light sub_roast act...</td>\n",
       "      <td>$20.00</td>\n",
       "      <td>[&lt;div class=\"std\"&gt;Klatch Coffee&lt;/div&gt;, &lt;div cl...</td>\n",
       "      <td>[&lt;div class=\"mbox-description-content\"&gt;\\n&lt;!--&lt;...</td>\n",
       "    </tr>\n",
       "    <tr>\n",
       "      <th>480</th>\n",
       "      <td>https://one.mistobox.com/subscriptions/index/b...</td>\n",
       "      <td>[&lt;span class=\"name\"&gt;Costa Rica Santa Maria&lt;/sp...</td>\n",
       "      <td>[&lt;div class=\"roaster-description\"&gt;\n",
       "&lt;!--&lt;h2&gt;Qui...</td>\n",
       "      <td>[&lt;div class=\"scale_circle medium_light\"&gt;&lt;/div&gt;]</td>\n",
       "      <td>[&lt;div class=\"detail medium_light sub_roast act...</td>\n",
       "      <td>$23.00</td>\n",
       "      <td>[&lt;div class=\"std\"&gt;Huckleberry Roasters&lt;/div&gt;, ...</td>\n",
       "      <td>[&lt;div class=\"mbox-description-content\"&gt;\\n&lt;!--&lt;...</td>\n",
       "    </tr>\n",
       "    <tr>\n",
       "      <th>481</th>\n",
       "      <td>https://one.mistobox.com/subscriptions/index/b...</td>\n",
       "      <td>[&lt;span class=\"name\"&gt;Hexproof Blend&lt;/span&gt;]</td>\n",
       "      <td>[&lt;div class=\"roaster-description\"&gt;\n",
       "&lt;!--&lt;h2&gt;Qui...</td>\n",
       "      <td>[&lt;div class=\"scale_circle light\"&gt;&lt;/div&gt;]</td>\n",
       "      <td>[&lt;div class=\"detail light active\"&gt;Light&lt;/div&gt;,...</td>\n",
       "      <td>$23.00</td>\n",
       "      <td>[&lt;div class=\"std\"&gt;Square One Coffee&lt;/div&gt;, &lt;di...</td>\n",
       "      <td>[&lt;div class=\"mbox-description-content\"&gt;\\n&lt;!--&lt;...</td>\n",
       "    </tr>\n",
       "    <tr>\n",
       "      <th>482</th>\n",
       "      <td>https://one.mistobox.com/subscriptions/index/b...</td>\n",
       "      <td>[&lt;span class=\"name\"&gt;Velvet Hammer Cold Brew&lt;/s...</td>\n",
       "      <td>[&lt;div class=\"roaster-description\"&gt;\n",
       "&lt;!--&lt;h2&gt;Qui...</td>\n",
       "      <td>[&lt;div class=\"scale_circle medium_light\"&gt;&lt;/div&gt;]</td>\n",
       "      <td>[&lt;div class=\"detail medium_light sub_roast act...</td>\n",
       "      <td>$23.00</td>\n",
       "      <td>[&lt;div class=\"std\"&gt;Square One Coffee&lt;/div&gt;, &lt;di...</td>\n",
       "      <td>[&lt;div class=\"mbox-description-content\"&gt;\\n&lt;!--&lt;...</td>\n",
       "    </tr>\n",
       "    <tr>\n",
       "      <th>483</th>\n",
       "      <td>https://one.mistobox.com/subscriptions/index/b...</td>\n",
       "      <td>[&lt;span class=\"name\"&gt;Low &amp;amp; Slow Cold Brew&lt;/...</td>\n",
       "      <td>[&lt;div class=\"roaster-description\"&gt;\n",
       "&lt;!--&lt;h2&gt;Qui...</td>\n",
       "      <td>[&lt;div class=\"scale_circle medium_light\"&gt;&lt;/div&gt;]</td>\n",
       "      <td>[&lt;div class=\"detail medium_light sub_roast act...</td>\n",
       "      <td>$23.00</td>\n",
       "      <td>[&lt;div class=\"std\"&gt;Square One Coffee&lt;/div&gt;, &lt;di...</td>\n",
       "      <td>[&lt;div class=\"mbox-description-content\"&gt;\\n&lt;!--&lt;...</td>\n",
       "    </tr>\n",
       "    <tr>\n",
       "      <th>484</th>\n",
       "      <td>https://one.mistobox.com/subscriptions/index/b...</td>\n",
       "      <td>[&lt;span class=\"name\"&gt;El Salvador Las Delicias&lt;/...</td>\n",
       "      <td>[&lt;div class=\"roaster-description\"&gt;\n",
       "&lt;!--&lt;h2&gt;Qui...</td>\n",
       "      <td>[&lt;div class=\"scale_circle light\"&gt;&lt;/div&gt;]</td>\n",
       "      <td>[&lt;div class=\"detail light active\"&gt;Light&lt;/div&gt;,...</td>\n",
       "      <td>$23.00</td>\n",
       "      <td>[&lt;div class=\"std\"&gt;Evans Brothers Coffee Roaste...</td>\n",
       "      <td>[&lt;div class=\"mbox-description-content\"&gt;\\n&lt;!--&lt;...</td>\n",
       "    </tr>\n",
       "    <tr>\n",
       "      <th>485</th>\n",
       "      <td>https://one.mistobox.com/subscriptions/index/b...</td>\n",
       "      <td>[&lt;span class=\"name\"&gt;Colombia El Roble&lt;/span&gt;]</td>\n",
       "      <td>[&lt;div class=\"roaster-description\"&gt;\n",
       "&lt;!--&lt;h2&gt;Qui...</td>\n",
       "      <td>[&lt;div class=\"scale_circle light\"&gt;&lt;/div&gt;]</td>\n",
       "      <td>[&lt;div class=\"detail light active\"&gt;Light&lt;/div&gt;,...</td>\n",
       "      <td>$23.00</td>\n",
       "      <td>[&lt;div class=\"std\"&gt;Greenway Coffee Company&lt;/div...</td>\n",
       "      <td>[&lt;div class=\"mbox-description-content\"&gt;\\n&lt;!--&lt;...</td>\n",
       "    </tr>\n",
       "    <tr>\n",
       "      <th>486</th>\n",
       "      <td>https://one.mistobox.com/subscriptions/index/b...</td>\n",
       "      <td>[&lt;span class=\"name\"&gt;Backcountry Blend Fair Tra...</td>\n",
       "      <td>[&lt;div class=\"roaster-description\"&gt;\n",
       "&lt;!--&lt;h2&gt;Qui...</td>\n",
       "      <td>[&lt;div class=\"scale_circle medium\"&gt;&lt;/div&gt;]</td>\n",
       "      <td>[&lt;div class=\"detail medium active\"&gt;Medium&lt;/div...</td>\n",
       "      <td>$17.00</td>\n",
       "      <td>[&lt;div class=\"std\"&gt;Tony's Coffee&lt;/div&gt;, &lt;div cl...</td>\n",
       "      <td>[&lt;div class=\"mbox-description-content\"&gt;\\n&lt;!--&lt;...</td>\n",
       "    </tr>\n",
       "    <tr>\n",
       "      <th>487</th>\n",
       "      <td>https://one.mistobox.com/subscriptions/index/b...</td>\n",
       "      <td>[&lt;span class=\"name\"&gt;Songbird Blend Fair Trade ...</td>\n",
       "      <td>[&lt;div class=\"roaster-description\"&gt;\n",
       "&lt;!--&lt;h2&gt;Qui...</td>\n",
       "      <td>[&lt;div class=\"scale_circle medium_dark\"&gt;&lt;/div&gt;]</td>\n",
       "      <td>[&lt;div class=\"detail medium_dark sub_roast acti...</td>\n",
       "      <td>$17.00</td>\n",
       "      <td>[&lt;div class=\"std\"&gt;Tony's Coffee&lt;/div&gt;, &lt;div cl...</td>\n",
       "      <td>[&lt;div class=\"mbox-description-content\"&gt;\\n&lt;!--&lt;...</td>\n",
       "    </tr>\n",
       "    <tr>\n",
       "      <th>488</th>\n",
       "      <td>https://one.mistobox.com/subscriptions/index/b...</td>\n",
       "      <td>[&lt;span class=\"name\"&gt;Guatemala Buena Vista&lt;/span&gt;]</td>\n",
       "      <td>[&lt;div class=\"roaster-description\"&gt;\n",
       "&lt;!--&lt;h2&gt;Qui...</td>\n",
       "      <td>[&lt;div class=\"scale_circle medium_light\"&gt;&lt;/div&gt;]</td>\n",
       "      <td>[&lt;div class=\"detail medium_light sub_roast act...</td>\n",
       "      <td>$23.00</td>\n",
       "      <td>[&lt;div class=\"std\"&gt;Case Coffee Roasters&lt;/div&gt;, ...</td>\n",
       "      <td>[&lt;div class=\"mbox-description-content\"&gt;\\n&lt;!--&lt;...</td>\n",
       "    </tr>\n",
       "    <tr>\n",
       "      <th>489</th>\n",
       "      <td>https://one.mistobox.com/subscriptions/index/b...</td>\n",
       "      <td>[&lt;span class=\"name\"&gt;Decaf Colombia Medellín&lt;/s...</td>\n",
       "      <td>[&lt;div class=\"roaster-description\"&gt;\n",
       "&lt;!--&lt;h2&gt;Qui...</td>\n",
       "      <td>[&lt;div class=\"scale_circle medium_light\"&gt;&lt;/div&gt;]</td>\n",
       "      <td>[&lt;div class=\"detail medium_light sub_roast act...</td>\n",
       "      <td>$23.00</td>\n",
       "      <td>[&lt;div class=\"std\"&gt;Onyx Coffee Lab&lt;/div&gt;, &lt;div ...</td>\n",
       "      <td>[&lt;div class=\"mbox-description-content\"&gt;\\n&lt;!--&lt;...</td>\n",
       "    </tr>\n",
       "    <tr>\n",
       "      <th>490</th>\n",
       "      <td>https://one.mistobox.com/subscriptions/index/b...</td>\n",
       "      <td>[&lt;span class=\"name\"&gt;Organic Decaf&lt;/span&gt;]</td>\n",
       "      <td>[&lt;div class=\"roaster-description\"&gt;\n",
       "&lt;!--&lt;h2&gt;Qui...</td>\n",
       "      <td>[&lt;div class=\"scale_circle dark\"&gt;&lt;/div&gt;]</td>\n",
       "      <td>[&lt;div class=\"detail dark active\"&gt;&lt;span class=\"...</td>\n",
       "      <td>$20.00</td>\n",
       "      <td>[&lt;div class=\"std\"&gt;Caffe Vita Coffee Roasting C...</td>\n",
       "      <td>[&lt;div class=\"mbox-description-content\"&gt;\\n&lt;!--&lt;...</td>\n",
       "    </tr>\n",
       "    <tr>\n",
       "      <th>491</th>\n",
       "      <td>https://one.mistobox.com/subscriptions/index/b...</td>\n",
       "      <td>[&lt;span class=\"name\"&gt;Organic Espresso &lt;/span&gt;]</td>\n",
       "      <td>[&lt;div class=\"roaster-description\"&gt;\n",
       "&lt;!--&lt;h2&gt;Qui...</td>\n",
       "      <td>[&lt;div class=\"scale_circle medium\"&gt;&lt;/div&gt;]</td>\n",
       "      <td>[&lt;div class=\"detail medium active\"&gt;Medium&lt;/div...</td>\n",
       "      <td>$20.00</td>\n",
       "      <td>[&lt;div class=\"std\"&gt;Caffe Vita Coffee Roasting C...</td>\n",
       "      <td>[&lt;div class=\"mbox-description-content\"&gt;\\n&lt;!--&lt;...</td>\n",
       "    </tr>\n",
       "    <tr>\n",
       "      <th>492</th>\n",
       "      <td>https://one.mistobox.com/subscriptions/index/b...</td>\n",
       "      <td>[&lt;span class=\"name\"&gt;Guatemala Finca Alotepeque...</td>\n",
       "      <td>[&lt;div class=\"roaster-description\"&gt;\n",
       "&lt;!--&lt;h2&gt;Qui...</td>\n",
       "      <td>[&lt;div class=\"scale_circle light\"&gt;&lt;/div&gt;]</td>\n",
       "      <td>[&lt;div class=\"detail light active\"&gt;Light&lt;/div&gt;,...</td>\n",
       "      <td>$23.00</td>\n",
       "      <td>[&lt;div class=\"std\"&gt;Portola Coffee Roasters&lt;/div...</td>\n",
       "      <td>[&lt;div class=\"mbox-description-content\"&gt;\\n&lt;!--&lt;...</td>\n",
       "    </tr>\n",
       "    <tr>\n",
       "      <th>493</th>\n",
       "      <td>https://one.mistobox.com/subscriptions/index/b...</td>\n",
       "      <td>[&lt;span class=\"name\"&gt;House Blend&lt;/span&gt;]</td>\n",
       "      <td>[&lt;div class=\"roaster-description\"&gt;\n",
       "&lt;!--&lt;h2&gt;Qui...</td>\n",
       "      <td>[&lt;div class=\"scale_circle medium_light\"&gt;&lt;/div&gt;]</td>\n",
       "      <td>[&lt;div class=\"detail medium_light sub_roast act...</td>\n",
       "      <td>$20.00</td>\n",
       "      <td>[&lt;div class=\"std\"&gt;Populace Coffee&lt;/div&gt;, &lt;div ...</td>\n",
       "      <td>[&lt;div class=\"mbox-description-content\"&gt;\\n&lt;!--&lt;...</td>\n",
       "    </tr>\n",
       "    <tr>\n",
       "      <th>494</th>\n",
       "      <td>https://one.mistobox.com/subscriptions/index/b...</td>\n",
       "      <td>[&lt;span class=\"name\"&gt;Colombia Decaf Los Idolos&lt;...</td>\n",
       "      <td>[&lt;div class=\"roaster-description\"&gt;\n",
       "&lt;!--&lt;h2&gt;Qui...</td>\n",
       "      <td>[&lt;div class=\"scale_circle medium\"&gt;&lt;/div&gt;]</td>\n",
       "      <td>[&lt;div class=\"detail medium active\"&gt;Medium&lt;/div&gt;]</td>\n",
       "      <td>$23.00</td>\n",
       "      <td>[&lt;div class=\"std\"&gt;Ruby Coffee Roasters&lt;/div&gt;, ...</td>\n",
       "      <td>[&lt;div class=\"mbox-description-content\"&gt;\\n&lt;!--&lt;...</td>\n",
       "    </tr>\n",
       "    <tr>\n",
       "      <th>495</th>\n",
       "      <td>https://one.mistobox.com/subscriptions/index/b...</td>\n",
       "      <td>[&lt;span class=\"name\"&gt;Low Impact Organic Decaf&lt;/...</td>\n",
       "      <td>[&lt;div class=\"roaster-description\"&gt;\n",
       "&lt;!--&lt;h2&gt;Qui...</td>\n",
       "      <td>[&lt;div class=\"scale_circle medium\"&gt;&lt;/div&gt;]</td>\n",
       "      <td>[&lt;div class=\"detail medium active\"&gt;Medium&lt;/div&gt;]</td>\n",
       "      <td>$23.00</td>\n",
       "      <td>[&lt;div class=\"std\"&gt;Kickapoo Coffee Roasters&lt;/di...</td>\n",
       "      <td>[&lt;div class=\"mbox-description-content\"&gt;\\n&lt;!--&lt;...</td>\n",
       "    </tr>\n",
       "    <tr>\n",
       "      <th>496</th>\n",
       "      <td>https://one.mistobox.com/subscriptions/index/b...</td>\n",
       "      <td>[&lt;span class=\"name\"&gt;Decaf Zoka Java &lt;/span&gt;]</td>\n",
       "      <td>[&lt;div class=\"roaster-description\"&gt;\n",
       "&lt;!--&lt;h2&gt;Qui...</td>\n",
       "      <td>[&lt;div class=\"scale_circle medium\"&gt;&lt;/div&gt;]</td>\n",
       "      <td>[&lt;div class=\"detail medium active\"&gt;Medium&lt;/div&gt;]</td>\n",
       "      <td>$23.00</td>\n",
       "      <td>[&lt;div class=\"std\"&gt;Zoka Coffee Roasting Co&lt;/div...</td>\n",
       "      <td>[&lt;div class=\"mbox-description-content\"&gt;\\n&lt;!--&lt;...</td>\n",
       "    </tr>\n",
       "    <tr>\n",
       "      <th>497</th>\n",
       "      <td>https://one.mistobox.com/subscriptions/index/b...</td>\n",
       "      <td>[&lt;span class=\"name\"&gt;Decaf Organic Espresso Cua...</td>\n",
       "      <td>[&lt;div class=\"roaster-description\"&gt;\n",
       "&lt;!--&lt;h2&gt;Qui...</td>\n",
       "      <td>[&lt;div class=\"scale_circle medium_dark\"&gt;&lt;/div&gt;]</td>\n",
       "      <td>[&lt;div class=\"detail medium_dark sub_roast acti...</td>\n",
       "      <td>$23.00</td>\n",
       "      <td>[&lt;div class=\"std\"&gt;Zoka Coffee Roasting Co&lt;/div...</td>\n",
       "      <td>[&lt;div class=\"mbox-description-content\"&gt;\\n&lt;!--&lt;...</td>\n",
       "    </tr>\n",
       "    <tr>\n",
       "      <th>498</th>\n",
       "      <td>https://one.mistobox.com/subscriptions/index/b...</td>\n",
       "      <td>[&lt;span class=\"name\"&gt;Three Amigos &lt;/span&gt;]</td>\n",
       "      <td>[&lt;div class=\"roaster-description\"&gt;\n",
       "&lt;!--&lt;h2&gt;Qui...</td>\n",
       "      <td>[&lt;div class=\"scale_circle medium_light\"&gt;&lt;/div&gt;]</td>\n",
       "      <td>[&lt;div class=\"detail medium_light sub_roast act...</td>\n",
       "      <td>$23.00</td>\n",
       "      <td>[&lt;div class=\"std\"&gt;Zoka Coffee Roasting Co&lt;/div...</td>\n",
       "      <td>[&lt;div class=\"mbox-description-content\"&gt;\\n&lt;!--&lt;...</td>\n",
       "    </tr>\n",
       "    <tr>\n",
       "      <th>499</th>\n",
       "      <td>https://one.mistobox.com/subscriptions/index/b...</td>\n",
       "      <td>[&lt;span class=\"name\"&gt;Decaf Colombia Tolima&lt;/span&gt;]</td>\n",
       "      <td>[&lt;div class=\"roaster-description\"&gt;\n",
       "&lt;!--&lt;h2&gt;Qui...</td>\n",
       "      <td>[&lt;div class=\"scale_circle medium_light\"&gt;&lt;/div&gt;]</td>\n",
       "      <td>[&lt;div class=\"detail medium_light sub_roast act...</td>\n",
       "      <td>$23.00</td>\n",
       "      <td>[&lt;div class=\"std\"&gt;CREMA&lt;/div&gt;, &lt;div class=\"std...</td>\n",
       "      <td>[&lt;div class=\"mbox-description-content\"&gt;\\n&lt;!--&lt;...</td>\n",
       "    </tr>\n",
       "  </tbody>\n",
       "</table>\n",
       "<p>500 rows × 8 columns</p>\n",
       "</div>"
      ],
      "text/plain": [
       "                                                   url  \\\n",
       "0    https://one.mistobox.com/subscriptions/index/b...   \n",
       "1    https://one.mistobox.com/subscriptions/index/b...   \n",
       "2    https://one.mistobox.com/subscriptions/index/b...   \n",
       "3    https://one.mistobox.com/subscriptions/index/b...   \n",
       "4    https://one.mistobox.com/subscriptions/index/b...   \n",
       "5    https://one.mistobox.com/subscriptions/index/b...   \n",
       "6    https://one.mistobox.com/subscriptions/index/b...   \n",
       "7    https://one.mistobox.com/subscriptions/index/b...   \n",
       "8    https://one.mistobox.com/subscriptions/index/b...   \n",
       "9    https://one.mistobox.com/subscriptions/index/b...   \n",
       "10   https://one.mistobox.com/subscriptions/index/b...   \n",
       "11   https://one.mistobox.com/subscriptions/index/b...   \n",
       "12   https://one.mistobox.com/subscriptions/index/b...   \n",
       "13   https://one.mistobox.com/subscriptions/index/b...   \n",
       "14   https://one.mistobox.com/subscriptions/index/b...   \n",
       "15   https://one.mistobox.com/subscriptions/index/b...   \n",
       "16   https://one.mistobox.com/subscriptions/index/b...   \n",
       "17   https://one.mistobox.com/subscriptions/index/b...   \n",
       "18   https://one.mistobox.com/subscriptions/index/b...   \n",
       "19   https://one.mistobox.com/subscriptions/index/b...   \n",
       "20   https://one.mistobox.com/subscriptions/index/b...   \n",
       "21   https://one.mistobox.com/subscriptions/index/b...   \n",
       "22   https://one.mistobox.com/subscriptions/index/b...   \n",
       "23   https://one.mistobox.com/subscriptions/index/b...   \n",
       "24   https://one.mistobox.com/subscriptions/index/b...   \n",
       "25   https://one.mistobox.com/subscriptions/index/b...   \n",
       "26   https://one.mistobox.com/subscriptions/index/b...   \n",
       "27   https://one.mistobox.com/subscriptions/index/b...   \n",
       "28   https://one.mistobox.com/subscriptions/index/b...   \n",
       "29   https://one.mistobox.com/subscriptions/index/b...   \n",
       "..                                                 ...   \n",
       "470  https://one.mistobox.com/subscriptions/index/b...   \n",
       "471  https://one.mistobox.com/subscriptions/index/b...   \n",
       "472  https://one.mistobox.com/subscriptions/index/b...   \n",
       "473  https://one.mistobox.com/subscriptions/index/b...   \n",
       "474  https://one.mistobox.com/subscriptions/index/b...   \n",
       "475  https://one.mistobox.com/subscriptions/index/b...   \n",
       "476  https://one.mistobox.com/subscriptions/index/b...   \n",
       "477  https://one.mistobox.com/subscriptions/index/b...   \n",
       "478  https://one.mistobox.com/subscriptions/index/b...   \n",
       "479  https://one.mistobox.com/subscriptions/index/b...   \n",
       "480  https://one.mistobox.com/subscriptions/index/b...   \n",
       "481  https://one.mistobox.com/subscriptions/index/b...   \n",
       "482  https://one.mistobox.com/subscriptions/index/b...   \n",
       "483  https://one.mistobox.com/subscriptions/index/b...   \n",
       "484  https://one.mistobox.com/subscriptions/index/b...   \n",
       "485  https://one.mistobox.com/subscriptions/index/b...   \n",
       "486  https://one.mistobox.com/subscriptions/index/b...   \n",
       "487  https://one.mistobox.com/subscriptions/index/b...   \n",
       "488  https://one.mistobox.com/subscriptions/index/b...   \n",
       "489  https://one.mistobox.com/subscriptions/index/b...   \n",
       "490  https://one.mistobox.com/subscriptions/index/b...   \n",
       "491  https://one.mistobox.com/subscriptions/index/b...   \n",
       "492  https://one.mistobox.com/subscriptions/index/b...   \n",
       "493  https://one.mistobox.com/subscriptions/index/b...   \n",
       "494  https://one.mistobox.com/subscriptions/index/b...   \n",
       "495  https://one.mistobox.com/subscriptions/index/b...   \n",
       "496  https://one.mistobox.com/subscriptions/index/b...   \n",
       "497  https://one.mistobox.com/subscriptions/index/b...   \n",
       "498  https://one.mistobox.com/subscriptions/index/b...   \n",
       "499  https://one.mistobox.com/subscriptions/index/b...   \n",
       "\n",
       "                                                 title  \\\n",
       "0           [<span class=\"name\">Ethiopia Shara</span>]   \n",
       "1    [<span class=\"name\">Honduras David Mancia</span>]   \n",
       "2      [<span class=\"name\">Brazil Pedra Branca</span>]   \n",
       "3    [<span class=\"name\">Kenya Ndaro-ini Peaberry</...   \n",
       "4     [<span class=\"name\">Sumatra Permata Gayo</span>]   \n",
       "5    [<span class=\"name\">Colombia El Zorro Rojo</sp...   \n",
       "6    [<span class=\"name\">Smith Bridge Road Blend</s...   \n",
       "7    [<span class=\"name\">Brazil Fazenda Furnas</span>]   \n",
       "8    [<span class=\"name\">Dark Roast Colombia La Pra...   \n",
       "9    [<span class=\"name\">Café Carmelita Decaf Fair ...   \n",
       "10   [<span class=\"name\">Espresso Noir Fair Trade &...   \n",
       "11   [<span class=\"name\">Tres Banderas Espresso Ble...   \n",
       "12   [<span class=\"name\">Ethiopia Buku Natural</span>]   \n",
       "13           [<span class=\"name\">Ethiopia Koke</span>]   \n",
       "14       [<span class=\"name\">Decaf Tangletown </span>]   \n",
       "15       [<span class=\"name\">Mexico Maya Vinic</span>]   \n",
       "16    [<span class=\"name\">Kenya Gachatha OT-19</span>]   \n",
       "17   [<span class=\"name\">Ethiopia Bishan Fugu Organ...   \n",
       "18   [<span class=\"name\">Black Cat Analog Espresso<...   \n",
       "19    [<span class=\"name\">Organic French Roast</span>]   \n",
       "20   [<span class=\"name\">Organic Ethiopia Charbanta...   \n",
       "21   [<span class=\"name\">Decaf Colombia Swiss Water...   \n",
       "22   [<span class=\"name\">Doe Run Holiday Blend</span>]   \n",
       "23   [<span class=\"name\">Democratic Republic of the...   \n",
       "24   [<span class=\"name\">Organic Colombia Fondo Pae...   \n",
       "25   [<span class=\"name\">Kenya Kiamutuira OT-15</sp...   \n",
       "26           [<span class=\"name\">Caffe Del Sol</span>]   \n",
       "27     [<span class=\"name\">Ethiopia Burtukaana</span>]   \n",
       "28          [<span class=\"name\">Orion Espresso</span>]   \n",
       "29     [<span class=\"name\">Ethiopia Guji Uraga</span>]   \n",
       "..                                                 ...   \n",
       "470  [<span class=\"name\">Kenya Mr. David Mburu</span>]   \n",
       "471  [<span class=\"name\">Decaf Mexico Organic El Ma...   \n",
       "472  [<span class=\"name\">Black Cat Decaf Espresso</...   \n",
       "473      [<span class=\"name\">Decaf House Blend</span>]   \n",
       "474  [<span class=\"name\">Decaf Espresso Fair Trade ...   \n",
       "475     [<span class=\"name\">Sumatra Mutu Batak</span>]   \n",
       "476             [<span class=\"name\">Mocha Java</span>]   \n",
       "477          [<span class=\"name\">Italian Roast</span>]   \n",
       "478         [<span class=\"name\">Decaf Espresso</span>]   \n",
       "479   [<span class=\"name\">Guatemala Los Santos</span>]   \n",
       "480  [<span class=\"name\">Costa Rica Santa Maria</sp...   \n",
       "481         [<span class=\"name\">Hexproof Blend</span>]   \n",
       "482  [<span class=\"name\">Velvet Hammer Cold Brew</s...   \n",
       "483  [<span class=\"name\">Low &amp; Slow Cold Brew</...   \n",
       "484  [<span class=\"name\">El Salvador Las Delicias</...   \n",
       "485      [<span class=\"name\">Colombia El Roble</span>]   \n",
       "486  [<span class=\"name\">Backcountry Blend Fair Tra...   \n",
       "487  [<span class=\"name\">Songbird Blend Fair Trade ...   \n",
       "488  [<span class=\"name\">Guatemala Buena Vista</span>]   \n",
       "489  [<span class=\"name\">Decaf Colombia Medellín</s...   \n",
       "490          [<span class=\"name\">Organic Decaf</span>]   \n",
       "491      [<span class=\"name\">Organic Espresso </span>]   \n",
       "492  [<span class=\"name\">Guatemala Finca Alotepeque...   \n",
       "493            [<span class=\"name\">House Blend</span>]   \n",
       "494  [<span class=\"name\">Colombia Decaf Los Idolos<...   \n",
       "495  [<span class=\"name\">Low Impact Organic Decaf</...   \n",
       "496       [<span class=\"name\">Decaf Zoka Java </span>]   \n",
       "497  [<span class=\"name\">Decaf Organic Espresso Cua...   \n",
       "498          [<span class=\"name\">Three Amigos </span>]   \n",
       "499  [<span class=\"name\">Decaf Colombia Tolima</span>]   \n",
       "\n",
       "                                               roaster  \\\n",
       "0    [<div class=\"roaster-description\">\n",
       "<!--<h2>Qui...   \n",
       "1    [<div class=\"roaster-description\">\n",
       "<!--<h2>Qui...   \n",
       "2    [<div class=\"roaster-description\">\n",
       "<!--<h2>Qui...   \n",
       "3    [<div class=\"roaster-description\">\n",
       "<!--<h2>Qui...   \n",
       "4    [<div class=\"roaster-description\">\n",
       "<!--<h2>Qui...   \n",
       "5    [<div class=\"roaster-description\">\n",
       "<!--<h2>Qui...   \n",
       "6    [<div class=\"roaster-description\">\n",
       "<!--<h2>Qui...   \n",
       "7    [<div class=\"roaster-description\">\n",
       "<!--<h2>Qui...   \n",
       "8    [<div class=\"roaster-description\">\n",
       "<!--<h2>Qui...   \n",
       "9    [<div class=\"roaster-description\">\n",
       "<!--<h2>Qui...   \n",
       "10   [<div class=\"roaster-description\">\n",
       "<!--<h2>Qui...   \n",
       "11   [<div class=\"roaster-description\">\n",
       "<!--<h2>Qui...   \n",
       "12   [<div class=\"roaster-description\">\n",
       "<!--<h2>Qui...   \n",
       "13   [<div class=\"roaster-description\">\n",
       "<!--<h2>Qui...   \n",
       "14   [<div class=\"roaster-description\">\n",
       "<!--<h2>Qui...   \n",
       "15   [<div class=\"roaster-description\">\n",
       "<!--<h2>Qui...   \n",
       "16   [<div class=\"roaster-description\">\n",
       "<!--<h2>Qui...   \n",
       "17   [<div class=\"roaster-description\">\n",
       "<!--<h2>Qui...   \n",
       "18   [<div class=\"roaster-description\">\n",
       "<!--<h2>Qui...   \n",
       "19   [<div class=\"roaster-description\">\n",
       "<!--<h2>Qui...   \n",
       "20   [<div class=\"roaster-description\">\n",
       "<!--<h2>Qui...   \n",
       "21   [<div class=\"roaster-description\">\n",
       "<!--<h2>Qui...   \n",
       "22   [<div class=\"roaster-description\">\n",
       "<!--<h2>Qui...   \n",
       "23   [<div class=\"roaster-description\">\n",
       "<!--<h2>Qui...   \n",
       "24   [<div class=\"roaster-description\">\n",
       "<!--<h2>Qui...   \n",
       "25   [<div class=\"roaster-description\">\n",
       "<!--<h2>Qui...   \n",
       "26   [<div class=\"roaster-description\">\n",
       "<!--<h2>Qui...   \n",
       "27   [<div class=\"roaster-description\">\n",
       "<!--<h2>Qui...   \n",
       "28   [<div class=\"roaster-description\">\n",
       "<!--<h2>Qui...   \n",
       "29   [<div class=\"roaster-description\">\n",
       "<!--<h2>Qui...   \n",
       "..                                                 ...   \n",
       "470  [<div class=\"roaster-description\">\n",
       "<!--<h2>Qui...   \n",
       "471  [<div class=\"roaster-description\">\n",
       "<!--<h2>Qui...   \n",
       "472  [<div class=\"roaster-description\">\n",
       "<!--<h2>Qui...   \n",
       "473  [<div class=\"roaster-description\">\n",
       "<!--<h2>Qui...   \n",
       "474  [<div class=\"roaster-description\">\n",
       "<!--<h2>Qui...   \n",
       "475  [<div class=\"roaster-description\">\n",
       "<!--<h2>Qui...   \n",
       "476  [<div class=\"roaster-description\">\n",
       "<!--<h2>Qui...   \n",
       "477  [<div class=\"roaster-description\">\n",
       "<!--<h2>Qui...   \n",
       "478  [<div class=\"roaster-description\">\n",
       "<!--<h2>Qui...   \n",
       "479  [<div class=\"roaster-description\">\n",
       "<!--<h2>Qui...   \n",
       "480  [<div class=\"roaster-description\">\n",
       "<!--<h2>Qui...   \n",
       "481  [<div class=\"roaster-description\">\n",
       "<!--<h2>Qui...   \n",
       "482  [<div class=\"roaster-description\">\n",
       "<!--<h2>Qui...   \n",
       "483  [<div class=\"roaster-description\">\n",
       "<!--<h2>Qui...   \n",
       "484  [<div class=\"roaster-description\">\n",
       "<!--<h2>Qui...   \n",
       "485  [<div class=\"roaster-description\">\n",
       "<!--<h2>Qui...   \n",
       "486  [<div class=\"roaster-description\">\n",
       "<!--<h2>Qui...   \n",
       "487  [<div class=\"roaster-description\">\n",
       "<!--<h2>Qui...   \n",
       "488  [<div class=\"roaster-description\">\n",
       "<!--<h2>Qui...   \n",
       "489  [<div class=\"roaster-description\">\n",
       "<!--<h2>Qui...   \n",
       "490  [<div class=\"roaster-description\">\n",
       "<!--<h2>Qui...   \n",
       "491  [<div class=\"roaster-description\">\n",
       "<!--<h2>Qui...   \n",
       "492  [<div class=\"roaster-description\">\n",
       "<!--<h2>Qui...   \n",
       "493  [<div class=\"roaster-description\">\n",
       "<!--<h2>Qui...   \n",
       "494  [<div class=\"roaster-description\">\n",
       "<!--<h2>Qui...   \n",
       "495  [<div class=\"roaster-description\">\n",
       "<!--<h2>Qui...   \n",
       "496  [<div class=\"roaster-description\">\n",
       "<!--<h2>Qui...   \n",
       "497  [<div class=\"roaster-description\">\n",
       "<!--<h2>Qui...   \n",
       "498  [<div class=\"roaster-description\">\n",
       "<!--<h2>Qui...   \n",
       "499  [<div class=\"roaster-description\">\n",
       "<!--<h2>Qui...   \n",
       "\n",
       "                                          roastlevel  \\\n",
       "0           [<div class=\"scale_circle light\"></div>]   \n",
       "1    [<div class=\"scale_circle medium_light\"></div>]   \n",
       "2           [<div class=\"scale_circle light\"></div>]   \n",
       "3    [<div class=\"scale_circle medium_light\"></div>]   \n",
       "4     [<div class=\"scale_circle medium_dark\"></div>]   \n",
       "5           [<div class=\"scale_circle light\"></div>]   \n",
       "6    [<div class=\"scale_circle medium_light\"></div>]   \n",
       "7    [<div class=\"scale_circle medium_light\"></div>]   \n",
       "8     [<div class=\"scale_circle medium_dark\"></div>]   \n",
       "9     [<div class=\"scale_circle medium_dark\"></div>]   \n",
       "10    [<div class=\"scale_circle medium_dark\"></div>]   \n",
       "11   [<div class=\"scale_circle medium_light\"></div>]   \n",
       "12          [<div class=\"scale_circle light\"></div>]   \n",
       "13   [<div class=\"scale_circle medium_light\"></div>]   \n",
       "14         [<div class=\"scale_circle medium\"></div>]   \n",
       "15   [<div class=\"scale_circle medium_light\"></div>]   \n",
       "16          [<div class=\"scale_circle light\"></div>]   \n",
       "17          [<div class=\"scale_circle light\"></div>]   \n",
       "18          [<div class=\"scale_circle light\"></div>]   \n",
       "19           [<div class=\"scale_circle dark\"></div>]   \n",
       "20          [<div class=\"scale_circle light\"></div>]   \n",
       "21   [<div class=\"scale_circle medium_light\"></div>]   \n",
       "22          [<div class=\"scale_circle light\"></div>]   \n",
       "23   [<div class=\"scale_circle medium_light\"></div>]   \n",
       "24          [<div class=\"scale_circle light\"></div>]   \n",
       "25   [<div class=\"scale_circle medium_light\"></div>]   \n",
       "26         [<div class=\"scale_circle medium\"></div>]   \n",
       "27          [<div class=\"scale_circle light\"></div>]   \n",
       "28         [<div class=\"scale_circle medium\"></div>]   \n",
       "29   [<div class=\"scale_circle medium_light\"></div>]   \n",
       "..                                               ...   \n",
       "470  [<div class=\"scale_circle medium_light\"></div>]   \n",
       "471        [<div class=\"scale_circle medium\"></div>]   \n",
       "472        [<div class=\"scale_circle medium\"></div>]   \n",
       "473   [<div class=\"scale_circle medium_dark\"></div>]   \n",
       "474          [<div class=\"scale_circle dark\"></div>]   \n",
       "475        [<div class=\"scale_circle medium\"></div>]   \n",
       "476        [<div class=\"scale_circle medium\"></div>]   \n",
       "477        [<div class=\"scale_circle medium\"></div>]   \n",
       "478          [<div class=\"scale_circle dark\"></div>]   \n",
       "479  [<div class=\"scale_circle medium_light\"></div>]   \n",
       "480  [<div class=\"scale_circle medium_light\"></div>]   \n",
       "481         [<div class=\"scale_circle light\"></div>]   \n",
       "482  [<div class=\"scale_circle medium_light\"></div>]   \n",
       "483  [<div class=\"scale_circle medium_light\"></div>]   \n",
       "484         [<div class=\"scale_circle light\"></div>]   \n",
       "485         [<div class=\"scale_circle light\"></div>]   \n",
       "486        [<div class=\"scale_circle medium\"></div>]   \n",
       "487   [<div class=\"scale_circle medium_dark\"></div>]   \n",
       "488  [<div class=\"scale_circle medium_light\"></div>]   \n",
       "489  [<div class=\"scale_circle medium_light\"></div>]   \n",
       "490          [<div class=\"scale_circle dark\"></div>]   \n",
       "491        [<div class=\"scale_circle medium\"></div>]   \n",
       "492         [<div class=\"scale_circle light\"></div>]   \n",
       "493  [<div class=\"scale_circle medium_light\"></div>]   \n",
       "494        [<div class=\"scale_circle medium\"></div>]   \n",
       "495        [<div class=\"scale_circle medium\"></div>]   \n",
       "496        [<div class=\"scale_circle medium\"></div>]   \n",
       "497   [<div class=\"scale_circle medium_dark\"></div>]   \n",
       "498  [<div class=\"scale_circle medium_light\"></div>]   \n",
       "499  [<div class=\"scale_circle medium_light\"></div>]   \n",
       "\n",
       "                                                 blend   price  \\\n",
       "0    [<div class=\"detail light active\">Light</div>,...  $20.00   \n",
       "1    [<div class=\"detail medium_light sub_roast act...  $23.00   \n",
       "2    [<div class=\"detail light active\">Light</div>,...  $23.00   \n",
       "3    [<div class=\"detail medium_light sub_roast act...  $23.00   \n",
       "4    [<div class=\"detail medium_dark sub_roast acti...  $20.00   \n",
       "5    [<div class=\"detail light active\">Light</div>,...  $23.00   \n",
       "6    [<div class=\"detail medium_light sub_roast act...  $20.00   \n",
       "7    [<div class=\"detail medium_light sub_roast act...  $23.00   \n",
       "8    [<div class=\"detail medium_dark sub_roast acti...  $23.00   \n",
       "9    [<div class=\"detail medium_dark sub_roast acti...  $17.00   \n",
       "10   [<div class=\"detail medium_dark sub_roast acti...  $17.00   \n",
       "11   [<div class=\"detail medium_light sub_roast act...  $23.00   \n",
       "12   [<div class=\"detail light active\">Light</div>,...  $23.00   \n",
       "13   [<div class=\"detail medium_light sub_roast act...  $20.00   \n",
       "14    [<div class=\"detail medium active\">Medium</div>]  $23.00   \n",
       "15   [<div class=\"detail medium_light sub_roast act...  $20.00   \n",
       "16   [<div class=\"detail light active\">Light</div>,...  $23.00   \n",
       "17   [<div class=\"detail light active\">Light</div>,...  $23.00   \n",
       "18   [<div class=\"detail light active\">Light</div>,...  $20.00   \n",
       "19   [<div class=\"detail dark active\"><span class=\"...  $20.00   \n",
       "20   [<div class=\"detail light active\">Light</div>,...  $23.00   \n",
       "21   [<div class=\"detail medium_light sub_roast act...  $20.00   \n",
       "22   [<div class=\"detail light active\">Light</div>,...  $20.00   \n",
       "23   [<div class=\"detail medium_light sub_roast act...  $20.00   \n",
       "24   [<div class=\"detail light active\">Light</div>,...  $23.00   \n",
       "25   [<div class=\"detail medium_light sub_roast act...  $23.00   \n",
       "26   [<div class=\"detail medium active\">Medium</div...  $20.00   \n",
       "27   [<div class=\"detail light active\">Light</div>,...  $23.00   \n",
       "28   [<div class=\"detail medium active\">Medium</div...  $23.00   \n",
       "29   [<div class=\"detail medium_light sub_roast act...  $23.00   \n",
       "..                                                 ...     ...   \n",
       "470  [<div class=\"detail medium_light sub_roast act...  $23.00   \n",
       "471   [<div class=\"detail medium active\">Medium</div>]  $23.00   \n",
       "472   [<div class=\"detail medium active\">Medium</div>]  $23.00   \n",
       "473  [<div class=\"detail medium_dark sub_roast acti...  $20.00   \n",
       "474  [<div class=\"detail dark active\"><span class=\"...  $20.00   \n",
       "475  [<div class=\"detail medium active\">Medium</div...  $20.00   \n",
       "476  [<div class=\"detail medium active\">Medium</div...  $20.00   \n",
       "477  [<div class=\"detail medium active\">Medium</div...  $20.00   \n",
       "478  [<div class=\"detail dark active\"><span class=\"...  $20.00   \n",
       "479  [<div class=\"detail medium_light sub_roast act...  $20.00   \n",
       "480  [<div class=\"detail medium_light sub_roast act...  $23.00   \n",
       "481  [<div class=\"detail light active\">Light</div>,...  $23.00   \n",
       "482  [<div class=\"detail medium_light sub_roast act...  $23.00   \n",
       "483  [<div class=\"detail medium_light sub_roast act...  $23.00   \n",
       "484  [<div class=\"detail light active\">Light</div>,...  $23.00   \n",
       "485  [<div class=\"detail light active\">Light</div>,...  $23.00   \n",
       "486  [<div class=\"detail medium active\">Medium</div...  $17.00   \n",
       "487  [<div class=\"detail medium_dark sub_roast acti...  $17.00   \n",
       "488  [<div class=\"detail medium_light sub_roast act...  $23.00   \n",
       "489  [<div class=\"detail medium_light sub_roast act...  $23.00   \n",
       "490  [<div class=\"detail dark active\"><span class=\"...  $20.00   \n",
       "491  [<div class=\"detail medium active\">Medium</div...  $20.00   \n",
       "492  [<div class=\"detail light active\">Light</div>,...  $23.00   \n",
       "493  [<div class=\"detail medium_light sub_roast act...  $20.00   \n",
       "494   [<div class=\"detail medium active\">Medium</div>]  $23.00   \n",
       "495   [<div class=\"detail medium active\">Medium</div>]  $23.00   \n",
       "496   [<div class=\"detail medium active\">Medium</div>]  $23.00   \n",
       "497  [<div class=\"detail medium_dark sub_roast acti...  $23.00   \n",
       "498  [<div class=\"detail medium_light sub_roast act...  $23.00   \n",
       "499  [<div class=\"detail medium_light sub_roast act...  $23.00   \n",
       "\n",
       "                                           description  \\\n",
       "0    [<div class=\"std\">Anodyne Coffee Roasting Co</...   \n",
       "1    [<div class=\"std\">Coava Coffee Roasters</div>,...   \n",
       "2    [<div class=\"std\">Square One Coffee</div>, <di...   \n",
       "3    [<div class=\"std\">AKA Coffee</div>, <div class...   \n",
       "4    [<div class=\"std\">Higher Grounds Coffee</div>,...   \n",
       "5    [<div class=\"std\">Passion House Coffee Roaster...   \n",
       "6    [<div class=\"std\">Brandywine Coffee Roasters</...   \n",
       "7    [<div class=\"std\">Steadfast Coffee</div>, <div...   \n",
       "8    [<div class=\"std\">Anodyne Coffee Roasting Co.<...   \n",
       "9    [<div class=\"std\">Tony's Coffee</div>, <div cl...   \n",
       "10   [<div class=\"std\">Tony's Coffee</div>, <div cl...   \n",
       "11   [<div class=\"std\">CREMA</div>, <div class=\"std...   \n",
       "12   [<div class=\"std\">Onyx Coffee Lab</div>, <div ...   \n",
       "13   [<div class=\"std\">Augies Coffee Roasters</div>...   \n",
       "14   [<div class=\"std\">Zoka Coffee Roasting Co</div...   \n",
       "15   [<div class=\"std\">Higher Grounds Coffee</div>,...   \n",
       "16   [<div class=\"std\">Onyx Coffee Lab</div>, <div ...   \n",
       "17   [<div class=\"std\">Noble Coffee Roasting</div>,...   \n",
       "18   [<div class=\"std\">Intelligentsia Coffee</div>,...   \n",
       "19   [<div class=\"std\">Caffe Vita Coffee Roasting C...   \n",
       "20   [<div class=\"std\">Kickapoo Coffee Roasters</di...   \n",
       "21   [<div class=\"std\">Metric Coffee Co.</div>, <di...   \n",
       "22   [<div class=\"std\">Brandywine Coffee Roasters</...   \n",
       "23   [<div class=\"std\">Higher Grounds Coffee</div>,...   \n",
       "24   [<div class=\"std\">Kickapoo Coffee Roasters</di...   \n",
       "25   [<div class=\"std\">Onyx Coffee Lab</div>, <div ...   \n",
       "26   [<div class=\"std\">Caffe Vita Coffee Roasting C...   \n",
       "27   [<div class=\"std\">Tandem Coffee Roasters</div>...   \n",
       "28   [<div class=\"std\">Spyhouse Coffee Roasting Co<...   \n",
       "29   [<div class=\"std\">Ruby Coffee Roasters</div>, ...   \n",
       "..                                                 ...   \n",
       "470  [<div class=\"std\">Coava Coffee Roasters</div>,...   \n",
       "471  [<div class=\"std\">Intelligentsia Coffee</div>,...   \n",
       "472  [<div class=\"std\">Intelligentsia Coffee</div>,...   \n",
       "473  [<div class=\"std\">Klatch Coffee</div>, <div cl...   \n",
       "474  [<div class=\"std\">Klatch Coffee</div>, <div cl...   \n",
       "475  [<div class=\"std\">Klatch Coffee</div>, <div cl...   \n",
       "476  [<div class=\"std\">Klatch Coffee</div>, <div cl...   \n",
       "477  [<div class=\"std\">Klatch Coffee</div>, <div cl...   \n",
       "478  [<div class=\"std\">Klatch Coffee</div>, <div cl...   \n",
       "479  [<div class=\"std\">Klatch Coffee</div>, <div cl...   \n",
       "480  [<div class=\"std\">Huckleberry Roasters</div>, ...   \n",
       "481  [<div class=\"std\">Square One Coffee</div>, <di...   \n",
       "482  [<div class=\"std\">Square One Coffee</div>, <di...   \n",
       "483  [<div class=\"std\">Square One Coffee</div>, <di...   \n",
       "484  [<div class=\"std\">Evans Brothers Coffee Roaste...   \n",
       "485  [<div class=\"std\">Greenway Coffee Company</div...   \n",
       "486  [<div class=\"std\">Tony's Coffee</div>, <div cl...   \n",
       "487  [<div class=\"std\">Tony's Coffee</div>, <div cl...   \n",
       "488  [<div class=\"std\">Case Coffee Roasters</div>, ...   \n",
       "489  [<div class=\"std\">Onyx Coffee Lab</div>, <div ...   \n",
       "490  [<div class=\"std\">Caffe Vita Coffee Roasting C...   \n",
       "491  [<div class=\"std\">Caffe Vita Coffee Roasting C...   \n",
       "492  [<div class=\"std\">Portola Coffee Roasters</div...   \n",
       "493  [<div class=\"std\">Populace Coffee</div>, <div ...   \n",
       "494  [<div class=\"std\">Ruby Coffee Roasters</div>, ...   \n",
       "495  [<div class=\"std\">Kickapoo Coffee Roasters</di...   \n",
       "496  [<div class=\"std\">Zoka Coffee Roasting Co</div...   \n",
       "497  [<div class=\"std\">Zoka Coffee Roasting Co</div...   \n",
       "498  [<div class=\"std\">Zoka Coffee Roasting Co</div...   \n",
       "499  [<div class=\"std\">CREMA</div>, <div class=\"std...   \n",
       "\n",
       "                                                 parse  \n",
       "0    [<div class=\"mbox-description-content\">\\n<!--<...  \n",
       "1    [<div class=\"mbox-description-content\">\\n<!--<...  \n",
       "2    [<div class=\"mbox-description-content\">\\n<!--<...  \n",
       "3    [<div class=\"mbox-description-content\">\\n<!--<...  \n",
       "4    [<div class=\"mbox-description-content\">\\n<!--<...  \n",
       "5    [<div class=\"mbox-description-content\">\\n<!--<...  \n",
       "6    [<div class=\"mbox-description-content\">\\n<!--<...  \n",
       "7    [<div class=\"mbox-description-content\">\\n<!--<...  \n",
       "8    [<div class=\"mbox-description-content\">\\n<!--<...  \n",
       "9    [<div class=\"mbox-description-content\">\\n<!--<...  \n",
       "10   [<div class=\"mbox-description-content\">\\n<!--<...  \n",
       "11   [<div class=\"mbox-description-content\">\\n<!--<...  \n",
       "12   [<div class=\"mbox-description-content\">\\n<!--<...  \n",
       "13   [<div class=\"mbox-description-content\">\\n<!--<...  \n",
       "14   [<div class=\"mbox-description-content\">\\n<!--<...  \n",
       "15   [<div class=\"mbox-description-content\">\\n<!--<...  \n",
       "16   [<div class=\"mbox-description-content\">\\n<!--<...  \n",
       "17   [<div class=\"mbox-description-content\">\\n<!--<...  \n",
       "18   [<div class=\"mbox-description-content\">\\n<!--<...  \n",
       "19   [<div class=\"mbox-description-content\">\\n<!--<...  \n",
       "20   [<div class=\"mbox-description-content\">\\n<!--<...  \n",
       "21   [<div class=\"mbox-description-content\">\\n<!--<...  \n",
       "22   [<div class=\"mbox-description-content\">\\n<!--<...  \n",
       "23   [<div class=\"mbox-description-content\">\\n<!--<...  \n",
       "24   [<div class=\"mbox-description-content\">\\n<!--<...  \n",
       "25   [<div class=\"mbox-description-content\">\\n<!--<...  \n",
       "26   [<div class=\"mbox-description-content\">\\n<!--<...  \n",
       "27   [<div class=\"mbox-description-content\">\\n<!--<...  \n",
       "28   [<div class=\"mbox-description-content\">\\n<!--<...  \n",
       "29   [<div class=\"mbox-description-content\">\\n<!--<...  \n",
       "..                                                 ...  \n",
       "470  [<div class=\"mbox-description-content\">\\n<!--<...  \n",
       "471  [<div class=\"mbox-description-content\">\\n<!--<...  \n",
       "472  [<div class=\"mbox-description-content\">\\n<!--<...  \n",
       "473  [<div class=\"mbox-description-content\">\\n<!--<...  \n",
       "474  [<div class=\"mbox-description-content\">\\n<!--<...  \n",
       "475  [<div class=\"mbox-description-content\">\\n<!--<...  \n",
       "476  [<div class=\"mbox-description-content\">\\n<!--<...  \n",
       "477  [<div class=\"mbox-description-content\">\\n<!--<...  \n",
       "478  [<div class=\"mbox-description-content\">\\n<!--<...  \n",
       "479  [<div class=\"mbox-description-content\">\\n<!--<...  \n",
       "480  [<div class=\"mbox-description-content\">\\n<!--<...  \n",
       "481  [<div class=\"mbox-description-content\">\\n<!--<...  \n",
       "482  [<div class=\"mbox-description-content\">\\n<!--<...  \n",
       "483  [<div class=\"mbox-description-content\">\\n<!--<...  \n",
       "484  [<div class=\"mbox-description-content\">\\n<!--<...  \n",
       "485  [<div class=\"mbox-description-content\">\\n<!--<...  \n",
       "486  [<div class=\"mbox-description-content\">\\n<!--<...  \n",
       "487  [<div class=\"mbox-description-content\">\\n<!--<...  \n",
       "488  [<div class=\"mbox-description-content\">\\n<!--<...  \n",
       "489  [<div class=\"mbox-description-content\">\\n<!--<...  \n",
       "490  [<div class=\"mbox-description-content\">\\n<!--<...  \n",
       "491  [<div class=\"mbox-description-content\">\\n<!--<...  \n",
       "492  [<div class=\"mbox-description-content\">\\n<!--<...  \n",
       "493  [<div class=\"mbox-description-content\">\\n<!--<...  \n",
       "494  [<div class=\"mbox-description-content\">\\n<!--<...  \n",
       "495  [<div class=\"mbox-description-content\">\\n<!--<...  \n",
       "496  [<div class=\"mbox-description-content\">\\n<!--<...  \n",
       "497  [<div class=\"mbox-description-content\">\\n<!--<...  \n",
       "498  [<div class=\"mbox-description-content\">\\n<!--<...  \n",
       "499  [<div class=\"mbox-description-content\">\\n<!--<...  \n",
       "\n",
       "[500 rows x 8 columns]"
      ]
     },
     "execution_count": 83,
     "metadata": {},
     "output_type": "execute_result"
    }
   ],
   "source": [
    "coffee"
   ]
  },
  {
   "cell_type": "code",
   "execution_count": 64,
   "metadata": {},
   "outputs": [
    {
     "data": {
      "text/plain": [
       "'https://one.mistobox.com/subscriptions/index/buy?sku=KUMA-056'"
      ]
     },
     "execution_count": 64,
     "metadata": {},
     "output_type": "execute_result"
    }
   ],
   "source": [
    "url"
   ]
  },
  {
   "cell_type": "code",
   "execution_count": 9,
   "metadata": {},
   "outputs": [
    {
     "data": {
      "text/plain": [
       "0"
      ]
     },
     "execution_count": 9,
     "metadata": {},
     "output_type": "execute_result"
    }
   ],
   "source": [
    "ratings2 = pd.DataFrame(columns=\"url text scorew numw scoremb scoremb2 scoremb3\".split())\n",
    "len(ratings2)"
   ]
  },
  {
   "cell_type": "code",
   "execution_count": 10,
   "metadata": {},
   "outputs": [
    {
     "name": "stderr",
     "output_type": "stream",
     "text": [
      "  0%|          | 1/500 [00:12<1:43:36, 12.46s/it]"
     ]
    },
    {
     "name": "stdout",
     "output_type": "stream",
     "text": [
      "0\n"
     ]
    },
    {
     "name": "stderr",
     "output_type": "stream",
     "text": [
      "  0%|          | 2/500 [00:24<1:42:13, 12.32s/it]"
     ]
    },
    {
     "name": "stdout",
     "output_type": "stream",
     "text": [
      "1\n"
     ]
    },
    {
     "name": "stderr",
     "output_type": "stream",
     "text": [
      "  1%|          | 3/500 [00:40<1:50:45, 13.37s/it]"
     ]
    },
    {
     "name": "stdout",
     "output_type": "stream",
     "text": [
      "2\n"
     ]
    },
    {
     "name": "stderr",
     "output_type": "stream",
     "text": [
      "  1%|          | 4/500 [00:45<1:31:23, 11.06s/it]"
     ]
    },
    {
     "name": "stdout",
     "output_type": "stream",
     "text": [
      "3\n"
     ]
    },
    {
     "name": "stderr",
     "output_type": "stream",
     "text": [
      "  1%|          | 5/500 [00:54<1:25:00, 10.30s/it]"
     ]
    },
    {
     "name": "stdout",
     "output_type": "stream",
     "text": [
      "4\n"
     ]
    },
    {
     "name": "stderr",
     "output_type": "stream",
     "text": [
      "  1%|          | 6/500 [01:02<1:20:17,  9.75s/it]"
     ]
    },
    {
     "name": "stdout",
     "output_type": "stream",
     "text": [
      "5\n"
     ]
    },
    {
     "name": "stderr",
     "output_type": "stream",
     "text": [
      "  1%|▏         | 7/500 [01:11<1:18:13,  9.52s/it]"
     ]
    },
    {
     "name": "stdout",
     "output_type": "stream",
     "text": [
      "6\n"
     ]
    },
    {
     "name": "stderr",
     "output_type": "stream",
     "text": [
      "  2%|▏         | 8/500 [01:21<1:17:09,  9.41s/it]"
     ]
    },
    {
     "name": "stdout",
     "output_type": "stream",
     "text": [
      "7\n"
     ]
    },
    {
     "name": "stderr",
     "output_type": "stream",
     "text": [
      "  2%|▏         | 9/500 [01:27<1:09:09,  8.45s/it]"
     ]
    },
    {
     "name": "stdout",
     "output_type": "stream",
     "text": [
      "8\n"
     ]
    },
    {
     "name": "stderr",
     "output_type": "stream",
     "text": [
      "  2%|▏         | 10/500 [01:35<1:09:18,  8.49s/it]"
     ]
    },
    {
     "name": "stdout",
     "output_type": "stream",
     "text": [
      "9\n"
     ]
    },
    {
     "name": "stderr",
     "output_type": "stream",
     "text": [
      "  2%|▏         | 11/500 [01:45<1:12:31,  8.90s/it]"
     ]
    },
    {
     "name": "stdout",
     "output_type": "stream",
     "text": [
      "10\n"
     ]
    },
    {
     "name": "stderr",
     "output_type": "stream",
     "text": [
      "  2%|▏         | 12/500 [01:54<1:12:24,  8.90s/it]"
     ]
    },
    {
     "name": "stdout",
     "output_type": "stream",
     "text": [
      "11\n"
     ]
    },
    {
     "name": "stderr",
     "output_type": "stream",
     "text": [
      "  3%|▎         | 13/500 [02:11<1:31:52, 11.32s/it]"
     ]
    },
    {
     "name": "stdout",
     "output_type": "stream",
     "text": [
      "12\n"
     ]
    },
    {
     "name": "stderr",
     "output_type": "stream",
     "text": [
      "  3%|▎         | 14/500 [02:20<1:26:03, 10.62s/it]"
     ]
    },
    {
     "name": "stdout",
     "output_type": "stream",
     "text": [
      "13\n"
     ]
    },
    {
     "name": "stderr",
     "output_type": "stream",
     "text": [
      "  3%|▎         | 15/500 [02:31<1:26:55, 10.75s/it]"
     ]
    },
    {
     "name": "stdout",
     "output_type": "stream",
     "text": [
      "14\n"
     ]
    },
    {
     "name": "stderr",
     "output_type": "stream",
     "text": [
      "  3%|▎         | 16/500 [02:45<1:33:36, 11.60s/it]"
     ]
    },
    {
     "name": "stdout",
     "output_type": "stream",
     "text": [
      "15\n"
     ]
    },
    {
     "name": "stderr",
     "output_type": "stream",
     "text": [
      "  3%|▎         | 17/500 [02:58<1:36:22, 11.97s/it]"
     ]
    },
    {
     "name": "stdout",
     "output_type": "stream",
     "text": [
      "16\n"
     ]
    },
    {
     "name": "stderr",
     "output_type": "stream",
     "text": [
      "  4%|▎         | 18/500 [03:03<1:21:32, 10.15s/it]"
     ]
    },
    {
     "name": "stdout",
     "output_type": "stream",
     "text": [
      "17\n"
     ]
    },
    {
     "name": "stderr",
     "output_type": "stream",
     "text": [
      "  4%|▍         | 19/500 [03:13<1:19:21,  9.90s/it]"
     ]
    },
    {
     "name": "stdout",
     "output_type": "stream",
     "text": [
      "18\n"
     ]
    },
    {
     "name": "stderr",
     "output_type": "stream",
     "text": [
      "  4%|▍         | 20/500 [03:22<1:17:06,  9.64s/it]"
     ]
    },
    {
     "name": "stdout",
     "output_type": "stream",
     "text": [
      "19\n"
     ]
    },
    {
     "name": "stderr",
     "output_type": "stream",
     "text": [
      "  4%|▍         | 21/500 [03:30<1:14:37,  9.35s/it]"
     ]
    },
    {
     "name": "stdout",
     "output_type": "stream",
     "text": [
      "20\n"
     ]
    },
    {
     "name": "stderr",
     "output_type": "stream",
     "text": [
      "  4%|▍         | 22/500 [03:39<1:12:58,  9.16s/it]"
     ]
    },
    {
     "name": "stdout",
     "output_type": "stream",
     "text": [
      "21\n"
     ]
    },
    {
     "name": "stderr",
     "output_type": "stream",
     "text": [
      "  5%|▍         | 23/500 [03:47<1:09:11,  8.70s/it]"
     ]
    },
    {
     "name": "stdout",
     "output_type": "stream",
     "text": [
      "22\n"
     ]
    },
    {
     "name": "stderr",
     "output_type": "stream",
     "text": [
      "  5%|▍         | 24/500 [03:59<1:18:24,  9.88s/it]"
     ]
    },
    {
     "name": "stdout",
     "output_type": "stream",
     "text": [
      "23\n"
     ]
    },
    {
     "name": "stderr",
     "output_type": "stream",
     "text": [
      "  5%|▌         | 25/500 [04:11<1:21:32, 10.30s/it]"
     ]
    },
    {
     "name": "stdout",
     "output_type": "stream",
     "text": [
      "24\n"
     ]
    },
    {
     "name": "stderr",
     "output_type": "stream",
     "text": [
      "  5%|▌         | 26/500 [04:22<1:23:07, 10.52s/it]"
     ]
    },
    {
     "name": "stdout",
     "output_type": "stream",
     "text": [
      "25\n"
     ]
    },
    {
     "name": "stderr",
     "output_type": "stream",
     "text": [
      "  5%|▌         | 27/500 [04:32<1:22:17, 10.44s/it]"
     ]
    },
    {
     "name": "stdout",
     "output_type": "stream",
     "text": [
      "26\n"
     ]
    },
    {
     "name": "stderr",
     "output_type": "stream",
     "text": [
      "  6%|▌         | 28/500 [04:43<1:23:38, 10.63s/it]"
     ]
    },
    {
     "name": "stdout",
     "output_type": "stream",
     "text": [
      "27\n"
     ]
    },
    {
     "name": "stderr",
     "output_type": "stream",
     "text": [
      "  6%|▌         | 29/500 [04:53<1:22:44, 10.54s/it]"
     ]
    },
    {
     "name": "stdout",
     "output_type": "stream",
     "text": [
      "28\n"
     ]
    },
    {
     "name": "stderr",
     "output_type": "stream",
     "text": [
      "  6%|▌         | 30/500 [05:06<1:26:14, 11.01s/it]"
     ]
    },
    {
     "name": "stdout",
     "output_type": "stream",
     "text": [
      "29\n"
     ]
    },
    {
     "name": "stderr",
     "output_type": "stream",
     "text": [
      "  6%|▌         | 31/500 [05:15<1:22:39, 10.57s/it]"
     ]
    },
    {
     "name": "stdout",
     "output_type": "stream",
     "text": [
      "30\n"
     ]
    },
    {
     "name": "stderr",
     "output_type": "stream",
     "text": [
      "  6%|▋         | 32/500 [05:25<1:19:45, 10.23s/it]"
     ]
    },
    {
     "name": "stdout",
     "output_type": "stream",
     "text": [
      "31\n"
     ]
    },
    {
     "name": "stderr",
     "output_type": "stream",
     "text": [
      "  7%|▋         | 33/500 [05:34<1:17:07,  9.91s/it]"
     ]
    },
    {
     "name": "stdout",
     "output_type": "stream",
     "text": [
      "32\n"
     ]
    },
    {
     "name": "stderr",
     "output_type": "stream",
     "text": [
      "  7%|▋         | 34/500 [05:43<1:15:16,  9.69s/it]"
     ]
    },
    {
     "name": "stdout",
     "output_type": "stream",
     "text": [
      "33\n"
     ]
    },
    {
     "name": "stderr",
     "output_type": "stream",
     "text": [
      "  7%|▋         | 35/500 [05:54<1:17:37, 10.02s/it]"
     ]
    },
    {
     "name": "stdout",
     "output_type": "stream",
     "text": [
      "34\n"
     ]
    },
    {
     "name": "stderr",
     "output_type": "stream",
     "text": [
      "  7%|▋         | 36/500 [06:03<1:16:26,  9.88s/it]"
     ]
    },
    {
     "name": "stdout",
     "output_type": "stream",
     "text": [
      "35\n"
     ]
    },
    {
     "name": "stderr",
     "output_type": "stream",
     "text": [
      "  7%|▋         | 37/500 [06:16<1:22:44, 10.72s/it]"
     ]
    },
    {
     "name": "stdout",
     "output_type": "stream",
     "text": [
      "36\n"
     ]
    },
    {
     "name": "stderr",
     "output_type": "stream",
     "text": [
      "  8%|▊         | 38/500 [06:28<1:25:08, 11.06s/it]"
     ]
    },
    {
     "name": "stdout",
     "output_type": "stream",
     "text": [
      "37\n"
     ]
    },
    {
     "name": "stderr",
     "output_type": "stream",
     "text": [
      "  8%|▊         | 39/500 [06:42<1:32:53, 12.09s/it]"
     ]
    },
    {
     "name": "stdout",
     "output_type": "stream",
     "text": [
      "38\n"
     ]
    },
    {
     "name": "stderr",
     "output_type": "stream",
     "text": [
      "  8%|▊         | 40/500 [06:55<1:33:36, 12.21s/it]"
     ]
    },
    {
     "name": "stdout",
     "output_type": "stream",
     "text": [
      "39\n"
     ]
    },
    {
     "name": "stderr",
     "output_type": "stream",
     "text": [
      "  8%|▊         | 41/500 [07:07<1:34:22, 12.34s/it]"
     ]
    },
    {
     "name": "stdout",
     "output_type": "stream",
     "text": [
      "40\n"
     ]
    },
    {
     "name": "stderr",
     "output_type": "stream",
     "text": [
      "  8%|▊         | 42/500 [07:26<1:47:45, 14.12s/it]"
     ]
    },
    {
     "name": "stdout",
     "output_type": "stream",
     "text": [
      "41\n"
     ]
    },
    {
     "name": "stderr",
     "output_type": "stream",
     "text": [
      "  9%|▊         | 43/500 [07:46<2:02:36, 16.10s/it]"
     ]
    },
    {
     "name": "stdout",
     "output_type": "stream",
     "text": [
      "42\n"
     ]
    },
    {
     "name": "stderr",
     "output_type": "stream",
     "text": [
      "  9%|▉         | 44/500 [08:11<2:22:11, 18.71s/it]"
     ]
    },
    {
     "name": "stdout",
     "output_type": "stream",
     "text": [
      "43\n"
     ]
    },
    {
     "name": "stderr",
     "output_type": "stream",
     "text": [
      "  9%|▉         | 45/500 [08:23<2:06:30, 16.68s/it]"
     ]
    },
    {
     "name": "stdout",
     "output_type": "stream",
     "text": [
      "44\n"
     ]
    },
    {
     "name": "stderr",
     "output_type": "stream",
     "text": [
      "  9%|▉         | 46/500 [08:38<2:02:32, 16.19s/it]"
     ]
    },
    {
     "name": "stdout",
     "output_type": "stream",
     "text": [
      "45\n"
     ]
    },
    {
     "name": "stderr",
     "output_type": "stream",
     "text": [
      "  9%|▉         | 47/500 [08:51<1:55:17, 15.27s/it]"
     ]
    },
    {
     "name": "stdout",
     "output_type": "stream",
     "text": [
      "46\n"
     ]
    },
    {
     "name": "stderr",
     "output_type": "stream",
     "text": [
      " 10%|▉         | 48/500 [09:02<1:43:45, 13.77s/it]"
     ]
    },
    {
     "name": "stdout",
     "output_type": "stream",
     "text": [
      "47\n"
     ]
    },
    {
     "name": "stderr",
     "output_type": "stream",
     "text": [
      " 10%|▉         | 49/500 [09:12<1:36:41, 12.86s/it]"
     ]
    },
    {
     "name": "stdout",
     "output_type": "stream",
     "text": [
      "48\n"
     ]
    },
    {
     "name": "stderr",
     "output_type": "stream",
     "text": [
      " 10%|█         | 50/500 [09:22<1:29:44, 11.97s/it]"
     ]
    },
    {
     "name": "stdout",
     "output_type": "stream",
     "text": [
      "49\n"
     ]
    },
    {
     "name": "stderr",
     "output_type": "stream",
     "text": [
      " 10%|█         | 51/500 [09:32<1:23:59, 11.22s/it]"
     ]
    },
    {
     "name": "stdout",
     "output_type": "stream",
     "text": [
      "50\n"
     ]
    },
    {
     "name": "stderr",
     "output_type": "stream",
     "text": [
      " 10%|█         | 52/500 [09:44<1:25:43, 11.48s/it]"
     ]
    },
    {
     "name": "stdout",
     "output_type": "stream",
     "text": [
      "51\n"
     ]
    },
    {
     "name": "stderr",
     "output_type": "stream",
     "text": [
      " 11%|█         | 53/500 [09:59<1:32:55, 12.47s/it]"
     ]
    },
    {
     "name": "stdout",
     "output_type": "stream",
     "text": [
      "52\n"
     ]
    },
    {
     "name": "stderr",
     "output_type": "stream",
     "text": [
      " 11%|█         | 54/500 [10:11<1:32:23, 12.43s/it]"
     ]
    },
    {
     "name": "stdout",
     "output_type": "stream",
     "text": [
      "53\n"
     ]
    },
    {
     "name": "stderr",
     "output_type": "stream",
     "text": [
      " 11%|█         | 55/500 [10:23<1:31:38, 12.36s/it]"
     ]
    },
    {
     "name": "stdout",
     "output_type": "stream",
     "text": [
      "54\n"
     ]
    },
    {
     "name": "stderr",
     "output_type": "stream",
     "text": [
      " 11%|█         | 56/500 [10:34<1:28:39, 11.98s/it]"
     ]
    },
    {
     "name": "stdout",
     "output_type": "stream",
     "text": [
      "55\n"
     ]
    },
    {
     "name": "stderr",
     "output_type": "stream",
     "text": [
      " 11%|█▏        | 57/500 [10:45<1:26:13, 11.68s/it]"
     ]
    },
    {
     "name": "stdout",
     "output_type": "stream",
     "text": [
      "56\n"
     ]
    },
    {
     "name": "stderr",
     "output_type": "stream",
     "text": [
      " 12%|█▏        | 58/500 [10:56<1:24:12, 11.43s/it]"
     ]
    },
    {
     "name": "stdout",
     "output_type": "stream",
     "text": [
      "57\n"
     ]
    },
    {
     "name": "stderr",
     "output_type": "stream",
     "text": [
      " 12%|█▏        | 59/500 [11:06<1:20:58, 11.02s/it]"
     ]
    },
    {
     "name": "stdout",
     "output_type": "stream",
     "text": [
      "58\n"
     ]
    },
    {
     "name": "stderr",
     "output_type": "stream",
     "text": [
      " 12%|█▏        | 60/500 [11:18<1:22:27, 11.24s/it]"
     ]
    },
    {
     "name": "stdout",
     "output_type": "stream",
     "text": [
      "59\n"
     ]
    },
    {
     "name": "stderr",
     "output_type": "stream",
     "text": [
      " 12%|█▏        | 61/500 [11:30<1:24:56, 11.61s/it]"
     ]
    },
    {
     "name": "stdout",
     "output_type": "stream",
     "text": [
      "60\n"
     ]
    },
    {
     "name": "stderr",
     "output_type": "stream",
     "text": [
      " 12%|█▏        | 62/500 [11:44<1:29:07, 12.21s/it]"
     ]
    },
    {
     "name": "stdout",
     "output_type": "stream",
     "text": [
      "61\n"
     ]
    },
    {
     "name": "stderr",
     "output_type": "stream",
     "text": [
      " 13%|█▎        | 63/500 [11:54<1:23:57, 11.53s/it]"
     ]
    },
    {
     "name": "stdout",
     "output_type": "stream",
     "text": [
      "62\n"
     ]
    },
    {
     "name": "stderr",
     "output_type": "stream",
     "text": [
      " 13%|█▎        | 64/500 [12:03<1:19:11, 10.90s/it]"
     ]
    },
    {
     "name": "stdout",
     "output_type": "stream",
     "text": [
      "63\n"
     ]
    },
    {
     "name": "stderr",
     "output_type": "stream",
     "text": [
      " 13%|█▎        | 65/500 [12:13<1:17:01, 10.62s/it]"
     ]
    },
    {
     "name": "stdout",
     "output_type": "stream",
     "text": [
      "64\n"
     ]
    },
    {
     "name": "stderr",
     "output_type": "stream",
     "text": [
      " 13%|█▎        | 66/500 [12:22<1:12:35, 10.04s/it]"
     ]
    },
    {
     "name": "stdout",
     "output_type": "stream",
     "text": [
      "65\n"
     ]
    },
    {
     "name": "stderr",
     "output_type": "stream",
     "text": [
      " 13%|█▎        | 67/500 [12:39<1:28:11, 12.22s/it]"
     ]
    },
    {
     "name": "stdout",
     "output_type": "stream",
     "text": [
      "66\n"
     ]
    },
    {
     "name": "stderr",
     "output_type": "stream",
     "text": [
      " 14%|█▎        | 68/500 [12:49<1:23:46, 11.64s/it]"
     ]
    },
    {
     "name": "stdout",
     "output_type": "stream",
     "text": [
      "67\n"
     ]
    },
    {
     "name": "stderr",
     "output_type": "stream",
     "text": [
      " 14%|█▍        | 69/500 [13:02<1:24:56, 11.82s/it]"
     ]
    },
    {
     "name": "stdout",
     "output_type": "stream",
     "text": [
      "68\n"
     ]
    },
    {
     "name": "stderr",
     "output_type": "stream",
     "text": [
      " 14%|█▍        | 70/500 [13:14<1:25:35, 11.94s/it]"
     ]
    },
    {
     "name": "stdout",
     "output_type": "stream",
     "text": [
      "69\n"
     ]
    },
    {
     "name": "stderr",
     "output_type": "stream",
     "text": [
      " 14%|█▍        | 71/500 [13:27<1:28:29, 12.38s/it]"
     ]
    },
    {
     "name": "stdout",
     "output_type": "stream",
     "text": [
      "70\n"
     ]
    },
    {
     "name": "stderr",
     "output_type": "stream",
     "text": [
      " 14%|█▍        | 72/500 [13:40<1:28:35, 12.42s/it]"
     ]
    },
    {
     "name": "stdout",
     "output_type": "stream",
     "text": [
      "71\n"
     ]
    },
    {
     "name": "stderr",
     "output_type": "stream",
     "text": [
      " 15%|█▍        | 73/500 [13:50<1:23:02, 11.67s/it]"
     ]
    },
    {
     "name": "stdout",
     "output_type": "stream",
     "text": [
      "72\n"
     ]
    },
    {
     "name": "stderr",
     "output_type": "stream",
     "text": [
      " 15%|█▍        | 74/500 [14:03<1:25:36, 12.06s/it]"
     ]
    },
    {
     "name": "stdout",
     "output_type": "stream",
     "text": [
      "73\n"
     ]
    },
    {
     "name": "stderr",
     "output_type": "stream",
     "text": [
      " 15%|█▌        | 75/500 [14:12<1:19:59, 11.29s/it]"
     ]
    },
    {
     "name": "stdout",
     "output_type": "stream",
     "text": [
      "74\n"
     ]
    },
    {
     "name": "stderr",
     "output_type": "stream",
     "text": [
      " 15%|█▌        | 76/500 [14:23<1:18:37, 11.13s/it]"
     ]
    },
    {
     "name": "stdout",
     "output_type": "stream",
     "text": [
      "75\n"
     ]
    },
    {
     "name": "stderr",
     "output_type": "stream",
     "text": [
      " 15%|█▌        | 77/500 [14:39<1:27:58, 12.48s/it]"
     ]
    },
    {
     "name": "stdout",
     "output_type": "stream",
     "text": [
      "76\n"
     ]
    },
    {
     "name": "stderr",
     "output_type": "stream",
     "text": [
      " 16%|█▌        | 78/500 [14:52<1:30:42, 12.90s/it]"
     ]
    },
    {
     "name": "stdout",
     "output_type": "stream",
     "text": [
      "77\n"
     ]
    },
    {
     "name": "stderr",
     "output_type": "stream",
     "text": [
      " 16%|█▌        | 79/500 [15:11<1:42:36, 14.62s/it]"
     ]
    },
    {
     "name": "stdout",
     "output_type": "stream",
     "text": [
      "78\n"
     ]
    },
    {
     "name": "stderr",
     "output_type": "stream",
     "text": [
      " 16%|█▌        | 80/500 [15:21<1:33:22, 13.34s/it]"
     ]
    },
    {
     "name": "stdout",
     "output_type": "stream",
     "text": [
      "79\n"
     ]
    },
    {
     "name": "stderr",
     "output_type": "stream",
     "text": [
      " 16%|█▌        | 81/500 [15:30<1:24:04, 12.04s/it]"
     ]
    },
    {
     "name": "stdout",
     "output_type": "stream",
     "text": [
      "80\n"
     ]
    },
    {
     "name": "stderr",
     "output_type": "stream",
     "text": [
      " 16%|█▋        | 82/500 [15:41<1:20:24, 11.54s/it]"
     ]
    },
    {
     "name": "stdout",
     "output_type": "stream",
     "text": [
      "81\n"
     ]
    },
    {
     "name": "stderr",
     "output_type": "stream",
     "text": [
      " 17%|█▋        | 83/500 [15:46<1:06:34,  9.58s/it]"
     ]
    },
    {
     "name": "stdout",
     "output_type": "stream",
     "text": [
      "82\n"
     ]
    },
    {
     "name": "stderr",
     "output_type": "stream",
     "text": [
      " 17%|█▋        | 84/500 [15:55<1:05:39,  9.47s/it]"
     ]
    },
    {
     "name": "stdout",
     "output_type": "stream",
     "text": [
      "83\n"
     ]
    },
    {
     "name": "stderr",
     "output_type": "stream",
     "text": [
      " 17%|█▋        | 85/500 [16:06<1:08:26,  9.89s/it]"
     ]
    },
    {
     "name": "stdout",
     "output_type": "stream",
     "text": [
      "84\n"
     ]
    },
    {
     "name": "stderr",
     "output_type": "stream",
     "text": [
      " 17%|█▋        | 86/500 [16:16<1:09:01, 10.00s/it]"
     ]
    },
    {
     "name": "stdout",
     "output_type": "stream",
     "text": [
      "85\n"
     ]
    },
    {
     "name": "stderr",
     "output_type": "stream",
     "text": [
      " 17%|█▋        | 87/500 [16:27<1:10:24, 10.23s/it]"
     ]
    },
    {
     "name": "stdout",
     "output_type": "stream",
     "text": [
      "86\n"
     ]
    },
    {
     "name": "stderr",
     "output_type": "stream",
     "text": [
      " 18%|█▊        | 88/500 [16:37<1:09:35, 10.13s/it]"
     ]
    },
    {
     "name": "stdout",
     "output_type": "stream",
     "text": [
      "87\n"
     ]
    },
    {
     "name": "stderr",
     "output_type": "stream",
     "text": [
      " 18%|█▊        | 89/500 [16:49<1:13:11, 10.69s/it]"
     ]
    },
    {
     "name": "stdout",
     "output_type": "stream",
     "text": [
      "88\n"
     ]
    },
    {
     "name": "stderr",
     "output_type": "stream",
     "text": [
      " 18%|█▊        | 90/500 [17:03<1:19:57, 11.70s/it]"
     ]
    },
    {
     "name": "stdout",
     "output_type": "stream",
     "text": [
      "89\n"
     ]
    },
    {
     "name": "stderr",
     "output_type": "stream",
     "text": [
      " 18%|█▊        | 91/500 [17:14<1:17:42, 11.40s/it]"
     ]
    },
    {
     "name": "stdout",
     "output_type": "stream",
     "text": [
      "90\n"
     ]
    },
    {
     "name": "stderr",
     "output_type": "stream",
     "text": [
      " 18%|█▊        | 92/500 [17:25<1:16:28, 11.25s/it]"
     ]
    },
    {
     "name": "stdout",
     "output_type": "stream",
     "text": [
      "91\n"
     ]
    },
    {
     "name": "stderr",
     "output_type": "stream",
     "text": [
      " 19%|█▊        | 93/500 [17:35<1:15:41, 11.16s/it]"
     ]
    },
    {
     "name": "stdout",
     "output_type": "stream",
     "text": [
      "92\n"
     ]
    },
    {
     "name": "stderr",
     "output_type": "stream",
     "text": [
      " 19%|█▉        | 94/500 [17:47<1:17:04, 11.39s/it]"
     ]
    },
    {
     "name": "stdout",
     "output_type": "stream",
     "text": [
      "93\n"
     ]
    },
    {
     "name": "stderr",
     "output_type": "stream",
     "text": [
      " 19%|█▉        | 95/500 [18:03<1:24:28, 12.51s/it]"
     ]
    },
    {
     "name": "stdout",
     "output_type": "stream",
     "text": [
      "94\n"
     ]
    },
    {
     "name": "stderr",
     "output_type": "stream",
     "text": [
      " 19%|█▉        | 96/500 [18:12<1:18:45, 11.70s/it]"
     ]
    },
    {
     "name": "stdout",
     "output_type": "stream",
     "text": [
      "95\n"
     ]
    },
    {
     "name": "stderr",
     "output_type": "stream",
     "text": [
      " 19%|█▉        | 97/500 [18:25<1:20:50, 12.04s/it]"
     ]
    },
    {
     "name": "stdout",
     "output_type": "stream",
     "text": [
      "96\n"
     ]
    },
    {
     "name": "stderr",
     "output_type": "stream",
     "text": [
      " 20%|█▉        | 98/500 [18:35<1:16:25, 11.41s/it]"
     ]
    },
    {
     "name": "stdout",
     "output_type": "stream",
     "text": [
      "97\n"
     ]
    },
    {
     "name": "stderr",
     "output_type": "stream",
     "text": [
      " 20%|█▉        | 99/500 [18:46<1:16:09, 11.40s/it]"
     ]
    },
    {
     "name": "stdout",
     "output_type": "stream",
     "text": [
      "98\n"
     ]
    },
    {
     "name": "stderr",
     "output_type": "stream",
     "text": [
      " 20%|██        | 100/500 [18:56<1:12:59, 10.95s/it]"
     ]
    },
    {
     "name": "stdout",
     "output_type": "stream",
     "text": [
      "99\n"
     ]
    },
    {
     "name": "stderr",
     "output_type": "stream",
     "text": [
      " 20%|██        | 101/500 [19:07<1:11:47, 10.80s/it]"
     ]
    },
    {
     "name": "stdout",
     "output_type": "stream",
     "text": [
      "100\n"
     ]
    },
    {
     "name": "stderr",
     "output_type": "stream",
     "text": [
      " 20%|██        | 102/500 [19:17<1:09:56, 10.54s/it]"
     ]
    },
    {
     "name": "stdout",
     "output_type": "stream",
     "text": [
      "101\n"
     ]
    },
    {
     "name": "stderr",
     "output_type": "stream",
     "text": [
      " 21%|██        | 103/500 [19:32<1:18:10, 11.82s/it]"
     ]
    },
    {
     "name": "stdout",
     "output_type": "stream",
     "text": [
      "102\n"
     ]
    },
    {
     "name": "stderr",
     "output_type": "stream",
     "text": [
      " 21%|██        | 104/500 [19:43<1:16:35, 11.60s/it]"
     ]
    },
    {
     "name": "stdout",
     "output_type": "stream",
     "text": [
      "103\n"
     ]
    },
    {
     "name": "stderr",
     "output_type": "stream",
     "text": [
      " 21%|██        | 105/500 [19:52<1:11:14, 10.82s/it]"
     ]
    },
    {
     "name": "stdout",
     "output_type": "stream",
     "text": [
      "104\n"
     ]
    },
    {
     "name": "stderr",
     "output_type": "stream",
     "text": [
      " 21%|██        | 106/500 [20:11<1:27:14, 13.29s/it]"
     ]
    },
    {
     "name": "stdout",
     "output_type": "stream",
     "text": [
      "105\n"
     ]
    },
    {
     "name": "stderr",
     "output_type": "stream",
     "text": [
      " 21%|██▏       | 107/500 [20:29<1:37:10, 14.84s/it]"
     ]
    },
    {
     "name": "stdout",
     "output_type": "stream",
     "text": [
      "106\n"
     ]
    },
    {
     "name": "stderr",
     "output_type": "stream",
     "text": [
      " 22%|██▏       | 108/500 [20:43<1:34:34, 14.48s/it]"
     ]
    },
    {
     "name": "stdout",
     "output_type": "stream",
     "text": [
      "107\n"
     ]
    },
    {
     "name": "stderr",
     "output_type": "stream",
     "text": [
      " 22%|██▏       | 109/500 [21:01<1:40:41, 15.45s/it]"
     ]
    },
    {
     "name": "stdout",
     "output_type": "stream",
     "text": [
      "108\n"
     ]
    },
    {
     "name": "stderr",
     "output_type": "stream",
     "text": [
      " 22%|██▏       | 110/500 [21:14<1:37:21, 14.98s/it]"
     ]
    },
    {
     "name": "stdout",
     "output_type": "stream",
     "text": [
      "109\n"
     ]
    },
    {
     "name": "stderr",
     "output_type": "stream",
     "text": [
      " 22%|██▏       | 111/500 [21:27<1:32:23, 14.25s/it]"
     ]
    },
    {
     "name": "stdout",
     "output_type": "stream",
     "text": [
      "110\n"
     ]
    },
    {
     "name": "stderr",
     "output_type": "stream",
     "text": [
      " 22%|██▏       | 112/500 [21:38<1:25:27, 13.22s/it]"
     ]
    },
    {
     "name": "stdout",
     "output_type": "stream",
     "text": [
      "111\n"
     ]
    },
    {
     "name": "stderr",
     "output_type": "stream",
     "text": [
      " 23%|██▎       | 113/500 [21:47<1:18:18, 12.14s/it]"
     ]
    },
    {
     "name": "stdout",
     "output_type": "stream",
     "text": [
      "112\n"
     ]
    },
    {
     "name": "stderr",
     "output_type": "stream",
     "text": [
      " 23%|██▎       | 114/500 [22:00<1:19:02, 12.29s/it]"
     ]
    },
    {
     "name": "stdout",
     "output_type": "stream",
     "text": [
      "113\n"
     ]
    },
    {
     "name": "stderr",
     "output_type": "stream",
     "text": [
      " 23%|██▎       | 115/500 [22:12<1:19:00, 12.31s/it]"
     ]
    },
    {
     "name": "stdout",
     "output_type": "stream",
     "text": [
      "114\n"
     ]
    },
    {
     "name": "stderr",
     "output_type": "stream",
     "text": [
      " 23%|██▎       | 116/500 [22:22<1:12:47, 11.37s/it]"
     ]
    },
    {
     "name": "stdout",
     "output_type": "stream",
     "text": [
      "115\n"
     ]
    },
    {
     "name": "stderr",
     "output_type": "stream",
     "text": [
      " 23%|██▎       | 117/500 [22:36<1:19:19, 12.43s/it]"
     ]
    },
    {
     "name": "stdout",
     "output_type": "stream",
     "text": [
      "116\n"
     ]
    },
    {
     "name": "stderr",
     "output_type": "stream",
     "text": [
      " 24%|██▎       | 118/500 [22:44<1:10:45, 11.11s/it]"
     ]
    },
    {
     "name": "stdout",
     "output_type": "stream",
     "text": [
      "117\n"
     ]
    },
    {
     "name": "stderr",
     "output_type": "stream",
     "text": [
      " 24%|██▍       | 119/500 [22:57<1:13:40, 11.60s/it]"
     ]
    },
    {
     "name": "stdout",
     "output_type": "stream",
     "text": [
      "118\n"
     ]
    },
    {
     "name": "stderr",
     "output_type": "stream",
     "text": [
      " 24%|██▍       | 120/500 [23:10<1:16:00, 12.00s/it]"
     ]
    },
    {
     "name": "stdout",
     "output_type": "stream",
     "text": [
      "119\n"
     ]
    },
    {
     "name": "stderr",
     "output_type": "stream",
     "text": [
      " 24%|██▍       | 121/500 [23:22<1:16:20, 12.09s/it]"
     ]
    },
    {
     "name": "stdout",
     "output_type": "stream",
     "text": [
      "120\n"
     ]
    },
    {
     "name": "stderr",
     "output_type": "stream",
     "text": [
      " 24%|██▍       | 122/500 [23:40<1:27:16, 13.85s/it]"
     ]
    },
    {
     "name": "stdout",
     "output_type": "stream",
     "text": [
      "121\n"
     ]
    },
    {
     "name": "stderr",
     "output_type": "stream",
     "text": [
      " 25%|██▍       | 123/500 [23:51<1:20:42, 12.84s/it]"
     ]
    },
    {
     "name": "stdout",
     "output_type": "stream",
     "text": [
      "122\n"
     ]
    },
    {
     "name": "stderr",
     "output_type": "stream",
     "text": [
      " 25%|██▍       | 124/500 [23:59<1:12:20, 11.54s/it]"
     ]
    },
    {
     "name": "stdout",
     "output_type": "stream",
     "text": [
      "123\n"
     ]
    },
    {
     "name": "stderr",
     "output_type": "stream",
     "text": [
      " 25%|██▌       | 125/500 [24:12<1:14:45, 11.96s/it]"
     ]
    },
    {
     "name": "stdout",
     "output_type": "stream",
     "text": [
      "124\n"
     ]
    },
    {
     "name": "stderr",
     "output_type": "stream",
     "text": [
      " 25%|██▌       | 126/500 [24:22<1:10:03, 11.24s/it]"
     ]
    },
    {
     "name": "stdout",
     "output_type": "stream",
     "text": [
      "125\n"
     ]
    },
    {
     "name": "stderr",
     "output_type": "stream",
     "text": [
      " 25%|██▌       | 127/500 [24:33<1:09:57, 11.25s/it]"
     ]
    },
    {
     "name": "stdout",
     "output_type": "stream",
     "text": [
      "126\n"
     ]
    },
    {
     "name": "stderr",
     "output_type": "stream",
     "text": [
      " 26%|██▌       | 128/500 [24:43<1:06:58, 10.80s/it]"
     ]
    },
    {
     "name": "stdout",
     "output_type": "stream",
     "text": [
      "127\n"
     ]
    },
    {
     "name": "stderr",
     "output_type": "stream",
     "text": [
      " 26%|██▌       | 129/500 [24:54<1:07:47, 10.96s/it]"
     ]
    },
    {
     "name": "stdout",
     "output_type": "stream",
     "text": [
      "128\n"
     ]
    },
    {
     "name": "stderr",
     "output_type": "stream",
     "text": [
      " 26%|██▌       | 130/500 [25:05<1:06:13, 10.74s/it]"
     ]
    },
    {
     "name": "stdout",
     "output_type": "stream",
     "text": [
      "129\n"
     ]
    },
    {
     "name": "stderr",
     "output_type": "stream",
     "text": [
      " 26%|██▌       | 131/500 [25:17<1:09:40, 11.33s/it]"
     ]
    },
    {
     "name": "stdout",
     "output_type": "stream",
     "text": [
      "130\n"
     ]
    },
    {
     "name": "stderr",
     "output_type": "stream",
     "text": [
      " 26%|██▋       | 132/500 [25:31<1:14:11, 12.10s/it]"
     ]
    },
    {
     "name": "stdout",
     "output_type": "stream",
     "text": [
      "131\n"
     ]
    },
    {
     "name": "stderr",
     "output_type": "stream",
     "text": [
      " 27%|██▋       | 133/500 [25:38<1:05:08, 10.65s/it]"
     ]
    },
    {
     "name": "stdout",
     "output_type": "stream",
     "text": [
      "132\n"
     ]
    },
    {
     "name": "stderr",
     "output_type": "stream",
     "text": [
      " 27%|██▋       | 134/500 [25:53<1:11:52, 11.78s/it]"
     ]
    },
    {
     "name": "stdout",
     "output_type": "stream",
     "text": [
      "133\n"
     ]
    },
    {
     "name": "stderr",
     "output_type": "stream",
     "text": [
      " 27%|██▋       | 135/500 [26:05<1:12:26, 11.91s/it]"
     ]
    },
    {
     "name": "stdout",
     "output_type": "stream",
     "text": [
      "134\n"
     ]
    },
    {
     "name": "stderr",
     "output_type": "stream",
     "text": [
      " 27%|██▋       | 136/500 [26:19<1:16:02, 12.53s/it]"
     ]
    },
    {
     "name": "stdout",
     "output_type": "stream",
     "text": [
      "135\n"
     ]
    },
    {
     "name": "stderr",
     "output_type": "stream",
     "text": [
      " 27%|██▋       | 137/500 [26:29<1:10:35, 11.67s/it]"
     ]
    },
    {
     "name": "stdout",
     "output_type": "stream",
     "text": [
      "136\n"
     ]
    },
    {
     "name": "stderr",
     "output_type": "stream",
     "text": [
      " 28%|██▊       | 138/500 [26:38<1:07:05, 11.12s/it]"
     ]
    },
    {
     "name": "stdout",
     "output_type": "stream",
     "text": [
      "137\n"
     ]
    },
    {
     "name": "stderr",
     "output_type": "stream",
     "text": [
      " 28%|██▊       | 139/500 [26:48<1:03:31, 10.56s/it]"
     ]
    },
    {
     "name": "stdout",
     "output_type": "stream",
     "text": [
      "138\n"
     ]
    },
    {
     "name": "stderr",
     "output_type": "stream",
     "text": [
      " 28%|██▊       | 140/500 [26:58<1:02:02, 10.34s/it]"
     ]
    },
    {
     "name": "stdout",
     "output_type": "stream",
     "text": [
      "139\n"
     ]
    },
    {
     "name": "stderr",
     "output_type": "stream",
     "text": [
      " 28%|██▊       | 141/500 [27:06<58:25,  9.76s/it]  "
     ]
    },
    {
     "name": "stdout",
     "output_type": "stream",
     "text": [
      "140\n"
     ]
    },
    {
     "name": "stderr",
     "output_type": "stream",
     "text": [
      " 28%|██▊       | 142/500 [27:19<1:04:47, 10.86s/it]"
     ]
    },
    {
     "name": "stdout",
     "output_type": "stream",
     "text": [
      "141\n"
     ]
    },
    {
     "name": "stderr",
     "output_type": "stream",
     "text": [
      " 29%|██▊       | 143/500 [27:29<1:01:30, 10.34s/it]"
     ]
    },
    {
     "name": "stdout",
     "output_type": "stream",
     "text": [
      "142\n"
     ]
    },
    {
     "name": "stderr",
     "output_type": "stream",
     "text": [
      " 29%|██▉       | 144/500 [27:42<1:07:24, 11.36s/it]"
     ]
    },
    {
     "name": "stdout",
     "output_type": "stream",
     "text": [
      "143\n"
     ]
    },
    {
     "name": "stderr",
     "output_type": "stream",
     "text": [
      " 29%|██▉       | 145/500 [27:51<1:03:04, 10.66s/it]"
     ]
    },
    {
     "name": "stdout",
     "output_type": "stream",
     "text": [
      "144\n"
     ]
    },
    {
     "name": "stderr",
     "output_type": "stream",
     "text": [
      " 29%|██▉       | 146/500 [28:02<1:02:59, 10.68s/it]"
     ]
    },
    {
     "name": "stdout",
     "output_type": "stream",
     "text": [
      "145\n"
     ]
    },
    {
     "name": "stderr",
     "output_type": "stream",
     "text": [
      " 29%|██▉       | 147/500 [28:13<1:02:40, 10.65s/it]"
     ]
    },
    {
     "name": "stdout",
     "output_type": "stream",
     "text": [
      "146\n"
     ]
    },
    {
     "name": "stderr",
     "output_type": "stream",
     "text": [
      " 30%|██▉       | 148/500 [28:22<1:00:05, 10.24s/it]"
     ]
    },
    {
     "name": "stdout",
     "output_type": "stream",
     "text": [
      "147\n"
     ]
    },
    {
     "name": "stderr",
     "output_type": "stream",
     "text": [
      " 30%|██▉       | 149/500 [28:30<57:00,  9.75s/it]  "
     ]
    },
    {
     "name": "stdout",
     "output_type": "stream",
     "text": [
      "148\n"
     ]
    },
    {
     "name": "stderr",
     "output_type": "stream",
     "text": [
      " 30%|███       | 150/500 [28:45<1:05:24, 11.21s/it]"
     ]
    },
    {
     "name": "stdout",
     "output_type": "stream",
     "text": [
      "149\n"
     ]
    },
    {
     "name": "stderr",
     "output_type": "stream",
     "text": [
      " 30%|███       | 151/500 [29:02<1:15:53, 13.05s/it]"
     ]
    },
    {
     "name": "stdout",
     "output_type": "stream",
     "text": [
      "150\n"
     ]
    },
    {
     "name": "stderr",
     "output_type": "stream",
     "text": [
      " 30%|███       | 152/500 [29:16<1:15:51, 13.08s/it]"
     ]
    },
    {
     "name": "stdout",
     "output_type": "stream",
     "text": [
      "151\n"
     ]
    },
    {
     "name": "stderr",
     "output_type": "stream",
     "text": [
      " 31%|███       | 153/500 [29:25<1:08:30, 11.85s/it]"
     ]
    },
    {
     "name": "stdout",
     "output_type": "stream",
     "text": [
      "152\n"
     ]
    },
    {
     "name": "stderr",
     "output_type": "stream",
     "text": [
      " 31%|███       | 154/500 [29:35<1:06:00, 11.45s/it]"
     ]
    },
    {
     "name": "stdout",
     "output_type": "stream",
     "text": [
      "153\n"
     ]
    },
    {
     "name": "stderr",
     "output_type": "stream",
     "text": [
      " 31%|███       | 155/500 [29:46<1:05:37, 11.41s/it]"
     ]
    },
    {
     "name": "stdout",
     "output_type": "stream",
     "text": [
      "154\n"
     ]
    },
    {
     "name": "stderr",
     "output_type": "stream",
     "text": [
      " 31%|███       | 156/500 [29:55<1:00:01, 10.47s/it]"
     ]
    },
    {
     "name": "stdout",
     "output_type": "stream",
     "text": [
      "155\n"
     ]
    },
    {
     "name": "stderr",
     "output_type": "stream",
     "text": [
      " 31%|███▏      | 157/500 [30:03<56:59,  9.97s/it]  "
     ]
    },
    {
     "name": "stdout",
     "output_type": "stream",
     "text": [
      "156\n"
     ]
    },
    {
     "name": "stderr",
     "output_type": "stream",
     "text": [
      " 32%|███▏      | 158/500 [30:19<1:05:38, 11.52s/it]"
     ]
    },
    {
     "name": "stdout",
     "output_type": "stream",
     "text": [
      "157\n"
     ]
    },
    {
     "name": "stderr",
     "output_type": "stream",
     "text": [
      " 32%|███▏      | 159/500 [30:33<1:11:11, 12.53s/it]"
     ]
    },
    {
     "name": "stdout",
     "output_type": "stream",
     "text": [
      "158\n"
     ]
    },
    {
     "name": "stderr",
     "output_type": "stream",
     "text": [
      " 32%|███▏      | 160/500 [30:43<1:06:06, 11.67s/it]"
     ]
    },
    {
     "name": "stdout",
     "output_type": "stream",
     "text": [
      "159\n"
     ]
    },
    {
     "name": "stderr",
     "output_type": "stream",
     "text": [
      " 32%|███▏      | 161/500 [30:59<1:12:31, 12.84s/it]"
     ]
    },
    {
     "name": "stdout",
     "output_type": "stream",
     "text": [
      "160\n"
     ]
    },
    {
     "name": "stderr",
     "output_type": "stream",
     "text": [
      " 32%|███▏      | 162/500 [31:04<59:46, 10.61s/it]  "
     ]
    },
    {
     "name": "stdout",
     "output_type": "stream",
     "text": [
      "161\n"
     ]
    },
    {
     "name": "stderr",
     "output_type": "stream",
     "text": [
      " 33%|███▎      | 163/500 [31:13<56:30, 10.06s/it]"
     ]
    },
    {
     "name": "stdout",
     "output_type": "stream",
     "text": [
      "162\n"
     ]
    },
    {
     "name": "stderr",
     "output_type": "stream",
     "text": [
      " 33%|███▎      | 164/500 [31:23<56:25, 10.07s/it]"
     ]
    },
    {
     "name": "stdout",
     "output_type": "stream",
     "text": [
      "163\n"
     ]
    },
    {
     "name": "stderr",
     "output_type": "stream",
     "text": [
      " 33%|███▎      | 165/500 [31:33<55:29,  9.94s/it]"
     ]
    },
    {
     "name": "stdout",
     "output_type": "stream",
     "text": [
      "164\n"
     ]
    },
    {
     "name": "stderr",
     "output_type": "stream",
     "text": [
      " 33%|███▎      | 166/500 [31:42<54:28,  9.79s/it]"
     ]
    },
    {
     "name": "stdout",
     "output_type": "stream",
     "text": [
      "165\n"
     ]
    },
    {
     "name": "stderr",
     "output_type": "stream",
     "text": [
      " 33%|███▎      | 167/500 [31:53<56:30, 10.18s/it]"
     ]
    },
    {
     "name": "stdout",
     "output_type": "stream",
     "text": [
      "166\n"
     ]
    },
    {
     "name": "stderr",
     "output_type": "stream",
     "text": [
      " 34%|███▎      | 168/500 [32:02<54:10,  9.79s/it]"
     ]
    },
    {
     "name": "stdout",
     "output_type": "stream",
     "text": [
      "167\n"
     ]
    },
    {
     "name": "stderr",
     "output_type": "stream",
     "text": [
      " 34%|███▍      | 169/500 [32:11<52:23,  9.50s/it]"
     ]
    },
    {
     "name": "stdout",
     "output_type": "stream",
     "text": [
      "168\n"
     ]
    },
    {
     "name": "stderr",
     "output_type": "stream",
     "text": [
      " 34%|███▍      | 170/500 [32:35<1:16:11, 13.85s/it]"
     ]
    },
    {
     "name": "stdout",
     "output_type": "stream",
     "text": [
      "169\n"
     ]
    },
    {
     "name": "stderr",
     "output_type": "stream",
     "text": [
      " 34%|███▍      | 171/500 [32:44<1:07:56, 12.39s/it]"
     ]
    },
    {
     "name": "stdout",
     "output_type": "stream",
     "text": [
      "170\n"
     ]
    },
    {
     "name": "stderr",
     "output_type": "stream",
     "text": [
      " 34%|███▍      | 172/500 [32:53<1:02:27, 11.43s/it]"
     ]
    },
    {
     "name": "stdout",
     "output_type": "stream",
     "text": [
      "171\n"
     ]
    },
    {
     "name": "stderr",
     "output_type": "stream",
     "text": [
      " 35%|███▍      | 173/500 [33:02<57:28, 10.55s/it]  "
     ]
    },
    {
     "name": "stdout",
     "output_type": "stream",
     "text": [
      "172\n"
     ]
    },
    {
     "name": "stderr",
     "output_type": "stream",
     "text": [
      " 35%|███▍      | 174/500 [33:12<57:12, 10.53s/it]"
     ]
    },
    {
     "name": "stdout",
     "output_type": "stream",
     "text": [
      "173\n"
     ]
    },
    {
     "name": "stderr",
     "output_type": "stream",
     "text": [
      " 35%|███▌      | 175/500 [33:22<56:27, 10.42s/it]"
     ]
    },
    {
     "name": "stdout",
     "output_type": "stream",
     "text": [
      "174\n"
     ]
    },
    {
     "name": "stderr",
     "output_type": "stream",
     "text": [
      " 35%|███▌      | 176/500 [33:34<58:31, 10.84s/it]"
     ]
    },
    {
     "name": "stdout",
     "output_type": "stream",
     "text": [
      "175\n"
     ]
    },
    {
     "name": "stderr",
     "output_type": "stream",
     "text": [
      " 35%|███▌      | 177/500 [33:53<1:11:11, 13.23s/it]"
     ]
    },
    {
     "name": "stdout",
     "output_type": "stream",
     "text": [
      "176\n"
     ]
    },
    {
     "name": "stderr",
     "output_type": "stream",
     "text": [
      " 36%|███▌      | 178/500 [34:07<1:13:01, 13.61s/it]"
     ]
    },
    {
     "name": "stdout",
     "output_type": "stream",
     "text": [
      "177\n"
     ]
    },
    {
     "name": "stderr",
     "output_type": "stream",
     "text": [
      " 36%|███▌      | 179/500 [34:17<1:06:04, 12.35s/it]"
     ]
    },
    {
     "name": "stdout",
     "output_type": "stream",
     "text": [
      "178\n"
     ]
    },
    {
     "name": "stderr",
     "output_type": "stream",
     "text": [
      " 36%|███▌      | 180/500 [34:26<1:00:16, 11.30s/it]"
     ]
    },
    {
     "name": "stdout",
     "output_type": "stream",
     "text": [
      "179\n"
     ]
    },
    {
     "name": "stderr",
     "output_type": "stream",
     "text": [
      " 36%|███▌      | 181/500 [34:37<59:37, 11.21s/it]  "
     ]
    },
    {
     "name": "stdout",
     "output_type": "stream",
     "text": [
      "180\n"
     ]
    },
    {
     "name": "stderr",
     "output_type": "stream",
     "text": [
      " 36%|███▋      | 182/500 [34:56<1:12:09, 13.62s/it]"
     ]
    },
    {
     "name": "stdout",
     "output_type": "stream",
     "text": [
      "181\n"
     ]
    },
    {
     "name": "stderr",
     "output_type": "stream",
     "text": [
      " 37%|███▋      | 183/500 [35:09<1:11:06, 13.46s/it]"
     ]
    },
    {
     "name": "stdout",
     "output_type": "stream",
     "text": [
      "182\n"
     ]
    },
    {
     "name": "stderr",
     "output_type": "stream",
     "text": [
      " 37%|███▋      | 184/500 [35:21<1:09:08, 13.13s/it]"
     ]
    },
    {
     "name": "stdout",
     "output_type": "stream",
     "text": [
      "183\n"
     ]
    },
    {
     "name": "stderr",
     "output_type": "stream",
     "text": [
      " 37%|███▋      | 185/500 [35:31<1:03:13, 12.04s/it]"
     ]
    },
    {
     "name": "stdout",
     "output_type": "stream",
     "text": [
      "184\n"
     ]
    },
    {
     "name": "stderr",
     "output_type": "stream",
     "text": [
      " 37%|███▋      | 186/500 [35:42<1:01:32, 11.76s/it]"
     ]
    },
    {
     "name": "stdout",
     "output_type": "stream",
     "text": [
      "185\n"
     ]
    },
    {
     "name": "stderr",
     "output_type": "stream",
     "text": [
      " 37%|███▋      | 187/500 [35:52<58:55, 11.30s/it]  "
     ]
    },
    {
     "name": "stdout",
     "output_type": "stream",
     "text": [
      "186\n"
     ]
    },
    {
     "name": "stderr",
     "output_type": "stream",
     "text": [
      " 38%|███▊      | 188/500 [36:02<56:50, 10.93s/it]"
     ]
    },
    {
     "name": "stdout",
     "output_type": "stream",
     "text": [
      "187\n"
     ]
    },
    {
     "name": "stderr",
     "output_type": "stream",
     "text": [
      " 38%|███▊      | 189/500 [36:12<55:28, 10.70s/it]"
     ]
    },
    {
     "name": "stdout",
     "output_type": "stream",
     "text": [
      "188\n"
     ]
    },
    {
     "name": "stderr",
     "output_type": "stream",
     "text": [
      " 38%|███▊      | 190/500 [36:22<53:41, 10.39s/it]"
     ]
    },
    {
     "name": "stdout",
     "output_type": "stream",
     "text": [
      "189\n"
     ]
    },
    {
     "name": "stderr",
     "output_type": "stream",
     "text": [
      " 38%|███▊      | 191/500 [36:34<55:20, 10.74s/it]"
     ]
    },
    {
     "name": "stdout",
     "output_type": "stream",
     "text": [
      "190\n"
     ]
    },
    {
     "name": "stderr",
     "output_type": "stream",
     "text": [
      " 38%|███▊      | 192/500 [36:50<1:04:41, 12.60s/it]"
     ]
    },
    {
     "name": "stdout",
     "output_type": "stream",
     "text": [
      "191\n"
     ]
    },
    {
     "name": "stderr",
     "output_type": "stream",
     "text": [
      " 39%|███▊      | 193/500 [37:00<1:00:29, 11.82s/it]"
     ]
    },
    {
     "name": "stdout",
     "output_type": "stream",
     "text": [
      "192\n"
     ]
    },
    {
     "name": "stderr",
     "output_type": "stream",
     "text": [
      " 39%|███▉      | 194/500 [37:10<57:13, 11.22s/it]  "
     ]
    },
    {
     "name": "stdout",
     "output_type": "stream",
     "text": [
      "193\n"
     ]
    },
    {
     "name": "stderr",
     "output_type": "stream",
     "text": [
      " 39%|███▉      | 195/500 [37:22<58:12, 11.45s/it]"
     ]
    },
    {
     "name": "stdout",
     "output_type": "stream",
     "text": [
      "194\n"
     ]
    },
    {
     "name": "stderr",
     "output_type": "stream",
     "text": [
      " 39%|███▉      | 196/500 [37:32<55:00, 10.86s/it]"
     ]
    },
    {
     "name": "stdout",
     "output_type": "stream",
     "text": [
      "195\n"
     ]
    },
    {
     "name": "stderr",
     "output_type": "stream",
     "text": [
      " 39%|███▉      | 197/500 [37:44<56:48, 11.25s/it]"
     ]
    },
    {
     "name": "stdout",
     "output_type": "stream",
     "text": [
      "196\n"
     ]
    },
    {
     "name": "stderr",
     "output_type": "stream",
     "text": [
      " 40%|███▉      | 198/500 [38:03<1:08:45, 13.66s/it]"
     ]
    },
    {
     "name": "stdout",
     "output_type": "stream",
     "text": [
      "197\n"
     ]
    },
    {
     "name": "stderr",
     "output_type": "stream",
     "text": [
      " 40%|███▉      | 199/500 [38:14<1:04:28, 12.85s/it]"
     ]
    },
    {
     "name": "stdout",
     "output_type": "stream",
     "text": [
      "198\n"
     ]
    },
    {
     "name": "stderr",
     "output_type": "stream",
     "text": [
      " 40%|████      | 200/500 [38:29<1:06:55, 13.38s/it]"
     ]
    },
    {
     "name": "stdout",
     "output_type": "stream",
     "text": [
      "199\n"
     ]
    },
    {
     "name": "stderr",
     "output_type": "stream",
     "text": [
      " 40%|████      | 201/500 [38:48<1:14:42, 14.99s/it]"
     ]
    },
    {
     "name": "stdout",
     "output_type": "stream",
     "text": [
      "200\n"
     ]
    },
    {
     "name": "stderr",
     "output_type": "stream",
     "text": [
      " 40%|████      | 202/500 [38:57<1:06:49, 13.45s/it]"
     ]
    },
    {
     "name": "stdout",
     "output_type": "stream",
     "text": [
      "201\n"
     ]
    },
    {
     "name": "stderr",
     "output_type": "stream",
     "text": [
      " 41%|████      | 203/500 [39:16<1:14:29, 15.05s/it]"
     ]
    },
    {
     "name": "stdout",
     "output_type": "stream",
     "text": [
      "202\n"
     ]
    },
    {
     "name": "stderr",
     "output_type": "stream",
     "text": [
      " 41%|████      | 204/500 [39:27<1:08:40, 13.92s/it]"
     ]
    },
    {
     "name": "stdout",
     "output_type": "stream",
     "text": [
      "203\n"
     ]
    },
    {
     "name": "stderr",
     "output_type": "stream",
     "text": [
      " 41%|████      | 205/500 [39:39<1:04:49, 13.18s/it]"
     ]
    },
    {
     "name": "stdout",
     "output_type": "stream",
     "text": [
      "204\n"
     ]
    },
    {
     "name": "stderr",
     "output_type": "stream",
     "text": [
      " 41%|████      | 206/500 [39:50<1:01:20, 12.52s/it]"
     ]
    },
    {
     "name": "stdout",
     "output_type": "stream",
     "text": [
      "205\n"
     ]
    },
    {
     "name": "stderr",
     "output_type": "stream",
     "text": [
      " 41%|████▏     | 207/500 [40:02<1:01:12, 12.53s/it]"
     ]
    },
    {
     "name": "stdout",
     "output_type": "stream",
     "text": [
      "206\n"
     ]
    },
    {
     "name": "stderr",
     "output_type": "stream",
     "text": [
      " 42%|████▏     | 208/500 [40:16<1:01:47, 12.70s/it]"
     ]
    },
    {
     "name": "stdout",
     "output_type": "stream",
     "text": [
      "207\n"
     ]
    },
    {
     "name": "stderr",
     "output_type": "stream",
     "text": [
      " 42%|████▏     | 209/500 [40:35<1:12:03, 14.86s/it]"
     ]
    },
    {
     "name": "stdout",
     "output_type": "stream",
     "text": [
      "208\n"
     ]
    },
    {
     "name": "stderr",
     "output_type": "stream",
     "text": [
      " 42%|████▏     | 210/500 [40:46<1:05:22, 13.53s/it]"
     ]
    },
    {
     "name": "stdout",
     "output_type": "stream",
     "text": [
      "209\n"
     ]
    },
    {
     "name": "stderr",
     "output_type": "stream",
     "text": [
      " 42%|████▏     | 211/500 [40:51<53:41, 11.15s/it]  "
     ]
    },
    {
     "name": "stdout",
     "output_type": "stream",
     "text": [
      "210\n"
     ]
    },
    {
     "name": "stderr",
     "output_type": "stream",
     "text": [
      " 42%|████▏     | 212/500 [41:07<59:25, 12.38s/it]"
     ]
    },
    {
     "name": "stdout",
     "output_type": "stream",
     "text": [
      "211\n"
     ]
    },
    {
     "name": "stderr",
     "output_type": "stream",
     "text": [
      " 43%|████▎     | 213/500 [41:18<57:12, 11.96s/it]"
     ]
    },
    {
     "name": "stdout",
     "output_type": "stream",
     "text": [
      "212\n"
     ]
    },
    {
     "name": "stderr",
     "output_type": "stream",
     "text": [
      " 43%|████▎     | 214/500 [41:29<56:21, 11.82s/it]"
     ]
    },
    {
     "name": "stdout",
     "output_type": "stream",
     "text": [
      "213\n"
     ]
    },
    {
     "name": "stderr",
     "output_type": "stream",
     "text": [
      " 43%|████▎     | 215/500 [41:39<53:42, 11.31s/it]"
     ]
    },
    {
     "name": "stdout",
     "output_type": "stream",
     "text": [
      "214\n"
     ]
    },
    {
     "name": "stderr",
     "output_type": "stream",
     "text": [
      " 43%|████▎     | 216/500 [42:28<1:46:06, 22.42s/it]"
     ]
    },
    {
     "name": "stdout",
     "output_type": "stream",
     "text": [
      "215\n"
     ]
    },
    {
     "name": "stderr",
     "output_type": "stream",
     "text": [
      " 43%|████▎     | 217/500 [42:39<1:30:45, 19.24s/it]"
     ]
    },
    {
     "name": "stdout",
     "output_type": "stream",
     "text": [
      "216\n"
     ]
    },
    {
     "name": "stderr",
     "output_type": "stream",
     "text": [
      " 44%|████▎     | 218/500 [42:50<1:18:22, 16.68s/it]"
     ]
    },
    {
     "name": "stdout",
     "output_type": "stream",
     "text": [
      "217\n"
     ]
    },
    {
     "name": "stderr",
     "output_type": "stream",
     "text": [
      " 44%|████▍     | 219/500 [43:09<1:21:41, 17.44s/it]"
     ]
    },
    {
     "name": "stdout",
     "output_type": "stream",
     "text": [
      "218\n"
     ]
    },
    {
     "name": "stderr",
     "output_type": "stream",
     "text": [
      " 44%|████▍     | 220/500 [43:14<1:03:37, 13.63s/it]"
     ]
    },
    {
     "name": "stdout",
     "output_type": "stream",
     "text": [
      "219\n"
     ]
    },
    {
     "name": "stderr",
     "output_type": "stream",
     "text": [
      " 44%|████▍     | 221/500 [43:24<57:36, 12.39s/it]  "
     ]
    },
    {
     "name": "stdout",
     "output_type": "stream",
     "text": [
      "220\n"
     ]
    },
    {
     "name": "stderr",
     "output_type": "stream",
     "text": [
      " 44%|████▍     | 222/500 [43:32<51:11, 11.05s/it]"
     ]
    },
    {
     "name": "stdout",
     "output_type": "stream",
     "text": [
      "221\n"
     ]
    },
    {
     "name": "stderr",
     "output_type": "stream",
     "text": [
      " 45%|████▍     | 223/500 [43:41<48:19, 10.47s/it]"
     ]
    },
    {
     "name": "stdout",
     "output_type": "stream",
     "text": [
      "222\n"
     ]
    },
    {
     "name": "stderr",
     "output_type": "stream",
     "text": [
      " 45%|████▍     | 224/500 [43:51<47:18, 10.28s/it]"
     ]
    },
    {
     "name": "stdout",
     "output_type": "stream",
     "text": [
      "223\n"
     ]
    },
    {
     "name": "stderr",
     "output_type": "stream",
     "text": [
      " 45%|████▌     | 225/500 [43:57<41:20,  9.02s/it]"
     ]
    },
    {
     "name": "stdout",
     "output_type": "stream",
     "text": [
      "224\n"
     ]
    },
    {
     "name": "stderr",
     "output_type": "stream",
     "text": [
      " 45%|████▌     | 226/500 [44:05<40:23,  8.84s/it]"
     ]
    },
    {
     "name": "stdout",
     "output_type": "stream",
     "text": [
      "225\n"
     ]
    },
    {
     "name": "stderr",
     "output_type": "stream",
     "text": [
      " 45%|████▌     | 227/500 [44:16<43:20,  9.52s/it]"
     ]
    },
    {
     "name": "stdout",
     "output_type": "stream",
     "text": [
      "226\n"
     ]
    },
    {
     "name": "stderr",
     "output_type": "stream",
     "text": [
      " 46%|████▌     | 228/500 [44:27<45:22, 10.01s/it]"
     ]
    },
    {
     "name": "stdout",
     "output_type": "stream",
     "text": [
      "227\n"
     ]
    },
    {
     "name": "stderr",
     "output_type": "stream",
     "text": [
      " 46%|████▌     | 229/500 [44:38<46:27, 10.29s/it]"
     ]
    },
    {
     "name": "stdout",
     "output_type": "stream",
     "text": [
      "228\n"
     ]
    },
    {
     "name": "stderr",
     "output_type": "stream",
     "text": [
      " 46%|████▌     | 230/500 [44:53<52:38, 11.70s/it]"
     ]
    },
    {
     "name": "stdout",
     "output_type": "stream",
     "text": [
      "229\n"
     ]
    },
    {
     "name": "stderr",
     "output_type": "stream",
     "text": [
      " 46%|████▌     | 231/500 [45:02<49:09, 10.96s/it]"
     ]
    },
    {
     "name": "stdout",
     "output_type": "stream",
     "text": [
      "230\n"
     ]
    },
    {
     "name": "stderr",
     "output_type": "stream",
     "text": [
      " 46%|████▋     | 232/500 [45:09<42:46,  9.58s/it]"
     ]
    },
    {
     "name": "stdout",
     "output_type": "stream",
     "text": [
      "231\n"
     ]
    },
    {
     "name": "stderr",
     "output_type": "stream",
     "text": [
      " 47%|████▋     | 233/500 [45:18<41:44,  9.38s/it]"
     ]
    },
    {
     "name": "stdout",
     "output_type": "stream",
     "text": [
      "232\n"
     ]
    },
    {
     "name": "stderr",
     "output_type": "stream",
     "text": [
      " 47%|████▋     | 234/500 [45:28<42:40,  9.63s/it]"
     ]
    },
    {
     "name": "stdout",
     "output_type": "stream",
     "text": [
      "233\n"
     ]
    },
    {
     "name": "stderr",
     "output_type": "stream",
     "text": [
      " 47%|████▋     | 235/500 [45:37<41:27,  9.39s/it]"
     ]
    },
    {
     "name": "stdout",
     "output_type": "stream",
     "text": [
      "234\n"
     ]
    },
    {
     "name": "stderr",
     "output_type": "stream",
     "text": [
      " 47%|████▋     | 236/500 [45:48<44:19, 10.07s/it]"
     ]
    },
    {
     "name": "stdout",
     "output_type": "stream",
     "text": [
      "235\n"
     ]
    },
    {
     "name": "stderr",
     "output_type": "stream",
     "text": [
      " 47%|████▋     | 237/500 [46:12<1:02:19, 14.22s/it]"
     ]
    },
    {
     "name": "stdout",
     "output_type": "stream",
     "text": [
      "236\n"
     ]
    },
    {
     "name": "stderr",
     "output_type": "stream",
     "text": [
      " 48%|████▊     | 238/500 [46:28<1:03:37, 14.57s/it]"
     ]
    },
    {
     "name": "stdout",
     "output_type": "stream",
     "text": [
      "237\n"
     ]
    },
    {
     "name": "stderr",
     "output_type": "stream",
     "text": [
      " 48%|████▊     | 239/500 [46:52<1:16:23, 17.56s/it]"
     ]
    },
    {
     "name": "stdout",
     "output_type": "stream",
     "text": [
      "238\n"
     ]
    },
    {
     "name": "stderr",
     "output_type": "stream",
     "text": [
      " 48%|████▊     | 240/500 [47:01<1:04:13, 14.82s/it]"
     ]
    },
    {
     "name": "stdout",
     "output_type": "stream",
     "text": [
      "239\n"
     ]
    },
    {
     "name": "stderr",
     "output_type": "stream",
     "text": [
      " 48%|████▊     | 241/500 [47:17<1:05:16, 15.12s/it]"
     ]
    },
    {
     "name": "stdout",
     "output_type": "stream",
     "text": [
      "240\n"
     ]
    },
    {
     "name": "stderr",
     "output_type": "stream",
     "text": [
      " 48%|████▊     | 242/500 [47:22<52:36, 12.23s/it]  "
     ]
    },
    {
     "name": "stdout",
     "output_type": "stream",
     "text": [
      "241\n"
     ]
    },
    {
     "name": "stderr",
     "output_type": "stream",
     "text": [
      " 49%|████▊     | 243/500 [47:31<47:44, 11.15s/it]"
     ]
    },
    {
     "name": "stdout",
     "output_type": "stream",
     "text": [
      "242\n"
     ]
    },
    {
     "name": "stderr",
     "output_type": "stream",
     "text": [
      " 49%|████▉     | 244/500 [47:40<45:50, 10.74s/it]"
     ]
    },
    {
     "name": "stdout",
     "output_type": "stream",
     "text": [
      "243\n"
     ]
    },
    {
     "name": "stderr",
     "output_type": "stream",
     "text": [
      " 49%|████▉     | 245/500 [47:49<43:23, 10.21s/it]"
     ]
    },
    {
     "name": "stdout",
     "output_type": "stream",
     "text": [
      "244\n"
     ]
    },
    {
     "name": "stderr",
     "output_type": "stream",
     "text": [
      " 49%|████▉     | 246/500 [47:59<41:51,  9.89s/it]"
     ]
    },
    {
     "name": "stdout",
     "output_type": "stream",
     "text": [
      "245\n"
     ]
    },
    {
     "name": "stderr",
     "output_type": "stream",
     "text": [
      " 49%|████▉     | 247/500 [48:09<42:13, 10.01s/it]"
     ]
    },
    {
     "name": "stdout",
     "output_type": "stream",
     "text": [
      "246\n"
     ]
    },
    {
     "name": "stderr",
     "output_type": "stream",
     "text": [
      " 50%|████▉     | 248/500 [48:14<36:32,  8.70s/it]"
     ]
    },
    {
     "name": "stdout",
     "output_type": "stream",
     "text": [
      "247\n"
     ]
    },
    {
     "name": "stderr",
     "output_type": "stream",
     "text": [
      " 50%|████▉     | 249/500 [48:34<50:23, 12.04s/it]"
     ]
    },
    {
     "name": "stdout",
     "output_type": "stream",
     "text": [
      "248\n"
     ]
    },
    {
     "name": "stderr",
     "output_type": "stream",
     "text": [
      " 50%|█████     | 250/500 [49:05<1:13:51, 17.73s/it]"
     ]
    },
    {
     "name": "stdout",
     "output_type": "stream",
     "text": [
      "249\n"
     ]
    },
    {
     "name": "stderr",
     "output_type": "stream",
     "text": [
      " 50%|█████     | 251/500 [49:15<1:03:04, 15.20s/it]"
     ]
    },
    {
     "name": "stdout",
     "output_type": "stream",
     "text": [
      "250\n"
     ]
    },
    {
     "name": "stderr",
     "output_type": "stream",
     "text": [
      " 50%|█████     | 252/500 [49:23<54:43, 13.24s/it]  "
     ]
    },
    {
     "name": "stdout",
     "output_type": "stream",
     "text": [
      "251\n"
     ]
    },
    {
     "name": "stderr",
     "output_type": "stream",
     "text": [
      " 51%|█████     | 253/500 [49:35<52:50, 12.84s/it]"
     ]
    },
    {
     "name": "stdout",
     "output_type": "stream",
     "text": [
      "252\n"
     ]
    },
    {
     "name": "stderr",
     "output_type": "stream",
     "text": [
      " 51%|█████     | 254/500 [49:43<46:39, 11.38s/it]"
     ]
    },
    {
     "name": "stdout",
     "output_type": "stream",
     "text": [
      "253\n"
     ]
    },
    {
     "name": "stderr",
     "output_type": "stream",
     "text": [
      " 51%|█████     | 255/500 [49:52<43:22, 10.62s/it]"
     ]
    },
    {
     "name": "stdout",
     "output_type": "stream",
     "text": [
      "254\n"
     ]
    },
    {
     "name": "stderr",
     "output_type": "stream",
     "text": [
      " 51%|█████     | 256/500 [49:58<37:15,  9.16s/it]"
     ]
    },
    {
     "name": "stdout",
     "output_type": "stream",
     "text": [
      "255\n"
     ]
    },
    {
     "name": "stderr",
     "output_type": "stream",
     "text": [
      " 51%|█████▏    | 257/500 [50:07<37:33,  9.28s/it]"
     ]
    },
    {
     "name": "stdout",
     "output_type": "stream",
     "text": [
      "256\n"
     ]
    },
    {
     "name": "stderr",
     "output_type": "stream",
     "text": [
      " 52%|█████▏    | 258/500 [50:18<38:48,  9.62s/it]"
     ]
    },
    {
     "name": "stdout",
     "output_type": "stream",
     "text": [
      "257\n"
     ]
    },
    {
     "name": "stderr",
     "output_type": "stream",
     "text": [
      " 52%|█████▏    | 259/500 [50:28<39:32,  9.84s/it]"
     ]
    },
    {
     "name": "stdout",
     "output_type": "stream",
     "text": [
      "258\n"
     ]
    },
    {
     "name": "stderr",
     "output_type": "stream",
     "text": [
      " 52%|█████▏    | 260/500 [50:38<39:02,  9.76s/it]"
     ]
    },
    {
     "name": "stdout",
     "output_type": "stream",
     "text": [
      "259\n"
     ]
    },
    {
     "name": "stderr",
     "output_type": "stream",
     "text": [
      " 52%|█████▏    | 261/500 [50:50<41:53, 10.52s/it]"
     ]
    },
    {
     "name": "stdout",
     "output_type": "stream",
     "text": [
      "260\n"
     ]
    },
    {
     "name": "stderr",
     "output_type": "stream",
     "text": [
      " 52%|█████▏    | 262/500 [50:59<40:03, 10.10s/it]"
     ]
    },
    {
     "name": "stdout",
     "output_type": "stream",
     "text": [
      "261\n"
     ]
    },
    {
     "name": "stderr",
     "output_type": "stream",
     "text": [
      " 53%|█████▎    | 263/500 [51:10<40:19, 10.21s/it]"
     ]
    },
    {
     "name": "stdout",
     "output_type": "stream",
     "text": [
      "262\n"
     ]
    },
    {
     "name": "stderr",
     "output_type": "stream",
     "text": [
      " 53%|█████▎    | 264/500 [51:19<39:38, 10.08s/it]"
     ]
    },
    {
     "name": "stdout",
     "output_type": "stream",
     "text": [
      "263\n"
     ]
    },
    {
     "name": "stderr",
     "output_type": "stream",
     "text": [
      " 53%|█████▎    | 265/500 [51:28<38:01,  9.71s/it]"
     ]
    },
    {
     "name": "stdout",
     "output_type": "stream",
     "text": [
      "264\n"
     ]
    },
    {
     "name": "stderr",
     "output_type": "stream",
     "text": [
      " 53%|█████▎    | 266/500 [51:37<36:32,  9.37s/it]"
     ]
    },
    {
     "name": "stdout",
     "output_type": "stream",
     "text": [
      "265\n"
     ]
    },
    {
     "name": "stderr",
     "output_type": "stream",
     "text": [
      " 53%|█████▎    | 267/500 [51:45<35:23,  9.11s/it]"
     ]
    },
    {
     "name": "stdout",
     "output_type": "stream",
     "text": [
      "266\n"
     ]
    },
    {
     "name": "stderr",
     "output_type": "stream",
     "text": [
      " 54%|█████▎    | 268/500 [51:51<31:12,  8.07s/it]"
     ]
    },
    {
     "name": "stdout",
     "output_type": "stream",
     "text": [
      "267\n"
     ]
    },
    {
     "name": "stderr",
     "output_type": "stream",
     "text": [
      " 54%|█████▍    | 269/500 [52:06<39:03, 10.15s/it]"
     ]
    },
    {
     "name": "stdout",
     "output_type": "stream",
     "text": [
      "268\n"
     ]
    },
    {
     "name": "stderr",
     "output_type": "stream",
     "text": [
      " 54%|█████▍    | 270/500 [52:15<37:31,  9.79s/it]"
     ]
    },
    {
     "name": "stdout",
     "output_type": "stream",
     "text": [
      "269\n"
     ]
    },
    {
     "name": "stderr",
     "output_type": "stream",
     "text": [
      " 54%|█████▍    | 271/500 [52:26<39:03, 10.24s/it]"
     ]
    },
    {
     "name": "stdout",
     "output_type": "stream",
     "text": [
      "270\n"
     ]
    },
    {
     "name": "stderr",
     "output_type": "stream",
     "text": [
      " 54%|█████▍    | 272/500 [52:37<39:29, 10.39s/it]"
     ]
    },
    {
     "name": "stdout",
     "output_type": "stream",
     "text": [
      "271\n"
     ]
    },
    {
     "name": "stderr",
     "output_type": "stream",
     "text": [
      " 55%|█████▍    | 273/500 [52:50<42:32, 11.25s/it]"
     ]
    },
    {
     "name": "stdout",
     "output_type": "stream",
     "text": [
      "272\n"
     ]
    },
    {
     "name": "stderr",
     "output_type": "stream",
     "text": [
      " 55%|█████▍    | 274/500 [52:59<39:46, 10.56s/it]"
     ]
    },
    {
     "name": "stdout",
     "output_type": "stream",
     "text": [
      "273\n"
     ]
    },
    {
     "name": "stderr",
     "output_type": "stream",
     "text": [
      " 55%|█████▌    | 275/500 [53:09<38:21, 10.23s/it]"
     ]
    },
    {
     "name": "stdout",
     "output_type": "stream",
     "text": [
      "274\n"
     ]
    },
    {
     "name": "stderr",
     "output_type": "stream",
     "text": [
      " 55%|█████▌    | 276/500 [53:15<34:17,  9.19s/it]"
     ]
    },
    {
     "name": "stdout",
     "output_type": "stream",
     "text": [
      "275\n"
     ]
    },
    {
     "name": "stderr",
     "output_type": "stream",
     "text": [
      " 55%|█████▌    | 277/500 [53:26<36:06,  9.71s/it]"
     ]
    },
    {
     "name": "stdout",
     "output_type": "stream",
     "text": [
      "276\n"
     ]
    },
    {
     "name": "stderr",
     "output_type": "stream",
     "text": [
      " 56%|█████▌    | 278/500 [53:35<35:08,  9.50s/it]"
     ]
    },
    {
     "name": "stdout",
     "output_type": "stream",
     "text": [
      "277\n"
     ]
    },
    {
     "name": "stderr",
     "output_type": "stream",
     "text": [
      " 56%|█████▌    | 279/500 [53:46<36:02,  9.79s/it]"
     ]
    },
    {
     "name": "stdout",
     "output_type": "stream",
     "text": [
      "278\n"
     ]
    },
    {
     "name": "stderr",
     "output_type": "stream",
     "text": [
      " 56%|█████▌    | 280/500 [53:54<34:45,  9.48s/it]"
     ]
    },
    {
     "name": "stdout",
     "output_type": "stream",
     "text": [
      "279\n"
     ]
    },
    {
     "name": "stderr",
     "output_type": "stream",
     "text": [
      " 56%|█████▌    | 281/500 [54:03<34:07,  9.35s/it]"
     ]
    },
    {
     "name": "stdout",
     "output_type": "stream",
     "text": [
      "280\n"
     ]
    },
    {
     "name": "stderr",
     "output_type": "stream",
     "text": [
      " 56%|█████▋    | 282/500 [54:12<33:07,  9.12s/it]"
     ]
    },
    {
     "name": "stdout",
     "output_type": "stream",
     "text": [
      "281\n"
     ]
    },
    {
     "name": "stderr",
     "output_type": "stream",
     "text": [
      " 57%|█████▋    | 283/500 [54:22<34:12,  9.46s/it]"
     ]
    },
    {
     "name": "stdout",
     "output_type": "stream",
     "text": [
      "282\n"
     ]
    },
    {
     "name": "stderr",
     "output_type": "stream",
     "text": [
      " 57%|█████▋    | 284/500 [54:31<32:44,  9.10s/it]"
     ]
    },
    {
     "name": "stdout",
     "output_type": "stream",
     "text": [
      "283\n"
     ]
    },
    {
     "name": "stderr",
     "output_type": "stream",
     "text": [
      " 57%|█████▋    | 285/500 [54:41<33:56,  9.47s/it]"
     ]
    },
    {
     "name": "stdout",
     "output_type": "stream",
     "text": [
      "284\n"
     ]
    },
    {
     "name": "stderr",
     "output_type": "stream",
     "text": [
      " 57%|█████▋    | 286/500 [54:53<36:42, 10.29s/it]"
     ]
    },
    {
     "name": "stdout",
     "output_type": "stream",
     "text": [
      "285\n"
     ]
    },
    {
     "name": "stderr",
     "output_type": "stream",
     "text": [
      " 57%|█████▋    | 287/500 [55:03<36:30, 10.28s/it]"
     ]
    },
    {
     "name": "stdout",
     "output_type": "stream",
     "text": [
      "286\n"
     ]
    },
    {
     "name": "stderr",
     "output_type": "stream",
     "text": [
      " 58%|█████▊    | 288/500 [55:15<37:53, 10.72s/it]"
     ]
    },
    {
     "name": "stdout",
     "output_type": "stream",
     "text": [
      "287\n"
     ]
    },
    {
     "name": "stderr",
     "output_type": "stream",
     "text": [
      " 58%|█████▊    | 289/500 [55:24<35:48, 10.18s/it]"
     ]
    },
    {
     "name": "stdout",
     "output_type": "stream",
     "text": [
      "288\n"
     ]
    },
    {
     "name": "stderr",
     "output_type": "stream",
     "text": [
      " 58%|█████▊    | 290/500 [55:31<32:03,  9.16s/it]"
     ]
    },
    {
     "name": "stdout",
     "output_type": "stream",
     "text": [
      "289\n"
     ]
    },
    {
     "name": "stderr",
     "output_type": "stream",
     "text": [
      " 58%|█████▊    | 291/500 [55:39<30:35,  8.78s/it]"
     ]
    },
    {
     "name": "stdout",
     "output_type": "stream",
     "text": [
      "290\n"
     ]
    },
    {
     "name": "stderr",
     "output_type": "stream",
     "text": [
      " 58%|█████▊    | 292/500 [55:49<32:08,  9.27s/it]"
     ]
    },
    {
     "name": "stdout",
     "output_type": "stream",
     "text": [
      "291\n"
     ]
    },
    {
     "name": "stderr",
     "output_type": "stream",
     "text": [
      " 59%|█████▊    | 293/500 [56:04<38:01, 11.02s/it]"
     ]
    },
    {
     "name": "stdout",
     "output_type": "stream",
     "text": [
      "292\n"
     ]
    },
    {
     "name": "stderr",
     "output_type": "stream",
     "text": [
      " 59%|█████▉    | 294/500 [56:15<37:45, 11.00s/it]"
     ]
    },
    {
     "name": "stdout",
     "output_type": "stream",
     "text": [
      "293\n"
     ]
    },
    {
     "name": "stderr",
     "output_type": "stream",
     "text": [
      " 59%|█████▉    | 295/500 [56:21<31:53,  9.33s/it]"
     ]
    },
    {
     "name": "stdout",
     "output_type": "stream",
     "text": [
      "294\n"
     ]
    },
    {
     "name": "stderr",
     "output_type": "stream",
     "text": [
      " 59%|█████▉    | 296/500 [56:29<31:10,  9.17s/it]"
     ]
    },
    {
     "name": "stdout",
     "output_type": "stream",
     "text": [
      "295\n"
     ]
    },
    {
     "name": "stderr",
     "output_type": "stream",
     "text": [
      " 59%|█████▉    | 297/500 [56:39<31:54,  9.43s/it]"
     ]
    },
    {
     "name": "stdout",
     "output_type": "stream",
     "text": [
      "296\n"
     ]
    },
    {
     "name": "stderr",
     "output_type": "stream",
     "text": [
      " 60%|█████▉    | 298/500 [56:48<31:11,  9.26s/it]"
     ]
    },
    {
     "name": "stdout",
     "output_type": "stream",
     "text": [
      "297\n"
     ]
    },
    {
     "name": "stderr",
     "output_type": "stream",
     "text": [
      " 60%|█████▉    | 299/500 [56:58<31:23,  9.37s/it]"
     ]
    },
    {
     "name": "stdout",
     "output_type": "stream",
     "text": [
      "298\n"
     ]
    },
    {
     "name": "stderr",
     "output_type": "stream",
     "text": [
      " 60%|██████    | 300/500 [57:08<31:31,  9.46s/it]"
     ]
    },
    {
     "name": "stdout",
     "output_type": "stream",
     "text": [
      "299\n"
     ]
    },
    {
     "name": "stderr",
     "output_type": "stream",
     "text": [
      " 60%|██████    | 301/500 [57:19<33:05,  9.98s/it]"
     ]
    },
    {
     "name": "stdout",
     "output_type": "stream",
     "text": [
      "300\n"
     ]
    },
    {
     "name": "stderr",
     "output_type": "stream",
     "text": [
      " 60%|██████    | 302/500 [57:24<28:04,  8.51s/it]"
     ]
    },
    {
     "name": "stdout",
     "output_type": "stream",
     "text": [
      "301\n"
     ]
    },
    {
     "name": "stderr",
     "output_type": "stream",
     "text": [
      " 61%|██████    | 303/500 [57:33<28:11,  8.59s/it]"
     ]
    },
    {
     "name": "stdout",
     "output_type": "stream",
     "text": [
      "302\n"
     ]
    },
    {
     "name": "stderr",
     "output_type": "stream",
     "text": [
      " 61%|██████    | 304/500 [57:44<30:16,  9.27s/it]"
     ]
    },
    {
     "name": "stdout",
     "output_type": "stream",
     "text": [
      "303\n"
     ]
    },
    {
     "name": "stderr",
     "output_type": "stream",
     "text": [
      " 61%|██████    | 305/500 [57:54<31:21,  9.65s/it]"
     ]
    },
    {
     "name": "stdout",
     "output_type": "stream",
     "text": [
      "304\n"
     ]
    },
    {
     "name": "stderr",
     "output_type": "stream",
     "text": [
      " 61%|██████    | 306/500 [58:12<38:48, 12.00s/it]"
     ]
    },
    {
     "name": "stdout",
     "output_type": "stream",
     "text": [
      "305\n"
     ]
    },
    {
     "name": "stderr",
     "output_type": "stream",
     "text": [
      " 61%|██████▏   | 307/500 [58:20<35:29, 11.03s/it]"
     ]
    },
    {
     "name": "stdout",
     "output_type": "stream",
     "text": [
      "306\n"
     ]
    },
    {
     "name": "stderr",
     "output_type": "stream",
     "text": [
      " 62%|██████▏   | 308/500 [58:26<30:13,  9.45s/it]"
     ]
    },
    {
     "name": "stdout",
     "output_type": "stream",
     "text": [
      "307\n"
     ]
    },
    {
     "name": "stderr",
     "output_type": "stream",
     "text": [
      " 62%|██████▏   | 309/500 [58:35<29:41,  9.33s/it]"
     ]
    },
    {
     "name": "stdout",
     "output_type": "stream",
     "text": [
      "308\n"
     ]
    },
    {
     "name": "stderr",
     "output_type": "stream",
     "text": [
      " 62%|██████▏   | 310/500 [58:44<28:50,  9.11s/it]"
     ]
    },
    {
     "name": "stdout",
     "output_type": "stream",
     "text": [
      "309\n"
     ]
    },
    {
     "name": "stderr",
     "output_type": "stream",
     "text": [
      " 62%|██████▏   | 311/500 [59:54<1:26:38, 27.51s/it]"
     ]
    },
    {
     "name": "stdout",
     "output_type": "stream",
     "text": [
      "310\n"
     ]
    },
    {
     "name": "stderr",
     "output_type": "stream",
     "text": [
      " 62%|██████▏   | 312/500 [1:00:07<1:11:58, 22.97s/it]"
     ]
    },
    {
     "name": "stdout",
     "output_type": "stream",
     "text": [
      "311\n"
     ]
    },
    {
     "name": "stderr",
     "output_type": "stream",
     "text": [
      " 63%|██████▎   | 313/500 [1:00:19<1:01:55, 19.87s/it]"
     ]
    },
    {
     "name": "stdout",
     "output_type": "stream",
     "text": [
      "312\n"
     ]
    },
    {
     "name": "stderr",
     "output_type": "stream",
     "text": [
      " 63%|██████▎   | 314/500 [1:00:34<57:15, 18.47s/it]  "
     ]
    },
    {
     "name": "stdout",
     "output_type": "stream",
     "text": [
      "313\n"
     ]
    },
    {
     "name": "stderr",
     "output_type": "stream",
     "text": [
      " 63%|██████▎   | 315/500 [1:00:44<48:51, 15.84s/it]"
     ]
    },
    {
     "name": "stdout",
     "output_type": "stream",
     "text": [
      "314\n"
     ]
    },
    {
     "name": "stderr",
     "output_type": "stream",
     "text": [
      " 63%|██████▎   | 316/500 [1:00:55<43:50, 14.30s/it]"
     ]
    },
    {
     "name": "stdout",
     "output_type": "stream",
     "text": [
      "315\n"
     ]
    },
    {
     "name": "stderr",
     "output_type": "stream",
     "text": [
      " 63%|██████▎   | 317/500 [1:01:00<35:03, 11.49s/it]"
     ]
    },
    {
     "name": "stdout",
     "output_type": "stream",
     "text": [
      "316\n"
     ]
    },
    {
     "name": "stderr",
     "output_type": "stream",
     "text": [
      " 64%|██████▎   | 318/500 [1:01:10<33:28, 11.04s/it]"
     ]
    },
    {
     "name": "stdout",
     "output_type": "stream",
     "text": [
      "317\n"
     ]
    },
    {
     "name": "stderr",
     "output_type": "stream",
     "text": [
      " 64%|██████▍   | 319/500 [1:01:19<31:53, 10.57s/it]"
     ]
    },
    {
     "name": "stdout",
     "output_type": "stream",
     "text": [
      "318\n"
     ]
    },
    {
     "name": "stderr",
     "output_type": "stream",
     "text": [
      " 64%|██████▍   | 320/500 [1:01:28<30:13, 10.07s/it]"
     ]
    },
    {
     "name": "stdout",
     "output_type": "stream",
     "text": [
      "319\n"
     ]
    },
    {
     "name": "stderr",
     "output_type": "stream",
     "text": [
      " 64%|██████▍   | 321/500 [1:01:36<27:53,  9.35s/it]"
     ]
    },
    {
     "name": "stdout",
     "output_type": "stream",
     "text": [
      "320\n"
     ]
    },
    {
     "name": "stderr",
     "output_type": "stream",
     "text": [
      " 64%|██████▍   | 322/500 [1:01:49<31:18, 10.55s/it]"
     ]
    },
    {
     "name": "stdout",
     "output_type": "stream",
     "text": [
      "321\n"
     ]
    },
    {
     "name": "stderr",
     "output_type": "stream",
     "text": [
      " 65%|██████▍   | 323/500 [1:01:57<29:04,  9.86s/it]"
     ]
    },
    {
     "name": "stdout",
     "output_type": "stream",
     "text": [
      "322\n"
     ]
    },
    {
     "name": "stderr",
     "output_type": "stream",
     "text": [
      " 65%|██████▍   | 324/500 [1:02:06<27:44,  9.46s/it]"
     ]
    },
    {
     "name": "stdout",
     "output_type": "stream",
     "text": [
      "323\n"
     ]
    },
    {
     "name": "stderr",
     "output_type": "stream",
     "text": [
      " 65%|██████▌   | 325/500 [1:02:18<29:57, 10.27s/it]"
     ]
    },
    {
     "name": "stdout",
     "output_type": "stream",
     "text": [
      "324\n"
     ]
    },
    {
     "name": "stderr",
     "output_type": "stream",
     "text": [
      " 65%|██████▌   | 326/500 [1:02:29<30:20, 10.46s/it]"
     ]
    },
    {
     "name": "stdout",
     "output_type": "stream",
     "text": [
      "325\n"
     ]
    },
    {
     "name": "stderr",
     "output_type": "stream",
     "text": [
      " 65%|██████▌   | 327/500 [1:02:37<28:21,  9.84s/it]"
     ]
    },
    {
     "name": "stdout",
     "output_type": "stream",
     "text": [
      "326\n"
     ]
    },
    {
     "name": "stderr",
     "output_type": "stream",
     "text": [
      " 66%|██████▌   | 328/500 [1:02:45<26:04,  9.10s/it]"
     ]
    },
    {
     "name": "stdout",
     "output_type": "stream",
     "text": [
      "327\n"
     ]
    },
    {
     "name": "stderr",
     "output_type": "stream",
     "text": [
      " 66%|██████▌   | 329/500 [1:02:52<24:07,  8.46s/it]"
     ]
    },
    {
     "name": "stdout",
     "output_type": "stream",
     "text": [
      "328\n"
     ]
    },
    {
     "name": "stderr",
     "output_type": "stream",
     "text": [
      " 66%|██████▌   | 330/500 [1:03:02<25:49,  9.11s/it]"
     ]
    },
    {
     "name": "stdout",
     "output_type": "stream",
     "text": [
      "329\n"
     ]
    },
    {
     "name": "stderr",
     "output_type": "stream",
     "text": [
      " 66%|██████▌   | 331/500 [1:03:13<26:58,  9.58s/it]"
     ]
    },
    {
     "name": "stdout",
     "output_type": "stream",
     "text": [
      "330\n"
     ]
    },
    {
     "name": "stderr",
     "output_type": "stream",
     "text": [
      " 66%|██████▋   | 332/500 [1:03:23<27:08,  9.69s/it]"
     ]
    },
    {
     "name": "stdout",
     "output_type": "stream",
     "text": [
      "331\n"
     ]
    },
    {
     "name": "stderr",
     "output_type": "stream",
     "text": [
      " 67%|██████▋   | 333/500 [1:03:33<26:52,  9.66s/it]"
     ]
    },
    {
     "name": "stdout",
     "output_type": "stream",
     "text": [
      "332\n"
     ]
    },
    {
     "name": "stderr",
     "output_type": "stream",
     "text": [
      " 67%|██████▋   | 334/500 [1:03:42<26:32,  9.59s/it]"
     ]
    },
    {
     "name": "stdout",
     "output_type": "stream",
     "text": [
      "333\n"
     ]
    },
    {
     "name": "stderr",
     "output_type": "stream",
     "text": [
      " 67%|██████▋   | 335/500 [1:03:51<26:12,  9.53s/it]"
     ]
    },
    {
     "name": "stdout",
     "output_type": "stream",
     "text": [
      "334\n"
     ]
    },
    {
     "name": "stderr",
     "output_type": "stream",
     "text": [
      " 67%|██████▋   | 336/500 [1:04:02<27:08,  9.93s/it]"
     ]
    },
    {
     "name": "stdout",
     "output_type": "stream",
     "text": [
      "335\n"
     ]
    },
    {
     "name": "stderr",
     "output_type": "stream",
     "text": [
      " 67%|██████▋   | 337/500 [1:04:12<27:05,  9.97s/it]"
     ]
    },
    {
     "name": "stdout",
     "output_type": "stream",
     "text": [
      "336\n"
     ]
    },
    {
     "name": "stderr",
     "output_type": "stream",
     "text": [
      " 68%|██████▊   | 338/500 [1:04:23<27:16, 10.10s/it]"
     ]
    },
    {
     "name": "stdout",
     "output_type": "stream",
     "text": [
      "337\n"
     ]
    },
    {
     "name": "stderr",
     "output_type": "stream",
     "text": [
      " 68%|██████▊   | 339/500 [1:04:31<25:55,  9.66s/it]"
     ]
    },
    {
     "name": "stdout",
     "output_type": "stream",
     "text": [
      "338\n"
     ]
    },
    {
     "name": "stderr",
     "output_type": "stream",
     "text": [
      " 68%|██████▊   | 340/500 [1:04:40<25:22,  9.51s/it]"
     ]
    },
    {
     "name": "stdout",
     "output_type": "stream",
     "text": [
      "339\n"
     ]
    },
    {
     "name": "stderr",
     "output_type": "stream",
     "text": [
      " 68%|██████▊   | 341/500 [1:04:46<22:03,  8.32s/it]"
     ]
    },
    {
     "name": "stdout",
     "output_type": "stream",
     "text": [
      "340\n"
     ]
    },
    {
     "name": "stderr",
     "output_type": "stream",
     "text": [
      " 68%|██████▊   | 342/500 [1:04:55<22:34,  8.58s/it]"
     ]
    },
    {
     "name": "stdout",
     "output_type": "stream",
     "text": [
      "341\n"
     ]
    },
    {
     "name": "stderr",
     "output_type": "stream",
     "text": [
      " 69%|██████▊   | 343/500 [1:05:04<22:53,  8.75s/it]"
     ]
    },
    {
     "name": "stdout",
     "output_type": "stream",
     "text": [
      "342\n"
     ]
    },
    {
     "name": "stderr",
     "output_type": "stream",
     "text": [
      " 69%|██████▉   | 344/500 [1:05:14<23:20,  8.98s/it]"
     ]
    },
    {
     "name": "stdout",
     "output_type": "stream",
     "text": [
      "343\n"
     ]
    },
    {
     "name": "stderr",
     "output_type": "stream",
     "text": [
      " 69%|██████▉   | 345/500 [1:05:22<22:28,  8.70s/it]"
     ]
    },
    {
     "name": "stdout",
     "output_type": "stream",
     "text": [
      "344\n"
     ]
    },
    {
     "name": "stderr",
     "output_type": "stream",
     "text": [
      " 69%|██████▉   | 346/500 [1:05:27<19:36,  7.64s/it]"
     ]
    },
    {
     "name": "stdout",
     "output_type": "stream",
     "text": [
      "345\n"
     ]
    },
    {
     "name": "stderr",
     "output_type": "stream",
     "text": [
      " 69%|██████▉   | 347/500 [1:05:35<20:00,  7.85s/it]"
     ]
    },
    {
     "name": "stdout",
     "output_type": "stream",
     "text": [
      "346\n"
     ]
    },
    {
     "name": "stderr",
     "output_type": "stream",
     "text": [
      " 70%|██████▉   | 348/500 [1:05:45<21:18,  8.41s/it]"
     ]
    },
    {
     "name": "stdout",
     "output_type": "stream",
     "text": [
      "347\n"
     ]
    },
    {
     "name": "stderr",
     "output_type": "stream",
     "text": [
      " 70%|██████▉   | 349/500 [1:06:01<26:28, 10.52s/it]"
     ]
    },
    {
     "name": "stdout",
     "output_type": "stream",
     "text": [
      "348\n"
     ]
    },
    {
     "name": "stderr",
     "output_type": "stream",
     "text": [
      " 70%|███████   | 350/500 [1:06:08<23:59,  9.60s/it]"
     ]
    },
    {
     "name": "stdout",
     "output_type": "stream",
     "text": [
      "349\n"
     ]
    },
    {
     "name": "stderr",
     "output_type": "stream",
     "text": [
      " 70%|███████   | 351/500 [1:06:17<23:25,  9.43s/it]"
     ]
    },
    {
     "name": "stdout",
     "output_type": "stream",
     "text": [
      "350\n"
     ]
    },
    {
     "name": "stderr",
     "output_type": "stream",
     "text": [
      " 70%|███████   | 352/500 [1:06:26<23:02,  9.34s/it]"
     ]
    },
    {
     "name": "stdout",
     "output_type": "stream",
     "text": [
      "351\n"
     ]
    },
    {
     "name": "stderr",
     "output_type": "stream",
     "text": [
      " 71%|███████   | 353/500 [1:06:35<22:16,  9.09s/it]"
     ]
    },
    {
     "name": "stdout",
     "output_type": "stream",
     "text": [
      "352\n"
     ]
    },
    {
     "name": "stderr",
     "output_type": "stream",
     "text": [
      " 71%|███████   | 354/500 [1:06:40<19:04,  7.84s/it]"
     ]
    },
    {
     "name": "stdout",
     "output_type": "stream",
     "text": [
      "353\n"
     ]
    },
    {
     "name": "stderr",
     "output_type": "stream",
     "text": [
      " 71%|███████   | 355/500 [1:06:47<18:51,  7.81s/it]"
     ]
    },
    {
     "name": "stdout",
     "output_type": "stream",
     "text": [
      "354\n"
     ]
    },
    {
     "name": "stderr",
     "output_type": "stream",
     "text": [
      " 71%|███████   | 356/500 [1:06:56<19:19,  8.05s/it]"
     ]
    },
    {
     "name": "stdout",
     "output_type": "stream",
     "text": [
      "355\n"
     ]
    },
    {
     "name": "stderr",
     "output_type": "stream",
     "text": [
      " 71%|███████▏  | 357/500 [1:07:05<19:33,  8.21s/it]"
     ]
    },
    {
     "name": "stdout",
     "output_type": "stream",
     "text": [
      "356\n"
     ]
    },
    {
     "name": "stderr",
     "output_type": "stream",
     "text": [
      " 72%|███████▏  | 358/500 [1:07:10<17:25,  7.36s/it]"
     ]
    },
    {
     "name": "stdout",
     "output_type": "stream",
     "text": [
      "357\n"
     ]
    },
    {
     "name": "stderr",
     "output_type": "stream",
     "text": [
      " 72%|███████▏  | 359/500 [1:07:20<18:52,  8.03s/it]"
     ]
    },
    {
     "name": "stdout",
     "output_type": "stream",
     "text": [
      "358\n"
     ]
    },
    {
     "name": "stderr",
     "output_type": "stream",
     "text": [
      " 72%|███████▏  | 360/500 [1:07:29<19:55,  8.54s/it]"
     ]
    },
    {
     "name": "stdout",
     "output_type": "stream",
     "text": [
      "359\n"
     ]
    },
    {
     "name": "stderr",
     "output_type": "stream",
     "text": [
      " 72%|███████▏  | 361/500 [1:07:38<20:01,  8.65s/it]"
     ]
    },
    {
     "name": "stdout",
     "output_type": "stream",
     "text": [
      "360\n"
     ]
    },
    {
     "name": "stderr",
     "output_type": "stream",
     "text": [
      " 72%|███████▏  | 362/500 [1:07:48<20:41,  9.00s/it]"
     ]
    },
    {
     "name": "stdout",
     "output_type": "stream",
     "text": [
      "361\n"
     ]
    },
    {
     "name": "stderr",
     "output_type": "stream",
     "text": [
      " 73%|███████▎  | 363/500 [1:07:56<20:00,  8.76s/it]"
     ]
    },
    {
     "name": "stdout",
     "output_type": "stream",
     "text": [
      "362\n"
     ]
    },
    {
     "name": "stderr",
     "output_type": "stream",
     "text": [
      " 73%|███████▎  | 364/500 [1:08:10<23:10, 10.23s/it]"
     ]
    },
    {
     "name": "stdout",
     "output_type": "stream",
     "text": [
      "363\n"
     ]
    },
    {
     "name": "stderr",
     "output_type": "stream",
     "text": [
      " 73%|███████▎  | 365/500 [1:08:19<22:24,  9.96s/it]"
     ]
    },
    {
     "name": "stdout",
     "output_type": "stream",
     "text": [
      "364\n"
     ]
    },
    {
     "name": "stderr",
     "output_type": "stream",
     "text": [
      " 73%|███████▎  | 366/500 [1:08:29<22:24, 10.04s/it]"
     ]
    },
    {
     "name": "stdout",
     "output_type": "stream",
     "text": [
      "365\n"
     ]
    },
    {
     "name": "stderr",
     "output_type": "stream",
     "text": [
      " 73%|███████▎  | 367/500 [1:08:39<22:18, 10.06s/it]"
     ]
    },
    {
     "name": "stdout",
     "output_type": "stream",
     "text": [
      "366\n"
     ]
    },
    {
     "name": "stderr",
     "output_type": "stream",
     "text": [
      " 74%|███████▎  | 368/500 [1:08:49<22:04, 10.03s/it]"
     ]
    },
    {
     "name": "stdout",
     "output_type": "stream",
     "text": [
      "367\n"
     ]
    },
    {
     "name": "stderr",
     "output_type": "stream",
     "text": [
      " 74%|███████▍  | 369/500 [1:08:58<21:10,  9.70s/it]"
     ]
    },
    {
     "name": "stdout",
     "output_type": "stream",
     "text": [
      "368\n"
     ]
    },
    {
     "name": "stderr",
     "output_type": "stream",
     "text": [
      " 74%|███████▍  | 370/500 [1:09:06<19:40,  9.08s/it]"
     ]
    },
    {
     "name": "stdout",
     "output_type": "stream",
     "text": [
      "369\n"
     ]
    },
    {
     "name": "stderr",
     "output_type": "stream",
     "text": [
      " 74%|███████▍  | 371/500 [1:09:16<19:51,  9.23s/it]"
     ]
    },
    {
     "name": "stdout",
     "output_type": "stream",
     "text": [
      "370\n"
     ]
    },
    {
     "name": "stderr",
     "output_type": "stream",
     "text": [
      " 74%|███████▍  | 372/500 [1:09:30<23:11, 10.87s/it]"
     ]
    },
    {
     "name": "stdout",
     "output_type": "stream",
     "text": [
      "371\n"
     ]
    },
    {
     "name": "stderr",
     "output_type": "stream",
     "text": [
      " 75%|███████▍  | 373/500 [1:09:39<21:35, 10.20s/it]"
     ]
    },
    {
     "name": "stdout",
     "output_type": "stream",
     "text": [
      "372\n"
     ]
    },
    {
     "name": "stderr",
     "output_type": "stream",
     "text": [
      " 75%|███████▍  | 374/500 [1:09:45<18:48,  8.96s/it]"
     ]
    },
    {
     "name": "stdout",
     "output_type": "stream",
     "text": [
      "373\n"
     ]
    },
    {
     "name": "stderr",
     "output_type": "stream",
     "text": [
      " 75%|███████▌  | 375/500 [1:09:54<18:44,  8.99s/it]"
     ]
    },
    {
     "name": "stdout",
     "output_type": "stream",
     "text": [
      "374\n"
     ]
    },
    {
     "name": "stderr",
     "output_type": "stream",
     "text": [
      " 75%|███████▌  | 376/500 [1:10:05<19:59,  9.67s/it]"
     ]
    },
    {
     "name": "stdout",
     "output_type": "stream",
     "text": [
      "375\n"
     ]
    },
    {
     "name": "stderr",
     "output_type": "stream",
     "text": [
      " 75%|███████▌  | 377/500 [1:10:15<19:47,  9.65s/it]"
     ]
    },
    {
     "name": "stdout",
     "output_type": "stream",
     "text": [
      "376\n"
     ]
    },
    {
     "name": "stderr",
     "output_type": "stream",
     "text": [
      " 76%|███████▌  | 378/500 [1:10:24<19:33,  9.62s/it]"
     ]
    },
    {
     "name": "stdout",
     "output_type": "stream",
     "text": [
      "377\n"
     ]
    },
    {
     "name": "stderr",
     "output_type": "stream",
     "text": [
      " 76%|███████▌  | 379/500 [1:10:34<19:33,  9.69s/it]"
     ]
    },
    {
     "name": "stdout",
     "output_type": "stream",
     "text": [
      "378\n"
     ]
    },
    {
     "name": "stderr",
     "output_type": "stream",
     "text": [
      " 76%|███████▌  | 380/500 [1:10:43<18:57,  9.48s/it]"
     ]
    },
    {
     "name": "stdout",
     "output_type": "stream",
     "text": [
      "379\n"
     ]
    },
    {
     "name": "stderr",
     "output_type": "stream",
     "text": [
      " 76%|███████▌  | 381/500 [1:10:52<18:37,  9.39s/it]"
     ]
    },
    {
     "name": "stdout",
     "output_type": "stream",
     "text": [
      "380\n"
     ]
    },
    {
     "name": "stderr",
     "output_type": "stream",
     "text": [
      " 76%|███████▋  | 382/500 [1:11:00<17:29,  8.90s/it]"
     ]
    },
    {
     "name": "stdout",
     "output_type": "stream",
     "text": [
      "381\n"
     ]
    },
    {
     "name": "stderr",
     "output_type": "stream",
     "text": [
      " 77%|███████▋  | 383/500 [1:11:12<18:45,  9.62s/it]"
     ]
    },
    {
     "name": "stdout",
     "output_type": "stream",
     "text": [
      "382\n"
     ]
    },
    {
     "name": "stderr",
     "output_type": "stream",
     "text": [
      " 77%|███████▋  | 384/500 [1:11:23<19:36, 10.14s/it]"
     ]
    },
    {
     "name": "stdout",
     "output_type": "stream",
     "text": [
      "383\n"
     ]
    },
    {
     "name": "stderr",
     "output_type": "stream",
     "text": [
      " 77%|███████▋  | 385/500 [1:11:29<17:02,  8.89s/it]"
     ]
    },
    {
     "name": "stdout",
     "output_type": "stream",
     "text": [
      "384\n"
     ]
    },
    {
     "name": "stderr",
     "output_type": "stream",
     "text": [
      " 77%|███████▋  | 386/500 [1:11:38<17:14,  9.08s/it]"
     ]
    },
    {
     "name": "stdout",
     "output_type": "stream",
     "text": [
      "385\n"
     ]
    },
    {
     "name": "stderr",
     "output_type": "stream",
     "text": [
      " 77%|███████▋  | 387/500 [1:11:49<18:02,  9.58s/it]"
     ]
    },
    {
     "name": "stdout",
     "output_type": "stream",
     "text": [
      "386\n"
     ]
    },
    {
     "name": "stderr",
     "output_type": "stream",
     "text": [
      " 78%|███████▊  | 388/500 [1:11:59<17:58,  9.63s/it]"
     ]
    },
    {
     "name": "stdout",
     "output_type": "stream",
     "text": [
      "387\n"
     ]
    },
    {
     "name": "stderr",
     "output_type": "stream",
     "text": [
      " 78%|███████▊  | 389/500 [1:12:08<17:29,  9.46s/it]"
     ]
    },
    {
     "name": "stdout",
     "output_type": "stream",
     "text": [
      "388\n"
     ]
    },
    {
     "name": "stderr",
     "output_type": "stream",
     "text": [
      " 78%|███████▊  | 390/500 [1:12:17<16:51,  9.19s/it]"
     ]
    },
    {
     "name": "stdout",
     "output_type": "stream",
     "text": [
      "389\n"
     ]
    },
    {
     "name": "stderr",
     "output_type": "stream",
     "text": [
      " 78%|███████▊  | 391/500 [1:12:29<18:17, 10.07s/it]"
     ]
    },
    {
     "name": "stdout",
     "output_type": "stream",
     "text": [
      "390\n"
     ]
    },
    {
     "name": "stderr",
     "output_type": "stream",
     "text": [
      " 78%|███████▊  | 392/500 [1:12:44<21:05, 11.72s/it]"
     ]
    },
    {
     "name": "stdout",
     "output_type": "stream",
     "text": [
      "391\n"
     ]
    },
    {
     "name": "stderr",
     "output_type": "stream",
     "text": [
      " 79%|███████▊  | 393/500 [1:12:53<19:11, 10.76s/it]"
     ]
    },
    {
     "name": "stdout",
     "output_type": "stream",
     "text": [
      "392\n"
     ]
    },
    {
     "name": "stderr",
     "output_type": "stream",
     "text": [
      " 79%|███████▉  | 394/500 [1:13:01<17:42, 10.02s/it]"
     ]
    },
    {
     "name": "stdout",
     "output_type": "stream",
     "text": [
      "393\n"
     ]
    },
    {
     "name": "stderr",
     "output_type": "stream",
     "text": [
      " 79%|███████▉  | 395/500 [1:13:08<16:00,  9.14s/it]"
     ]
    },
    {
     "name": "stdout",
     "output_type": "stream",
     "text": [
      "394\n"
     ]
    },
    {
     "name": "stderr",
     "output_type": "stream",
     "text": [
      " 79%|███████▉  | 396/500 [1:13:20<17:22, 10.03s/it]"
     ]
    },
    {
     "name": "stdout",
     "output_type": "stream",
     "text": [
      "395\n"
     ]
    },
    {
     "name": "stderr",
     "output_type": "stream",
     "text": [
      " 79%|███████▉  | 397/500 [1:13:26<14:50,  8.65s/it]"
     ]
    },
    {
     "name": "stdout",
     "output_type": "stream",
     "text": [
      "396\n"
     ]
    },
    {
     "name": "stderr",
     "output_type": "stream",
     "text": [
      " 80%|███████▉  | 398/500 [1:13:33<14:12,  8.36s/it]"
     ]
    },
    {
     "name": "stdout",
     "output_type": "stream",
     "text": [
      "397\n"
     ]
    },
    {
     "name": "stderr",
     "output_type": "stream",
     "text": [
      " 80%|███████▉  | 399/500 [1:13:43<14:36,  8.68s/it]"
     ]
    },
    {
     "name": "stdout",
     "output_type": "stream",
     "text": [
      "398\n"
     ]
    },
    {
     "name": "stderr",
     "output_type": "stream",
     "text": [
      " 80%|████████  | 400/500 [1:13:52<14:51,  8.92s/it]"
     ]
    },
    {
     "name": "stdout",
     "output_type": "stream",
     "text": [
      "399\n"
     ]
    },
    {
     "name": "stderr",
     "output_type": "stream",
     "text": [
      " 80%|████████  | 401/500 [1:14:01<14:53,  9.03s/it]"
     ]
    },
    {
     "name": "stdout",
     "output_type": "stream",
     "text": [
      "400\n"
     ]
    },
    {
     "name": "stderr",
     "output_type": "stream",
     "text": [
      " 80%|████████  | 402/500 [1:14:08<13:37,  8.35s/it]"
     ]
    },
    {
     "name": "stdout",
     "output_type": "stream",
     "text": [
      "401\n"
     ]
    },
    {
     "name": "stderr",
     "output_type": "stream",
     "text": [
      " 81%|████████  | 403/500 [1:14:17<13:41,  8.47s/it]"
     ]
    },
    {
     "name": "stdout",
     "output_type": "stream",
     "text": [
      "402\n"
     ]
    },
    {
     "name": "stderr",
     "output_type": "stream",
     "text": [
      " 81%|████████  | 404/500 [1:14:26<13:46,  8.61s/it]"
     ]
    },
    {
     "name": "stdout",
     "output_type": "stream",
     "text": [
      "403\n"
     ]
    },
    {
     "name": "stderr",
     "output_type": "stream",
     "text": [
      " 81%|████████  | 405/500 [1:14:51<21:22, 13.50s/it]"
     ]
    },
    {
     "name": "stdout",
     "output_type": "stream",
     "text": [
      "404\n"
     ]
    },
    {
     "name": "stderr",
     "output_type": "stream",
     "text": [
      " 81%|████████  | 406/500 [1:15:00<18:59, 12.12s/it]"
     ]
    },
    {
     "name": "stdout",
     "output_type": "stream",
     "text": [
      "405\n"
     ]
    },
    {
     "name": "stderr",
     "output_type": "stream",
     "text": [
      " 81%|████████▏ | 407/500 [1:15:04<15:06,  9.75s/it]"
     ]
    },
    {
     "name": "stdout",
     "output_type": "stream",
     "text": [
      "406\n"
     ]
    },
    {
     "name": "stderr",
     "output_type": "stream",
     "text": [
      " 82%|████████▏ | 408/500 [1:15:13<14:39,  9.56s/it]"
     ]
    },
    {
     "name": "stdout",
     "output_type": "stream",
     "text": [
      "407\n"
     ]
    },
    {
     "name": "stderr",
     "output_type": "stream",
     "text": [
      " 82%|████████▏ | 409/500 [1:15:24<15:06,  9.96s/it]"
     ]
    },
    {
     "name": "stdout",
     "output_type": "stream",
     "text": [
      "408\n"
     ]
    },
    {
     "name": "stderr",
     "output_type": "stream",
     "text": [
      " 82%|████████▏ | 410/500 [1:15:33<14:29,  9.66s/it]"
     ]
    },
    {
     "name": "stdout",
     "output_type": "stream",
     "text": [
      "409\n"
     ]
    },
    {
     "name": "stderr",
     "output_type": "stream",
     "text": [
      " 82%|████████▏ | 411/500 [1:15:43<14:24,  9.72s/it]"
     ]
    },
    {
     "name": "stdout",
     "output_type": "stream",
     "text": [
      "410\n"
     ]
    },
    {
     "name": "stderr",
     "output_type": "stream",
     "text": [
      " 82%|████████▏ | 412/500 [1:15:53<14:29,  9.88s/it]"
     ]
    },
    {
     "name": "stdout",
     "output_type": "stream",
     "text": [
      "411\n"
     ]
    },
    {
     "name": "stderr",
     "output_type": "stream",
     "text": [
      " 83%|████████▎ | 413/500 [1:16:03<14:33, 10.04s/it]"
     ]
    },
    {
     "name": "stdout",
     "output_type": "stream",
     "text": [
      "412\n"
     ]
    },
    {
     "name": "stderr",
     "output_type": "stream",
     "text": [
      " 83%|████████▎ | 414/500 [1:16:14<14:41, 10.25s/it]"
     ]
    },
    {
     "name": "stdout",
     "output_type": "stream",
     "text": [
      "413\n"
     ]
    },
    {
     "name": "stderr",
     "output_type": "stream",
     "text": [
      " 83%|████████▎ | 415/500 [1:16:26<15:12, 10.73s/it]"
     ]
    },
    {
     "name": "stdout",
     "output_type": "stream",
     "text": [
      "414\n"
     ]
    },
    {
     "name": "stderr",
     "output_type": "stream",
     "text": [
      " 83%|████████▎ | 416/500 [1:16:41<16:48, 12.00s/it]"
     ]
    },
    {
     "name": "stdout",
     "output_type": "stream",
     "text": [
      "415\n"
     ]
    },
    {
     "name": "stderr",
     "output_type": "stream",
     "text": [
      " 83%|████████▎ | 417/500 [1:18:25<54:36, 39.48s/it]"
     ]
    },
    {
     "name": "stdout",
     "output_type": "stream",
     "text": [
      "416\n"
     ]
    },
    {
     "name": "stderr",
     "output_type": "stream",
     "text": [
      " 84%|████████▎ | 418/500 [1:18:33<41:22, 30.27s/it]"
     ]
    },
    {
     "name": "stdout",
     "output_type": "stream",
     "text": [
      "417\n"
     ]
    },
    {
     "name": "stderr",
     "output_type": "stream",
     "text": [
      " 84%|████████▍ | 419/500 [1:18:45<33:28, 24.79s/it]"
     ]
    },
    {
     "name": "stdout",
     "output_type": "stream",
     "text": [
      "418\n"
     ]
    },
    {
     "name": "stderr",
     "output_type": "stream",
     "text": [
      " 84%|████████▍ | 420/500 [1:18:57<27:43, 20.80s/it]"
     ]
    },
    {
     "name": "stdout",
     "output_type": "stream",
     "text": [
      "419\n"
     ]
    },
    {
     "name": "stderr",
     "output_type": "stream",
     "text": [
      " 84%|████████▍ | 421/500 [1:19:06<22:54, 17.39s/it]"
     ]
    },
    {
     "name": "stdout",
     "output_type": "stream",
     "text": [
      "420\n"
     ]
    },
    {
     "name": "stderr",
     "output_type": "stream",
     "text": [
      " 84%|████████▍ | 422/500 [1:19:16<19:46, 15.22s/it]"
     ]
    },
    {
     "name": "stdout",
     "output_type": "stream",
     "text": [
      "421\n"
     ]
    },
    {
     "name": "stderr",
     "output_type": "stream",
     "text": [
      " 85%|████████▍ | 423/500 [1:19:27<17:43, 13.81s/it]"
     ]
    },
    {
     "name": "stdout",
     "output_type": "stream",
     "text": [
      "422\n"
     ]
    },
    {
     "name": "stderr",
     "output_type": "stream",
     "text": [
      " 85%|████████▍ | 424/500 [1:19:37<15:57, 12.60s/it]"
     ]
    },
    {
     "name": "stdout",
     "output_type": "stream",
     "text": [
      "423\n"
     ]
    },
    {
     "name": "stderr",
     "output_type": "stream",
     "text": [
      " 85%|████████▌ | 425/500 [1:19:48<15:18, 12.24s/it]"
     ]
    },
    {
     "name": "stdout",
     "output_type": "stream",
     "text": [
      "424\n"
     ]
    },
    {
     "name": "stderr",
     "output_type": "stream",
     "text": [
      " 85%|████████▌ | 426/500 [1:19:58<14:02, 11.39s/it]"
     ]
    },
    {
     "name": "stdout",
     "output_type": "stream",
     "text": [
      "425\n"
     ]
    },
    {
     "name": "stderr",
     "output_type": "stream",
     "text": [
      " 85%|████████▌ | 427/500 [1:20:09<13:54, 11.43s/it]"
     ]
    },
    {
     "name": "stdout",
     "output_type": "stream",
     "text": [
      "426\n"
     ]
    },
    {
     "name": "stderr",
     "output_type": "stream",
     "text": [
      " 86%|████████▌ | 428/500 [1:20:19<13:04, 10.89s/it]"
     ]
    },
    {
     "name": "stdout",
     "output_type": "stream",
     "text": [
      "427\n"
     ]
    },
    {
     "name": "stderr",
     "output_type": "stream",
     "text": [
      " 86%|████████▌ | 429/500 [1:20:30<13:04, 11.04s/it]"
     ]
    },
    {
     "name": "stdout",
     "output_type": "stream",
     "text": [
      "428\n"
     ]
    },
    {
     "name": "stderr",
     "output_type": "stream",
     "text": [
      " 86%|████████▌ | 430/500 [1:20:51<16:24, 14.06s/it]"
     ]
    },
    {
     "name": "stdout",
     "output_type": "stream",
     "text": [
      "429\n"
     ]
    },
    {
     "name": "stderr",
     "output_type": "stream",
     "text": [
      " 86%|████████▌ | 431/500 [1:21:04<15:34, 13.55s/it]"
     ]
    },
    {
     "name": "stdout",
     "output_type": "stream",
     "text": [
      "430\n"
     ]
    },
    {
     "name": "stderr",
     "output_type": "stream",
     "text": [
      " 86%|████████▋ | 432/500 [1:21:17<15:14, 13.44s/it]"
     ]
    },
    {
     "name": "stdout",
     "output_type": "stream",
     "text": [
      "431\n"
     ]
    },
    {
     "name": "stderr",
     "output_type": "stream",
     "text": [
      " 87%|████████▋ | 433/500 [1:21:28<14:19, 12.83s/it]"
     ]
    },
    {
     "name": "stdout",
     "output_type": "stream",
     "text": [
      "432\n"
     ]
    },
    {
     "name": "stderr",
     "output_type": "stream",
     "text": [
      " 87%|████████▋ | 434/500 [1:21:38<13:06, 11.92s/it]"
     ]
    },
    {
     "name": "stdout",
     "output_type": "stream",
     "text": [
      "433\n"
     ]
    },
    {
     "name": "stderr",
     "output_type": "stream",
     "text": [
      " 87%|████████▋ | 435/500 [1:21:48<12:10, 11.24s/it]"
     ]
    },
    {
     "name": "stdout",
     "output_type": "stream",
     "text": [
      "434\n"
     ]
    },
    {
     "name": "stderr",
     "output_type": "stream",
     "text": [
      " 87%|████████▋ | 436/500 [1:21:59<11:54, 11.16s/it]"
     ]
    },
    {
     "name": "stdout",
     "output_type": "stream",
     "text": [
      "435\n"
     ]
    },
    {
     "name": "stderr",
     "output_type": "stream",
     "text": [
      " 87%|████████▋ | 437/500 [1:22:21<15:16, 14.55s/it]"
     ]
    },
    {
     "name": "stdout",
     "output_type": "stream",
     "text": [
      "436\n"
     ]
    },
    {
     "name": "stderr",
     "output_type": "stream",
     "text": [
      " 88%|████████▊ | 438/500 [1:22:32<13:50, 13.40s/it]"
     ]
    },
    {
     "name": "stdout",
     "output_type": "stream",
     "text": [
      "437\n"
     ]
    },
    {
     "name": "stderr",
     "output_type": "stream",
     "text": [
      " 88%|████████▊ | 439/500 [1:22:42<12:31, 12.32s/it]"
     ]
    },
    {
     "name": "stdout",
     "output_type": "stream",
     "text": [
      "438\n"
     ]
    },
    {
     "name": "stderr",
     "output_type": "stream",
     "text": [
      " 88%|████████▊ | 440/500 [1:23:00<14:11, 14.19s/it]"
     ]
    },
    {
     "name": "stdout",
     "output_type": "stream",
     "text": [
      "439\n"
     ]
    },
    {
     "name": "stderr",
     "output_type": "stream",
     "text": [
      " 88%|████████▊ | 441/500 [1:23:11<12:49, 13.04s/it]"
     ]
    },
    {
     "name": "stdout",
     "output_type": "stream",
     "text": [
      "440\n"
     ]
    },
    {
     "name": "stderr",
     "output_type": "stream",
     "text": [
      " 88%|████████▊ | 442/500 [1:23:18<11:03, 11.44s/it]"
     ]
    },
    {
     "name": "stdout",
     "output_type": "stream",
     "text": [
      "441\n"
     ]
    },
    {
     "name": "stderr",
     "output_type": "stream",
     "text": [
      " 89%|████████▊ | 443/500 [1:23:26<09:57, 10.49s/it]"
     ]
    },
    {
     "name": "stdout",
     "output_type": "stream",
     "text": [
      "442\n"
     ]
    },
    {
     "name": "stderr",
     "output_type": "stream",
     "text": [
      " 89%|████████▉ | 444/500 [1:23:35<09:16,  9.94s/it]"
     ]
    },
    {
     "name": "stdout",
     "output_type": "stream",
     "text": [
      "443\n"
     ]
    },
    {
     "name": "stderr",
     "output_type": "stream",
     "text": [
      " 89%|████████▉ | 445/500 [1:23:44<08:47,  9.60s/it]"
     ]
    },
    {
     "name": "stdout",
     "output_type": "stream",
     "text": [
      "444\n"
     ]
    },
    {
     "name": "stderr",
     "output_type": "stream",
     "text": [
      " 89%|████████▉ | 446/500 [1:23:54<08:49,  9.81s/it]"
     ]
    },
    {
     "name": "stdout",
     "output_type": "stream",
     "text": [
      "445\n"
     ]
    },
    {
     "name": "stderr",
     "output_type": "stream",
     "text": [
      " 89%|████████▉ | 447/500 [1:24:05<09:02, 10.24s/it]"
     ]
    },
    {
     "name": "stdout",
     "output_type": "stream",
     "text": [
      "446\n"
     ]
    },
    {
     "name": "stderr",
     "output_type": "stream",
     "text": [
      " 90%|████████▉ | 448/500 [1:24:15<08:39,  9.98s/it]"
     ]
    },
    {
     "name": "stdout",
     "output_type": "stream",
     "text": [
      "447\n"
     ]
    },
    {
     "name": "stderr",
     "output_type": "stream",
     "text": [
      " 90%|████████▉ | 449/500 [1:24:20<07:10,  8.43s/it]"
     ]
    },
    {
     "name": "stdout",
     "output_type": "stream",
     "text": [
      "448\n"
     ]
    },
    {
     "name": "stderr",
     "output_type": "stream",
     "text": [
      " 90%|█████████ | 450/500 [1:24:29<07:08,  8.57s/it]"
     ]
    },
    {
     "name": "stdout",
     "output_type": "stream",
     "text": [
      "449\n"
     ]
    },
    {
     "name": "stderr",
     "output_type": "stream",
     "text": [
      " 90%|█████████ | 451/500 [1:24:45<08:59, 11.00s/it]"
     ]
    },
    {
     "name": "stdout",
     "output_type": "stream",
     "text": [
      "450\n"
     ]
    },
    {
     "name": "stderr",
     "output_type": "stream",
     "text": [
      " 90%|█████████ | 452/500 [1:24:51<07:25,  9.29s/it]"
     ]
    },
    {
     "name": "stdout",
     "output_type": "stream",
     "text": [
      "451\n"
     ]
    },
    {
     "name": "stderr",
     "output_type": "stream",
     "text": [
      " 91%|█████████ | 453/500 [1:25:00<07:22,  9.40s/it]"
     ]
    },
    {
     "name": "stdout",
     "output_type": "stream",
     "text": [
      "452\n"
     ]
    },
    {
     "name": "stderr",
     "output_type": "stream",
     "text": [
      " 91%|█████████ | 454/500 [1:25:09<07:08,  9.31s/it]"
     ]
    },
    {
     "name": "stdout",
     "output_type": "stream",
     "text": [
      "453\n"
     ]
    },
    {
     "name": "stderr",
     "output_type": "stream",
     "text": [
      " 91%|█████████ | 455/500 [1:25:19<06:57,  9.28s/it]"
     ]
    },
    {
     "name": "stdout",
     "output_type": "stream",
     "text": [
      "454\n"
     ]
    },
    {
     "name": "stderr",
     "output_type": "stream",
     "text": [
      " 91%|█████████ | 456/500 [1:25:27<06:40,  9.10s/it]"
     ]
    },
    {
     "name": "stdout",
     "output_type": "stream",
     "text": [
      "455\n"
     ]
    },
    {
     "name": "stderr",
     "output_type": "stream",
     "text": [
      " 91%|█████████▏| 457/500 [1:25:32<05:33,  7.76s/it]"
     ]
    },
    {
     "name": "stdout",
     "output_type": "stream",
     "text": [
      "456\n"
     ]
    },
    {
     "name": "stderr",
     "output_type": "stream",
     "text": [
      " 92%|█████████▏| 458/500 [1:25:40<05:30,  7.87s/it]"
     ]
    },
    {
     "name": "stdout",
     "output_type": "stream",
     "text": [
      "457\n"
     ]
    },
    {
     "name": "stderr",
     "output_type": "stream",
     "text": [
      " 92%|█████████▏| 459/500 [1:25:49<05:32,  8.10s/it]"
     ]
    },
    {
     "name": "stdout",
     "output_type": "stream",
     "text": [
      "458\n"
     ]
    },
    {
     "name": "stderr",
     "output_type": "stream",
     "text": [
      " 92%|█████████▏| 460/500 [1:25:58<05:38,  8.45s/it]"
     ]
    },
    {
     "name": "stdout",
     "output_type": "stream",
     "text": [
      "459\n"
     ]
    },
    {
     "name": "stderr",
     "output_type": "stream",
     "text": [
      " 92%|█████████▏| 461/500 [1:26:03<04:47,  7.38s/it]"
     ]
    },
    {
     "name": "stdout",
     "output_type": "stream",
     "text": [
      "460\n"
     ]
    },
    {
     "name": "stderr",
     "output_type": "stream",
     "text": [
      " 92%|█████████▏| 462/500 [1:26:11<04:52,  7.70s/it]"
     ]
    },
    {
     "name": "stdout",
     "output_type": "stream",
     "text": [
      "461\n"
     ]
    },
    {
     "name": "stderr",
     "output_type": "stream",
     "text": [
      " 93%|█████████▎| 463/500 [1:26:20<04:53,  7.94s/it]"
     ]
    },
    {
     "name": "stdout",
     "output_type": "stream",
     "text": [
      "462\n"
     ]
    },
    {
     "name": "stderr",
     "output_type": "stream",
     "text": [
      " 93%|█████████▎| 464/500 [1:26:26<04:23,  7.32s/it]"
     ]
    },
    {
     "name": "stdout",
     "output_type": "stream",
     "text": [
      "463\n"
     ]
    },
    {
     "name": "stderr",
     "output_type": "stream",
     "text": [
      " 93%|█████████▎| 465/500 [1:26:36<04:45,  8.16s/it]"
     ]
    },
    {
     "name": "stdout",
     "output_type": "stream",
     "text": [
      "464\n"
     ]
    },
    {
     "name": "stderr",
     "output_type": "stream",
     "text": [
      " 93%|█████████▎| 466/500 [1:26:45<04:47,  8.44s/it]"
     ]
    },
    {
     "name": "stdout",
     "output_type": "stream",
     "text": [
      "465\n"
     ]
    },
    {
     "name": "stderr",
     "output_type": "stream",
     "text": [
      " 93%|█████████▎| 467/500 [1:26:54<04:46,  8.69s/it]"
     ]
    },
    {
     "name": "stdout",
     "output_type": "stream",
     "text": [
      "466\n"
     ]
    },
    {
     "name": "stderr",
     "output_type": "stream",
     "text": [
      " 94%|█████████▎| 468/500 [1:27:02<04:35,  8.60s/it]"
     ]
    },
    {
     "name": "stdout",
     "output_type": "stream",
     "text": [
      "467\n"
     ]
    },
    {
     "name": "stderr",
     "output_type": "stream",
     "text": [
      " 94%|█████████▍| 469/500 [1:27:12<04:35,  8.88s/it]"
     ]
    },
    {
     "name": "stdout",
     "output_type": "stream",
     "text": [
      "468\n"
     ]
    },
    {
     "name": "stderr",
     "output_type": "stream",
     "text": [
      " 94%|█████████▍| 470/500 [1:27:21<04:28,  8.94s/it]"
     ]
    },
    {
     "name": "stdout",
     "output_type": "stream",
     "text": [
      "469\n"
     ]
    },
    {
     "name": "stderr",
     "output_type": "stream",
     "text": [
      " 94%|█████████▍| 471/500 [1:27:26<03:45,  7.78s/it]"
     ]
    },
    {
     "name": "stdout",
     "output_type": "stream",
     "text": [
      "470\n"
     ]
    },
    {
     "name": "stderr",
     "output_type": "stream",
     "text": [
      " 94%|█████████▍| 472/500 [1:27:34<03:41,  7.91s/it]"
     ]
    },
    {
     "name": "stdout",
     "output_type": "stream",
     "text": [
      "471\n"
     ]
    },
    {
     "name": "stderr",
     "output_type": "stream",
     "text": [
      " 95%|█████████▍| 473/500 [1:27:43<03:38,  8.10s/it]"
     ]
    },
    {
     "name": "stdout",
     "output_type": "stream",
     "text": [
      "472\n"
     ]
    },
    {
     "name": "stderr",
     "output_type": "stream",
     "text": [
      " 95%|█████████▍| 474/500 [1:27:52<03:37,  8.37s/it]"
     ]
    },
    {
     "name": "stdout",
     "output_type": "stream",
     "text": [
      "473\n"
     ]
    },
    {
     "name": "stderr",
     "output_type": "stream",
     "text": [
      " 95%|█████████▌| 475/500 [1:27:57<03:05,  7.42s/it]"
     ]
    },
    {
     "name": "stdout",
     "output_type": "stream",
     "text": [
      "474\n"
     ]
    },
    {
     "name": "stderr",
     "output_type": "stream",
     "text": [
      " 95%|█████████▌| 476/500 [1:28:05<03:03,  7.66s/it]"
     ]
    },
    {
     "name": "stdout",
     "output_type": "stream",
     "text": [
      "475\n"
     ]
    },
    {
     "name": "stderr",
     "output_type": "stream",
     "text": [
      " 95%|█████████▌| 477/500 [1:28:15<03:11,  8.33s/it]"
     ]
    },
    {
     "name": "stdout",
     "output_type": "stream",
     "text": [
      "476\n"
     ]
    },
    {
     "name": "stderr",
     "output_type": "stream",
     "text": [
      " 96%|█████████▌| 478/500 [1:28:24<03:03,  8.34s/it]"
     ]
    },
    {
     "name": "stdout",
     "output_type": "stream",
     "text": [
      "477\n"
     ]
    },
    {
     "name": "stderr",
     "output_type": "stream",
     "text": [
      " 96%|█████████▌| 479/500 [1:28:30<02:43,  7.77s/it]"
     ]
    },
    {
     "name": "stdout",
     "output_type": "stream",
     "text": [
      "478\n"
     ]
    },
    {
     "name": "stderr",
     "output_type": "stream",
     "text": [
      " 96%|█████████▌| 480/500 [1:28:37<02:30,  7.54s/it]"
     ]
    },
    {
     "name": "stdout",
     "output_type": "stream",
     "text": [
      "479\n"
     ]
    },
    {
     "name": "stderr",
     "output_type": "stream",
     "text": [
      " 96%|█████████▌| 481/500 [1:28:47<02:35,  8.21s/it]"
     ]
    },
    {
     "name": "stdout",
     "output_type": "stream",
     "text": [
      "480\n"
     ]
    },
    {
     "name": "stderr",
     "output_type": "stream",
     "text": [
      " 96%|█████████▋| 482/500 [1:28:57<02:41,  8.96s/it]"
     ]
    },
    {
     "name": "stdout",
     "output_type": "stream",
     "text": [
      "481\n"
     ]
    },
    {
     "name": "stderr",
     "output_type": "stream",
     "text": [
      " 97%|█████████▋| 483/500 [1:29:08<02:38,  9.31s/it]"
     ]
    },
    {
     "name": "stdout",
     "output_type": "stream",
     "text": [
      "482\n"
     ]
    },
    {
     "name": "stderr",
     "output_type": "stream",
     "text": [
      " 97%|█████████▋| 484/500 [1:29:19<02:36,  9.80s/it]"
     ]
    },
    {
     "name": "stdout",
     "output_type": "stream",
     "text": [
      "483\n"
     ]
    },
    {
     "name": "stderr",
     "output_type": "stream",
     "text": [
      " 97%|█████████▋| 485/500 [1:29:28<02:25,  9.71s/it]"
     ]
    },
    {
     "name": "stdout",
     "output_type": "stream",
     "text": [
      "484\n"
     ]
    },
    {
     "name": "stderr",
     "output_type": "stream",
     "text": [
      " 97%|█████████▋| 486/500 [1:29:38<02:17,  9.83s/it]"
     ]
    },
    {
     "name": "stdout",
     "output_type": "stream",
     "text": [
      "485\n"
     ]
    },
    {
     "name": "stderr",
     "output_type": "stream",
     "text": [
      " 97%|█████████▋| 487/500 [1:29:49<02:10, 10.00s/it]"
     ]
    },
    {
     "name": "stdout",
     "output_type": "stream",
     "text": [
      "486\n"
     ]
    },
    {
     "name": "stderr",
     "output_type": "stream",
     "text": [
      " 98%|█████████▊| 488/500 [1:29:59<02:03, 10.25s/it]"
     ]
    },
    {
     "name": "stdout",
     "output_type": "stream",
     "text": [
      "487\n"
     ]
    },
    {
     "name": "stderr",
     "output_type": "stream",
     "text": [
      " 98%|█████████▊| 489/500 [1:30:08<01:46,  9.67s/it]"
     ]
    },
    {
     "name": "stdout",
     "output_type": "stream",
     "text": [
      "488\n"
     ]
    },
    {
     "name": "stderr",
     "output_type": "stream",
     "text": [
      " 98%|█████████▊| 490/500 [1:30:17<01:36,  9.66s/it]"
     ]
    },
    {
     "name": "stdout",
     "output_type": "stream",
     "text": [
      "489\n"
     ]
    },
    {
     "name": "stderr",
     "output_type": "stream",
     "text": [
      " 98%|█████████▊| 491/500 [1:30:27<01:26,  9.56s/it]"
     ]
    },
    {
     "name": "stdout",
     "output_type": "stream",
     "text": [
      "490\n"
     ]
    },
    {
     "name": "stderr",
     "output_type": "stream",
     "text": [
      " 98%|█████████▊| 492/500 [1:30:32<01:06,  8.31s/it]"
     ]
    },
    {
     "name": "stdout",
     "output_type": "stream",
     "text": [
      "491\n"
     ]
    },
    {
     "name": "stderr",
     "output_type": "stream",
     "text": [
      " 99%|█████████▊| 493/500 [1:30:40<00:56,  8.13s/it]"
     ]
    },
    {
     "name": "stdout",
     "output_type": "stream",
     "text": [
      "492\n"
     ]
    },
    {
     "name": "stderr",
     "output_type": "stream",
     "text": [
      " 99%|█████████▉| 494/500 [1:30:48<00:49,  8.17s/it]"
     ]
    },
    {
     "name": "stdout",
     "output_type": "stream",
     "text": [
      "493\n"
     ]
    },
    {
     "name": "stderr",
     "output_type": "stream",
     "text": [
      " 99%|█████████▉| 495/500 [1:30:57<00:42,  8.49s/it]"
     ]
    },
    {
     "name": "stdout",
     "output_type": "stream",
     "text": [
      "494\n"
     ]
    },
    {
     "name": "stderr",
     "output_type": "stream",
     "text": [
      " 99%|█████████▉| 496/500 [1:31:05<00:32,  8.23s/it]"
     ]
    },
    {
     "name": "stdout",
     "output_type": "stream",
     "text": [
      "495\n"
     ]
    },
    {
     "name": "stderr",
     "output_type": "stream",
     "text": [
      " 99%|█████████▉| 497/500 [1:31:12<00:23,  7.80s/it]"
     ]
    },
    {
     "name": "stdout",
     "output_type": "stream",
     "text": [
      "496\n"
     ]
    },
    {
     "name": "stderr",
     "output_type": "stream",
     "text": [
      "100%|█████████▉| 498/500 [1:31:21<00:16,  8.16s/it]"
     ]
    },
    {
     "name": "stdout",
     "output_type": "stream",
     "text": [
      "497\n"
     ]
    },
    {
     "name": "stderr",
     "output_type": "stream",
     "text": [
      "100%|█████████▉| 499/500 [1:31:35<00:10, 10.03s/it]"
     ]
    },
    {
     "name": "stdout",
     "output_type": "stream",
     "text": [
      "498\n"
     ]
    },
    {
     "name": "stderr",
     "output_type": "stream",
     "text": [
      "100%|██████████| 500/500 [1:31:43<00:00,  9.49s/it]"
     ]
    },
    {
     "name": "stdout",
     "output_type": "stream",
     "text": [
      "499\n",
      "CPU times: user 3min 56s, sys: 1min 22s, total: 5min 19s\n",
      "Wall time: 1h 31min 45s\n"
     ]
    },
    {
     "name": "stderr",
     "output_type": "stream",
     "text": [
      "\n"
     ]
    }
   ],
   "source": [
    "%%time\n",
    "# %%time\n",
    "\n",
    "from bs4 import BeautifulSoup\n",
    "import urllib\n",
    "chrome_path = r\"C:\\Users\\yonilevine\\Downloads\\chromedriver.exe\"\n",
    "driver2 = webdriver.Chrome(executable_path=\"/Users/yonilevine/Downloads/chromedriver\")\n",
    "# driver2.get(\"http://www.mistobox.com/shop\") \n",
    "# r = urllib.urlopen('http://www.mistobox.com/shop').read()\n",
    "# soup = BeautifulSoup(r)\n",
    "\n",
    "from tqdm import tqdm\n",
    "\n",
    "for page in tqdm(urldf['links']):\n",
    "    sleep(.2)\n",
    "    html= driver2.get(page)\n",
    "    htmlfull= driver2.page_source\n",
    "    soup = BeautifulSoup(htmlfull)\n",
    "    url = page\n",
    "    text = soup.find_all('div', attrs={'class':'review_info'})\n",
    "    scorew = soup.find_all('div', attrs={'class':'rating'})\n",
    "    numw = len(scorew)\n",
    "    scoremb = soup.find('div', attrs={'class':'review-summary'})\n",
    "    html2= driver2.get(page)\n",
    "    sleep(.2)\n",
    "    htmlfull2= driver2.page_source\n",
    "    soup2 = BeautifulSoup(htmlfull2)\n",
    "    scoremb2 = soup2.find('div', attrs={'class':'review-summary'})\n",
    "    html3= driver2.get(page)\n",
    "    sleep(.2)\n",
    "    htmlfull3= driver2.page_source\n",
    "    soup3 = BeautifulSoup(htmlfull3)\n",
    "    scoremb3 = soup3.find('div', attrs={'class':'review-summary'})\n",
    "    print(len(ratings2))\n",
    "    ratings2.loc[len(ratings2)] = [url, text, scorew , numw, scoremb, scoremb2, scoremb3]"
   ]
  },
  {
   "cell_type": "code",
   "execution_count": 8,
   "metadata": {},
   "outputs": [
    {
     "name": "stderr",
     "output_type": "stream",
     "text": [
      "  0%|          | 0/500 [00:00<?, ?it/s]\n"
     ]
    },
    {
     "ename": "NameError",
     "evalue": "name 'htmlfull' is not defined",
     "output_type": "error",
     "traceback": [
      "\u001b[0;31m---------------------------------------------------------------------------\u001b[0m",
      "\u001b[0;31mNameError\u001b[0m                                 Traceback (most recent call last)",
      "\u001b[0;32m<ipython-input-8-fc00909a1422>\u001b[0m in \u001b[0;36m<module>\u001b[0;34m()\u001b[0m\n\u001b[0;32m----> 1\u001b[0;31m \u001b[0mget_ipython\u001b[0m\u001b[0;34m(\u001b[0m\u001b[0;34m)\u001b[0m\u001b[0;34m.\u001b[0m\u001b[0mrun_cell_magic\u001b[0m\u001b[0;34m(\u001b[0m\u001b[0;34mu'time'\u001b[0m\u001b[0;34m,\u001b[0m \u001b[0;34mu''\u001b[0m\u001b[0;34m,\u001b[0m \u001b[0;34mu'# %%time\\n\\nfrom bs4 import BeautifulSoup\\nimport urllib\\nchrome_path = r\"C:\\\\Users\\\\yonilevine\\\\Downloads\\\\chromedriver.exe\"\\ndriver2 = webdriver.Chrome(executable_path=\"/Users/yonilevine/Downloads/chromedriver\")\\n# driver2.get(\"http://www.mistobox.com/shop\") \\n# r = urllib.urlopen(\\'http://www.mistobox.com/shop\\').read()\\n# soup = BeautifulSoup(r)\\n\\nfrom tqdm import tqdm\\n\\nfor page in tqdm(urldf[\\'links\\']):\\n    sleep(.2)\\n    soup = BeautifulSoup(htmlfull)\\n    url = page\\n    htmlfull3= driver2.page_source\\n    scoremb3 = soup.find(\\'div\\', attrs={\\'class\\':\\'review-summary\\'})\\n    print(len(ratings2))\\n    ratings2.loc[len(mb)] = [scoremb3]'\u001b[0m\u001b[0;34m)\u001b[0m\u001b[0;34m\u001b[0m\u001b[0m\n\u001b[0m",
      "\u001b[0;32m/Users/yonilevine/anaconda/lib/python2.7/site-packages/IPython/core/interactiveshell.pyc\u001b[0m in \u001b[0;36mrun_cell_magic\u001b[0;34m(self, magic_name, line, cell)\u001b[0m\n\u001b[1;32m   2113\u001b[0m             \u001b[0mmagic_arg_s\u001b[0m \u001b[0;34m=\u001b[0m \u001b[0mself\u001b[0m\u001b[0;34m.\u001b[0m\u001b[0mvar_expand\u001b[0m\u001b[0;34m(\u001b[0m\u001b[0mline\u001b[0m\u001b[0;34m,\u001b[0m \u001b[0mstack_depth\u001b[0m\u001b[0;34m)\u001b[0m\u001b[0;34m\u001b[0m\u001b[0m\n\u001b[1;32m   2114\u001b[0m             \u001b[0;32mwith\u001b[0m \u001b[0mself\u001b[0m\u001b[0;34m.\u001b[0m\u001b[0mbuiltin_trap\u001b[0m\u001b[0;34m:\u001b[0m\u001b[0;34m\u001b[0m\u001b[0m\n\u001b[0;32m-> 2115\u001b[0;31m                 \u001b[0mresult\u001b[0m \u001b[0;34m=\u001b[0m \u001b[0mfn\u001b[0m\u001b[0;34m(\u001b[0m\u001b[0mmagic_arg_s\u001b[0m\u001b[0;34m,\u001b[0m \u001b[0mcell\u001b[0m\u001b[0;34m)\u001b[0m\u001b[0;34m\u001b[0m\u001b[0m\n\u001b[0m\u001b[1;32m   2116\u001b[0m             \u001b[0;32mreturn\u001b[0m \u001b[0mresult\u001b[0m\u001b[0;34m\u001b[0m\u001b[0m\n\u001b[1;32m   2117\u001b[0m \u001b[0;34m\u001b[0m\u001b[0m\n",
      "\u001b[0;32m<decorator-gen-59>\u001b[0m in \u001b[0;36mtime\u001b[0;34m(self, line, cell, local_ns)\u001b[0m\n",
      "\u001b[0;32m/Users/yonilevine/anaconda/lib/python2.7/site-packages/IPython/core/magic.pyc\u001b[0m in \u001b[0;36m<lambda>\u001b[0;34m(f, *a, **k)\u001b[0m\n\u001b[1;32m    186\u001b[0m     \u001b[0;31m# but it's overkill for just that one bit of state.\u001b[0m\u001b[0;34m\u001b[0m\u001b[0;34m\u001b[0m\u001b[0m\n\u001b[1;32m    187\u001b[0m     \u001b[0;32mdef\u001b[0m \u001b[0mmagic_deco\u001b[0m\u001b[0;34m(\u001b[0m\u001b[0marg\u001b[0m\u001b[0;34m)\u001b[0m\u001b[0;34m:\u001b[0m\u001b[0;34m\u001b[0m\u001b[0m\n\u001b[0;32m--> 188\u001b[0;31m         \u001b[0mcall\u001b[0m \u001b[0;34m=\u001b[0m \u001b[0;32mlambda\u001b[0m \u001b[0mf\u001b[0m\u001b[0;34m,\u001b[0m \u001b[0;34m*\u001b[0m\u001b[0ma\u001b[0m\u001b[0;34m,\u001b[0m \u001b[0;34m**\u001b[0m\u001b[0mk\u001b[0m\u001b[0;34m:\u001b[0m \u001b[0mf\u001b[0m\u001b[0;34m(\u001b[0m\u001b[0;34m*\u001b[0m\u001b[0ma\u001b[0m\u001b[0;34m,\u001b[0m \u001b[0;34m**\u001b[0m\u001b[0mk\u001b[0m\u001b[0;34m)\u001b[0m\u001b[0;34m\u001b[0m\u001b[0m\n\u001b[0m\u001b[1;32m    189\u001b[0m \u001b[0;34m\u001b[0m\u001b[0m\n\u001b[1;32m    190\u001b[0m         \u001b[0;32mif\u001b[0m \u001b[0mcallable\u001b[0m\u001b[0;34m(\u001b[0m\u001b[0marg\u001b[0m\u001b[0;34m)\u001b[0m\u001b[0;34m:\u001b[0m\u001b[0;34m\u001b[0m\u001b[0m\n",
      "\u001b[0;32m/Users/yonilevine/anaconda/lib/python2.7/site-packages/IPython/core/magics/execution.pyc\u001b[0m in \u001b[0;36mtime\u001b[0;34m(self, line, cell, local_ns)\u001b[0m\n\u001b[1;32m   1183\u001b[0m         \u001b[0;32melse\u001b[0m\u001b[0;34m:\u001b[0m\u001b[0;34m\u001b[0m\u001b[0m\n\u001b[1;32m   1184\u001b[0m             \u001b[0mst\u001b[0m \u001b[0;34m=\u001b[0m \u001b[0mclock2\u001b[0m\u001b[0;34m(\u001b[0m\u001b[0;34m)\u001b[0m\u001b[0;34m\u001b[0m\u001b[0m\n\u001b[0;32m-> 1185\u001b[0;31m             \u001b[0;32mexec\u001b[0m\u001b[0;34m(\u001b[0m\u001b[0mcode\u001b[0m\u001b[0;34m,\u001b[0m \u001b[0mglob\u001b[0m\u001b[0;34m,\u001b[0m \u001b[0mlocal_ns\u001b[0m\u001b[0;34m)\u001b[0m\u001b[0;34m\u001b[0m\u001b[0m\n\u001b[0m\u001b[1;32m   1186\u001b[0m             \u001b[0mend\u001b[0m \u001b[0;34m=\u001b[0m \u001b[0mclock2\u001b[0m\u001b[0;34m(\u001b[0m\u001b[0;34m)\u001b[0m\u001b[0;34m\u001b[0m\u001b[0m\n\u001b[1;32m   1187\u001b[0m             \u001b[0mout\u001b[0m \u001b[0;34m=\u001b[0m \u001b[0mNone\u001b[0m\u001b[0;34m\u001b[0m\u001b[0m\n",
      "\u001b[0;32m<timed exec>\u001b[0m in \u001b[0;36m<module>\u001b[0;34m()\u001b[0m\n",
      "\u001b[0;31mNameError\u001b[0m: name 'htmlfull' is not defined"
     ]
    }
   ],
   "source": [
    "%%time\n",
    "# %%time\n",
    "\n",
    "from bs4 import BeautifulSoup\n",
    "import urllib\n",
    "chrome_path = r\"C:\\Users\\yonilevine\\Downloads\\chromedriver.exe\"\n",
    "driver2 = webdriver.Chrome(executable_path=\"/Users/yonilevine/Downloads/chromedriver\")\n",
    "# driver2.get(\"http://www.mistobox.com/shop\") \n",
    "# r = urllib.urlopen('http://www.mistobox.com/shop').read()\n",
    "# soup = BeautifulSoup(r)\n",
    "\n",
    "from tqdm import tqdm\n",
    "\n",
    "for page in tqdm(urldf['links']):\n",
    "    sleep(.2)\n",
    "    soup = BeautifulSoup(htmlfull)\n",
    "    url = page\n",
    "    htmlfull3= driver2.page_source\n",
    "    scoremb3 = soup.find('div', attrs={'class':'review-summary'})\n",
    "    print(len(ratings2))\n",
    "    ratings2.loc[len(mb)] = [scoremb3]"
   ]
  },
  {
   "cell_type": "code",
   "execution_count": 11,
   "metadata": {},
   "outputs": [],
   "source": [
    "ratings2.to_csv('~/Desktop/ratingssel3f2.csv')"
   ]
  },
  {
   "cell_type": "code",
   "execution_count": 15,
   "metadata": {},
   "outputs": [],
   "source": [
    "def stripnum(data):\n",
    "    return re.findall(r'\\d+', data)"
   ]
  },
  {
   "cell_type": "code",
   "execution_count": 22,
   "metadata": {},
   "outputs": [
    {
     "data": {
      "text/plain": [
       "bs4.element.Tag"
      ]
     },
     "execution_count": 22,
     "metadata": {},
     "output_type": "execute_result"
    }
   ],
   "source": [
    "type(ratings2.scoremb[0])"
   ]
  },
  {
   "cell_type": "code",
   "execution_count": null,
   "metadata": {},
   "outputs": [],
   "source": []
  },
  {
   "cell_type": "code",
   "execution_count": 13,
   "metadata": {},
   "outputs": [],
   "source": [
    "pd.set_option('display.max_colwidth', -1)"
   ]
  },
  {
   "cell_type": "code",
   "execution_count": 65,
   "metadata": {},
   "outputs": [
    {
     "data": {
      "text/plain": [
       "'https://one.mistobox.com/subscriptions/index/buy?sku=KUMA-056'"
      ]
     },
     "execution_count": 65,
     "metadata": {},
     "output_type": "execute_result"
    }
   ],
   "source": [
    "url"
   ]
  },
  {
   "cell_type": "code",
   "execution_count": 144,
   "metadata": {},
   "outputs": [
    {
     "ename": "TypeError",
     "evalue": "int() argument must be a string or a number, not 'Tag'",
     "output_type": "error",
     "traceback": [
      "\u001b[0;31m---------------------------------------------------------------------------\u001b[0m",
      "\u001b[0;31mTypeError\u001b[0m                                 Traceback (most recent call last)",
      "\u001b[0;32m<ipython-input-144-6b834500a92b>\u001b[0m in \u001b[0;36m<module>\u001b[0;34m()\u001b[0m\n\u001b[1;32m      1\u001b[0m \u001b[0mscores\u001b[0m \u001b[0;34m=\u001b[0m \u001b[0;34m[\u001b[0m\u001b[0;34m]\u001b[0m\u001b[0;34m\u001b[0m\u001b[0m\n\u001b[1;32m      2\u001b[0m \u001b[0;32mfor\u001b[0m \u001b[0mrow\u001b[0m \u001b[0;32min\u001b[0m \u001b[0mratings2\u001b[0m\u001b[0;34m.\u001b[0m\u001b[0mscore\u001b[0m\u001b[0;34m:\u001b[0m\u001b[0;34m\u001b[0m\u001b[0m\n\u001b[0;32m----> 3\u001b[0;31m     \u001b[0mx\u001b[0m\u001b[0;34m=\u001b[0m\u001b[0mmap\u001b[0m\u001b[0;34m(\u001b[0m\u001b[0mint\u001b[0m\u001b[0;34m,\u001b[0m \u001b[0mrow\u001b[0m\u001b[0;34m)\u001b[0m\u001b[0;34m\u001b[0m\u001b[0m\n\u001b[0m\u001b[1;32m      4\u001b[0m     \u001b[0mscores\u001b[0m\u001b[0;34m.\u001b[0m\u001b[0mappend\u001b[0m\u001b[0;34m(\u001b[0m\u001b[0mx\u001b[0m\u001b[0;34m)\u001b[0m\u001b[0;34m\u001b[0m\u001b[0m\n",
      "\u001b[0;31mTypeError\u001b[0m: int() argument must be a string or a number, not 'Tag'"
     ]
    }
   ],
   "source": []
  },
  {
   "cell_type": "code",
   "execution_count": 156,
   "metadata": {},
   "outputs": [],
   "source": [
    "ratings2['score']=[str(item) for item in ratings2.score]"
   ]
  },
  {
   "cell_type": "code",
   "execution_count": 157,
   "metadata": {},
   "outputs": [],
   "source": [
    "def stripnum(data):\n",
    "    return re.findall(r'\\d+', data)"
   ]
  },
  {
   "cell_type": "code",
   "execution_count": 158,
   "metadata": {},
   "outputs": [
    {
     "data": {
      "text/plain": [
       "0     [100, 100, 100]                                                                                    \n",
       "1     [60]                                                                                               \n",
       "2     [100]                                                                                              \n",
       "3     [100, 100, 100, 100, 100]                                                                          \n",
       "4     [90, 100]                                                                                          \n",
       "5     []                                                                                                 \n",
       "6     [100, 100, 100]                                                                                    \n",
       "7     [100]                                                                                              \n",
       "8     [20]                                                                                               \n",
       "9     [100, 100]                                                                                         \n",
       "10    [100, 100, 100]                                                                                    \n",
       "11    [80]                                                                                               \n",
       "12    [40, 100, 100, 80, 100, 100, 80, 100, 100, 80, 100, 80, 100, 80, 100, 100, 100, 100, 100, 100, 100]\n",
       "13    [80, 80, 100, 100, 100, 100, 100, 100, 100, 40, 100, 100, 100, 100, 80, 100, 100, 100]             \n",
       "14    []                                                                                                 \n",
       "15    []                                                                                                 \n",
       "16    [100, 100, 80, 100, 80]                                                                            \n",
       "17    [60, 100, 100, 100, 80, 100]                                                                       \n",
       "18    [100, 100, 60, 100]                                                                                \n",
       "19    [80, 80, 80, 80, 40, 100]                                                                          \n",
       "Name: score, dtype: object"
      ]
     },
     "execution_count": 158,
     "metadata": {},
     "output_type": "execute_result"
    }
   ],
   "source": [
    "ratings2.score.apply(stripnum)"
   ]
  },
  {
   "cell_type": "code",
   "execution_count": 159,
   "metadata": {},
   "outputs": [
    {
     "ename": "ValueError",
     "evalue": "invalid literal for int() with base 10: '['",
     "output_type": "error",
     "traceback": [
      "\u001b[0;31m---------------------------------------------------------------------------\u001b[0m",
      "\u001b[0;31mValueError\u001b[0m                                Traceback (most recent call last)",
      "\u001b[0;32m<ipython-input-159-6b834500a92b>\u001b[0m in \u001b[0;36m<module>\u001b[0;34m()\u001b[0m\n\u001b[1;32m      1\u001b[0m \u001b[0mscores\u001b[0m \u001b[0;34m=\u001b[0m \u001b[0;34m[\u001b[0m\u001b[0;34m]\u001b[0m\u001b[0;34m\u001b[0m\u001b[0m\n\u001b[1;32m      2\u001b[0m \u001b[0;32mfor\u001b[0m \u001b[0mrow\u001b[0m \u001b[0;32min\u001b[0m \u001b[0mratings2\u001b[0m\u001b[0;34m.\u001b[0m\u001b[0mscore\u001b[0m\u001b[0;34m:\u001b[0m\u001b[0;34m\u001b[0m\u001b[0m\n\u001b[0;32m----> 3\u001b[0;31m     \u001b[0mx\u001b[0m\u001b[0;34m=\u001b[0m\u001b[0mmap\u001b[0m\u001b[0;34m(\u001b[0m\u001b[0mint\u001b[0m\u001b[0;34m,\u001b[0m \u001b[0mrow\u001b[0m\u001b[0;34m)\u001b[0m\u001b[0;34m\u001b[0m\u001b[0m\n\u001b[0m\u001b[1;32m      4\u001b[0m     \u001b[0mscores\u001b[0m\u001b[0;34m.\u001b[0m\u001b[0mappend\u001b[0m\u001b[0;34m(\u001b[0m\u001b[0mx\u001b[0m\u001b[0;34m)\u001b[0m\u001b[0;34m\u001b[0m\u001b[0m\n",
      "\u001b[0;31mValueError\u001b[0m: invalid literal for int() with base 10: '['"
     ]
    }
   ],
   "source": [
    "scores = []\n",
    "for row in ratings2.score:\n",
    "    x=map(int, row)\n",
    "    scores.append(x)"
   ]
  },
  {
   "cell_type": "code",
   "execution_count": 128,
   "metadata": {},
   "outputs": [
    {
     "data": {
      "text/html": [
       "<div>\n",
       "<style>\n",
       "    .dataframe thead tr:only-child th {\n",
       "        text-align: right;\n",
       "    }\n",
       "\n",
       "    .dataframe thead th {\n",
       "        text-align: left;\n",
       "    }\n",
       "\n",
       "    .dataframe tbody tr th {\n",
       "        vertical-align: top;\n",
       "    }\n",
       "</style>\n",
       "<table border=\"1\" class=\"dataframe\">\n",
       "  <thead>\n",
       "    <tr style=\"text-align: right;\">\n",
       "      <th></th>\n",
       "      <th>url</th>\n",
       "      <th>text</th>\n",
       "      <th>score</th>\n",
       "      <th>numrevmb</th>\n",
       "      <th>numwritten</th>\n",
       "    </tr>\n",
       "  </thead>\n",
       "  <tbody>\n",
       "    <tr>\n",
       "      <th>0</th>\n",
       "      <td>https://one.mistobox.com/subscriptions/index/b...</td>\n",
       "      <td>[&lt;div class=\"review_info\"&gt;\n",
       "&lt;div class=\"rating-...</td>\n",
       "      <td>[&lt;div class=\"rating\" style=\"width:100%;\"&gt;&lt;/div...</td>\n",
       "      <td>None</td>\n",
       "      <td>3</td>\n",
       "    </tr>\n",
       "    <tr>\n",
       "      <th>1</th>\n",
       "      <td>https://one.mistobox.com/subscriptions/index/b...</td>\n",
       "      <td>[&lt;div class=\"review_info\"&gt;\n",
       "&lt;div class=\"rating-...</td>\n",
       "      <td>[&lt;div class=\"rating\" style=\"width:60%;\"&gt;&lt;/div&gt;]</td>\n",
       "      <td>None</td>\n",
       "      <td>1</td>\n",
       "    </tr>\n",
       "    <tr>\n",
       "      <th>2</th>\n",
       "      <td>https://one.mistobox.com/subscriptions/index/b...</td>\n",
       "      <td>[]</td>\n",
       "      <td>[&lt;div class=\"rating\" style=\"width:100%\"&gt;&lt;/div&gt;]</td>\n",
       "      <td>&lt;p class=\"rating-links detail\"&gt;\n",
       "              ...</td>\n",
       "      <td>1</td>\n",
       "    </tr>\n",
       "    <tr>\n",
       "      <th>3</th>\n",
       "      <td>https://one.mistobox.com/subscriptions/index/b...</td>\n",
       "      <td>[&lt;div class=\"review_info\"&gt;\n",
       "&lt;div class=\"rating-...</td>\n",
       "      <td>[&lt;div class=\"rating\" style=\"width:100%\"&gt;&lt;/div&gt;...</td>\n",
       "      <td>&lt;p class=\"rating-links detail\"&gt;\n",
       "              ...</td>\n",
       "      <td>5</td>\n",
       "    </tr>\n",
       "    <tr>\n",
       "      <th>4</th>\n",
       "      <td>https://one.mistobox.com/subscriptions/index/b...</td>\n",
       "      <td>[&lt;div class=\"review_info\"&gt;\n",
       "&lt;div class=\"rating-...</td>\n",
       "      <td>[&lt;div class=\"rating\" style=\"width:90%\"&gt;&lt;/div&gt;,...</td>\n",
       "      <td>&lt;p class=\"rating-links detail\"&gt;\n",
       "              ...</td>\n",
       "      <td>2</td>\n",
       "    </tr>\n",
       "    <tr>\n",
       "      <th>5</th>\n",
       "      <td>https://one.mistobox.com/subscriptions/index/b...</td>\n",
       "      <td>[]</td>\n",
       "      <td>[]</td>\n",
       "      <td>None</td>\n",
       "      <td>0</td>\n",
       "    </tr>\n",
       "    <tr>\n",
       "      <th>6</th>\n",
       "      <td>https://one.mistobox.com/subscriptions/index/b...</td>\n",
       "      <td>[&lt;div class=\"review_info\"&gt;\n",
       "&lt;div class=\"rating-...</td>\n",
       "      <td>[&lt;div class=\"rating\" style=\"width:100%\"&gt;&lt;/div&gt;...</td>\n",
       "      <td>&lt;p class=\"rating-links detail\"&gt;\n",
       "              ...</td>\n",
       "      <td>3</td>\n",
       "    </tr>\n",
       "    <tr>\n",
       "      <th>7</th>\n",
       "      <td>https://one.mistobox.com/subscriptions/index/b...</td>\n",
       "      <td>[&lt;div class=\"review_info\"&gt;\n",
       "&lt;div class=\"rating-...</td>\n",
       "      <td>[&lt;div class=\"rating\" style=\"width:100%;\"&gt;&lt;/div&gt;]</td>\n",
       "      <td>None</td>\n",
       "      <td>1</td>\n",
       "    </tr>\n",
       "    <tr>\n",
       "      <th>8</th>\n",
       "      <td>https://one.mistobox.com/subscriptions/index/b...</td>\n",
       "      <td>[&lt;div class=\"review_info\"&gt;\n",
       "&lt;div class=\"rating-...</td>\n",
       "      <td>[&lt;div class=\"rating\" style=\"width:20%;\"&gt;&lt;/div&gt;]</td>\n",
       "      <td>None</td>\n",
       "      <td>1</td>\n",
       "    </tr>\n",
       "    <tr>\n",
       "      <th>9</th>\n",
       "      <td>https://one.mistobox.com/subscriptions/index/b...</td>\n",
       "      <td>[&lt;div class=\"review_info\"&gt;\n",
       "&lt;div class=\"rating-...</td>\n",
       "      <td>[&lt;div class=\"rating\" style=\"width:100%;\"&gt;&lt;/div...</td>\n",
       "      <td>None</td>\n",
       "      <td>2</td>\n",
       "    </tr>\n",
       "    <tr>\n",
       "      <th>10</th>\n",
       "      <td>https://one.mistobox.com/subscriptions/index/b...</td>\n",
       "      <td>[&lt;div class=\"review_info\"&gt;\n",
       "&lt;div class=\"rating-...</td>\n",
       "      <td>[&lt;div class=\"rating\" style=\"width:100%;\"&gt;&lt;/div...</td>\n",
       "      <td>None</td>\n",
       "      <td>3</td>\n",
       "    </tr>\n",
       "    <tr>\n",
       "      <th>11</th>\n",
       "      <td>https://one.mistobox.com/subscriptions/index/b...</td>\n",
       "      <td>[&lt;div class=\"review_info\"&gt;\n",
       "&lt;div class=\"rating-...</td>\n",
       "      <td>[&lt;div class=\"rating\" style=\"width:80%;\"&gt;&lt;/div&gt;]</td>\n",
       "      <td>None</td>\n",
       "      <td>1</td>\n",
       "    </tr>\n",
       "    <tr>\n",
       "      <th>12</th>\n",
       "      <td>https://one.mistobox.com/subscriptions/index/b...</td>\n",
       "      <td>[&lt;div class=\"review_info\"&gt;\n",
       "&lt;div class=\"rating-...</td>\n",
       "      <td>[&lt;div class=\"rating\" style=\"width:40%;\"&gt;&lt;/div&gt;...</td>\n",
       "      <td>None</td>\n",
       "      <td>21</td>\n",
       "    </tr>\n",
       "    <tr>\n",
       "      <th>13</th>\n",
       "      <td>https://one.mistobox.com/subscriptions/index/b...</td>\n",
       "      <td>[&lt;div class=\"review_info\"&gt;\n",
       "&lt;div class=\"rating-...</td>\n",
       "      <td>[&lt;div class=\"rating\" style=\"width:80%;\"&gt;&lt;/div&gt;...</td>\n",
       "      <td>None</td>\n",
       "      <td>18</td>\n",
       "    </tr>\n",
       "    <tr>\n",
       "      <th>14</th>\n",
       "      <td>https://one.mistobox.com/subscriptions/index/b...</td>\n",
       "      <td>[]</td>\n",
       "      <td>[]</td>\n",
       "      <td>None</td>\n",
       "      <td>0</td>\n",
       "    </tr>\n",
       "    <tr>\n",
       "      <th>15</th>\n",
       "      <td>https://one.mistobox.com/subscriptions/index/b...</td>\n",
       "      <td>[]</td>\n",
       "      <td>[]</td>\n",
       "      <td>None</td>\n",
       "      <td>0</td>\n",
       "    </tr>\n",
       "    <tr>\n",
       "      <th>16</th>\n",
       "      <td>https://one.mistobox.com/subscriptions/index/b...</td>\n",
       "      <td>[&lt;div class=\"review_info\"&gt;\n",
       "&lt;div class=\"rating-...</td>\n",
       "      <td>[&lt;div class=\"rating\" style=\"width:100%;\"&gt;&lt;/div...</td>\n",
       "      <td>None</td>\n",
       "      <td>5</td>\n",
       "    </tr>\n",
       "    <tr>\n",
       "      <th>17</th>\n",
       "      <td>https://one.mistobox.com/subscriptions/index/b...</td>\n",
       "      <td>[&lt;div class=\"review_info\"&gt;\n",
       "&lt;div class=\"rating-...</td>\n",
       "      <td>[&lt;div class=\"rating\" style=\"width:60%;\"&gt;&lt;/div&gt;...</td>\n",
       "      <td>None</td>\n",
       "      <td>6</td>\n",
       "    </tr>\n",
       "    <tr>\n",
       "      <th>18</th>\n",
       "      <td>https://one.mistobox.com/subscriptions/index/b...</td>\n",
       "      <td>[&lt;div class=\"review_info\"&gt;\n",
       "&lt;div class=\"rating-...</td>\n",
       "      <td>[&lt;div class=\"rating\" style=\"width:100%;\"&gt;&lt;/div...</td>\n",
       "      <td>None</td>\n",
       "      <td>4</td>\n",
       "    </tr>\n",
       "    <tr>\n",
       "      <th>19</th>\n",
       "      <td>https://one.mistobox.com/subscriptions/index/b...</td>\n",
       "      <td>[&lt;div class=\"review_info\"&gt;\n",
       "&lt;div class=\"rating-...</td>\n",
       "      <td>[&lt;div class=\"rating\" style=\"width:80%;\"&gt;&lt;/div&gt;...</td>\n",
       "      <td>None</td>\n",
       "      <td>6</td>\n",
       "    </tr>\n",
       "  </tbody>\n",
       "</table>\n",
       "</div>"
      ],
      "text/plain": [
       "                                                  url  \\\n",
       "0   https://one.mistobox.com/subscriptions/index/b...   \n",
       "1   https://one.mistobox.com/subscriptions/index/b...   \n",
       "2   https://one.mistobox.com/subscriptions/index/b...   \n",
       "3   https://one.mistobox.com/subscriptions/index/b...   \n",
       "4   https://one.mistobox.com/subscriptions/index/b...   \n",
       "5   https://one.mistobox.com/subscriptions/index/b...   \n",
       "6   https://one.mistobox.com/subscriptions/index/b...   \n",
       "7   https://one.mistobox.com/subscriptions/index/b...   \n",
       "8   https://one.mistobox.com/subscriptions/index/b...   \n",
       "9   https://one.mistobox.com/subscriptions/index/b...   \n",
       "10  https://one.mistobox.com/subscriptions/index/b...   \n",
       "11  https://one.mistobox.com/subscriptions/index/b...   \n",
       "12  https://one.mistobox.com/subscriptions/index/b...   \n",
       "13  https://one.mistobox.com/subscriptions/index/b...   \n",
       "14  https://one.mistobox.com/subscriptions/index/b...   \n",
       "15  https://one.mistobox.com/subscriptions/index/b...   \n",
       "16  https://one.mistobox.com/subscriptions/index/b...   \n",
       "17  https://one.mistobox.com/subscriptions/index/b...   \n",
       "18  https://one.mistobox.com/subscriptions/index/b...   \n",
       "19  https://one.mistobox.com/subscriptions/index/b...   \n",
       "\n",
       "                                                 text  \\\n",
       "0   [<div class=\"review_info\">\n",
       "<div class=\"rating-...   \n",
       "1   [<div class=\"review_info\">\n",
       "<div class=\"rating-...   \n",
       "2                                                  []   \n",
       "3   [<div class=\"review_info\">\n",
       "<div class=\"rating-...   \n",
       "4   [<div class=\"review_info\">\n",
       "<div class=\"rating-...   \n",
       "5                                                  []   \n",
       "6   [<div class=\"review_info\">\n",
       "<div class=\"rating-...   \n",
       "7   [<div class=\"review_info\">\n",
       "<div class=\"rating-...   \n",
       "8   [<div class=\"review_info\">\n",
       "<div class=\"rating-...   \n",
       "9   [<div class=\"review_info\">\n",
       "<div class=\"rating-...   \n",
       "10  [<div class=\"review_info\">\n",
       "<div class=\"rating-...   \n",
       "11  [<div class=\"review_info\">\n",
       "<div class=\"rating-...   \n",
       "12  [<div class=\"review_info\">\n",
       "<div class=\"rating-...   \n",
       "13  [<div class=\"review_info\">\n",
       "<div class=\"rating-...   \n",
       "14                                                 []   \n",
       "15                                                 []   \n",
       "16  [<div class=\"review_info\">\n",
       "<div class=\"rating-...   \n",
       "17  [<div class=\"review_info\">\n",
       "<div class=\"rating-...   \n",
       "18  [<div class=\"review_info\">\n",
       "<div class=\"rating-...   \n",
       "19  [<div class=\"review_info\">\n",
       "<div class=\"rating-...   \n",
       "\n",
       "                                                score  \\\n",
       "0   [<div class=\"rating\" style=\"width:100%;\"></div...   \n",
       "1     [<div class=\"rating\" style=\"width:60%;\"></div>]   \n",
       "2     [<div class=\"rating\" style=\"width:100%\"></div>]   \n",
       "3   [<div class=\"rating\" style=\"width:100%\"></div>...   \n",
       "4   [<div class=\"rating\" style=\"width:90%\"></div>,...   \n",
       "5                                                  []   \n",
       "6   [<div class=\"rating\" style=\"width:100%\"></div>...   \n",
       "7    [<div class=\"rating\" style=\"width:100%;\"></div>]   \n",
       "8     [<div class=\"rating\" style=\"width:20%;\"></div>]   \n",
       "9   [<div class=\"rating\" style=\"width:100%;\"></div...   \n",
       "10  [<div class=\"rating\" style=\"width:100%;\"></div...   \n",
       "11    [<div class=\"rating\" style=\"width:80%;\"></div>]   \n",
       "12  [<div class=\"rating\" style=\"width:40%;\"></div>...   \n",
       "13  [<div class=\"rating\" style=\"width:80%;\"></div>...   \n",
       "14                                                 []   \n",
       "15                                                 []   \n",
       "16  [<div class=\"rating\" style=\"width:100%;\"></div...   \n",
       "17  [<div class=\"rating\" style=\"width:60%;\"></div>...   \n",
       "18  [<div class=\"rating\" style=\"width:100%;\"></div...   \n",
       "19  [<div class=\"rating\" style=\"width:80%;\"></div>...   \n",
       "\n",
       "                                             numrevmb numwritten  \n",
       "0                                                None          3  \n",
       "1                                                None          1  \n",
       "2   <p class=\"rating-links detail\">\n",
       "              ...          1  \n",
       "3   <p class=\"rating-links detail\">\n",
       "              ...          5  \n",
       "4   <p class=\"rating-links detail\">\n",
       "              ...          2  \n",
       "5                                                None          0  \n",
       "6   <p class=\"rating-links detail\">\n",
       "              ...          3  \n",
       "7                                                None          1  \n",
       "8                                                None          1  \n",
       "9                                                None          2  \n",
       "10                                               None          3  \n",
       "11                                               None          1  \n",
       "12                                               None         21  \n",
       "13                                               None         18  \n",
       "14                                               None          0  \n",
       "15                                               None          0  \n",
       "16                                               None          5  \n",
       "17                                               None          6  \n",
       "18                                               None          4  \n",
       "19                                               None          6  "
      ]
     },
     "execution_count": 128,
     "metadata": {},
     "output_type": "execute_result"
    }
   ],
   "source": [
    "ratings2"
   ]
  },
  {
   "cell_type": "code",
   "execution_count": null,
   "metadata": {},
   "outputs": [],
   "source": []
  }
 ],
 "metadata": {
  "kernelspec": {
   "display_name": "Python 2",
   "language": "python",
   "name": "python2"
  },
  "language_info": {
   "codemirror_mode": {
    "name": "ipython",
    "version": 2
   },
   "file_extension": ".py",
   "mimetype": "text/x-python",
   "name": "python",
   "nbconvert_exporter": "python",
   "pygments_lexer": "ipython2",
   "version": "2.7.13"
  }
 },
 "nbformat": 4,
 "nbformat_minor": 2
}
