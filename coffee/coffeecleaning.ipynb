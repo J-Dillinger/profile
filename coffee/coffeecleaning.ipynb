{
 "cells": [
  {
   "cell_type": "code",
   "execution_count": 1,
   "metadata": {},
   "outputs": [],
   "source": [
    "import pandas as pd\n",
    "import re\n",
    "import numpy as np"
   ]
  },
  {
   "cell_type": "code",
   "execution_count": 2,
   "metadata": {},
   "outputs": [],
   "source": [
    "df = pd.read_csv(\"/Users/yonilevine/Desktop/coffee500.csv\")"
   ]
  },
  {
   "cell_type": "code",
   "execution_count": 3,
   "metadata": {},
   "outputs": [
    {
     "data": {
      "text/html": [
       "<div>\n",
       "<style>\n",
       "    .dataframe thead tr:only-child th {\n",
       "        text-align: right;\n",
       "    }\n",
       "\n",
       "    .dataframe thead th {\n",
       "        text-align: left;\n",
       "    }\n",
       "\n",
       "    .dataframe tbody tr th {\n",
       "        vertical-align: top;\n",
       "    }\n",
       "</style>\n",
       "<table border=\"1\" class=\"dataframe\">\n",
       "  <thead>\n",
       "    <tr style=\"text-align: right;\">\n",
       "      <th></th>\n",
       "      <th>Unnamed: 0</th>\n",
       "      <th>url</th>\n",
       "      <th>title</th>\n",
       "      <th>roaster</th>\n",
       "      <th>roastlevel</th>\n",
       "      <th>blend</th>\n",
       "      <th>price</th>\n",
       "      <th>description</th>\n",
       "      <th>parse</th>\n",
       "    </tr>\n",
       "  </thead>\n",
       "  <tbody>\n",
       "    <tr>\n",
       "      <th>0</th>\n",
       "      <td>0</td>\n",
       "      <td>https://one.mistobox.com/subscriptions/index/b...</td>\n",
       "      <td>[&lt;span class=\"name\"&gt;Ethiopia Shara&lt;/span&gt;]</td>\n",
       "      <td>[&lt;div class=\"roaster-description\"&gt;\\n&lt;!--&lt;h2&gt;Qu...</td>\n",
       "      <td>[&lt;div class=\"scale_circle light\"&gt;&lt;/div&gt;]</td>\n",
       "      <td>[&lt;div class=\"detail light active\"&gt;Light&lt;/div&gt;,...</td>\n",
       "      <td>$20.00</td>\n",
       "      <td>[&lt;div class=\"std\"&gt;Anodyne Coffee Roasting Co&lt;/...</td>\n",
       "      <td>[&lt;div class=\"mbox-description-content\"&gt;\\n&lt;!--&lt;...</td>\n",
       "    </tr>\n",
       "    <tr>\n",
       "      <th>1</th>\n",
       "      <td>1</td>\n",
       "      <td>https://one.mistobox.com/subscriptions/index/b...</td>\n",
       "      <td>[&lt;span class=\"name\"&gt;Honduras David Mancia&lt;/span&gt;]</td>\n",
       "      <td>[&lt;div class=\"roaster-description\"&gt;\\n&lt;!--&lt;h2&gt;Qu...</td>\n",
       "      <td>[&lt;div class=\"scale_circle medium_light\"&gt;&lt;/div&gt;]</td>\n",
       "      <td>[&lt;div class=\"detail medium_light sub_roast act...</td>\n",
       "      <td>$23.00</td>\n",
       "      <td>[&lt;div class=\"std\"&gt;Coava Coffee Roasters&lt;/div&gt;,...</td>\n",
       "      <td>[&lt;div class=\"mbox-description-content\"&gt;\\n&lt;!--&lt;...</td>\n",
       "    </tr>\n",
       "    <tr>\n",
       "      <th>2</th>\n",
       "      <td>2</td>\n",
       "      <td>https://one.mistobox.com/subscriptions/index/b...</td>\n",
       "      <td>[&lt;span class=\"name\"&gt;Brazil Pedra Branca&lt;/span&gt;]</td>\n",
       "      <td>[&lt;div class=\"roaster-description\"&gt;\\n&lt;!--&lt;h2&gt;Qu...</td>\n",
       "      <td>[&lt;div class=\"scale_circle light\"&gt;&lt;/div&gt;]</td>\n",
       "      <td>[&lt;div class=\"detail light active\"&gt;Light&lt;/div&gt;,...</td>\n",
       "      <td>$23.00</td>\n",
       "      <td>[&lt;div class=\"std\"&gt;Square One Coffee&lt;/div&gt;, &lt;di...</td>\n",
       "      <td>[&lt;div class=\"mbox-description-content\"&gt;\\n&lt;!--&lt;...</td>\n",
       "    </tr>\n",
       "    <tr>\n",
       "      <th>3</th>\n",
       "      <td>3</td>\n",
       "      <td>https://one.mistobox.com/subscriptions/index/b...</td>\n",
       "      <td>[&lt;span class=\"name\"&gt;Kenya Ndaro-ini Peaberry&lt;/...</td>\n",
       "      <td>[&lt;div class=\"roaster-description\"&gt;\\n&lt;!--&lt;h2&gt;Qu...</td>\n",
       "      <td>[&lt;div class=\"scale_circle medium_light\"&gt;&lt;/div&gt;]</td>\n",
       "      <td>[&lt;div class=\"detail medium_light sub_roast act...</td>\n",
       "      <td>$23.00</td>\n",
       "      <td>[&lt;div class=\"std\"&gt;AKA Coffee&lt;/div&gt;, &lt;div class...</td>\n",
       "      <td>[&lt;div class=\"mbox-description-content\"&gt;\\n&lt;!--&lt;...</td>\n",
       "    </tr>\n",
       "    <tr>\n",
       "      <th>4</th>\n",
       "      <td>4</td>\n",
       "      <td>https://one.mistobox.com/subscriptions/index/b...</td>\n",
       "      <td>[&lt;span class=\"name\"&gt;Sumatra Permata Gayo&lt;/span&gt;]</td>\n",
       "      <td>[&lt;div class=\"roaster-description\"&gt;\\n&lt;!--&lt;h2&gt;Qu...</td>\n",
       "      <td>[&lt;div class=\"scale_circle medium_dark\"&gt;&lt;/div&gt;]</td>\n",
       "      <td>[&lt;div class=\"detail medium_dark sub_roast acti...</td>\n",
       "      <td>$20.00</td>\n",
       "      <td>[&lt;div class=\"std\"&gt;Higher Grounds Coffee&lt;/div&gt;,...</td>\n",
       "      <td>[&lt;div class=\"mbox-description-content\"&gt;\\n&lt;!--&lt;...</td>\n",
       "    </tr>\n",
       "  </tbody>\n",
       "</table>\n",
       "</div>"
      ],
      "text/plain": [
       "   Unnamed: 0                                                url  \\\n",
       "0           0  https://one.mistobox.com/subscriptions/index/b...   \n",
       "1           1  https://one.mistobox.com/subscriptions/index/b...   \n",
       "2           2  https://one.mistobox.com/subscriptions/index/b...   \n",
       "3           3  https://one.mistobox.com/subscriptions/index/b...   \n",
       "4           4  https://one.mistobox.com/subscriptions/index/b...   \n",
       "\n",
       "                                               title  \\\n",
       "0         [<span class=\"name\">Ethiopia Shara</span>]   \n",
       "1  [<span class=\"name\">Honduras David Mancia</span>]   \n",
       "2    [<span class=\"name\">Brazil Pedra Branca</span>]   \n",
       "3  [<span class=\"name\">Kenya Ndaro-ini Peaberry</...   \n",
       "4   [<span class=\"name\">Sumatra Permata Gayo</span>]   \n",
       "\n",
       "                                             roaster  \\\n",
       "0  [<div class=\"roaster-description\">\\n<!--<h2>Qu...   \n",
       "1  [<div class=\"roaster-description\">\\n<!--<h2>Qu...   \n",
       "2  [<div class=\"roaster-description\">\\n<!--<h2>Qu...   \n",
       "3  [<div class=\"roaster-description\">\\n<!--<h2>Qu...   \n",
       "4  [<div class=\"roaster-description\">\\n<!--<h2>Qu...   \n",
       "\n",
       "                                        roastlevel  \\\n",
       "0         [<div class=\"scale_circle light\"></div>]   \n",
       "1  [<div class=\"scale_circle medium_light\"></div>]   \n",
       "2         [<div class=\"scale_circle light\"></div>]   \n",
       "3  [<div class=\"scale_circle medium_light\"></div>]   \n",
       "4   [<div class=\"scale_circle medium_dark\"></div>]   \n",
       "\n",
       "                                               blend   price  \\\n",
       "0  [<div class=\"detail light active\">Light</div>,...  $20.00   \n",
       "1  [<div class=\"detail medium_light sub_roast act...  $23.00   \n",
       "2  [<div class=\"detail light active\">Light</div>,...  $23.00   \n",
       "3  [<div class=\"detail medium_light sub_roast act...  $23.00   \n",
       "4  [<div class=\"detail medium_dark sub_roast acti...  $20.00   \n",
       "\n",
       "                                         description  \\\n",
       "0  [<div class=\"std\">Anodyne Coffee Roasting Co</...   \n",
       "1  [<div class=\"std\">Coava Coffee Roasters</div>,...   \n",
       "2  [<div class=\"std\">Square One Coffee</div>, <di...   \n",
       "3  [<div class=\"std\">AKA Coffee</div>, <div class...   \n",
       "4  [<div class=\"std\">Higher Grounds Coffee</div>,...   \n",
       "\n",
       "                                               parse  \n",
       "0  [<div class=\"mbox-description-content\">\\n<!--<...  \n",
       "1  [<div class=\"mbox-description-content\">\\n<!--<...  \n",
       "2  [<div class=\"mbox-description-content\">\\n<!--<...  \n",
       "3  [<div class=\"mbox-description-content\">\\n<!--<...  \n",
       "4  [<div class=\"mbox-description-content\">\\n<!--<...  "
      ]
     },
     "execution_count": 3,
     "metadata": {},
     "output_type": "execute_result"
    }
   ],
   "source": [
    "df.head()"
   ]
  },
  {
   "cell_type": "code",
   "execution_count": 4,
   "metadata": {},
   "outputs": [],
   "source": [
    "df.drop('Unnamed: 0',axis =1 ,inplace=True)"
   ]
  },
  {
   "cell_type": "code",
   "execution_count": 5,
   "metadata": {},
   "outputs": [],
   "source": [
    "def striphtml(data):\n",
    "    p = re.compile(r'<.*?>')\n",
    "    return p.sub('', data)"
   ]
  },
  {
   "cell_type": "code",
   "execution_count": 6,
   "metadata": {},
   "outputs": [],
   "source": [
    "def striproast(data):\n",
    "    p = re.compile(r'/([^,]+)/')\n",
    "    return p.sub('', data)"
   ]
  },
  {
   "cell_type": "code",
   "execution_count": 7,
   "metadata": {},
   "outputs": [],
   "source": [
    "def striphtml2(data):\n",
    "    p = re.findall(r'\\\\n.*?\\\\n',data)\n",
    "    return p"
   ]
  },
  {
   "cell_type": "code",
   "execution_count": 8,
   "metadata": {},
   "outputs": [],
   "source": [
    "def striphtml3(data):\n",
    "    p = re.findall(r'(?<=\\\\n)(.*)(?=</div>)',data)\n",
    "    return p"
   ]
  },
  {
   "cell_type": "code",
   "execution_count": 9,
   "metadata": {},
   "outputs": [],
   "source": [
    "def striphtml4(data):\n",
    "    p = re.findall(r'(?<=Country\\\\n                                        </div>\\\\n)(.*)(?=</div>\\\\n</div>\\\\n</div>\\\\n</div)',data)\n",
    "    return p"
   ]
  },
  {
   "cell_type": "code",
   "execution_count": 10,
   "metadata": {},
   "outputs": [],
   "source": [
    "def striphtml5(data):\n",
    "    p = re.findall(r'(?<=Altitude\\\\n                                        </div>\\\\n)(.*)(?=</div>\\\\n<div class=\"coffee-detail\">\\\\n<div class=\"header variety\">\\\\n<div class=\"icon\"></div>\\\\n)',data)\n",
    "    return p"
   ]
  },
  {
   "cell_type": "code",
   "execution_count": 11,
   "metadata": {},
   "outputs": [],
   "source": [
    "def striphtml6(data):\n",
    "    p = re.findall(r'(?<=Process\\\\n                                        </div>\\\\n)(.*)(?=</div>\\\\n<div class=\"coffee-detail\">\\\\n<div class=\"header producer\">\\\\n<div class=\"icon\"></div>\\\\n)',data)\n",
    "    return p"
   ]
  },
  {
   "cell_type": "code",
   "execution_count": 12,
   "metadata": {},
   "outputs": [],
   "source": [
    "def striphtml7(data):\n",
    "    p = re.sub(\"\\\\\\\\n\", \"\", data)\n",
    "    return p"
   ]
  },
  {
   "cell_type": "code",
   "execution_count": 13,
   "metadata": {},
   "outputs": [],
   "source": [
    "def stripnum(data):\n",
    "    return re.findall(r'\\d+', data)"
   ]
  },
  {
   "cell_type": "code",
   "execution_count": 14,
   "metadata": {},
   "outputs": [],
   "source": [
    "df['title'] = df['title'].apply(striphtml)\n",
    "df['title'] = [row[1:-1] for row in df['title']]"
   ]
  },
  {
   "cell_type": "code",
   "execution_count": 15,
   "metadata": {},
   "outputs": [],
   "source": [
    "df['roaster'] = df['roaster'].apply(striphtml)\n",
    "df['roaster'] = [row[22:-3] for row in df['roaster']]"
   ]
  },
  {
   "cell_type": "code",
   "execution_count": 16,
   "metadata": {},
   "outputs": [],
   "source": [
    "df['blend'] = df['blend'].apply(striphtml)\n",
    "    "
   ]
  },
  {
   "cell_type": "code",
   "execution_count": 17,
   "metadata": {},
   "outputs": [],
   "source": [
    "df['roastlevel'] = [row.split(',')[0][1:] for row in df['blend']]"
   ]
  },
  {
   "cell_type": "code",
   "execution_count": 18,
   "metadata": {},
   "outputs": [],
   "source": [
    "df['blend'] = df.blend.apply(lambda s: s  + '  \\\\n                       Blend\\\\n' if len(s) < 25 else s) "
   ]
  },
  {
   "cell_type": "code",
   "execution_count": 19,
   "metadata": {},
   "outputs": [],
   "source": [
    "df['blend'] = df['blend'].apply(striphtml2)"
   ]
  },
  {
   "cell_type": "code",
   "execution_count": 20,
   "metadata": {},
   "outputs": [],
   "source": [
    "df['description'] = df['description'].apply(striphtml3)"
   ]
  },
  {
   "cell_type": "code",
   "execution_count": null,
   "metadata": {},
   "outputs": [],
   "source": []
  },
  {
   "cell_type": "code",
   "execution_count": 21,
   "metadata": {},
   "outputs": [],
   "source": [
    "df['country'] = df['parse'].apply(striphtml4)"
   ]
  },
  {
   "cell_type": "code",
   "execution_count": null,
   "metadata": {},
   "outputs": [],
   "source": []
  },
  {
   "cell_type": "code",
   "execution_count": 22,
   "metadata": {},
   "outputs": [],
   "source": [
    "df['altitude'] = df['parse'].apply(striphtml5)"
   ]
  },
  {
   "cell_type": "code",
   "execution_count": 23,
   "metadata": {},
   "outputs": [],
   "source": [
    "alt = list(df.altitude)\n",
    "x=map(lambda x: list('q') if len(x)==0 else x, alt)\n",
    "newlist = [item for items in x for item in items]\n",
    "df['altitude']=newlist"
   ]
  },
  {
   "cell_type": "code",
   "execution_count": 24,
   "metadata": {},
   "outputs": [],
   "source": [
    "df['altitude']=[item.replace('meters', '') for item in df['altitude']]\n",
    "df['altitude']=[item.replace(',', '') for item in df['altitude']]\n",
    "df['altitude']=[item.replace('+', '') for item in df['altitude']]\n",
    "df['altitude']=[item.replace('-', ',') for item in df['altitude']]\n",
    "df['altitude']=df.altitude.str.strip()"
   ]
  },
  {
   "cell_type": "code",
   "execution_count": 25,
   "metadata": {},
   "outputs": [],
   "source": [
    "alt2=[]\n",
    "for item in df.altitude:\n",
    "    x=item.split(',')\n",
    "    if len(x)==2:\n",
    "        alt2.append(np.mean(float(x[0])+float(x[1]))/2)\n",
    "    else:\n",
    "        alt2.append(x[0])\n"
   ]
  },
  {
   "cell_type": "code",
   "execution_count": 26,
   "metadata": {},
   "outputs": [],
   "source": [
    "df['altitude']=alt2"
   ]
  },
  {
   "cell_type": "code",
   "execution_count": 27,
   "metadata": {},
   "outputs": [],
   "source": [
    "df['altitude'] = pd.to_numeric(df.altitude,errors='coerce')"
   ]
  },
  {
   "cell_type": "code",
   "execution_count": 28,
   "metadata": {},
   "outputs": [],
   "source": [
    "df['process'] = df['process'] = df['parse'].apply(striphtml6)"
   ]
  },
  {
   "cell_type": "code",
   "execution_count": 29,
   "metadata": {},
   "outputs": [],
   "source": [
    "df['process'] = df.process.astype(str).str.replace('\\[|\\]|\\'', '')"
   ]
  },
  {
   "cell_type": "code",
   "execution_count": 30,
   "metadata": {},
   "outputs": [],
   "source": [
    "df['description'] = df.description.astype(str).str.replace('\\[|\\]|\\'', '')\n",
    "df['country'] = df.country.astype(str).str.replace('\\[|\\]|\\'', '')\n",
    "df['blend'] = df.blend.astype(str).str.replace('\\[|\\]|\\'', '')\n"
   ]
  },
  {
   "cell_type": "code",
   "execution_count": 31,
   "metadata": {},
   "outputs": [],
   "source": [
    "df['blend']=df.blend.apply(striphtml7)"
   ]
  },
  {
   "cell_type": "code",
   "execution_count": 32,
   "metadata": {},
   "outputs": [],
   "source": [
    "df.drop('parse',axis=1,inplace=True)"
   ]
  },
  {
   "cell_type": "code",
   "execution_count": 33,
   "metadata": {},
   "outputs": [],
   "source": [
    "blend=[]\n",
    "for item in df['blend']:\n",
    "    blend.append(item[1:-1])"
   ]
  },
  {
   "cell_type": "code",
   "execution_count": 34,
   "metadata": {},
   "outputs": [],
   "source": [
    "df['blend']=blend"
   ]
  },
  {
   "cell_type": "code",
   "execution_count": 35,
   "metadata": {},
   "outputs": [],
   "source": [
    "blend2=[]\n",
    "for sentence in df['blend']:\n",
    "    blend2.append(sentence.replace(\" \", \"\"))"
   ]
  },
  {
   "cell_type": "code",
   "execution_count": 36,
   "metadata": {},
   "outputs": [],
   "source": [
    "df['blend']=blend2"
   ]
  },
  {
   "cell_type": "code",
   "execution_count": 37,
   "metadata": {},
   "outputs": [],
   "source": [
    "def eda(dataframe):\n",
    "    print(\"\\nmissing values: \\n\", dataframe.isnull().sum())\n",
    "    print(\"\\ndataframe index: \\n\", dataframe.index)\n",
    "    print(\"\\ndataframe types: \\n\", dataframe.dtypes)\n",
    "    print(\"\\ndataframe shape: \\n\", dataframe.shape)\n",
    "    print(\"\\ndataframe describe: \\n\", dataframe.describe(), '\\n')\n",
    "    for item in dataframe:\n",
    "        print(item + ':')\n",
    "        print(dataframe[item].nunique())"
   ]
  },
  {
   "cell_type": "code",
   "execution_count": 38,
   "metadata": {},
   "outputs": [],
   "source": [
    "country=[]\n",
    "for item in df.country:\n",
    "    country.append(item.partition('</div>\\\\')[0])\n",
    "    "
   ]
  },
  {
   "cell_type": "code",
   "execution_count": null,
   "metadata": {},
   "outputs": [],
   "source": []
  },
  {
   "cell_type": "code",
   "execution_count": 39,
   "metadata": {},
   "outputs": [],
   "source": [
    "country2=[]\n",
    "for item in country:\n",
    "    country2.append(item.replace(\" \", \"\"))"
   ]
  },
  {
   "cell_type": "code",
   "execution_count": 40,
   "metadata": {},
   "outputs": [],
   "source": [
    "df['country']=country2"
   ]
  },
  {
   "cell_type": "code",
   "execution_count": 41,
   "metadata": {},
   "outputs": [],
   "source": [
    "df['country']=df.country.str.strip()"
   ]
  },
  {
   "cell_type": "code",
   "execution_count": 42,
   "metadata": {},
   "outputs": [],
   "source": [
    "\n",
    "df['country']=[item.replace(\",\",\" \") for item in df['country']]"
   ]
  },
  {
   "cell_type": "code",
   "execution_count": 43,
   "metadata": {},
   "outputs": [],
   "source": [
    "df['roastlevel']=[item.strip() for item in df['roastlevel']]"
   ]
  },
  {
   "cell_type": "code",
   "execution_count": 44,
   "metadata": {},
   "outputs": [],
   "source": [
    "df['roastlevel']=[item.replace(\"]\",\" \") for item in df['roastlevel']]"
   ]
  },
  {
   "cell_type": "code",
   "execution_count": 45,
   "metadata": {},
   "outputs": [],
   "source": [
    "df['price']=df.price.str.strip(\"$\")"
   ]
  },
  {
   "cell_type": "code",
   "execution_count": 90,
   "metadata": {},
   "outputs": [],
   "source": [
    "df.to_csv(\"/Users/yonilevine/Desktop/datasets/coffeefinal.csv\")"
   ]
  },
  {
   "cell_type": "code",
   "execution_count": 47,
   "metadata": {},
   "outputs": [
    {
     "data": {
      "text/plain": [
       "'https://one.mistobox.com/subscriptions/index/buy?sku=KLCH-014'"
      ]
     },
     "execution_count": 47,
     "metadata": {},
     "output_type": "execute_result"
    }
   ],
   "source": [
    "df.url.iloc[47]"
   ]
  },
  {
   "cell_type": "code",
   "execution_count": null,
   "metadata": {},
   "outputs": [],
   "source": []
  }
 ],
 "metadata": {
  "kernelspec": {
   "display_name": "Python 2",
   "language": "python",
   "name": "python2"
  },
  "language_info": {
   "codemirror_mode": {
    "name": "ipython",
    "version": 2
   },
   "file_extension": ".py",
   "mimetype": "text/x-python",
   "name": "python",
   "nbconvert_exporter": "python",
   "pygments_lexer": "ipython2",
   "version": "2.7.13"
  }
 },
 "nbformat": 4,
 "nbformat_minor": 2
}
